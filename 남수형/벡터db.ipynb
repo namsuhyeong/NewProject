{
 "cells": [
  {
   "cell_type": "markdown",
   "metadata": {},
   "source": [
    "# 설치"
   ]
  },
  {
   "cell_type": "code",
   "execution_count": 7,
   "metadata": {},
   "outputs": [
    {
     "name": "stdout",
     "output_type": "stream",
     "text": [
      "Requirement already satisfied: qdrant-client in c:\\users\\user\\.conda\\envs\\malcam\\lib\\site-packages (1.11.0)\n",
      "Requirement already satisfied: sentence-transformers in c:\\users\\user\\.conda\\envs\\malcam\\lib\\site-packages (3.0.1)\n",
      "Requirement already satisfied: grpcio>=1.41.0 in c:\\users\\user\\.conda\\envs\\malcam\\lib\\site-packages (from qdrant-client) (1.65.5)\n",
      "Requirement already satisfied: grpcio-tools>=1.41.0 in c:\\users\\user\\.conda\\envs\\malcam\\lib\\site-packages (from qdrant-client) (1.65.5)\n",
      "Requirement already satisfied: httpx>=0.20.0 in c:\\users\\user\\.conda\\envs\\malcam\\lib\\site-packages (from httpx[http2]>=0.20.0->qdrant-client) (0.27.0)\n",
      "Requirement already satisfied: numpy>=1.21 in c:\\users\\user\\.conda\\envs\\malcam\\lib\\site-packages (from qdrant-client) (1.26.4)\n",
      "Requirement already satisfied: portalocker<3.0.0,>=2.7.0 in c:\\users\\user\\.conda\\envs\\malcam\\lib\\site-packages (from qdrant-client) (2.10.1)\n",
      "Requirement already satisfied: pydantic>=1.10.8 in c:\\users\\user\\.conda\\envs\\malcam\\lib\\site-packages (from qdrant-client) (2.8.2)\n",
      "Requirement already satisfied: urllib3<3,>=1.26.14 in c:\\users\\user\\.conda\\envs\\malcam\\lib\\site-packages (from qdrant-client) (2.2.1)\n",
      "Requirement already satisfied: transformers<5.0.0,>=4.34.0 in c:\\users\\user\\.conda\\envs\\malcam\\lib\\site-packages (from sentence-transformers) (4.41.2)\n",
      "Requirement already satisfied: tqdm in c:\\users\\user\\.conda\\envs\\malcam\\lib\\site-packages (from sentence-transformers) (4.66.4)\n",
      "Requirement already satisfied: torch>=1.11.0 in c:\\users\\user\\.conda\\envs\\malcam\\lib\\site-packages (from sentence-transformers) (2.3.1)\n",
      "Requirement already satisfied: scikit-learn in c:\\users\\user\\.conda\\envs\\malcam\\lib\\site-packages (from sentence-transformers) (1.5.0)\n",
      "Requirement already satisfied: scipy in c:\\users\\user\\.conda\\envs\\malcam\\lib\\site-packages (from sentence-transformers) (1.13.1)\n",
      "Requirement already satisfied: huggingface-hub>=0.15.1 in c:\\users\\user\\.conda\\envs\\malcam\\lib\\site-packages (from sentence-transformers) (0.23.3)\n",
      "Requirement already satisfied: Pillow in c:\\users\\user\\.conda\\envs\\malcam\\lib\\site-packages (from sentence-transformers) (10.3.0)\n",
      "Requirement already satisfied: protobuf<6.0dev,>=5.26.1 in c:\\users\\user\\.conda\\envs\\malcam\\lib\\site-packages (from grpcio-tools>=1.41.0->qdrant-client) (5.27.3)\n",
      "Requirement already satisfied: setuptools in c:\\users\\user\\.conda\\envs\\malcam\\lib\\site-packages (from grpcio-tools>=1.41.0->qdrant-client) (69.5.1)\n",
      "Requirement already satisfied: anyio in c:\\users\\user\\.conda\\envs\\malcam\\lib\\site-packages (from httpx>=0.20.0->httpx[http2]>=0.20.0->qdrant-client) (4.4.0)\n",
      "Requirement already satisfied: certifi in c:\\users\\user\\.conda\\envs\\malcam\\lib\\site-packages (from httpx>=0.20.0->httpx[http2]>=0.20.0->qdrant-client) (2024.2.2)\n",
      "Requirement already satisfied: httpcore==1.* in c:\\users\\user\\.conda\\envs\\malcam\\lib\\site-packages (from httpx>=0.20.0->httpx[http2]>=0.20.0->qdrant-client) (1.0.5)\n",
      "Requirement already satisfied: idna in c:\\users\\user\\.conda\\envs\\malcam\\lib\\site-packages (from httpx>=0.20.0->httpx[http2]>=0.20.0->qdrant-client) (3.7)\n",
      "Requirement already satisfied: sniffio in c:\\users\\user\\.conda\\envs\\malcam\\lib\\site-packages (from httpx>=0.20.0->httpx[http2]>=0.20.0->qdrant-client) (1.3.1)\n",
      "Requirement already satisfied: h11<0.15,>=0.13 in c:\\users\\user\\.conda\\envs\\malcam\\lib\\site-packages (from httpcore==1.*->httpx>=0.20.0->httpx[http2]>=0.20.0->qdrant-client) (0.14.0)\n",
      "Requirement already satisfied: h2<5,>=3 in c:\\users\\user\\.conda\\envs\\malcam\\lib\\site-packages (from httpx[http2]>=0.20.0->qdrant-client) (4.1.0)\n",
      "Requirement already satisfied: filelock in c:\\users\\user\\.conda\\envs\\malcam\\lib\\site-packages (from huggingface-hub>=0.15.1->sentence-transformers) (3.14.0)\n",
      "Requirement already satisfied: fsspec>=2023.5.0 in c:\\users\\user\\.conda\\envs\\malcam\\lib\\site-packages (from huggingface-hub>=0.15.1->sentence-transformers) (2024.6.0)\n",
      "Requirement already satisfied: packaging>=20.9 in c:\\users\\user\\.conda\\envs\\malcam\\lib\\site-packages (from huggingface-hub>=0.15.1->sentence-transformers) (24.0)\n",
      "Requirement already satisfied: pyyaml>=5.1 in c:\\users\\user\\.conda\\envs\\malcam\\lib\\site-packages (from huggingface-hub>=0.15.1->sentence-transformers) (6.0.1)\n",
      "Requirement already satisfied: requests in c:\\users\\user\\.conda\\envs\\malcam\\lib\\site-packages (from huggingface-hub>=0.15.1->sentence-transformers) (2.32.3)\n",
      "Requirement already satisfied: typing-extensions>=3.7.4.3 in c:\\users\\user\\appdata\\roaming\\python\\python310\\site-packages (from huggingface-hub>=0.15.1->sentence-transformers) (4.11.0)\n",
      "Requirement already satisfied: pywin32>=226 in c:\\users\\user\\appdata\\roaming\\python\\python310\\site-packages (from portalocker<3.0.0,>=2.7.0->qdrant-client) (306)\n",
      "Requirement already satisfied: annotated-types>=0.4.0 in c:\\users\\user\\.conda\\envs\\malcam\\lib\\site-packages (from pydantic>=1.10.8->qdrant-client) (0.7.0)\n",
      "Requirement already satisfied: pydantic-core==2.20.1 in c:\\users\\user\\.conda\\envs\\malcam\\lib\\site-packages (from pydantic>=1.10.8->qdrant-client) (2.20.1)\n",
      "Requirement already satisfied: sympy in c:\\users\\user\\.conda\\envs\\malcam\\lib\\site-packages (from torch>=1.11.0->sentence-transformers) (1.12.1)\n",
      "Requirement already satisfied: networkx in c:\\users\\user\\.conda\\envs\\malcam\\lib\\site-packages (from torch>=1.11.0->sentence-transformers) (3.3)\n",
      "Requirement already satisfied: jinja2 in c:\\users\\user\\.conda\\envs\\malcam\\lib\\site-packages (from torch>=1.11.0->sentence-transformers) (3.1.4)\n",
      "Requirement already satisfied: mkl<=2021.4.0,>=2021.1.1 in c:\\users\\user\\.conda\\envs\\malcam\\lib\\site-packages (from torch>=1.11.0->sentence-transformers) (2021.4.0)\n",
      "Requirement already satisfied: colorama in c:\\users\\user\\appdata\\roaming\\python\\python310\\site-packages (from tqdm->sentence-transformers) (0.4.6)\n",
      "Requirement already satisfied: regex!=2019.12.17 in c:\\users\\user\\.conda\\envs\\malcam\\lib\\site-packages (from transformers<5.0.0,>=4.34.0->sentence-transformers) (2024.5.15)\n",
      "Requirement already satisfied: tokenizers<0.20,>=0.19 in c:\\users\\user\\.conda\\envs\\malcam\\lib\\site-packages (from transformers<5.0.0,>=4.34.0->sentence-transformers) (0.19.1)\n",
      "Requirement already satisfied: safetensors>=0.4.1 in c:\\users\\user\\.conda\\envs\\malcam\\lib\\site-packages (from transformers<5.0.0,>=4.34.0->sentence-transformers) (0.4.3)\n",
      "Requirement already satisfied: joblib>=1.2.0 in c:\\users\\user\\.conda\\envs\\malcam\\lib\\site-packages (from scikit-learn->sentence-transformers) (1.4.2)\n",
      "Requirement already satisfied: threadpoolctl>=3.1.0 in c:\\users\\user\\.conda\\envs\\malcam\\lib\\site-packages (from scikit-learn->sentence-transformers) (3.5.0)\n",
      "Requirement already satisfied: hyperframe<7,>=6.0 in c:\\users\\user\\.conda\\envs\\malcam\\lib\\site-packages (from h2<5,>=3->httpx[http2]>=0.20.0->qdrant-client) (6.0.1)\n",
      "Requirement already satisfied: hpack<5,>=4.0 in c:\\users\\user\\.conda\\envs\\malcam\\lib\\site-packages (from h2<5,>=3->httpx[http2]>=0.20.0->qdrant-client) (4.0.0)\n",
      "Requirement already satisfied: intel-openmp==2021.* in c:\\users\\user\\.conda\\envs\\malcam\\lib\\site-packages (from mkl<=2021.4.0,>=2021.1.1->torch>=1.11.0->sentence-transformers) (2021.4.0)\n",
      "Requirement already satisfied: tbb==2021.* in c:\\users\\user\\.conda\\envs\\malcam\\lib\\site-packages (from mkl<=2021.4.0,>=2021.1.1->torch>=1.11.0->sentence-transformers) (2021.12.0)\n",
      "Requirement already satisfied: exceptiongroup>=1.0.2 in c:\\users\\user\\.conda\\envs\\malcam\\lib\\site-packages (from anyio->httpx>=0.20.0->httpx[http2]>=0.20.0->qdrant-client) (1.2.1)\n",
      "Requirement already satisfied: MarkupSafe>=2.0 in c:\\users\\user\\.conda\\envs\\malcam\\lib\\site-packages (from jinja2->torch>=1.11.0->sentence-transformers) (2.1.5)\n",
      "Requirement already satisfied: charset-normalizer<4,>=2 in c:\\users\\user\\.conda\\envs\\malcam\\lib\\site-packages (from requests->huggingface-hub>=0.15.1->sentence-transformers) (3.3.2)\n",
      "Requirement already satisfied: mpmath<1.4.0,>=1.1.0 in c:\\users\\user\\.conda\\envs\\malcam\\lib\\site-packages (from sympy->torch>=1.11.0->sentence-transformers) (1.3.0)\n"
     ]
    }
   ],
   "source": [
    "!pip install qdrant-client sentence-transformers"
   ]
  },
  {
   "cell_type": "code",
   "execution_count": 11,
   "metadata": {},
   "outputs": [
    {
     "name": "stdout",
     "output_type": "stream",
     "text": [
      "Requirement already satisfied: qdrant-client in c:\\users\\user\\.conda\\envs\\malcam\\lib\\site-packages (1.11.0)\n",
      "Requirement already satisfied: grpcio>=1.41.0 in c:\\users\\user\\.conda\\envs\\malcam\\lib\\site-packages (from qdrant-client) (1.65.5)\n",
      "Requirement already satisfied: grpcio-tools>=1.41.0 in c:\\users\\user\\.conda\\envs\\malcam\\lib\\site-packages (from qdrant-client) (1.65.5)\n",
      "Requirement already satisfied: httpx>=0.20.0 in c:\\users\\user\\.conda\\envs\\malcam\\lib\\site-packages (from httpx[http2]>=0.20.0->qdrant-client) (0.27.0)\n",
      "Requirement already satisfied: numpy>=1.21 in c:\\users\\user\\.conda\\envs\\malcam\\lib\\site-packages (from qdrant-client) (1.26.4)\n",
      "Requirement already satisfied: portalocker<3.0.0,>=2.7.0 in c:\\users\\user\\.conda\\envs\\malcam\\lib\\site-packages (from qdrant-client) (2.10.1)\n",
      "Requirement already satisfied: pydantic>=1.10.8 in c:\\users\\user\\.conda\\envs\\malcam\\lib\\site-packages (from qdrant-client) (2.8.2)\n",
      "Requirement already satisfied: urllib3<3,>=1.26.14 in c:\\users\\user\\.conda\\envs\\malcam\\lib\\site-packages (from qdrant-client) (2.2.1)\n",
      "Requirement already satisfied: protobuf<6.0dev,>=5.26.1 in c:\\users\\user\\.conda\\envs\\malcam\\lib\\site-packages (from grpcio-tools>=1.41.0->qdrant-client) (5.27.3)\n",
      "Requirement already satisfied: setuptools in c:\\users\\user\\.conda\\envs\\malcam\\lib\\site-packages (from grpcio-tools>=1.41.0->qdrant-client) (69.5.1)\n",
      "Requirement already satisfied: anyio in c:\\users\\user\\.conda\\envs\\malcam\\lib\\site-packages (from httpx>=0.20.0->httpx[http2]>=0.20.0->qdrant-client) (4.4.0)\n",
      "Requirement already satisfied: certifi in c:\\users\\user\\.conda\\envs\\malcam\\lib\\site-packages (from httpx>=0.20.0->httpx[http2]>=0.20.0->qdrant-client) (2024.2.2)\n",
      "Requirement already satisfied: httpcore==1.* in c:\\users\\user\\.conda\\envs\\malcam\\lib\\site-packages (from httpx>=0.20.0->httpx[http2]>=0.20.0->qdrant-client) (1.0.5)\n",
      "Requirement already satisfied: idna in c:\\users\\user\\.conda\\envs\\malcam\\lib\\site-packages (from httpx>=0.20.0->httpx[http2]>=0.20.0->qdrant-client) (3.7)\n",
      "Requirement already satisfied: sniffio in c:\\users\\user\\.conda\\envs\\malcam\\lib\\site-packages (from httpx>=0.20.0->httpx[http2]>=0.20.0->qdrant-client) (1.3.1)\n",
      "Requirement already satisfied: h11<0.15,>=0.13 in c:\\users\\user\\.conda\\envs\\malcam\\lib\\site-packages (from httpcore==1.*->httpx>=0.20.0->httpx[http2]>=0.20.0->qdrant-client) (0.14.0)\n",
      "Requirement already satisfied: h2<5,>=3 in c:\\users\\user\\.conda\\envs\\malcam\\lib\\site-packages (from httpx[http2]>=0.20.0->qdrant-client) (4.1.0)\n",
      "Requirement already satisfied: pywin32>=226 in c:\\users\\user\\appdata\\roaming\\python\\python310\\site-packages (from portalocker<3.0.0,>=2.7.0->qdrant-client) (306)\n",
      "Requirement already satisfied: annotated-types>=0.4.0 in c:\\users\\user\\.conda\\envs\\malcam\\lib\\site-packages (from pydantic>=1.10.8->qdrant-client) (0.7.0)\n",
      "Requirement already satisfied: pydantic-core==2.20.1 in c:\\users\\user\\.conda\\envs\\malcam\\lib\\site-packages (from pydantic>=1.10.8->qdrant-client) (2.20.1)\n",
      "Requirement already satisfied: typing-extensions>=4.6.1 in c:\\users\\user\\appdata\\roaming\\python\\python310\\site-packages (from pydantic>=1.10.8->qdrant-client) (4.11.0)\n",
      "Requirement already satisfied: hyperframe<7,>=6.0 in c:\\users\\user\\.conda\\envs\\malcam\\lib\\site-packages (from h2<5,>=3->httpx[http2]>=0.20.0->qdrant-client) (6.0.1)\n",
      "Requirement already satisfied: hpack<5,>=4.0 in c:\\users\\user\\.conda\\envs\\malcam\\lib\\site-packages (from h2<5,>=3->httpx[http2]>=0.20.0->qdrant-client) (4.0.0)\n",
      "Requirement already satisfied: exceptiongroup>=1.0.2 in c:\\users\\user\\.conda\\envs\\malcam\\lib\\site-packages (from anyio->httpx>=0.20.0->httpx[http2]>=0.20.0->qdrant-client) (1.2.1)\n"
     ]
    }
   ],
   "source": [
    "!pip install qdrant-client"
   ]
  },
  {
   "cell_type": "code",
   "execution_count": 14,
   "metadata": {},
   "outputs": [
    {
     "name": "stdout",
     "output_type": "stream",
     "text": [
      "Requirement already satisfied: python-dotenv in c:\\users\\user\\.conda\\envs\\malcam\\lib\\site-packages (1.0.1)\n"
     ]
    }
   ],
   "source": [
    "!pip install python-dotenv"
   ]
  },
  {
   "cell_type": "code",
   "execution_count": 8,
   "metadata": {},
   "outputs": [
    {
     "name": "stdout",
     "output_type": "stream",
     "text": [
      "Collecting openai==0.28\n",
      "  Downloading openai-0.28.0-py3-none-any.whl.metadata (13 kB)\n",
      "Requirement already satisfied: requests>=2.20 in c:\\users\\user\\.conda\\envs\\malcam\\lib\\site-packages (from openai==0.28) (2.32.3)\n",
      "Requirement already satisfied: tqdm in c:\\users\\user\\.conda\\envs\\malcam\\lib\\site-packages (from openai==0.28) (4.66.4)\n",
      "Requirement already satisfied: aiohttp in c:\\users\\user\\.conda\\envs\\malcam\\lib\\site-packages (from openai==0.28) (3.10.3)\n",
      "Requirement already satisfied: charset-normalizer<4,>=2 in c:\\users\\user\\.conda\\envs\\malcam\\lib\\site-packages (from requests>=2.20->openai==0.28) (3.3.2)\n",
      "Requirement already satisfied: idna<4,>=2.5 in c:\\users\\user\\.conda\\envs\\malcam\\lib\\site-packages (from requests>=2.20->openai==0.28) (3.7)\n",
      "Requirement already satisfied: urllib3<3,>=1.21.1 in c:\\users\\user\\.conda\\envs\\malcam\\lib\\site-packages (from requests>=2.20->openai==0.28) (2.2.1)\n",
      "Requirement already satisfied: certifi>=2017.4.17 in c:\\users\\user\\.conda\\envs\\malcam\\lib\\site-packages (from requests>=2.20->openai==0.28) (2024.2.2)\n",
      "Requirement already satisfied: aiohappyeyeballs>=2.3.0 in c:\\users\\user\\.conda\\envs\\malcam\\lib\\site-packages (from aiohttp->openai==0.28) (2.3.5)\n",
      "Requirement already satisfied: aiosignal>=1.1.2 in c:\\users\\user\\.conda\\envs\\malcam\\lib\\site-packages (from aiohttp->openai==0.28) (1.3.1)\n",
      "Requirement already satisfied: attrs>=17.3.0 in c:\\users\\user\\.conda\\envs\\malcam\\lib\\site-packages (from aiohttp->openai==0.28) (23.2.0)\n",
      "Requirement already satisfied: frozenlist>=1.1.1 in c:\\users\\user\\.conda\\envs\\malcam\\lib\\site-packages (from aiohttp->openai==0.28) (1.4.1)\n",
      "Requirement already satisfied: multidict<7.0,>=4.5 in c:\\users\\user\\.conda\\envs\\malcam\\lib\\site-packages (from aiohttp->openai==0.28) (6.0.5)\n",
      "Requirement already satisfied: yarl<2.0,>=1.0 in c:\\users\\user\\.conda\\envs\\malcam\\lib\\site-packages (from aiohttp->openai==0.28) (1.9.4)\n",
      "Requirement already satisfied: async-timeout<5.0,>=4.0 in c:\\users\\user\\.conda\\envs\\malcam\\lib\\site-packages (from aiohttp->openai==0.28) (4.0.3)\n",
      "Requirement already satisfied: colorama in c:\\users\\user\\appdata\\roaming\\python\\python310\\site-packages (from tqdm->openai==0.28) (0.4.6)\n",
      "Downloading openai-0.28.0-py3-none-any.whl (76 kB)\n",
      "   ---------------------------------------- 0.0/76.5 kB ? eta -:--:--\n",
      "   ---------------------------------------- 76.5/76.5 kB 4.1 MB/s eta 0:00:00\n",
      "Installing collected packages: openai\n",
      "  Attempting uninstall: openai\n",
      "    Found existing installation: openai 1.40.6\n",
      "    Uninstalling openai-1.40.6:\n",
      "      Successfully uninstalled openai-1.40.6\n",
      "Successfully installed openai-0.28.0\n"
     ]
    }
   ],
   "source": [
    "!pip install openai==0.28"
   ]
  },
  {
   "cell_type": "markdown",
   "metadata": {},
   "source": [
    "# 1. qdrant에 데이터 벡터화하여 저장하기"
   ]
  },
  {
   "cell_type": "code",
   "execution_count": 17,
   "metadata": {},
   "outputs": [],
   "source": [
    "from dotenv import load_dotenv\n",
    "import os\n",
    "load_dotenv()\n",
    "\n",
    "# 환경변수 가져오기\n",
    "qdrant_api_key = os.getenv(\"QDRANT_API_KEY\")\n",
    "qdrant_url = os.getenv(\"QDRANT_URL\")"
   ]
  },
  {
   "cell_type": "code",
   "execution_count": 18,
   "metadata": {},
   "outputs": [
    {
     "name": "stdout",
     "output_type": "stream",
     "text": [
      "collections=[CollectionDescription(name='meeting_records'), CollectionDescription(name='ts_meeting_records')]\n"
     ]
    }
   ],
   "source": [
    "from qdrant_client import QdrantClient\n",
    "\n",
    "client = QdrantClient(\n",
    "    url=qdrant_url,\n",
    "    api_key=qdrant_api_key\n",
    ")\n",
    "\n",
    "print(client.get_collections())"
   ]
  },
  {
   "cell_type": "code",
   "execution_count": 3,
   "metadata": {},
   "outputs": [
    {
     "name": "stdout",
     "output_type": "stream",
     "text": [
      "    회의번호          발언자                                               발언내용\n",
      "0  52512  위원장직무대행 박성민  의석을 정돈해 주시기 바랍니다.  국회법 제52조 및 제3호에 따라 특별위원회 재적...\n",
      "1  52512  위원장직무대행 박성민  현재 안건이 미정인 상태로 회의가 열리게 되었기 때문에 추가로 안건을 상정하여 회의...\n",
      "2  52512  위원장직무대행 박성민  의사일정 제1항 위원장 선임의 건을 상정합니다.   특별위원회 위원장은 국회법 제4...\n",
      "3  52512       조응천 위원                         우상호 위원을 추천합니다.            \n",
      "4  52512  위원장직무대행 박성민  또 추천하실 위원님 안 계십니까?    (「없습니다」 하는 위원 있음)  우상호 위...\n"
     ]
    }
   ],
   "source": [
    "import pandas as pd\n",
    "import numpy as np\n",
    "\n",
    "path = '21대국정조사.csv'\n",
    "data = pd.read_csv(path)\n",
    "\n",
    "print(data.head())"
   ]
  },
  {
   "cell_type": "code",
   "execution_count": 19,
   "metadata": {},
   "outputs": [
    {
     "name": "stderr",
     "output_type": "stream",
     "text": [
      "c:\\Users\\user\\.conda\\envs\\malcam\\lib\\site-packages\\sentence_transformers\\cross_encoder\\CrossEncoder.py:11: TqdmExperimentalWarning: Using `tqdm.autonotebook.tqdm` in notebook mode. Use `tqdm.tqdm` instead to force console mode (e.g. in jupyter console)\n",
      "  from tqdm.autonotebook import tqdm, trange\n",
      "c:\\Users\\user\\.conda\\envs\\malcam\\lib\\site-packages\\huggingface_hub\\file_download.py:1132: FutureWarning: `resume_download` is deprecated and will be removed in version 1.0.0. Downloads always resume when possible. If you want to force a new download, use `force_download=True`.\n",
      "  warnings.warn(\n"
     ]
    },
    {
     "name": "stdout",
     "output_type": "stream",
     "text": [
      "벡터화 완료\n"
     ]
    }
   ],
   "source": [
    "from sentence_transformers import SentenceTransformer\n",
    "\n",
    "# 벡터화 모델 로드\n",
    "model = SentenceTransformer('all-MiniLM-L6-v2')\n",
    "\n",
    "# 벡터화\n",
    "data['vector'] = data['발언내용'].apply(lambda x: model.encode(x))\n",
    "print(\"벡터화 완료\")"
   ]
  },
  {
   "cell_type": "code",
   "execution_count": 5,
   "metadata": {},
   "outputs": [],
   "source": [
    "# 벡터화 후 파일로 저장\n",
    "data.to_parquet(\"벡터화_데이터.parquet\")  # 벡터화된 데이터를 저장"
   ]
  },
  {
   "cell_type": "code",
   "execution_count": 23,
   "metadata": {},
   "outputs": [
    {
     "name": "stderr",
     "output_type": "stream",
     "text": [
      "C:\\Users\\user\\AppData\\Local\\Temp\\ipykernel_13160\\1063533258.py:2: DeprecationWarning: `recreate_collection` method is deprecated and will be removed in the future. Use `collection_exists` to check collection existence and `create_collection` instead.\n",
      "  client.recreate_collection(\n"
     ]
    },
    {
     "name": "stdout",
     "output_type": "stream",
     "text": [
      "컬렉션 생성 완료\n"
     ]
    }
   ],
   "source": [
    "# 컬렉션 생성\n",
    "client.recreate_collection(\n",
    "    collection_name=\"meeting_records\",\n",
    "    vectors_config={\"size\": 384, \"distance\": \"Cosine\"}  # 벡터 크기 및 거리 계산 방식\n",
    ")\n",
    "print(\"컬렉션 생성 완료\")"
   ]
  },
  {
   "cell_type": "code",
   "execution_count": 24,
   "metadata": {},
   "outputs": [
    {
     "name": "stdout",
     "output_type": "stream",
     "text": [
      "배치 1 삽입 완료\n",
      "배치 2 삽입 완료\n",
      "배치 3 삽입 완료\n",
      "배치 4 삽입 완료\n",
      "배치 5 삽입 완료\n",
      "배치 6 삽입 완료\n",
      "배치 7 삽입 완료\n",
      "배치 8 삽입 완료\n",
      "배치 9 삽입 완료\n",
      "배치 10 삽입 완료\n",
      "배치 11 삽입 완료\n",
      "배치 12 삽입 완료\n",
      "배치 13 삽입 완료\n",
      "배치 14 삽입 완료\n",
      "배치 15 삽입 완료\n",
      "배치 16 삽입 완료\n",
      "배치 17 삽입 완료\n",
      "배치 18 삽입 완료\n",
      "배치 19 삽입 완료\n",
      "배치 20 삽입 완료\n",
      "배치 21 삽입 완료\n",
      "배치 22 삽입 완료\n",
      "배치 23 삽입 완료\n",
      "배치 24 삽입 완료\n",
      "배치 25 삽입 완료\n",
      "배치 26 삽입 완료\n",
      "배치 27 삽입 완료\n",
      "배치 28 삽입 완료\n",
      "배치 29 삽입 완료\n",
      "배치 30 삽입 완료\n",
      "배치 31 삽입 완료\n",
      "배치 32 삽입 완료\n",
      "배치 33 삽입 완료\n",
      "배치 34 삽입 완료\n",
      "배치 35 삽입 완료\n",
      "배치 36 삽입 완료\n",
      "배치 37 삽입 완료\n",
      "배치 38 삽입 완료\n",
      "배치 39 삽입 완료\n",
      "배치 40 삽입 완료\n",
      "배치 41 삽입 완료\n",
      "배치 42 삽입 완료\n",
      "배치 43 삽입 완료\n",
      "배치 44 삽입 완료\n",
      "배치 45 삽입 완료\n",
      "배치 46 삽입 완료\n",
      "배치 47 삽입 완료\n",
      "배치 48 삽입 완료\n",
      "배치 49 삽입 완료\n",
      "배치 50 삽입 완료\n",
      "배치 51 삽입 완료\n",
      "배치 52 삽입 완료\n",
      "배치 53 삽입 완료\n",
      "배치 54 삽입 완료\n",
      "배치 55 삽입 완료\n",
      "배치 56 삽입 완료\n",
      "배치 57 삽입 완료\n",
      "배치 58 삽입 완료\n",
      "배치 59 삽입 완료\n",
      "배치 60 삽입 완료\n",
      "배치 61 삽입 완료\n",
      "배치 62 삽입 완료\n",
      "배치 63 삽입 완료\n",
      "배치 64 삽입 완료\n",
      "배치 65 삽입 완료\n",
      "배치 66 삽입 완료\n",
      "배치 67 삽입 완료\n",
      "배치 68 삽입 완료\n",
      "배치 69 삽입 완료\n",
      "배치 70 삽입 완료\n",
      "배치 71 삽입 완료\n",
      "배치 72 삽입 완료\n",
      "배치 73 삽입 완료\n",
      "배치 74 삽입 완료\n",
      "배치 75 삽입 완료\n",
      "배치 76 삽입 완료\n",
      "배치 77 삽입 완료\n",
      "배치 78 삽입 완료\n",
      "배치 79 삽입 완료\n",
      "배치 80 삽입 완료\n",
      "배치 81 삽입 완료\n",
      "배치 82 삽입 완료\n",
      "배치 83 삽입 완료\n",
      "배치 84 삽입 완료\n",
      "배치 85 삽입 완료\n",
      "배치 86 삽입 완료\n",
      "배치 87 삽입 완료\n",
      "배치 88 삽입 완료\n",
      "배치 89 삽입 완료\n",
      "배치 90 삽입 완료\n",
      "배치 91 삽입 완료\n",
      "배치 92 삽입 완료\n",
      "배치 93 삽입 완료\n",
      "배치 94 삽입 완료\n",
      "배치 95 삽입 완료\n",
      "배치 96 삽입 완료\n",
      "배치 97 삽입 완료\n",
      "배치 98 삽입 완료\n",
      "배치 99 삽입 완료\n",
      "배치 100 삽입 완료\n",
      "배치 101 삽입 완료\n",
      "배치 102 삽입 완료\n",
      "배치 103 삽입 완료\n",
      "배치 104 삽입 완료\n",
      "배치 105 삽입 완료\n",
      "배치 106 삽입 완료\n",
      "배치 107 삽입 완료\n",
      "배치 108 삽입 완료\n",
      "배치 109 삽입 완료\n",
      "배치 110 삽입 완료\n",
      "배치 111 삽입 완료\n",
      "배치 112 삽입 완료\n",
      "배치 113 삽입 완료\n",
      "배치 114 삽입 완료\n",
      "배치 115 삽입 완료\n",
      "배치 116 삽입 완료\n",
      "배치 117 삽입 완료\n",
      "배치 118 삽입 완료\n",
      "배치 119 삽입 완료\n",
      "배치 120 삽입 완료\n",
      "배치 121 삽입 완료\n",
      "배치 122 삽입 완료\n",
      "배치 123 삽입 완료\n",
      "배치 124 삽입 완료\n",
      "배치 125 삽입 완료\n",
      "배치 126 삽입 완료\n",
      "배치 127 삽입 완료\n",
      "배치 128 삽입 완료\n",
      "배치 129 삽입 완료\n",
      "배치 130 삽입 완료\n",
      "배치 131 삽입 완료\n",
      "배치 132 삽입 완료\n",
      "배치 133 삽입 완료\n",
      "배치 134 삽입 완료\n",
      "배치 135 삽입 완료\n",
      "배치 136 삽입 완료\n",
      "배치 137 삽입 완료\n",
      "배치 138 삽입 완료\n",
      "배치 139 삽입 완료\n",
      "배치 140 삽입 완료\n",
      "배치 141 삽입 완료\n",
      "배치 142 삽입 완료\n",
      "배치 143 삽입 완료\n",
      "배치 144 삽입 완료\n",
      "배치 145 삽입 완료\n",
      "배치 146 삽입 완료\n",
      "배치 147 삽입 완료\n",
      "배치 148 삽입 완료\n",
      "배치 149 삽입 완료\n",
      "배치 150 삽입 완료\n",
      "배치 151 삽입 완료\n",
      "배치 152 삽입 완료\n",
      "배치 153 삽입 완료\n",
      "배치 154 삽입 완료\n",
      "배치 155 삽입 완료\n",
      "배치 156 삽입 완료\n",
      "배치 157 삽입 완료\n",
      "배치 158 삽입 완료\n",
      "배치 159 삽입 완료\n",
      "배치 160 삽입 완료\n",
      "배치 161 삽입 완료\n",
      "배치 162 삽입 완료\n",
      "배치 163 삽입 완료\n",
      "배치 164 삽입 완료\n",
      "배치 165 삽입 완료\n",
      "배치 166 삽입 완료\n",
      "배치 167 삽입 완료\n",
      "배치 168 삽입 완료\n",
      "배치 169 삽입 완료\n",
      "배치 170 삽입 완료\n",
      "배치 171 삽입 완료\n",
      "배치 172 삽입 완료\n",
      "배치 173 삽입 완료\n",
      "배치 174 삽입 완료\n",
      "배치 175 삽입 완료\n",
      "배치 176 삽입 완료\n",
      "배치 177 삽입 완료\n",
      "배치 178 삽입 완료\n",
      "배치 179 삽입 완료\n",
      "배치 180 삽입 완료\n",
      "배치 181 삽입 완료\n",
      "배치 182 삽입 완료\n",
      "배치 183 삽입 완료\n",
      "배치 184 삽입 완료\n",
      "배치 185 삽입 완료\n",
      "배치 186 삽입 완료\n",
      "배치 187 삽입 완료\n",
      "배치 188 삽입 완료\n",
      "배치 189 삽입 완료\n",
      "배치 190 삽입 완료\n",
      "배치 191 삽입 완료\n",
      "배치 192 삽입 완료\n",
      "배치 193 삽입 완료\n",
      "배치 194 삽입 완료\n",
      "배치 195 삽입 완료\n",
      "배치 196 삽입 완료\n",
      "배치 197 삽입 완료\n",
      "배치 198 삽입 완료\n",
      "배치 199 삽입 완료\n",
      "배치 200 삽입 완료\n",
      "배치 201 삽입 완료\n",
      "배치 202 삽입 완료\n",
      "배치 203 삽입 완료\n",
      "배치 204 삽입 완료\n",
      "배치 205 삽입 완료\n",
      "배치 206 삽입 완료\n",
      "배치 207 삽입 완료\n",
      "배치 208 삽입 완료\n",
      "배치 209 삽입 완료\n",
      "배치 210 삽입 완료\n",
      "배치 211 삽입 완료\n",
      "배치 212 삽입 완료\n",
      "배치 213 삽입 완료\n",
      "배치 214 삽입 완료\n",
      "배치 215 삽입 완료\n",
      "배치 216 삽입 완료\n",
      "배치 217 삽입 완료\n",
      "배치 218 삽입 완료\n",
      "배치 219 삽입 완료\n",
      "배치 220 삽입 완료\n",
      "배치 221 삽입 완료\n",
      "배치 222 삽입 완료\n",
      "배치 223 삽입 완료\n",
      "배치 224 삽입 완료\n",
      "배치 225 삽입 완료\n",
      "배치 226 삽입 완료\n",
      "배치 227 삽입 완료\n",
      "배치 228 삽입 완료\n",
      "배치 229 삽입 완료\n",
      "배치 230 삽입 완료\n",
      "배치 231 삽입 완료\n",
      "배치 232 삽입 완료\n",
      "배치 233 삽입 완료\n",
      "배치 234 삽입 완료\n",
      "배치 235 삽입 완료\n",
      "배치 236 삽입 완료\n",
      "배치 237 삽입 완료\n",
      "배치 238 삽입 완료\n",
      "배치 239 삽입 완료\n",
      "배치 240 삽입 완료\n",
      "배치 241 삽입 완료\n",
      "배치 242 삽입 완료\n",
      "배치 243 삽입 완료\n",
      "배치 244 삽입 완료\n",
      "배치 245 삽입 완료\n",
      "배치 246 삽입 완료\n",
      "배치 247 삽입 완료\n",
      "배치 248 삽입 완료\n",
      "배치 249 삽입 완료\n",
      "배치 250 삽입 완료\n",
      "배치 251 삽입 완료\n",
      "배치 252 삽입 완료\n",
      "배치 253 삽입 완료\n",
      "배치 254 삽입 완료\n",
      "배치 255 삽입 완료\n",
      "배치 256 삽입 완료\n",
      "배치 257 삽입 완료\n",
      "배치 258 삽입 완료\n",
      "배치 259 삽입 완료\n",
      "배치 260 삽입 완료\n",
      "배치 261 삽입 완료\n",
      "배치 262 삽입 완료\n",
      "배치 263 삽입 완료\n",
      "배치 264 삽입 완료\n",
      "배치 265 삽입 완료\n",
      "배치 266 삽입 완료\n",
      "배치 267 삽입 완료\n",
      "배치 268 삽입 완료\n",
      "배치 269 삽입 완료\n",
      "배치 270 삽입 완료\n",
      "배치 271 삽입 완료\n",
      "배치 272 삽입 완료\n",
      "배치 273 삽입 완료\n",
      "배치 274 삽입 완료\n",
      "배치 275 삽입 완료\n",
      "배치 276 삽입 완료\n",
      "배치 277 삽입 완료\n",
      "배치 278 삽입 완료\n",
      "배치 279 삽입 완료\n",
      "배치 280 삽입 완료\n",
      "배치 281 삽입 완료\n",
      "배치 282 삽입 완료\n",
      "배치 283 삽입 완료\n",
      "배치 284 삽입 완료\n",
      "배치 285 삽입 완료\n",
      "배치 286 삽입 완료\n",
      "배치 287 삽입 완료\n",
      "배치 288 삽입 완료\n",
      "배치 289 삽입 완료\n",
      "배치 290 삽입 완료\n",
      "배치 291 삽입 완료\n",
      "배치 292 삽입 완료\n",
      "배치 293 삽입 완료\n",
      "배치 294 삽입 완료\n",
      "배치 295 삽입 완료\n",
      "배치 296 삽입 완료\n",
      "배치 297 삽입 완료\n",
      "배치 298 삽입 완료\n",
      "배치 299 삽입 완료\n",
      "배치 300 삽입 완료\n",
      "배치 301 삽입 완료\n",
      "배치 302 삽입 완료\n",
      "배치 303 삽입 완료\n",
      "배치 304 삽입 완료\n",
      "배치 305 삽입 완료\n",
      "배치 306 삽입 완료\n",
      "배치 307 삽입 완료\n",
      "배치 308 삽입 완료\n",
      "배치 309 삽입 완료\n",
      "배치 310 삽입 완료\n",
      "배치 311 삽입 완료\n",
      "배치 312 삽입 완료\n",
      "배치 313 삽입 완료\n",
      "배치 314 삽입 완료\n",
      "배치 315 삽입 완료\n",
      "배치 316 삽입 완료\n",
      "배치 317 삽입 완료\n",
      "배치 318 삽입 완료\n",
      "배치 319 삽입 완료\n",
      "배치 320 삽입 완료\n",
      "배치 321 삽입 완료\n",
      "배치 322 삽입 완료\n",
      "배치 323 삽입 완료\n",
      "배치 324 삽입 완료\n",
      "배치 325 삽입 완료\n",
      "배치 326 삽입 완료\n",
      "배치 327 삽입 완료\n",
      "배치 328 삽입 완료\n",
      "배치 329 삽입 완료\n",
      "배치 330 삽입 완료\n",
      "배치 331 삽입 완료\n",
      "배치 332 삽입 완료\n",
      "배치 333 삽입 완료\n",
      "배치 334 삽입 완료\n",
      "배치 335 삽입 완료\n",
      "배치 336 삽입 완료\n",
      "배치 337 삽입 완료\n",
      "배치 338 삽입 완료\n",
      "배치 339 삽입 완료\n",
      "배치 340 삽입 완료\n",
      "배치 341 삽입 완료\n",
      "배치 342 삽입 완료\n",
      "배치 343 삽입 완료\n",
      "배치 344 삽입 완료\n",
      "배치 345 삽입 완료\n",
      "배치 346 삽입 완료\n",
      "배치 347 삽입 완료\n",
      "배치 348 삽입 완료\n",
      "배치 349 삽입 완료\n",
      "배치 350 삽입 완료\n",
      "배치 351 삽입 완료\n",
      "배치 352 삽입 완료\n",
      "배치 353 삽입 완료\n",
      "배치 354 삽입 완료\n",
      "배치 355 삽입 완료\n",
      "배치 356 삽입 완료\n",
      "배치 357 삽입 완료\n",
      "배치 358 삽입 완료\n",
      "배치 359 삽입 완료\n",
      "배치 360 삽입 완료\n",
      "배치 361 삽입 완료\n",
      "배치 362 삽입 완료\n",
      "배치 363 삽입 완료\n",
      "배치 364 삽입 완료\n",
      "배치 365 삽입 완료\n",
      "배치 366 삽입 완료\n",
      "배치 367 삽입 완료\n",
      "배치 368 삽입 완료\n",
      "배치 369 삽입 완료\n",
      "배치 370 삽입 완료\n",
      "배치 371 삽입 완료\n",
      "배치 372 삽입 완료\n",
      "배치 373 삽입 완료\n",
      "배치 374 삽입 완료\n",
      "배치 375 삽입 완료\n",
      "배치 376 삽입 완료\n",
      "배치 377 삽입 완료\n",
      "배치 378 삽입 완료\n",
      "배치 379 삽입 완료\n",
      "배치 380 삽입 완료\n",
      "배치 381 삽입 완료\n",
      "배치 382 삽입 완료\n",
      "배치 383 삽입 완료\n",
      "배치 384 삽입 완료\n",
      "배치 385 삽입 완료\n",
      "배치 386 삽입 완료\n",
      "배치 387 삽입 완료\n",
      "배치 388 삽입 완료\n",
      "배치 389 삽입 완료\n",
      "배치 390 삽입 완료\n",
      "배치 391 삽입 완료\n",
      "배치 392 삽입 완료\n",
      "배치 393 삽입 완료\n",
      "배치 394 삽입 완료\n",
      "배치 395 삽입 완료\n",
      "배치 396 삽입 완료\n",
      "배치 397 삽입 완료\n",
      "배치 398 삽입 완료\n",
      "배치 399 삽입 완료\n",
      "배치 400 삽입 완료\n",
      "배치 401 삽입 완료\n",
      "배치 402 삽입 완료\n",
      "배치 403 삽입 완료\n",
      "배치 404 삽입 완료\n",
      "배치 405 삽입 완료\n",
      "배치 406 삽입 완료\n",
      "배치 407 삽입 완료\n",
      "배치 408 삽입 완료\n",
      "배치 409 삽입 완료\n",
      "배치 410 삽입 완료\n",
      "배치 411 삽입 완료\n",
      "배치 412 삽입 완료\n",
      "배치 413 삽입 완료\n",
      "배치 414 삽입 완료\n",
      "배치 415 삽입 완료\n",
      "배치 416 삽입 완료\n",
      "배치 417 삽입 완료\n",
      "배치 418 삽입 완료\n",
      "배치 419 삽입 완료\n",
      "배치 420 삽입 완료\n",
      "배치 421 삽입 완료\n",
      "배치 422 삽입 완료\n",
      "배치 423 삽입 완료\n",
      "배치 424 삽입 완료\n",
      "배치 425 삽입 완료\n",
      "배치 426 삽입 완료\n",
      "배치 427 삽입 완료\n",
      "배치 428 삽입 완료\n",
      "배치 429 삽입 완료\n",
      "배치 430 삽입 완료\n",
      "배치 431 삽입 완료\n",
      "배치 432 삽입 완료\n",
      "배치 433 삽입 완료\n",
      "배치 434 삽입 완료\n",
      "배치 435 삽입 완료\n",
      "배치 436 삽입 완료\n",
      "배치 437 삽입 완료\n",
      "배치 438 삽입 완료\n",
      "배치 439 삽입 완료\n",
      "배치 440 삽입 완료\n",
      "배치 441 삽입 완료\n",
      "배치 442 삽입 완료\n",
      "배치 443 삽입 완료\n",
      "배치 444 삽입 완료\n",
      "배치 445 삽입 완료\n",
      "배치 446 삽입 완료\n",
      "배치 447 삽입 완료\n",
      "배치 448 삽입 완료\n",
      "배치 449 삽입 완료\n",
      "배치 450 삽입 완료\n",
      "배치 451 삽입 완료\n",
      "배치 452 삽입 완료\n",
      "배치 453 삽입 완료\n",
      "배치 454 삽입 완료\n",
      "배치 455 삽입 완료\n",
      "배치 456 삽입 완료\n",
      "배치 457 삽입 완료\n",
      "배치 458 삽입 완료\n",
      "배치 459 삽입 완료\n",
      "배치 460 삽입 완료\n",
      "배치 461 삽입 완료\n",
      "배치 462 삽입 완료\n",
      "배치 463 삽입 완료\n",
      "배치 464 삽입 완료\n",
      "배치 465 삽입 완료\n",
      "배치 466 삽입 완료\n",
      "배치 467 삽입 완료\n",
      "배치 468 삽입 완료\n",
      "배치 469 삽입 완료\n",
      "배치 470 삽입 완료\n",
      "배치 471 삽입 완료\n",
      "배치 472 삽입 완료\n",
      "배치 473 삽입 완료\n",
      "배치 474 삽입 완료\n",
      "배치 475 삽입 완료\n",
      "배치 476 삽입 완료\n",
      "배치 477 삽입 완료\n",
      "배치 478 삽입 완료\n",
      "배치 479 삽입 완료\n",
      "배치 480 삽입 완료\n",
      "배치 481 삽입 완료\n",
      "배치 482 삽입 완료\n",
      "배치 483 삽입 완료\n",
      "배치 484 삽입 완료\n",
      "배치 485 삽입 완료\n",
      "총 데이터 개수: None\n"
     ]
    }
   ],
   "source": [
    "points = [\n",
    "    {\n",
    "        \"id\": idx,\n",
    "        \"vector\": row['vector'],\n",
    "        \"payload\": {\n",
    "            \"발언자\": row['발언자'],\n",
    "            \"회의번호\": row['회의번호'],\n",
    "            \"발언내용\": row['발언내용']\n",
    "        }\n",
    "    }\n",
    "    for idx, row in data.iterrows()\n",
    "]\n",
    "\n",
    "# 데이터 삽입\n",
    "batch_size = 20  # 배치 크기 설정\n",
    "for i in range(0, len(points), batch_size):\n",
    "    batch = points[i:i + batch_size]\n",
    "    client.upsert(\n",
    "        collection_name=\"meeting_records\",\n",
    "        points=batch\n",
    "    )\n",
    "    print(f\"배치 {i // batch_size + 1} 삽입 완료\")\n",
    "\n",
    "# 삽입된 데이터 개수 확인\n",
    "collection_info = client.get_collection(\"meeting_records\")\n",
    "print(f\"총 데이터 개수: {collection_info.vectors_count}\")"
   ]
  },
  {
   "cell_type": "code",
   "execution_count": 25,
   "metadata": {},
   "outputs": [
    {
     "name": "stdout",
     "output_type": "stream",
     "text": [
      "총 데이터 개수: None\n"
     ]
    }
   ],
   "source": [
    "# 삽입된 데이터 개수 확인\n",
    "collection_info = client.get_collection(\"meeting_records\")\n",
    "print(f\"총 데이터 개수: {collection_info.vectors_count}\")"
   ]
  },
  {
   "cell_type": "code",
   "execution_count": 26,
   "metadata": {},
   "outputs": [
    {
     "name": "stdout",
     "output_type": "stream",
     "text": [
      "ID: 0\n",
      "발언내용: 의석을 정돈해 주시기 바랍니다.  국회법 제52조 및 제3호에 따라 특별위원회 재적위원 4분의 1 이상의 회의 개회 요구가 있었습니다. 이에 제400회 국회(정기회) 제1차 용산 이태원 참사 진상규명과 재발방지를 위한 국정조사특별위원회를 개회하겠습니다.  국회법 제47조제2항에 따라 위원장 선임 시까지 위원장 직무를 대행하게 되었습니다.            \n",
      "회의번호: 52512\n",
      "발언자: 위원장직무대행 박성민\n",
      "\n",
      "ID: 1\n",
      "발언내용: 현재 안건이 미정인 상태로 회의가 열리게 되었기 때문에 추가로 안건을 상정하여 회의를 진행하고자 합니다.   위원님 여러분 이의가 없습니까?     (「예」 하는 위원 있음)  이의가 없으시면 의사일정을 변경하여 안건을 상정하도록 하겠습니다.            \n",
      "회의번호: 52512\n",
      "발언자: 위원장직무대행 박성민\n",
      "\n",
      "ID: 2\n",
      "발언내용: 의사일정 제1항 위원장 선임의 건을 상정합니다.   특별위원회 위원장은 국회법 제47조제1항에 따라 특별위원회에서 호선하고 본회의에 보고하도록 되어 있습니다.   위원장 선임 방법은 위원님들께서 특별한 의견이 없으시면 그간의 특별위원회 관례에 따라 구두 추천에 의하여 선임하고자 합니다.  위원님 여러분 이의가 없으십니까?    (「예」 하는 위원 있음)  그러면 위원님들께서 이번 국정조사를 원만하고 공정하게 이끌어 주실 가장 적임자라고 생각하시는 위원님을 우리 위원회 위원장으로 추천해 주시기 바랍니다.  조응천 위원님.            \n",
      "회의번호: 52512\n",
      "발언자: 위원장직무대행 박성민\n",
      "\n",
      "ID: 3\n",
      "발언내용: 우상호 위원을 추천합니다.            \n",
      "회의번호: 52512\n",
      "발언자: 조응천 위원\n",
      "\n",
      "ID: 4\n",
      "발언내용: 또 추천하실 위원님 안 계십니까?    (「없습니다」 하는 위원 있음)  우상호 위원님을 위원장으로 선임하고자 합니다.  위원님 여러분 이의 없으십니까?    (「예」 하는 위원 있음)  이의 없으므로 가결되었음을 선포합니다.  협조해 주신 위원님들께 감사의 말씀을 드립니다.   우상호 위원장님께서 나오셔서 회의를 진행해 주시기 바랍니다.    (박성민 위원장직무대행, 우상호 위원장과 사회교대)            \n",
      "회의번호: 52512\n",
      "발언자: 위원장직무대행 박성민\n",
      "\n"
     ]
    }
   ],
   "source": [
    "results = client.scroll(\n",
    "    collection_name=\"meeting_records\",\n",
    "    offset=None,  # 처음부터 검색\n",
    "    limit=5  # 상위 5개 결과 반환\n",
    ")\n",
    "\n",
    "# 검색 결과 출력\n",
    "for result in results[0]:  # scroll 반환값은 (points, next_page_offset)의 튜플\n",
    "    print(\"ID:\", result.id)\n",
    "    print(\"발언내용:\", result.payload['발언내용'])\n",
    "    print(\"회의번호:\", result.payload['회의번호'])\n",
    "    print(\"발언자:\", result.payload['발언자'])\n",
    "    print()"
   ]
  },
  {
   "cell_type": "markdown",
   "metadata": {},
   "source": [
    "# 2. 벡터 db 호출하여 발언내용 요약하기"
   ]
  },
  {
   "cell_type": "code",
   "execution_count": 32,
   "metadata": {},
   "outputs": [],
   "source": [
    "import random\n",
    "from transformers import pipeline\n",
    "\n",
    "# Qdrant에서 모든 데이터 불러오기\n",
    "def fetch_all_data_from_qdrant(collection_name, batch_size=50):\n",
    "    all_results = []\n",
    "    offset = None\n",
    "\n",
    "    while True:\n",
    "        results, next_page_offset = client.scroll(\n",
    "            collection_name=collection_name,\n",
    "            offset=offset,\n",
    "            limit=batch_size\n",
    "        )\n",
    "        all_results.extend(results)\n",
    "\n",
    "        if not next_page_offset:\n",
    "            break\n",
    "\n",
    "        offset = next_page_offset\n",
    "\n",
    "    return all_results\n",
    "\n",
    "# 무작위 샘플링\n",
    "def random_sample(data, sample_size=100):\n",
    "    return random.sample(data, sample_size)"
   ]
  },
  {
   "cell_type": "code",
   "execution_count": 35,
   "metadata": {},
   "outputs": [
    {
     "name": "stdout",
     "output_type": "stream",
     "text": [
      "총 데이터 개수: 9682\n",
      "무작위로 100개의 데이터를 샘플링했습니다.\n",
      "요약 실패: index out of range in self\n"
     ]
    },
    {
     "name": "stderr",
     "output_type": "stream",
     "text": [
      "Your max_length is set to 150, but your input_length is only 47. Since this is a summarization task, where outputs shorter than the input are typically wanted, you might consider decreasing max_length manually, e.g. summarizer('...', max_length=23)\n",
      "Your max_length is set to 150, but your input_length is only 33. Since this is a summarization task, where outputs shorter than the input are typically wanted, you might consider decreasing max_length manually, e.g. summarizer('...', max_length=16)\n",
      "Your max_length is set to 150, but your input_length is only 63. Since this is a summarization task, where outputs shorter than the input are typically wanted, you might consider decreasing max_length manually, e.g. summarizer('...', max_length=31)\n",
      "Your max_length is set to 150, but your input_length is only 18. Since this is a summarization task, where outputs shorter than the input are typically wanted, you might consider decreasing max_length manually, e.g. summarizer('...', max_length=9)\n",
      "Your max_length is set to 150, but your input_length is only 82. Since this is a summarization task, where outputs shorter than the input are typically wanted, you might consider decreasing max_length manually, e.g. summarizer('...', max_length=41)\n",
      "Your max_length is set to 150, but your input_length is only 30. Since this is a summarization task, where outputs shorter than the input are typically wanted, you might consider decreasing max_length manually, e.g. summarizer('...', max_length=15)\n",
      "Your max_length is set to 150, but your input_length is only 55. Since this is a summarization task, where outputs shorter than the input are typically wanted, you might consider decreasing max_length manually, e.g. summarizer('...', max_length=27)\n",
      "Your max_length is set to 150, but your input_length is only 87. Since this is a summarization task, where outputs shorter than the input are typically wanted, you might consider decreasing max_length manually, e.g. summarizer('...', max_length=43)\n",
      "Your max_length is set to 150, but your input_length is only 24. Since this is a summarization task, where outputs shorter than the input are typically wanted, you might consider decreasing max_length manually, e.g. summarizer('...', max_length=12)\n",
      "Your max_length is set to 150, but your input_length is only 42. Since this is a summarization task, where outputs shorter than the input are typically wanted, you might consider decreasing max_length manually, e.g. summarizer('...', max_length=21)\n",
      "Your max_length is set to 150, but your input_length is only 42. Since this is a summarization task, where outputs shorter than the input are typically wanted, you might consider decreasing max_length manually, e.g. summarizer('...', max_length=21)\n",
      "Your max_length is set to 150, but your input_length is only 103. Since this is a summarization task, where outputs shorter than the input are typically wanted, you might consider decreasing max_length manually, e.g. summarizer('...', max_length=51)\n",
      "Your max_length is set to 150, but your input_length is only 111. Since this is a summarization task, where outputs shorter than the input are typically wanted, you might consider decreasing max_length manually, e.g. summarizer('...', max_length=55)\n",
      "Your max_length is set to 150, but your input_length is only 62. Since this is a summarization task, where outputs shorter than the input are typically wanted, you might consider decreasing max_length manually, e.g. summarizer('...', max_length=31)\n"
     ]
    },
    {
     "name": "stdout",
     "output_type": "stream",
     "text": [
      "요약 실패: index out of range in self\n"
     ]
    },
    {
     "name": "stderr",
     "output_type": "stream",
     "text": [
      "Your max_length is set to 150, but your input_length is only 18. Since this is a summarization task, where outputs shorter than the input are typically wanted, you might consider decreasing max_length manually, e.g. summarizer('...', max_length=9)\n",
      "Your max_length is set to 150, but your input_length is only 49. Since this is a summarization task, where outputs shorter than the input are typically wanted, you might consider decreasing max_length manually, e.g. summarizer('...', max_length=24)\n",
      "Your max_length is set to 150, but your input_length is only 84. Since this is a summarization task, where outputs shorter than the input are typically wanted, you might consider decreasing max_length manually, e.g. summarizer('...', max_length=42)\n",
      "Your max_length is set to 150, but your input_length is only 82. Since this is a summarization task, where outputs shorter than the input are typically wanted, you might consider decreasing max_length manually, e.g. summarizer('...', max_length=41)\n",
      "Your max_length is set to 150, but your input_length is only 20. Since this is a summarization task, where outputs shorter than the input are typically wanted, you might consider decreasing max_length manually, e.g. summarizer('...', max_length=10)\n",
      "Your max_length is set to 150, but your input_length is only 18. Since this is a summarization task, where outputs shorter than the input are typically wanted, you might consider decreasing max_length manually, e.g. summarizer('...', max_length=9)\n",
      "Your max_length is set to 150, but your input_length is only 25. Since this is a summarization task, where outputs shorter than the input are typically wanted, you might consider decreasing max_length manually, e.g. summarizer('...', max_length=12)\n",
      "Your max_length is set to 150, but your input_length is only 75. Since this is a summarization task, where outputs shorter than the input are typically wanted, you might consider decreasing max_length manually, e.g. summarizer('...', max_length=37)\n",
      "Your max_length is set to 150, but your input_length is only 33. Since this is a summarization task, where outputs shorter than the input are typically wanted, you might consider decreasing max_length manually, e.g. summarizer('...', max_length=16)\n",
      "Your max_length is set to 150, but your input_length is only 35. Since this is a summarization task, where outputs shorter than the input are typically wanted, you might consider decreasing max_length manually, e.g. summarizer('...', max_length=17)\n",
      "Your max_length is set to 150, but your input_length is only 65. Since this is a summarization task, where outputs shorter than the input are typically wanted, you might consider decreasing max_length manually, e.g. summarizer('...', max_length=32)\n",
      "Your max_length is set to 150, but your input_length is only 44. Since this is a summarization task, where outputs shorter than the input are typically wanted, you might consider decreasing max_length manually, e.g. summarizer('...', max_length=22)\n",
      "Your max_length is set to 150, but your input_length is only 94. Since this is a summarization task, where outputs shorter than the input are typically wanted, you might consider decreasing max_length manually, e.g. summarizer('...', max_length=47)\n",
      "Your max_length is set to 150, but your input_length is only 22. Since this is a summarization task, where outputs shorter than the input are typically wanted, you might consider decreasing max_length manually, e.g. summarizer('...', max_length=11)\n",
      "Your max_length is set to 150, but your input_length is only 29. Since this is a summarization task, where outputs shorter than the input are typically wanted, you might consider decreasing max_length manually, e.g. summarizer('...', max_length=14)\n",
      "Your max_length is set to 150, but your input_length is only 44. Since this is a summarization task, where outputs shorter than the input are typically wanted, you might consider decreasing max_length manually, e.g. summarizer('...', max_length=22)\n",
      "Your max_length is set to 150, but your input_length is only 50. Since this is a summarization task, where outputs shorter than the input are typically wanted, you might consider decreasing max_length manually, e.g. summarizer('...', max_length=25)\n",
      "Your max_length is set to 150, but your input_length is only 93. Since this is a summarization task, where outputs shorter than the input are typically wanted, you might consider decreasing max_length manually, e.g. summarizer('...', max_length=46)\n",
      "Your max_length is set to 150, but your input_length is only 53. Since this is a summarization task, where outputs shorter than the input are typically wanted, you might consider decreasing max_length manually, e.g. summarizer('...', max_length=26)\n",
      "Your max_length is set to 150, but your input_length is only 147. Since this is a summarization task, where outputs shorter than the input are typically wanted, you might consider decreasing max_length manually, e.g. summarizer('...', max_length=73)\n",
      "Your max_length is set to 150, but your input_length is only 40. Since this is a summarization task, where outputs shorter than the input are typically wanted, you might consider decreasing max_length manually, e.g. summarizer('...', max_length=20)\n",
      "Your max_length is set to 150, but your input_length is only 49. Since this is a summarization task, where outputs shorter than the input are typically wanted, you might consider decreasing max_length manually, e.g. summarizer('...', max_length=24)\n",
      "Your max_length is set to 150, but your input_length is only 18. Since this is a summarization task, where outputs shorter than the input are typically wanted, you might consider decreasing max_length manually, e.g. summarizer('...', max_length=9)\n"
     ]
    },
    {
     "name": "stdout",
     "output_type": "stream",
     "text": [
      "요약 실패: index out of range in self\n"
     ]
    },
    {
     "name": "stderr",
     "output_type": "stream",
     "text": [
      "Your max_length is set to 150, but your input_length is only 81. Since this is a summarization task, where outputs shorter than the input are typically wanted, you might consider decreasing max_length manually, e.g. summarizer('...', max_length=40)\n",
      "Your max_length is set to 150, but your input_length is only 33. Since this is a summarization task, where outputs shorter than the input are typically wanted, you might consider decreasing max_length manually, e.g. summarizer('...', max_length=16)\n",
      "Your max_length is set to 150, but your input_length is only 56. Since this is a summarization task, where outputs shorter than the input are typically wanted, you might consider decreasing max_length manually, e.g. summarizer('...', max_length=28)\n",
      "Your max_length is set to 150, but your input_length is only 44. Since this is a summarization task, where outputs shorter than the input are typically wanted, you might consider decreasing max_length manually, e.g. summarizer('...', max_length=22)\n",
      "Your max_length is set to 150, but your input_length is only 77. Since this is a summarization task, where outputs shorter than the input are typically wanted, you might consider decreasing max_length manually, e.g. summarizer('...', max_length=38)\n",
      "Your max_length is set to 150, but your input_length is only 67. Since this is a summarization task, where outputs shorter than the input are typically wanted, you might consider decreasing max_length manually, e.g. summarizer('...', max_length=33)\n",
      "Your max_length is set to 150, but your input_length is only 18. Since this is a summarization task, where outputs shorter than the input are typically wanted, you might consider decreasing max_length manually, e.g. summarizer('...', max_length=9)\n",
      "Your max_length is set to 150, but your input_length is only 42. Since this is a summarization task, where outputs shorter than the input are typically wanted, you might consider decreasing max_length manually, e.g. summarizer('...', max_length=21)\n",
      "Your max_length is set to 150, but your input_length is only 62. Since this is a summarization task, where outputs shorter than the input are typically wanted, you might consider decreasing max_length manually, e.g. summarizer('...', max_length=31)\n"
     ]
    },
    {
     "name": "stdout",
     "output_type": "stream",
     "text": [
      "요약 실패: index out of range in self\n"
     ]
    },
    {
     "name": "stderr",
     "output_type": "stream",
     "text": [
      "Your max_length is set to 150, but your input_length is only 27. Since this is a summarization task, where outputs shorter than the input are typically wanted, you might consider decreasing max_length manually, e.g. summarizer('...', max_length=13)\n",
      "Your max_length is set to 150, but your input_length is only 68. Since this is a summarization task, where outputs shorter than the input are typically wanted, you might consider decreasing max_length manually, e.g. summarizer('...', max_length=34)\n",
      "Your max_length is set to 150, but your input_length is only 27. Since this is a summarization task, where outputs shorter than the input are typically wanted, you might consider decreasing max_length manually, e.g. summarizer('...', max_length=13)\n",
      "Your max_length is set to 150, but your input_length is only 89. Since this is a summarization task, where outputs shorter than the input are typically wanted, you might consider decreasing max_length manually, e.g. summarizer('...', max_length=44)\n",
      "Your max_length is set to 150, but your input_length is only 85. Since this is a summarization task, where outputs shorter than the input are typically wanted, you might consider decreasing max_length manually, e.g. summarizer('...', max_length=42)\n",
      "Your max_length is set to 150, but your input_length is only 89. Since this is a summarization task, where outputs shorter than the input are typically wanted, you might consider decreasing max_length manually, e.g. summarizer('...', max_length=44)\n",
      "Your max_length is set to 150, but your input_length is only 42. Since this is a summarization task, where outputs shorter than the input are typically wanted, you might consider decreasing max_length manually, e.g. summarizer('...', max_length=21)\n",
      "Your max_length is set to 150, but your input_length is only 49. Since this is a summarization task, where outputs shorter than the input are typically wanted, you might consider decreasing max_length manually, e.g. summarizer('...', max_length=24)\n",
      "Your max_length is set to 150, but your input_length is only 78. Since this is a summarization task, where outputs shorter than the input are typically wanted, you might consider decreasing max_length manually, e.g. summarizer('...', max_length=39)\n",
      "Your max_length is set to 150, but your input_length is only 29. Since this is a summarization task, where outputs shorter than the input are typically wanted, you might consider decreasing max_length manually, e.g. summarizer('...', max_length=14)\n"
     ]
    },
    {
     "name": "stdout",
     "output_type": "stream",
     "text": [
      "요약 실패: index out of range in self\n"
     ]
    },
    {
     "name": "stderr",
     "output_type": "stream",
     "text": [
      "Your max_length is set to 150, but your input_length is only 33. Since this is a summarization task, where outputs shorter than the input are typically wanted, you might consider decreasing max_length manually, e.g. summarizer('...', max_length=16)\n",
      "Your max_length is set to 150, but your input_length is only 112. Since this is a summarization task, where outputs shorter than the input are typically wanted, you might consider decreasing max_length manually, e.g. summarizer('...', max_length=56)\n",
      "Your max_length is set to 150, but your input_length is only 71. Since this is a summarization task, where outputs shorter than the input are typically wanted, you might consider decreasing max_length manually, e.g. summarizer('...', max_length=35)\n",
      "Your max_length is set to 150, but your input_length is only 33. Since this is a summarization task, where outputs shorter than the input are typically wanted, you might consider decreasing max_length manually, e.g. summarizer('...', max_length=16)\n",
      "Your max_length is set to 150, but your input_length is only 67. Since this is a summarization task, where outputs shorter than the input are typically wanted, you might consider decreasing max_length manually, e.g. summarizer('...', max_length=33)\n",
      "Your max_length is set to 150, but your input_length is only 68. Since this is a summarization task, where outputs shorter than the input are typically wanted, you might consider decreasing max_length manually, e.g. summarizer('...', max_length=34)\n",
      "Your max_length is set to 150, but your input_length is only 27. Since this is a summarization task, where outputs shorter than the input are typically wanted, you might consider decreasing max_length manually, e.g. summarizer('...', max_length=13)\n",
      "Your max_length is set to 150, but your input_length is only 46. Since this is a summarization task, where outputs shorter than the input are typically wanted, you might consider decreasing max_length manually, e.g. summarizer('...', max_length=23)\n",
      "Your max_length is set to 150, but your input_length is only 139. Since this is a summarization task, where outputs shorter than the input are typically wanted, you might consider decreasing max_length manually, e.g. summarizer('...', max_length=69)\n"
     ]
    },
    {
     "name": "stdout",
     "output_type": "stream",
     "text": [
      "요약된 샘플 데이터가 'qdrant_요약_샘플_결과.csv'에 저장되었습니다.\n"
     ]
    }
   ],
   "source": [
    "# BART 요약 모델 로드\n",
    "summarizer = pipeline(\"summarization\", model=\"facebook/bart-large-cnn\")\n",
    "\n",
    "# 텍스트 요약 함수\n",
    "def summarize_text(text):\n",
    "    try:\n",
    "        summary = summarizer(text, max_length=150, min_length=50, do_sample=False)\n",
    "        return summary[0]['summary_text']\n",
    "    except Exception as e:\n",
    "        print(f\"요약 실패: {e}\")\n",
    "        return \"요약 실패\"\n",
    "\n",
    "# 샘플 데이터 요약 실행\n",
    "def summarize_random_sample(collection_name, sample_size=100):\n",
    "    # Qdrant에서 모든 데이터 가져오기\n",
    "    all_data = fetch_all_data_from_qdrant(collection_name)\n",
    "    print(f\"총 데이터 개수: {len(all_data)}\")\n",
    "\n",
    "    # 무작위 샘플링\n",
    "    sampled_data = random_sample(all_data, sample_size)\n",
    "    print(f\"무작위로 {sample_size}개의 데이터를 샘플링했습니다.\")\n",
    "\n",
    "    # 요약 실행\n",
    "    summarized_data = []\n",
    "    for item in sampled_data:\n",
    "        original_text = item.payload['발언내용']\n",
    "        summarized_text = summarize_text(original_text)\n",
    "        summarized_data.append({\n",
    "            \"ID\": item.id,\n",
    "            \"원문\": original_text,\n",
    "            \"요약\": summarized_text\n",
    "        })\n",
    "        \n",
    "    # 결과 저장\n",
    "    df = pd.DataFrame(summarized_data)\n",
    "    output_path = \"qdrant_요약_샘플_결과.csv\"\n",
    "    df.to_csv(output_path, index=False, encoding=\"utf-8-sig\")\n",
    "\n",
    "    print(f\"요약된 샘플 데이터가 '{output_path}'에 저장되었습니다.\")\n",
    "\n",
    "# 실행\n",
    "summarize_random_sample(\"meeting_records\", sample_size=100)"
   ]
  },
  {
   "cell_type": "code",
   "execution_count": 36,
   "metadata": {},
   "outputs": [
    {
     "data": {
      "text/html": [
       "<div>\n",
       "<style scoped>\n",
       "    .dataframe tbody tr th:only-of-type {\n",
       "        vertical-align: middle;\n",
       "    }\n",
       "\n",
       "    .dataframe tbody tr th {\n",
       "        vertical-align: top;\n",
       "    }\n",
       "\n",
       "    .dataframe thead th {\n",
       "        text-align: right;\n",
       "    }\n",
       "</style>\n",
       "<table border=\"1\" class=\"dataframe\">\n",
       "  <thead>\n",
       "    <tr style=\"text-align: right;\">\n",
       "      <th></th>\n",
       "      <th>ID</th>\n",
       "      <th>원문</th>\n",
       "      <th>요약</th>\n",
       "    </tr>\n",
       "  </thead>\n",
       "  <tbody>\n",
       "    <tr>\n",
       "      <th>0</th>\n",
       "      <td>5914</td>\n",
       "      <td>저는 진짜 이해할 수가 없는데 그러면 결국은, 용산소방서장의 인파 통제 요청이 23...</td>\n",
       "      <td>요약 실패</td>\n",
       "    </tr>\n",
       "    <tr>\n",
       "      <th>1</th>\n",
       "      <td>2347</td>\n",
       "      <td>아니, 우리가 현장조사 나갔을 때는 지금 말씀하신 취지로 보고 하셨잖아요. 그러니까...</td>\n",
       "      <td>‘    ‘”’   ‘’,  “”  ””, “  ’’ “, ”, ’”. “.” “ ...</td>\n",
       "    </tr>\n",
       "    <tr>\n",
       "      <th>2</th>\n",
       "      <td>4513</td>\n",
       "      <td>김광호 증인 말씀하십시오.</td>\n",
       "      <td>김광호 증인  “십’s”   ‘‘’ “’’  ”“” ’” ”, “ ’,’...</td>\n",
       "    </tr>\n",
       "    <tr>\n",
       "      <th>3</th>\n",
       "      <td>2024</td>\n",
       "      <td>예, 그렇습니다.</td>\n",
       "      <td>“I’m sorry, I’ve got to go.”   “What’s w...</td>\n",
       "    </tr>\n",
       "    <tr>\n",
       "      <th>4</th>\n",
       "      <td>4414</td>\n",
       "      <td>이것은 진짜 너무들 해요, 정말 너무들 해.</td>\n",
       "      <td>넉     ‘’  ‘”’ “’’,  ’”, ‘, ’, ”,   “,” ...</td>\n",
       "    </tr>\n",
       "  </tbody>\n",
       "</table>\n",
       "</div>"
      ],
      "text/plain": [
       "     ID                                                 원문  \\\n",
       "0  5914  저는 진짜 이해할 수가 없는데 그러면 결국은, 용산소방서장의 인파 통제 요청이 23...   \n",
       "1  2347  아니, 우리가 현장조사 나갔을 때는 지금 말씀하신 취지로 보고 하셨잖아요. 그러니까...   \n",
       "2  4513                         김광호 증인 말씀하십시오.               \n",
       "3  2024                              예, 그렇습니다.               \n",
       "4  4414               이것은 진짜 너무들 해요, 정말 너무들 해.               \n",
       "\n",
       "                                                  요약  \n",
       "0                                              요약 실패  \n",
       "1  ‘    ‘”’   ‘’,  “”  ””, “  ’’ “, ”, ’”. “.” “ ...  \n",
       "2        김광호 증인  “십’s”   ‘‘’ “’’  ”“” ’” ”, “ ’,’...  \n",
       "3        “I’m sorry, I’ve got to go.”   “What’s w...  \n",
       "4         넉     ‘’  ‘”’ “’’,  ’”, ‘, ’, ”,   “,” ...  "
      ]
     },
     "execution_count": 36,
     "metadata": {},
     "output_type": "execute_result"
    }
   ],
   "source": [
    "sameple = pd.read_csv('qdrant_요약_샘플_결과.csv')\n",
    "sameple.head()\n"
   ]
  },
  {
   "cell_type": "code",
   "execution_count": 27,
   "metadata": {},
   "outputs": [
    {
     "name": "stdout",
     "output_type": "stream",
     "text": [
      "불러온 데이터 개수: 9682\n"
     ]
    }
   ],
   "source": [
    "all_data = fetch_all_data_from_qdrant(\"meeting_records\")\n",
    "print(f\"불러온 데이터 개수: {len(all_data)}\")"
   ]
  },
  {
   "cell_type": "code",
   "execution_count": 28,
   "metadata": {},
   "outputs": [
    {
     "name": "stdout",
     "output_type": "stream",
     "text": [
      "{'발언자': '위원장직무대행 박성민', '회의번호': 52512, '발언내용': '의석을 정돈해 주시기 바랍니다.  국회법 제52조 및 제3호에 따라 특별위원회 재적위원 4분의 1 이상의 회의 개회 요구가 있었습니다. 이에 제400회 국회(정기회) 제1차 용산 이태원 참사 진상규명과 재발방지를 위한 국정조사특별위원회를 개회하겠습니다.  국회법 제47조제2항에 따라 위원장 선임 시까지 위원장 직무를 대행하게 되었습니다.            '}\n",
      "{'발언자': '위원장직무대행 박성민', '회의번호': 52512, '발언내용': '현재 안건이 미정인 상태로 회의가 열리게 되었기 때문에 추가로 안건을 상정하여 회의를 진행하고자 합니다.   위원님 여러분 이의가 없습니까?     (「예」 하는 위원 있음)  이의가 없으시면 의사일정을 변경하여 안건을 상정하도록 하겠습니다.            '}\n",
      "{'발언자': '위원장직무대행 박성민', '회의번호': 52512, '발언내용': '의사일정 제1항 위원장 선임의 건을 상정합니다.   특별위원회 위원장은 국회법 제47조제1항에 따라 특별위원회에서 호선하고 본회의에 보고하도록 되어 있습니다.   위원장 선임 방법은 위원님들께서 특별한 의견이 없으시면 그간의 특별위원회 관례에 따라 구두 추천에 의하여 선임하고자 합니다.  위원님 여러분 이의가 없으십니까?    (「예」 하는 위원 있음)  그러면 위원님들께서 이번 국정조사를 원만하고 공정하게 이끌어 주실 가장 적임자라고 생각하시는 위원님을 우리 위원회 위원장으로 추천해 주시기 바랍니다.  조응천 위원님.            '}\n",
      "{'발언자': '조응천 위원', '회의번호': 52512, '발언내용': '우상호 위원을 추천합니다.            '}\n",
      "{'발언자': '위원장직무대행 박성민', '회의번호': 52512, '발언내용': '또 추천하실 위원님 안 계십니까?    (「없습니다」 하는 위원 있음)  우상호 위원님을 위원장으로 선임하고자 합니다.  위원님 여러분 이의 없으십니까?    (「예」 하는 위원 있음)  이의 없으므로 가결되었음을 선포합니다.  협조해 주신 위원님들께 감사의 말씀을 드립니다.   우상호 위원장님께서 나오셔서 회의를 진행해 주시기 바랍니다.    (박성민 위원장직무대행, 우상호 위원장과 사회교대)            '}\n"
     ]
    }
   ],
   "source": [
    "for item in all_data[:5]:  # 샘플 데이터 5개만 출력\n",
    "    print(item.payload)"
   ]
  },
  {
   "cell_type": "markdown",
   "metadata": {},
   "source": [
    "# 3. 요약 후 벡터화 작업 "
   ]
  },
  {
   "cell_type": "code",
   "execution_count": 1,
   "metadata": {},
   "outputs": [
    {
     "name": "stdout",
     "output_type": "stream",
     "text": [
      "    회의번호          발언자                                               발언내용\n",
      "0  52512  위원장직무대행 박성민  의석을 정돈해 주시기 바랍니다.  국회법 제52조 및 제3호에 따라 특별위원회 재적...\n",
      "1  52512  위원장직무대행 박성민  현재 안건이 미정인 상태로 회의가 열리게 되었기 때문에 추가로 안건을 상정하여 회의...\n",
      "2  52512  위원장직무대행 박성민  의사일정 제1항 위원장 선임의 건을 상정합니다.   특별위원회 위원장은 국회법 제4...\n",
      "3  52512       조응천 위원                         우상호 위원을 추천합니다.            \n",
      "4  52512  위원장직무대행 박성민  또 추천하실 위원님 안 계십니까?    (「없습니다」 하는 위원 있음)  우상호 위...\n"
     ]
    }
   ],
   "source": [
    "import pandas as pd\n",
    "import numpy as np\n",
    "\n",
    "path = '21대국정조사.csv'\n",
    "data = pd.read_csv(path)\n",
    "\n",
    "print(data.head())"
   ]
  },
  {
   "cell_type": "code",
   "execution_count": 3,
   "metadata": {},
   "outputs": [
    {
     "name": "stdout",
     "output_type": "stream",
     "text": [
      "    회의번호                                               발언내용\n",
      "0  52512  의석을 정돈해 주시기 바랍니다.  국회법 제52조 및 제3호에 따라 특별위원회 재적...\n",
      "1  52622  의석을 정돈해 주시기 바랍니다.  성원이 되었으므로 제401회 국회(임시회) 제2차...\n",
      "2  52629  의석을 정돈해 주시기 바랍니다.  지금부터 헌법 제61조, 국회법 제127조와 국정...\n",
      "3  52638  의석을 정돈해 주시기 바랍니다.  지금부터 헌법 제61조, 국회법 제127조와 국정...\n",
      "4  52643  의석을 정돈해 주시기 바랍니다.  지금부터 헌법 제61조, 국회법 제127조와 국정...\n"
     ]
    }
   ],
   "source": [
    "# 회의번호별로 발언내용 합치기\n",
    "grouped_data = data.groupby(\"회의번호\")[\"발언내용\"].apply(lambda x: \" \".join(x)).reset_index()\n",
    "\n",
    "# 결과 확인\n",
    "print(grouped_data.head())"
   ]
  },
  {
   "cell_type": "code",
   "execution_count": 4,
   "metadata": {},
   "outputs": [
    {
     "name": "stdout",
     "output_type": "stream",
     "text": [
      "회의번호별로 발언내용을 합친 파일이 저장되었습니다.\n"
     ]
    }
   ],
   "source": [
    "# 합쳐진 데이터 저장\n",
    "grouped_data.to_csv(\"회의번호별_발언내용_합침.csv\", index=False, encoding=\"utf-8-sig\")\n",
    "print(\"회의번호별로 발언내용을 합친 파일이 저장되었습니다.\")"
   ]
  },
  {
   "cell_type": "code",
   "execution_count": 4,
   "metadata": {},
   "outputs": [
    {
     "name": "stdout",
     "output_type": "stream",
     "text": [
      "요약 실패: 'latin-1' codec can't encode character '\\u2014' in position 76: ordinal not in range(256)\n",
      "요약 실패: 'latin-1' codec can't encode character '\\u2014' in position 76: ordinal not in range(256)\n",
      "요약 실패: 'latin-1' codec can't encode character '\\u2014' in position 76: ordinal not in range(256)\n",
      "요약 실패: 'latin-1' codec can't encode character '\\u2014' in position 76: ordinal not in range(256)\n",
      "요약 실패: 'latin-1' codec can't encode character '\\u2014' in position 76: ordinal not in range(256)\n",
      "요약 실패: 'latin-1' codec can't encode character '\\u2014' in position 76: ordinal not in range(256)\n",
      "요약 실패: 'latin-1' codec can't encode character '\\u2014' in position 76: ordinal not in range(256)\n",
      "요약 실패: 'latin-1' codec can't encode character '\\u2014' in position 76: ordinal not in range(256)\n",
      "요약 실패: 'latin-1' codec can't encode character '\\u2014' in position 76: ordinal not in range(256)\n"
     ]
    }
   ],
   "source": [
    "import openai\n",
    "import pandas as pd\n",
    "from dotenv import load_dotenv\n",
    "import os\n",
    "import re\n",
    "\n",
    "# 환경 변수 로드\n",
    "load_dotenv()\n",
    "\n",
    "# OpenAI API 키 설정\n",
    "openai.api_key = os.getenv(\"OPENAI_API_KEY\")\n",
    "\n",
    "# 특수 문자 제거\n",
    "def clean_text(text):\n",
    "    return text.encode(\"utf-8\", \"ignore\").decode(\"utf-8\")\n",
    "\n",
    "grouped_data[\"발언내용\"] = grouped_data[\"발언내용\"].apply(clean_text)\n",
    "\n",
    "# 텍스트 길이 제한\n",
    "def truncate_text(text, max_length=4000):\n",
    "    return text[:max_length] if len(text) > max_length else text\n",
    "\n",
    "grouped_data[\"발언내용\"] = grouped_data[\"발언내용\"].apply(truncate_text)\n",
    "\n",
    "# 요약 함수\n",
    "def gpt4_turbo_summarize(text):\n",
    "    try:\n",
    "        response = openai.Completion.create(\n",
    "            engine=\"gpt-4-turbo\",\n",
    "            prompt=f\"다음 텍스트를 요약해 주세요:\\n{text}\",\n",
    "            max_tokens=150,\n",
    "            temperature=0.5\n",
    "        )\n",
    "        return response.choices[0].text.strip()\n",
    "    except Exception as e:\n",
    "        print(f\"요약 실패: {e}\")\n",
    "        return \"요약 실패\"\n",
    "\n",
    "# 데이터 요약\n",
    "grouped_data[\"요약\"] = grouped_data[\"발언내용\"].apply(gpt4_turbo_summarize)\n",
    "\n",
    "# 저장 시 UTF-8 지정\n",
    "grouped_data.to_csv(\"회의번호별_발언내용_요약.csv\", index=False, encoding=\"utf-8-sig\")"
   ]
  },
  {
   "cell_type": "code",
   "execution_count": 2,
   "metadata": {},
   "outputs": [],
   "source": [
    "# 데이터 로드 및 처리\n",
    "file_path = \"회의번호별_발언내용_합침.csv\"\n",
    "grouped_data = pd.read_csv(file_path)"
   ]
  },
  {
   "cell_type": "code",
   "execution_count": 3,
   "metadata": {},
   "outputs": [
    {
     "data": {
      "text/html": [
       "<div>\n",
       "<style scoped>\n",
       "    .dataframe tbody tr th:only-of-type {\n",
       "        vertical-align: middle;\n",
       "    }\n",
       "\n",
       "    .dataframe tbody tr th {\n",
       "        vertical-align: top;\n",
       "    }\n",
       "\n",
       "    .dataframe thead th {\n",
       "        text-align: right;\n",
       "    }\n",
       "</style>\n",
       "<table border=\"1\" class=\"dataframe\">\n",
       "  <thead>\n",
       "    <tr style=\"text-align: right;\">\n",
       "      <th></th>\n",
       "      <th>회의번호</th>\n",
       "      <th>발언내용</th>\n",
       "    </tr>\n",
       "  </thead>\n",
       "  <tbody>\n",
       "    <tr>\n",
       "      <th>0</th>\n",
       "      <td>52512</td>\n",
       "      <td>의석을 정돈해 주시기 바랍니다.  국회법 제52조 및 제3호에 따라 특별위원회 재적...</td>\n",
       "    </tr>\n",
       "    <tr>\n",
       "      <th>1</th>\n",
       "      <td>52622</td>\n",
       "      <td>의석을 정돈해 주시기 바랍니다.  성원이 되었으므로 제401회 국회(임시회) 제2차...</td>\n",
       "    </tr>\n",
       "    <tr>\n",
       "      <th>2</th>\n",
       "      <td>52629</td>\n",
       "      <td>의석을 정돈해 주시기 바랍니다.  지금부터 헌법 제61조, 국회법 제127조와 국정...</td>\n",
       "    </tr>\n",
       "    <tr>\n",
       "      <th>3</th>\n",
       "      <td>52638</td>\n",
       "      <td>의석을 정돈해 주시기 바랍니다.  지금부터 헌법 제61조, 국회법 제127조와 국정...</td>\n",
       "    </tr>\n",
       "    <tr>\n",
       "      <th>4</th>\n",
       "      <td>52643</td>\n",
       "      <td>의석을 정돈해 주시기 바랍니다.  지금부터 헌법 제61조, 국회법 제127조와 국정...</td>\n",
       "    </tr>\n",
       "    <tr>\n",
       "      <th>5</th>\n",
       "      <td>52644</td>\n",
       "      <td>의석을 정돈해 주시기 바랍니다.  지금부터 헌법 제61조, 국회법 제127조와 국정...</td>\n",
       "    </tr>\n",
       "    <tr>\n",
       "      <th>6</th>\n",
       "      <td>52647</td>\n",
       "      <td>의석을 정돈하여 주시기 바랍니다.  지금부터 헌법 제61조, 국회법 제127조와 국...</td>\n",
       "    </tr>\n",
       "    <tr>\n",
       "      <th>7</th>\n",
       "      <td>52650</td>\n",
       "      <td>의석을 정돈해 주시기 바랍니다.   지금부터 헌법 제61조, 국회법 제127조와 국...</td>\n",
       "    </tr>\n",
       "    <tr>\n",
       "      <th>8</th>\n",
       "      <td>52653</td>\n",
       "      <td>의석을 정돈해 주시기 바랍니다.   지금부터 헌법 제61조, 국회법 제127조와 국...</td>\n",
       "    </tr>\n",
       "  </tbody>\n",
       "</table>\n",
       "</div>"
      ],
      "text/plain": [
       "    회의번호                                               발언내용\n",
       "0  52512  의석을 정돈해 주시기 바랍니다.  국회법 제52조 및 제3호에 따라 특별위원회 재적...\n",
       "1  52622  의석을 정돈해 주시기 바랍니다.  성원이 되었으므로 제401회 국회(임시회) 제2차...\n",
       "2  52629  의석을 정돈해 주시기 바랍니다.  지금부터 헌법 제61조, 국회법 제127조와 국정...\n",
       "3  52638  의석을 정돈해 주시기 바랍니다.  지금부터 헌법 제61조, 국회법 제127조와 국정...\n",
       "4  52643  의석을 정돈해 주시기 바랍니다.  지금부터 헌법 제61조, 국회법 제127조와 국정...\n",
       "5  52644  의석을 정돈해 주시기 바랍니다.  지금부터 헌법 제61조, 국회법 제127조와 국정...\n",
       "6  52647  의석을 정돈하여 주시기 바랍니다.  지금부터 헌법 제61조, 국회법 제127조와 국...\n",
       "7  52650  의석을 정돈해 주시기 바랍니다.   지금부터 헌법 제61조, 국회법 제127조와 국...\n",
       "8  52653  의석을 정돈해 주시기 바랍니다.   지금부터 헌법 제61조, 국회법 제127조와 국..."
      ]
     },
     "execution_count": 3,
     "metadata": {},
     "output_type": "execute_result"
    }
   ],
   "source": [
    "grouped_data"
   ]
  },
  {
   "cell_type": "code",
   "execution_count": 16,
   "metadata": {},
   "outputs": [
    {
     "name": "stderr",
     "output_type": "stream",
     "text": [
      "C:\\Users\\user\\AppData\\Local\\Temp\\ipykernel_50232\\3244488822.py:2: FutureWarning: A value is trying to be set on a copy of a DataFrame or Series through chained assignment using an inplace method.\n",
      "The behavior will change in pandas 3.0. This inplace method will never work because the intermediate object on which we are setting values always behaves as a copy.\n",
      "\n",
      "For example, when doing 'df[col].method(value, inplace=True)', try using 'df.method({col: value}, inplace=True)' or df[col] = df[col].method(value) instead, to perform the operation inplace on the original object.\n",
      "\n",
      "\n",
      "  grouped_data[\"발언내용\"].fillna(\"\", inplace=True)\n"
     ]
    },
    {
     "name": "stdout",
     "output_type": "stream",
     "text": [
      "요약 실패: 'latin-1' codec can't encode character '\\u2014' in position 76: ordinal not in range(256)\n",
      "요약 실패: 'latin-1' codec can't encode character '\\u2014' in position 76: ordinal not in range(256)\n",
      "요약 실패: 'latin-1' codec can't encode character '\\u2014' in position 76: ordinal not in range(256)\n",
      "요약 실패: 'latin-1' codec can't encode character '\\u2014' in position 76: ordinal not in range(256)\n",
      "요약 실패: 'latin-1' codec can't encode character '\\u2014' in position 76: ordinal not in range(256)\n",
      "요약 실패: 'latin-1' codec can't encode character '\\u2014' in position 76: ordinal not in range(256)\n",
      "요약 실패: 'latin-1' codec can't encode character '\\u2014' in position 76: ordinal not in range(256)\n",
      "요약 실패: 'latin-1' codec can't encode character '\\u2014' in position 76: ordinal not in range(256)\n",
      "요약 실패: 'latin-1' codec can't encode character '\\u2014' in position 76: ordinal not in range(256)\n",
      "요약 실패: 'latin-1' codec can't encode character '\\u2014' in position 76: ordinal not in range(256)\n",
      "요약 실패: 'latin-1' codec can't encode character '\\u2014' in position 76: ordinal not in range(256)\n",
      "요약 실패: 'latin-1' codec can't encode character '\\u2014' in position 76: ordinal not in range(256)\n",
      "요약 실패: 'latin-1' codec can't encode character '\\u2014' in position 76: ordinal not in range(256)\n",
      "요약 실패: 'latin-1' codec can't encode character '\\u2014' in position 76: ordinal not in range(256)\n",
      "요약 실패: 'latin-1' codec can't encode character '\\u2014' in position 76: ordinal not in range(256)\n",
      "요약 실패: 'latin-1' codec can't encode character '\\u2014' in position 76: ordinal not in range(256)\n",
      "요약 실패: 'latin-1' codec can't encode character '\\u2014' in position 76: ordinal not in range(256)\n",
      "요약 실패: 'latin-1' codec can't encode character '\\u2014' in position 76: ordinal not in range(256)\n",
      "요약 실패: 'latin-1' codec can't encode character '\\u2014' in position 76: ordinal not in range(256)\n",
      "요약 실패: 'latin-1' codec can't encode character '\\u2014' in position 76: ordinal not in range(256)\n",
      "요약 실패: 'latin-1' codec can't encode character '\\u2014' in position 76: ordinal not in range(256)\n",
      "요약 실패: 'latin-1' codec can't encode character '\\u2014' in position 76: ordinal not in range(256)\n",
      "요약 실패: 'latin-1' codec can't encode character '\\u2014' in position 76: ordinal not in range(256)\n",
      "요약 실패: 'latin-1' codec can't encode character '\\u2014' in position 76: ordinal not in range(256)\n",
      "요약 실패: 'latin-1' codec can't encode character '\\u2014' in position 76: ordinal not in range(256)\n",
      "요약 실패: 'latin-1' codec can't encode character '\\u2014' in position 76: ordinal not in range(256)\n",
      "요약 실패: 'latin-1' codec can't encode character '\\u2014' in position 76: ordinal not in range(256)\n",
      "요약 실패: 'latin-1' codec can't encode character '\\u2014' in position 76: ordinal not in range(256)\n",
      "요약 실패: 'latin-1' codec can't encode character '\\u2014' in position 76: ordinal not in range(256)\n",
      "요약 실패: 'latin-1' codec can't encode character '\\u2014' in position 76: ordinal not in range(256)\n",
      "요약 실패: 'latin-1' codec can't encode character '\\u2014' in position 76: ordinal not in range(256)\n",
      "요약 실패: 'latin-1' codec can't encode character '\\u2014' in position 76: ordinal not in range(256)\n",
      "요약 실패: 'latin-1' codec can't encode character '\\u2014' in position 76: ordinal not in range(256)\n",
      "요약 실패: 'latin-1' codec can't encode character '\\u2014' in position 76: ordinal not in range(256)\n",
      "요약 실패: 'latin-1' codec can't encode character '\\u2014' in position 76: ordinal not in range(256)\n",
      "요약된 데이터가 저장되었습니다.\n"
     ]
    }
   ],
   "source": [
    "# 발언내용 전처리\n",
    "grouped_data[\"발언내용\"].fillna(\"\", inplace=True)\n",
    "grouped_data[\"발언내용\"] = grouped_data[\"발언내용\"].apply(clean_text)\n",
    "\n",
    "# 요약 수행\n",
    "grouped_data[\"요약\"] = grouped_data[\"발언내용\"].apply(summarize_long_text)\n",
    "\n",
    "# 데이터 저장\n",
    "grouped_data.to_csv(\"회의번호별_발언내용_요약.csv\", index=False, encoding=\"utf-8-sig\")\n",
    "print(\"요약된 데이터가 저장되었습니다.\")"
   ]
  },
  {
   "cell_type": "markdown",
   "metadata": {},
   "source": [
    "# 4. txt파일로 해서 작업"
   ]
  },
  {
   "cell_type": "code",
   "execution_count": 21,
   "metadata": {},
   "outputs": [
    {
     "name": "stdout",
     "output_type": "stream",
     "text": [
      "텍스트 파일로 저장 완료: 21대국정조사.txt\n"
     ]
    }
   ],
   "source": [
    "import pandas as pd\n",
    "\n",
    "# CSV 파일 로드\n",
    "csv_file = \"21대국정조사.csv\"\n",
    "data = pd.read_csv(csv_file, encoding='utf-8')\n",
    "\n",
    "# 필요한 열만 추출\n",
    "text_data = data[['회의번호', '발언내용']]\n",
    "\n",
    "# 텍스트 파일로 저장\n",
    "with open(\"21대국정조사.txt\", \"w\", encoding=\"utf-8\") as file:\n",
    "    for index, row in text_data.iterrows():\n",
    "        file.write(f\"회의번호: {row['회의번호']}\\n발언내용: {row['발언내용']}\\n\\n\")\n",
    "\n",
    "print(\"텍스트 파일로 저장 완료: 21대국정조사.txt\")"
   ]
  },
  {
   "cell_type": "code",
   "execution_count": 22,
   "metadata": {},
   "outputs": [],
   "source": [
    "import re\n",
    "\n",
    "def clean_text(text):\n",
    "    \"\"\"\n",
    "    텍스트에서 문제를 일으킬 수 있는 특수문자 제거 또는 대체\n",
    "    \"\"\"\n",
    "    if not isinstance(text, str):\n",
    "        return \"\"\n",
    "    text = text.replace(\"\\u2014\", \"-\")  # 긴 대시를 일반 대시로\n",
    "    text = text.replace(\"\\u2013\", \"-\")  # en-dash 대체\n",
    "    text = text.replace(\"\\u2026\", \"...\")  # 말줄임표 대체\n",
    "    text = text.replace(\"’\", \"'\").replace(\"“\", '\"').replace(\"”\", '\"')  # 일반 문자 대체\n",
    "    text = re.sub(r\"[^\\x00-\\x7F]+\", \" \", text)  # 비ASCII 문자 제거\n",
    "    return text.strip()"
   ]
  },
  {
   "cell_type": "code",
   "execution_count": 24,
   "metadata": {},
   "outputs": [],
   "source": [
    "import re\n",
    "\n",
    "def clean_text(text):\n",
    "    \"\"\"\n",
    "    텍스트에서 문제를 일으키는 특수문자 제거 또는 대체\n",
    "    \"\"\"\n",
    "    if not isinstance(text, str):  # 텍스트가 아닌 경우 처리\n",
    "        return \"\"\n",
    "    text = text.replace(\"\\u2014\", \"-\")  # 긴 대시를 일반 대시로 대체\n",
    "    text = text.replace(\"\\u2013\", \"-\")  # en-dash 대체\n",
    "    text = text.replace(\"\\u2026\", \"...\")  # 말줄임표 대체\n",
    "    text = re.sub(r\"[^\\w\\s가-힣.,!?\\\"\\'():;<>%-]\", \" \", text)  # 한글, 공백, 기본 특수문자만 허용\n",
    "    text = re.sub(r\"\\s+\", \" \", text)  # 연속된 공백을 하나로\n",
    "    return text.strip()"
   ]
  },
  {
   "cell_type": "code",
   "execution_count": 25,
   "metadata": {},
   "outputs": [
    {
     "name": "stdout",
     "output_type": "stream",
     "text": [
      "정리된 텍스트 저장 완료: 21대국정조사_정리됨.txt\n"
     ]
    }
   ],
   "source": [
    "# 텍스트 파일 읽기\n",
    "with open(\"21대국정조사.txt\", \"r\", encoding=\"utf-8\") as file:\n",
    "    raw_text = file.readlines()\n",
    "\n",
    "# 텍스트 정리\n",
    "cleaned_text = [clean_text(line) for line in raw_text]\n",
    "\n",
    "# 정리된 텍스트를 새로운 파일에 저장\n",
    "with open(\"21대국정조사_정리됨.txt\", \"w\", encoding=\"utf-8\") as file:\n",
    "    file.writelines(cleaned_text)\n",
    "\n",
    "print(\"정리된 텍스트 저장 완료: 21대국정조사_정리됨.txt\")"
   ]
  },
  {
   "cell_type": "code",
   "execution_count": 26,
   "metadata": {},
   "outputs": [],
   "source": [
    "def split_text(text, max_length=1000):\n",
    "    \"\"\"\n",
    "    긴 텍스트를 GPT 요약 가능하도록 분할\n",
    "    \"\"\"\n",
    "    text = text.strip()\n",
    "    return [text[i:i + max_length] for i in range(0, len(text), max_length)]"
   ]
  },
  {
   "cell_type": "code",
   "execution_count": null,
   "metadata": {},
   "outputs": [],
   "source": [
    "import openai\n",
    "\n",
    "# 환경 변수 로드\n",
    "load_dotenv()\n",
    "\n",
    "# OpenAI API 키 설정\n",
    "openai.api_key = os.getenv(\"OPENAI_API_KEY\")\n",
    "\n",
    "def gpt4_summarize(text):\n",
    "    \"\"\"\n",
    "    GPT-4를 사용하여 텍스트 요약\n",
    "    \"\"\"\n",
    "    try:\n",
    "        response = openai.ChatCompletion.create(\n",
    "            model=\"gpt-4-turbo\",\n",
    "            messages=[\n",
    "                {\"role\": \"system\", \"content\": \"You are a helpful assistant for summarizing text.\"},\n",
    "                {\"role\": \"user\", \"content\": f\"다음 텍스트를 요약해 주세요:\\n{text}\"}\n",
    "            ],\n",
    "            max_tokens=150,\n",
    "            temperature=0.5\n",
    "        )\n",
    "        return response['choices'][0]['message']['content'].strip()\n",
    "    except Exception as e:\n",
    "        print(f\"요약 실패: {e}\")\n",
    "        return \"요약 실패\"\n"
   ]
  },
  {
   "cell_type": "code",
   "execution_count": 28,
   "metadata": {},
   "outputs": [
    {
     "name": "stdout",
     "output_type": "stream",
     "text": [
      "요약 작업 완료.\n"
     ]
    }
   ],
   "source": [
    "# 정리된 텍스트 불러오기\n",
    "with open(\"21대국정조사_정리됨.txt\", \"r\", encoding=\"utf-8\") as file:\n",
    "    lines = file.readlines()\n",
    "\n",
    "# 요약 수행\n",
    "summaries = []\n",
    "for line in lines:\n",
    "    if line.startswith(\"발언내용:\"):\n",
    "        content = line.replace(\"발언내용:\", \"\").strip()\n",
    "        chunks = split_text(content)  # 텍스트 분할\n",
    "        summary = \" \".join([gpt4_summarize(chunk) for chunk in chunks])  # 분할된 텍스트 각각 요약\n",
    "        summaries.append(summary)\n",
    "\n",
    "print(\"요약 작업 완료.\")\n"
   ]
  },
  {
   "cell_type": "code",
   "execution_count": 29,
   "metadata": {},
   "outputs": [
    {
     "ename": "ValueError",
     "evalue": "array length 0 does not match index length 9682",
     "output_type": "error",
     "traceback": [
      "\u001b[1;31m---------------------------------------------------------------------------\u001b[0m",
      "\u001b[1;31mValueError\u001b[0m                                Traceback (most recent call last)",
      "Cell \u001b[1;32mIn[29], line 2\u001b[0m\n\u001b[0;32m      1\u001b[0m \u001b[38;5;66;03m# 회의번호와 요약 텍스트를 데이터프레임으로 생성\u001b[39;00m\n\u001b[1;32m----> 2\u001b[0m result_data \u001b[38;5;241m=\u001b[39m \u001b[43mpd\u001b[49m\u001b[38;5;241;43m.\u001b[39;49m\u001b[43mDataFrame\u001b[49m\u001b[43m(\u001b[49m\u001b[43m{\u001b[49m\n\u001b[0;32m      3\u001b[0m \u001b[43m    \u001b[49m\u001b[38;5;124;43m\"\u001b[39;49m\u001b[38;5;124;43m회의번호\u001b[39;49m\u001b[38;5;124;43m\"\u001b[39;49m\u001b[43m:\u001b[49m\u001b[43m \u001b[49m\u001b[43mdata\u001b[49m\u001b[43m[\u001b[49m\u001b[38;5;124;43m'\u001b[39;49m\u001b[38;5;124;43m회의번호\u001b[39;49m\u001b[38;5;124;43m'\u001b[39;49m\u001b[43m]\u001b[49m\u001b[43m,\u001b[49m\n\u001b[0;32m      4\u001b[0m \u001b[43m    \u001b[49m\u001b[38;5;124;43m\"\u001b[39;49m\u001b[38;5;124;43m요약된발언내용\u001b[39;49m\u001b[38;5;124;43m\"\u001b[39;49m\u001b[43m:\u001b[49m\u001b[43m \u001b[49m\u001b[43msummaries\u001b[49m\n\u001b[0;32m      5\u001b[0m \u001b[43m}\u001b[49m\u001b[43m)\u001b[49m\n\u001b[0;32m      7\u001b[0m \u001b[38;5;66;03m# CSV로 저장\u001b[39;00m\n\u001b[0;32m      8\u001b[0m result_data\u001b[38;5;241m.\u001b[39mto_csv(\u001b[38;5;124m\"\u001b[39m\u001b[38;5;124m21대국정조사_요약결과.csv\u001b[39m\u001b[38;5;124m\"\u001b[39m, index\u001b[38;5;241m=\u001b[39m\u001b[38;5;28;01mFalse\u001b[39;00m, encoding\u001b[38;5;241m=\u001b[39m\u001b[38;5;124m\"\u001b[39m\u001b[38;5;124mutf-8-sig\u001b[39m\u001b[38;5;124m\"\u001b[39m)\n",
      "File \u001b[1;32mc:\\Users\\user\\.conda\\envs\\malcam\\lib\\site-packages\\pandas\\core\\frame.py:778\u001b[0m, in \u001b[0;36mDataFrame.__init__\u001b[1;34m(self, data, index, columns, dtype, copy)\u001b[0m\n\u001b[0;32m    772\u001b[0m     mgr \u001b[38;5;241m=\u001b[39m \u001b[38;5;28mself\u001b[39m\u001b[38;5;241m.\u001b[39m_init_mgr(\n\u001b[0;32m    773\u001b[0m         data, axes\u001b[38;5;241m=\u001b[39m{\u001b[38;5;124m\"\u001b[39m\u001b[38;5;124mindex\u001b[39m\u001b[38;5;124m\"\u001b[39m: index, \u001b[38;5;124m\"\u001b[39m\u001b[38;5;124mcolumns\u001b[39m\u001b[38;5;124m\"\u001b[39m: columns}, dtype\u001b[38;5;241m=\u001b[39mdtype, copy\u001b[38;5;241m=\u001b[39mcopy\n\u001b[0;32m    774\u001b[0m     )\n\u001b[0;32m    776\u001b[0m \u001b[38;5;28;01melif\u001b[39;00m \u001b[38;5;28misinstance\u001b[39m(data, \u001b[38;5;28mdict\u001b[39m):\n\u001b[0;32m    777\u001b[0m     \u001b[38;5;66;03m# GH#38939 de facto copy defaults to False only in non-dict cases\u001b[39;00m\n\u001b[1;32m--> 778\u001b[0m     mgr \u001b[38;5;241m=\u001b[39m \u001b[43mdict_to_mgr\u001b[49m\u001b[43m(\u001b[49m\u001b[43mdata\u001b[49m\u001b[43m,\u001b[49m\u001b[43m \u001b[49m\u001b[43mindex\u001b[49m\u001b[43m,\u001b[49m\u001b[43m \u001b[49m\u001b[43mcolumns\u001b[49m\u001b[43m,\u001b[49m\u001b[43m \u001b[49m\u001b[43mdtype\u001b[49m\u001b[38;5;241;43m=\u001b[39;49m\u001b[43mdtype\u001b[49m\u001b[43m,\u001b[49m\u001b[43m \u001b[49m\u001b[43mcopy\u001b[49m\u001b[38;5;241;43m=\u001b[39;49m\u001b[43mcopy\u001b[49m\u001b[43m,\u001b[49m\u001b[43m \u001b[49m\u001b[43mtyp\u001b[49m\u001b[38;5;241;43m=\u001b[39;49m\u001b[43mmanager\u001b[49m\u001b[43m)\u001b[49m\n\u001b[0;32m    779\u001b[0m \u001b[38;5;28;01melif\u001b[39;00m \u001b[38;5;28misinstance\u001b[39m(data, ma\u001b[38;5;241m.\u001b[39mMaskedArray):\n\u001b[0;32m    780\u001b[0m     \u001b[38;5;28;01mfrom\u001b[39;00m \u001b[38;5;21;01mnumpy\u001b[39;00m\u001b[38;5;21;01m.\u001b[39;00m\u001b[38;5;21;01mma\u001b[39;00m \u001b[38;5;28;01mimport\u001b[39;00m mrecords\n",
      "File \u001b[1;32mc:\\Users\\user\\.conda\\envs\\malcam\\lib\\site-packages\\pandas\\core\\internals\\construction.py:503\u001b[0m, in \u001b[0;36mdict_to_mgr\u001b[1;34m(data, index, columns, dtype, typ, copy)\u001b[0m\n\u001b[0;32m    499\u001b[0m     \u001b[38;5;28;01melse\u001b[39;00m:\n\u001b[0;32m    500\u001b[0m         \u001b[38;5;66;03m# dtype check to exclude e.g. range objects, scalars\u001b[39;00m\n\u001b[0;32m    501\u001b[0m         arrays \u001b[38;5;241m=\u001b[39m [x\u001b[38;5;241m.\u001b[39mcopy() \u001b[38;5;28;01mif\u001b[39;00m \u001b[38;5;28mhasattr\u001b[39m(x, \u001b[38;5;124m\"\u001b[39m\u001b[38;5;124mdtype\u001b[39m\u001b[38;5;124m\"\u001b[39m) \u001b[38;5;28;01melse\u001b[39;00m x \u001b[38;5;28;01mfor\u001b[39;00m x \u001b[38;5;129;01min\u001b[39;00m arrays]\n\u001b[1;32m--> 503\u001b[0m \u001b[38;5;28;01mreturn\u001b[39;00m \u001b[43marrays_to_mgr\u001b[49m\u001b[43m(\u001b[49m\u001b[43marrays\u001b[49m\u001b[43m,\u001b[49m\u001b[43m \u001b[49m\u001b[43mcolumns\u001b[49m\u001b[43m,\u001b[49m\u001b[43m \u001b[49m\u001b[43mindex\u001b[49m\u001b[43m,\u001b[49m\u001b[43m \u001b[49m\u001b[43mdtype\u001b[49m\u001b[38;5;241;43m=\u001b[39;49m\u001b[43mdtype\u001b[49m\u001b[43m,\u001b[49m\u001b[43m \u001b[49m\u001b[43mtyp\u001b[49m\u001b[38;5;241;43m=\u001b[39;49m\u001b[43mtyp\u001b[49m\u001b[43m,\u001b[49m\u001b[43m \u001b[49m\u001b[43mconsolidate\u001b[49m\u001b[38;5;241;43m=\u001b[39;49m\u001b[43mcopy\u001b[49m\u001b[43m)\u001b[49m\n",
      "File \u001b[1;32mc:\\Users\\user\\.conda\\envs\\malcam\\lib\\site-packages\\pandas\\core\\internals\\construction.py:114\u001b[0m, in \u001b[0;36marrays_to_mgr\u001b[1;34m(arrays, columns, index, dtype, verify_integrity, typ, consolidate)\u001b[0m\n\u001b[0;32m    111\u001b[0m \u001b[38;5;28;01mif\u001b[39;00m verify_integrity:\n\u001b[0;32m    112\u001b[0m     \u001b[38;5;66;03m# figure out the index, if necessary\u001b[39;00m\n\u001b[0;32m    113\u001b[0m     \u001b[38;5;28;01mif\u001b[39;00m index \u001b[38;5;129;01mis\u001b[39;00m \u001b[38;5;28;01mNone\u001b[39;00m:\n\u001b[1;32m--> 114\u001b[0m         index \u001b[38;5;241m=\u001b[39m \u001b[43m_extract_index\u001b[49m\u001b[43m(\u001b[49m\u001b[43marrays\u001b[49m\u001b[43m)\u001b[49m\n\u001b[0;32m    115\u001b[0m     \u001b[38;5;28;01melse\u001b[39;00m:\n\u001b[0;32m    116\u001b[0m         index \u001b[38;5;241m=\u001b[39m ensure_index(index)\n",
      "File \u001b[1;32mc:\\Users\\user\\.conda\\envs\\malcam\\lib\\site-packages\\pandas\\core\\internals\\construction.py:690\u001b[0m, in \u001b[0;36m_extract_index\u001b[1;34m(data)\u001b[0m\n\u001b[0;32m    685\u001b[0m     \u001b[38;5;28;01mif\u001b[39;00m lengths[\u001b[38;5;241m0\u001b[39m] \u001b[38;5;241m!=\u001b[39m \u001b[38;5;28mlen\u001b[39m(index):\n\u001b[0;32m    686\u001b[0m         msg \u001b[38;5;241m=\u001b[39m (\n\u001b[0;32m    687\u001b[0m             \u001b[38;5;124mf\u001b[39m\u001b[38;5;124m\"\u001b[39m\u001b[38;5;124marray length \u001b[39m\u001b[38;5;132;01m{\u001b[39;00mlengths[\u001b[38;5;241m0\u001b[39m]\u001b[38;5;132;01m}\u001b[39;00m\u001b[38;5;124m does not match index \u001b[39m\u001b[38;5;124m\"\u001b[39m\n\u001b[0;32m    688\u001b[0m             \u001b[38;5;124mf\u001b[39m\u001b[38;5;124m\"\u001b[39m\u001b[38;5;124mlength \u001b[39m\u001b[38;5;132;01m{\u001b[39;00m\u001b[38;5;28mlen\u001b[39m(index)\u001b[38;5;132;01m}\u001b[39;00m\u001b[38;5;124m\"\u001b[39m\n\u001b[0;32m    689\u001b[0m         )\n\u001b[1;32m--> 690\u001b[0m         \u001b[38;5;28;01mraise\u001b[39;00m \u001b[38;5;167;01mValueError\u001b[39;00m(msg)\n\u001b[0;32m    691\u001b[0m \u001b[38;5;28;01melse\u001b[39;00m:\n\u001b[0;32m    692\u001b[0m     index \u001b[38;5;241m=\u001b[39m default_index(lengths[\u001b[38;5;241m0\u001b[39m])\n",
      "\u001b[1;31mValueError\u001b[0m: array length 0 does not match index length 9682"
     ]
    }
   ],
   "source": [
    "# 회의번호와 요약 텍스트를 데이터프레임으로 생성\n",
    "result_data = pd.DataFrame({\n",
    "    \"회의번호\": data['회의번호'],\n",
    "    \"요약된발언내용\": summaries\n",
    "})\n",
    "\n",
    "# CSV로 저장\n",
    "result_data.to_csv(\"21대국정조사_요약결과.csv\", index=False, encoding=\"utf-8-sig\")\n",
    "print(\"요약 결과 CSV 저장 완료: 21대국정조사_요약결과.csv\")"
   ]
  },
  {
   "cell_type": "code",
   "execution_count": null,
   "metadata": {},
   "outputs": [
    {
     "name": "stdout",
     "output_type": "stream",
     "text": [
      "    회의번호                                               발언내용\n",
      "0  52512  의사일정 추가하는 변경안은 국회법 제77조에 따라 위원장이 간사와 협의하여 정하도록...\n"
     ]
    }
   ],
   "source": [
    "import pandas as pd\n",
    "import re\n",
    "\n",
    "# 1. 텍스트 파일 읽기\n",
    "with open(\"21대국정조사_정리됨.txt\", \"r\", encoding=\"utf-8\") as file:\n",
    "    lines = file.readlines()\n",
    "\n",
    "# 2. 회의번호와 발언내용 분리 함수\n",
    "def parse_lines(lines):\n",
    "    records = []\n",
    "    for line in lines:\n",
    "        match = re.match(r\"회의번호: (\\d+).*발언내용: (.+)\", line.strip())\n",
    "        if match:\n",
    "            meeting_number = match.group(1)  # 회의번호\n",
    "            speech = match.group(2)  # 발언내용\n",
    "            records.append({\"회의번호\": meeting_number, \"발언내용\": speech})\n",
    "    return records\n",
    "\n",
    "# 3. 데이터프레임 생성\n",
    "parsed_data = parse_lines(lines)\n",
    "data = pd.DataFrame(parsed_data)\n",
    "\n",
    "# 결과 확인\n",
    "print(data.head())\n"
   ]
  },
  {
   "cell_type": "code",
   "execution_count": 32,
   "metadata": {},
   "outputs": [
    {
     "name": "stdout",
     "output_type": "stream",
     "text": [
      "요약 실패: 'latin-1' codec can't encode character '\\u2014' in position 76: ordinal not in range(256)\n",
      "요약 완료 및 저장: 21대국정조사_요약결과.csv\n"
     ]
    }
   ],
   "source": [
    "# 요약 함수 (GPT-4 사용 예시)\n",
    "def gpt4_summarize(text):\n",
    "    try:\n",
    "        response = openai.ChatCompletion.create(\n",
    "            model=\"gpt-4\",\n",
    "            messages=[\n",
    "                {\"role\": \"system\", \"content\": \"You are a helpful assistant.\"},\n",
    "                {\"role\": \"user\", \"content\": f\"다음 텍스트를 요약해 주세요:\\n{text}\"}\n",
    "            ],\n",
    "            max_tokens=150,\n",
    "            temperature=0.5\n",
    "        )\n",
    "        return response['choices'][0]['message']['content'].strip()\n",
    "    except Exception as e:\n",
    "        print(f\"요약 실패: {e}\")\n",
    "        return \"요약 실패\"\n",
    "\n",
    "# 요약 작업\n",
    "data[\"요약된발언내용\"] = data[\"발언내용\"].apply(gpt4_summarize)\n",
    "\n",
    "# 결과 저장\n",
    "data.to_csv(\"21대국정조사_요약결과.csv\", index=False, encoding=\"utf-8-sig\")\n",
    "print(\"요약 완료 및 저장: 21대국정조사_요약결과.csv\")"
   ]
  },
  {
   "cell_type": "code",
   "execution_count": 20,
   "metadata": {},
   "outputs": [
    {
     "name": "stdout",
     "output_type": "stream",
     "text": [
      "요약 실패: 'latin-1' codec can't encode character '\\u2014' in position 76: ordinal not in range(256)\n",
      "요약 실패: 'latin-1' codec can't encode character '\\u2014' in position 76: ordinal not in range(256)\n",
      "요약 실패: 'latin-1' codec can't encode character '\\u2014' in position 76: ordinal not in range(256)\n",
      "요약 실패: 'latin-1' codec can't encode character '\\u2014' in position 76: ordinal not in range(256)\n",
      "요약 실패: 'latin-1' codec can't encode character '\\u2014' in position 76: ordinal not in range(256)\n",
      "요약 실패: 'latin-1' codec can't encode character '\\u2014' in position 76: ordinal not in range(256)\n",
      "요약 실패: 'latin-1' codec can't encode character '\\u2014' in position 76: ordinal not in range(256)\n",
      "요약 실패: 'latin-1' codec can't encode character '\\u2014' in position 76: ordinal not in range(256)\n",
      "요약 실패: 'latin-1' codec can't encode character '\\u2014' in position 76: ordinal not in range(256)\n",
      "                                                발언내용  \\\n",
      "0  의석을 정돈해 주시기 바랍니다.  국회법 제52조 및 제3호에 따라 특별위원회 재적...   \n",
      "1  의석을 정돈해 주시기 바랍니다.  성원이 되었으므로 제401회 국회(임시회) 제2차...   \n",
      "2  의석을 정돈해 주시기 바랍니다.  지금부터 헌법 제61조, 국회법 제127조와 국정...   \n",
      "3  의석을 정돈해 주시기 바랍니다.  지금부터 헌법 제61조, 국회법 제127조와 국정...   \n",
      "4  의석을 정돈해 주시기 바랍니다.  지금부터 헌법 제61조, 국회법 제127조와 국정...   \n",
      "\n",
      "                                             발언내용_정리 발언내용_요약  \n",
      "0  의석을 정돈해 주시기 바랍니다. 국회법 제52조 및 제3호에 따라 특별위원회 재적위...   요약 실패  \n",
      "1  의석을 정돈해 주시기 바랍니다. 성원이 되었으므로 제401회 국회(임시회) 제2차 ...   요약 실패  \n",
      "2  의석을 정돈해 주시기 바랍니다. 지금부터 헌법 제61조, 국회법 제127조와 국정감...   요약 실패  \n",
      "3  의석을 정돈해 주시기 바랍니다. 지금부터 헌법 제61조, 국회법 제127조와 국정감...   요약 실패  \n",
      "4  의석을 정돈해 주시기 바랍니다. 지금부터 헌법 제61조, 국회법 제127조와 국정감...   요약 실패  \n"
     ]
    }
   ],
   "source": [
    "# 요약 수행 및 결과 저장\n",
    "data['발언내용_요약'] = data['발언내용_정리'].apply(gpt4_summarize)\n",
    "\n",
    "# 원본, 정리된 텍스트, 요약본 확인\n",
    "print(data[['발언내용', '발언내용_정리', '발언내용_요약']].head())"
   ]
  },
  {
   "cell_type": "markdown",
   "metadata": {},
   "source": [
    "# 5. 2차 요약작업"
   ]
  },
  {
   "cell_type": "code",
   "execution_count": 3,
   "metadata": {},
   "outputs": [
    {
     "name": "stdout",
     "output_type": "stream",
     "text": [
      "회의별_txt 폴더에 회의번호별 txt 파일이 저장되었습니다.\n"
     ]
    }
   ],
   "source": [
    "import pandas as pd\n",
    "import os\n",
    "\n",
    "# CSV 파일 읽기\n",
    "data = pd.read_csv(\"21대국정조사.csv\", encoding=\"utf-8-sig\")\n",
    "\n",
    "# 출력 폴더 생성\n",
    "output_dir = \"회의별_txt\"\n",
    "os.makedirs(output_dir, exist_ok=True)\n",
    "\n",
    "# 회의번호별로 텍스트 파일 저장\n",
    "for 회의번호, group in data.groupby(\"회의번호\"):\n",
    "    file_path = os.path.join(output_dir, f\"{회의번호}.txt\")\n",
    "    with open(file_path, \"w\", encoding=\"utf-8\") as f:\n",
    "        for 내용 in group[\"발언내용\"]:\n",
    "            f.write(내용 + \"\\n\")\n",
    "print(f\"{output_dir} 폴더에 회의번호별 txt 파일이 저장되었습니다.\")\n"
   ]
  },
  {
   "cell_type": "code",
   "execution_count": 4,
   "metadata": {},
   "outputs": [
    {
     "name": "stdout",
     "output_type": "stream",
     "text": [
      "텍스트 정리 완료.\n"
     ]
    }
   ],
   "source": [
    "import re\n",
    "\n",
    "# 텍스트 정리 함수\n",
    "def clean_text(text):\n",
    "    \"\"\"\n",
    "    텍스트에서 문제를 일으키는 특수문자 제거 또는 대체\n",
    "    \"\"\"\n",
    "    if not isinstance(text, str):  # 텍스트가 아닌 경우 처리\n",
    "        return \"\"\n",
    "    text = text.replace(\"\\u2014\", \"-\")  # 긴 대시를 일반 대시로 대체\n",
    "    text = text.replace(\"\\u2013\", \"-\")  # en-dash 대체\n",
    "    text = text.replace(\"\\u2026\", \"...\")  # 말줄임표 대체\n",
    "    text = re.sub(r\"[^\\w\\s가-힣.,!?\\\"\\'():;<>%-]\", \" \", text)  # 한글, 공백, 기본 특수문자만 허용\n",
    "    text = re.sub(r\"\\s+\", \" \", text)  # 연속된 공백을 하나로\n",
    "    return text.strip()\n",
    "\n",
    "# 텍스트 파일을 정리\n",
    "for txt_file in os.listdir(output_dir):\n",
    "    file_path = os.path.join(output_dir, txt_file)\n",
    "    with open(file_path, \"r\", encoding=\"utf-8\") as f:\n",
    "        lines = f.readlines()\n",
    "    \n",
    "    cleaned_lines = [clean_text(line) for line in lines]\n",
    "    \n",
    "    # 정리된 텍스트 다시 저장\n",
    "    with open(file_path, \"w\", encoding=\"utf-8\") as f:\n",
    "        f.writelines(line + \"\\n\" for line in cleaned_lines)\n",
    "print(\"텍스트 정리 완료.\")\n"
   ]
  },
  {
   "cell_type": "code",
   "execution_count": 13,
   "metadata": {},
   "outputs": [
    {
     "name": "stdout",
     "output_type": "stream",
     "text": [
      "파일 52512.txt 텍스트 길이가 길어 분할 작업 수행.\n",
      "파일 52622.txt 텍스트 길이가 길어 분할 작업 수행.\n",
      "파일 52629.txt 텍스트 길이가 길어 분할 작업 수행.\n",
      "파일 52638.txt 텍스트 길이가 길어 분할 작업 수행.\n",
      "파일 52643.txt 텍스트 길이가 길어 분할 작업 수행.\n",
      "파일 52644.txt 텍스트 길이가 길어 분할 작업 수행.\n",
      "파일 52647.txt 텍스트 길이가 길어 분할 작업 수행.\n",
      "파일 52650.txt 텍스트 길이가 길어 분할 작업 수행.\n",
      "파일 52653.txt 텍스트 길이가 길어 분할 작업 수행.\n",
      "요약 작업 완료. 오류 로그는 '요약_오류_로그.txt'에 저장되었습니다.\n"
     ]
    }
   ],
   "source": [
    "import openai\n",
    "from dotenv import load_dotenv\n",
    "import os\n",
    "\n",
    "# 환경 변수 로드\n",
    "load_dotenv()\n",
    "\n",
    "# OpenAI API 키 설정\n",
    "openai.api_key = os.getenv(\"OPENAI_API_KEY\")\n",
    "\n",
    "# 요약 함수\n",
    "def summarize_text_gpt4(content, max_length=4000, chunk_size=3000):\n",
    "    \"\"\"\n",
    "    GPT-4o-mini를 사용하여 텍스트 요약.\n",
    "    - max_length: API 호출 시 텍스트 최대 길이.\n",
    "    - chunk_size: 텍스트를 분할 처리할 길이.\n",
    "    \"\"\"\n",
    "    summaries = []\n",
    "    try:\n",
    "        # 텍스트를 chunk_size 단위로 분할\n",
    "        chunks = [content[i:i + chunk_size] for i in range(0, len(content), chunk_size)]\n",
    "        for chunk in chunks:\n",
    "            response = openai.ChatCompletion.create(\n",
    "                model=\"gpt-4o-mini\",\n",
    "                messages=[\n",
    "                    {\"role\": \"system\", \"content\": \"You are a helpful assistant that summarizes text in Korean.\"},\n",
    "                    {\"role\": \"user\", \"content\": f\"Summarize the following text:\\n\\n{chunk}\"}\n",
    "                ],\n",
    "                max_tokens=1000\n",
    "            )\n",
    "            summaries.append(response['choices'][0]['message']['content'].strip())\n",
    "        return \" \".join(summaries)\n",
    "    except Exception as e:\n",
    "        return f\"요약 실패: {str(e)}\"\n",
    "\n",
    "# 요약 수행\n",
    "summaries = {}\n",
    "log_errors = []\n",
    "\n",
    "for txt_file in os.listdir(output_dir):\n",
    "    file_path = os.path.join(output_dir, txt_file)\n",
    "    \n",
    "    with open(file_path, \"r\", encoding=\"utf-8\") as f:\n",
    "        content = f.read()\n",
    "    \n",
    "    # 텍스트 길이 초과 처리\n",
    "    if len(content) > 4000:\n",
    "        print(f\"파일 {txt_file} 텍스트 길이가 길어 분할 작업 수행.\")\n",
    "    \n",
    "    # 요약 수행\n",
    "    try:\n",
    "        summary = summarize_text_gpt4(content)\n",
    "    except Exception as e:\n",
    "        summary = f\"요약 실패: {str(e)}\"\n",
    "        log_errors.append({\"file\": txt_file, \"error\": str(e)})\n",
    "    \n",
    "    # 회의번호별 요약 저장\n",
    "    회의번호 = os.path.splitext(txt_file)[0]\n",
    "    summaries[회의번호] = summary\n",
    "\n",
    "# 오류 로그 저장\n",
    "if log_errors:\n",
    "    with open(\"요약_오류_로그.txt\", \"w\", encoding=\"utf-8\") as f:\n",
    "        for log in log_errors:\n",
    "            f.write(f\"파일: {log['file']}, 오류: {log['error']}\\n\")\n",
    "\n",
    "print(\"요약 작업 완료. 오류 로그는 '요약_오류_로그.txt'에 저장되었습니다.\")"
   ]
  },
  {
   "cell_type": "code",
   "execution_count": 14,
   "metadata": {},
   "outputs": [
    {
     "name": "stdout",
     "output_type": "stream",
     "text": [
      "요약 결과가 CSV 파일로 저장되었습니다: 21대국정조사_GPT4_요약결과.csv\n"
     ]
    }
   ],
   "source": [
    "import pandas as pd\n",
    "\n",
    "# 요약 결과를 데이터프레임으로 변환\n",
    "result_data = pd.DataFrame({\n",
    "    \"회의번호\": list(summaries.keys()),\n",
    "    \"요약된발언내용\": list(summaries.values())\n",
    "})\n",
    "\n",
    "# 요약 결과를 CSV 파일로 저장\n",
    "result_csv_path = \"21대국정조사_GPT4_요약결과.csv\"\n",
    "result_data.to_csv(result_csv_path, index=False, encoding=\"utf-8-sig\")\n",
    "\n",
    "print(f\"요약 결과가 CSV 파일로 저장되었습니다: {result_csv_path}\")"
   ]
  },
  {
   "cell_type": "code",
   "execution_count": null,
   "metadata": {},
   "outputs": [],
   "source": []
  }
 ],
 "metadata": {
  "kernelspec": {
   "display_name": "malcam",
   "language": "python",
   "name": "python3"
  },
  "language_info": {
   "codemirror_mode": {
    "name": "ipython",
    "version": 3
   },
   "file_extension": ".py",
   "mimetype": "text/x-python",
   "name": "python",
   "nbconvert_exporter": "python",
   "pygments_lexer": "ipython3",
   "version": "3.10.14"
  }
 },
 "nbformat": 4,
 "nbformat_minor": 2
}
