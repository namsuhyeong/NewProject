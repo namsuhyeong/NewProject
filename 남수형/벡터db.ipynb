{
 "cells": [
  {
   "cell_type": "markdown",
   "metadata": {},
   "source": [
    "# 설치"
   ]
  },
  {
   "cell_type": "code",
   "execution_count": 7,
   "metadata": {},
   "outputs": [
    {
     "name": "stdout",
     "output_type": "stream",
     "text": [
      "Requirement already satisfied: qdrant-client in c:\\users\\user\\.conda\\envs\\malcam\\lib\\site-packages (1.11.0)\n",
      "Requirement already satisfied: sentence-transformers in c:\\users\\user\\.conda\\envs\\malcam\\lib\\site-packages (3.0.1)\n",
      "Requirement already satisfied: grpcio>=1.41.0 in c:\\users\\user\\.conda\\envs\\malcam\\lib\\site-packages (from qdrant-client) (1.65.5)\n",
      "Requirement already satisfied: grpcio-tools>=1.41.0 in c:\\users\\user\\.conda\\envs\\malcam\\lib\\site-packages (from qdrant-client) (1.65.5)\n",
      "Requirement already satisfied: httpx>=0.20.0 in c:\\users\\user\\.conda\\envs\\malcam\\lib\\site-packages (from httpx[http2]>=0.20.0->qdrant-client) (0.27.0)\n",
      "Requirement already satisfied: numpy>=1.21 in c:\\users\\user\\.conda\\envs\\malcam\\lib\\site-packages (from qdrant-client) (1.26.4)\n",
      "Requirement already satisfied: portalocker<3.0.0,>=2.7.0 in c:\\users\\user\\.conda\\envs\\malcam\\lib\\site-packages (from qdrant-client) (2.10.1)\n",
      "Requirement already satisfied: pydantic>=1.10.8 in c:\\users\\user\\.conda\\envs\\malcam\\lib\\site-packages (from qdrant-client) (2.8.2)\n",
      "Requirement already satisfied: urllib3<3,>=1.26.14 in c:\\users\\user\\.conda\\envs\\malcam\\lib\\site-packages (from qdrant-client) (2.2.1)\n",
      "Requirement already satisfied: transformers<5.0.0,>=4.34.0 in c:\\users\\user\\.conda\\envs\\malcam\\lib\\site-packages (from sentence-transformers) (4.41.2)\n",
      "Requirement already satisfied: tqdm in c:\\users\\user\\.conda\\envs\\malcam\\lib\\site-packages (from sentence-transformers) (4.66.4)\n",
      "Requirement already satisfied: torch>=1.11.0 in c:\\users\\user\\.conda\\envs\\malcam\\lib\\site-packages (from sentence-transformers) (2.3.1)\n",
      "Requirement already satisfied: scikit-learn in c:\\users\\user\\.conda\\envs\\malcam\\lib\\site-packages (from sentence-transformers) (1.5.0)\n",
      "Requirement already satisfied: scipy in c:\\users\\user\\.conda\\envs\\malcam\\lib\\site-packages (from sentence-transformers) (1.13.1)\n",
      "Requirement already satisfied: huggingface-hub>=0.15.1 in c:\\users\\user\\.conda\\envs\\malcam\\lib\\site-packages (from sentence-transformers) (0.23.3)\n",
      "Requirement already satisfied: Pillow in c:\\users\\user\\.conda\\envs\\malcam\\lib\\site-packages (from sentence-transformers) (10.3.0)\n",
      "Requirement already satisfied: protobuf<6.0dev,>=5.26.1 in c:\\users\\user\\.conda\\envs\\malcam\\lib\\site-packages (from grpcio-tools>=1.41.0->qdrant-client) (5.27.3)\n",
      "Requirement already satisfied: setuptools in c:\\users\\user\\.conda\\envs\\malcam\\lib\\site-packages (from grpcio-tools>=1.41.0->qdrant-client) (69.5.1)\n",
      "Requirement already satisfied: anyio in c:\\users\\user\\.conda\\envs\\malcam\\lib\\site-packages (from httpx>=0.20.0->httpx[http2]>=0.20.0->qdrant-client) (4.4.0)\n",
      "Requirement already satisfied: certifi in c:\\users\\user\\.conda\\envs\\malcam\\lib\\site-packages (from httpx>=0.20.0->httpx[http2]>=0.20.0->qdrant-client) (2024.2.2)\n",
      "Requirement already satisfied: httpcore==1.* in c:\\users\\user\\.conda\\envs\\malcam\\lib\\site-packages (from httpx>=0.20.0->httpx[http2]>=0.20.0->qdrant-client) (1.0.5)\n",
      "Requirement already satisfied: idna in c:\\users\\user\\.conda\\envs\\malcam\\lib\\site-packages (from httpx>=0.20.0->httpx[http2]>=0.20.0->qdrant-client) (3.7)\n",
      "Requirement already satisfied: sniffio in c:\\users\\user\\.conda\\envs\\malcam\\lib\\site-packages (from httpx>=0.20.0->httpx[http2]>=0.20.0->qdrant-client) (1.3.1)\n",
      "Requirement already satisfied: h11<0.15,>=0.13 in c:\\users\\user\\.conda\\envs\\malcam\\lib\\site-packages (from httpcore==1.*->httpx>=0.20.0->httpx[http2]>=0.20.0->qdrant-client) (0.14.0)\n",
      "Requirement already satisfied: h2<5,>=3 in c:\\users\\user\\.conda\\envs\\malcam\\lib\\site-packages (from httpx[http2]>=0.20.0->qdrant-client) (4.1.0)\n",
      "Requirement already satisfied: filelock in c:\\users\\user\\.conda\\envs\\malcam\\lib\\site-packages (from huggingface-hub>=0.15.1->sentence-transformers) (3.14.0)\n",
      "Requirement already satisfied: fsspec>=2023.5.0 in c:\\users\\user\\.conda\\envs\\malcam\\lib\\site-packages (from huggingface-hub>=0.15.1->sentence-transformers) (2024.6.0)\n",
      "Requirement already satisfied: packaging>=20.9 in c:\\users\\user\\.conda\\envs\\malcam\\lib\\site-packages (from huggingface-hub>=0.15.1->sentence-transformers) (24.0)\n",
      "Requirement already satisfied: pyyaml>=5.1 in c:\\users\\user\\.conda\\envs\\malcam\\lib\\site-packages (from huggingface-hub>=0.15.1->sentence-transformers) (6.0.1)\n",
      "Requirement already satisfied: requests in c:\\users\\user\\.conda\\envs\\malcam\\lib\\site-packages (from huggingface-hub>=0.15.1->sentence-transformers) (2.32.3)\n",
      "Requirement already satisfied: typing-extensions>=3.7.4.3 in c:\\users\\user\\appdata\\roaming\\python\\python310\\site-packages (from huggingface-hub>=0.15.1->sentence-transformers) (4.11.0)\n",
      "Requirement already satisfied: pywin32>=226 in c:\\users\\user\\appdata\\roaming\\python\\python310\\site-packages (from portalocker<3.0.0,>=2.7.0->qdrant-client) (306)\n",
      "Requirement already satisfied: annotated-types>=0.4.0 in c:\\users\\user\\.conda\\envs\\malcam\\lib\\site-packages (from pydantic>=1.10.8->qdrant-client) (0.7.0)\n",
      "Requirement already satisfied: pydantic-core==2.20.1 in c:\\users\\user\\.conda\\envs\\malcam\\lib\\site-packages (from pydantic>=1.10.8->qdrant-client) (2.20.1)\n",
      "Requirement already satisfied: sympy in c:\\users\\user\\.conda\\envs\\malcam\\lib\\site-packages (from torch>=1.11.0->sentence-transformers) (1.12.1)\n",
      "Requirement already satisfied: networkx in c:\\users\\user\\.conda\\envs\\malcam\\lib\\site-packages (from torch>=1.11.0->sentence-transformers) (3.3)\n",
      "Requirement already satisfied: jinja2 in c:\\users\\user\\.conda\\envs\\malcam\\lib\\site-packages (from torch>=1.11.0->sentence-transformers) (3.1.4)\n",
      "Requirement already satisfied: mkl<=2021.4.0,>=2021.1.1 in c:\\users\\user\\.conda\\envs\\malcam\\lib\\site-packages (from torch>=1.11.0->sentence-transformers) (2021.4.0)\n",
      "Requirement already satisfied: colorama in c:\\users\\user\\appdata\\roaming\\python\\python310\\site-packages (from tqdm->sentence-transformers) (0.4.6)\n",
      "Requirement already satisfied: regex!=2019.12.17 in c:\\users\\user\\.conda\\envs\\malcam\\lib\\site-packages (from transformers<5.0.0,>=4.34.0->sentence-transformers) (2024.5.15)\n",
      "Requirement already satisfied: tokenizers<0.20,>=0.19 in c:\\users\\user\\.conda\\envs\\malcam\\lib\\site-packages (from transformers<5.0.0,>=4.34.0->sentence-transformers) (0.19.1)\n",
      "Requirement already satisfied: safetensors>=0.4.1 in c:\\users\\user\\.conda\\envs\\malcam\\lib\\site-packages (from transformers<5.0.0,>=4.34.0->sentence-transformers) (0.4.3)\n",
      "Requirement already satisfied: joblib>=1.2.0 in c:\\users\\user\\.conda\\envs\\malcam\\lib\\site-packages (from scikit-learn->sentence-transformers) (1.4.2)\n",
      "Requirement already satisfied: threadpoolctl>=3.1.0 in c:\\users\\user\\.conda\\envs\\malcam\\lib\\site-packages (from scikit-learn->sentence-transformers) (3.5.0)\n",
      "Requirement already satisfied: hyperframe<7,>=6.0 in c:\\users\\user\\.conda\\envs\\malcam\\lib\\site-packages (from h2<5,>=3->httpx[http2]>=0.20.0->qdrant-client) (6.0.1)\n",
      "Requirement already satisfied: hpack<5,>=4.0 in c:\\users\\user\\.conda\\envs\\malcam\\lib\\site-packages (from h2<5,>=3->httpx[http2]>=0.20.0->qdrant-client) (4.0.0)\n",
      "Requirement already satisfied: intel-openmp==2021.* in c:\\users\\user\\.conda\\envs\\malcam\\lib\\site-packages (from mkl<=2021.4.0,>=2021.1.1->torch>=1.11.0->sentence-transformers) (2021.4.0)\n",
      "Requirement already satisfied: tbb==2021.* in c:\\users\\user\\.conda\\envs\\malcam\\lib\\site-packages (from mkl<=2021.4.0,>=2021.1.1->torch>=1.11.0->sentence-transformers) (2021.12.0)\n",
      "Requirement already satisfied: exceptiongroup>=1.0.2 in c:\\users\\user\\.conda\\envs\\malcam\\lib\\site-packages (from anyio->httpx>=0.20.0->httpx[http2]>=0.20.0->qdrant-client) (1.2.1)\n",
      "Requirement already satisfied: MarkupSafe>=2.0 in c:\\users\\user\\.conda\\envs\\malcam\\lib\\site-packages (from jinja2->torch>=1.11.0->sentence-transformers) (2.1.5)\n",
      "Requirement already satisfied: charset-normalizer<4,>=2 in c:\\users\\user\\.conda\\envs\\malcam\\lib\\site-packages (from requests->huggingface-hub>=0.15.1->sentence-transformers) (3.3.2)\n",
      "Requirement already satisfied: mpmath<1.4.0,>=1.1.0 in c:\\users\\user\\.conda\\envs\\malcam\\lib\\site-packages (from sympy->torch>=1.11.0->sentence-transformers) (1.3.0)\n"
     ]
    }
   ],
   "source": [
    "!pip install qdrant-client sentence-transformers"
   ]
  },
  {
   "cell_type": "code",
   "execution_count": 11,
   "metadata": {},
   "outputs": [
    {
     "name": "stdout",
     "output_type": "stream",
     "text": [
      "Requirement already satisfied: qdrant-client in c:\\users\\user\\.conda\\envs\\malcam\\lib\\site-packages (1.11.0)\n",
      "Requirement already satisfied: grpcio>=1.41.0 in c:\\users\\user\\.conda\\envs\\malcam\\lib\\site-packages (from qdrant-client) (1.65.5)\n",
      "Requirement already satisfied: grpcio-tools>=1.41.0 in c:\\users\\user\\.conda\\envs\\malcam\\lib\\site-packages (from qdrant-client) (1.65.5)\n",
      "Requirement already satisfied: httpx>=0.20.0 in c:\\users\\user\\.conda\\envs\\malcam\\lib\\site-packages (from httpx[http2]>=0.20.0->qdrant-client) (0.27.0)\n",
      "Requirement already satisfied: numpy>=1.21 in c:\\users\\user\\.conda\\envs\\malcam\\lib\\site-packages (from qdrant-client) (1.26.4)\n",
      "Requirement already satisfied: portalocker<3.0.0,>=2.7.0 in c:\\users\\user\\.conda\\envs\\malcam\\lib\\site-packages (from qdrant-client) (2.10.1)\n",
      "Requirement already satisfied: pydantic>=1.10.8 in c:\\users\\user\\.conda\\envs\\malcam\\lib\\site-packages (from qdrant-client) (2.8.2)\n",
      "Requirement already satisfied: urllib3<3,>=1.26.14 in c:\\users\\user\\.conda\\envs\\malcam\\lib\\site-packages (from qdrant-client) (2.2.1)\n",
      "Requirement already satisfied: protobuf<6.0dev,>=5.26.1 in c:\\users\\user\\.conda\\envs\\malcam\\lib\\site-packages (from grpcio-tools>=1.41.0->qdrant-client) (5.27.3)\n",
      "Requirement already satisfied: setuptools in c:\\users\\user\\.conda\\envs\\malcam\\lib\\site-packages (from grpcio-tools>=1.41.0->qdrant-client) (69.5.1)\n",
      "Requirement already satisfied: anyio in c:\\users\\user\\.conda\\envs\\malcam\\lib\\site-packages (from httpx>=0.20.0->httpx[http2]>=0.20.0->qdrant-client) (4.4.0)\n",
      "Requirement already satisfied: certifi in c:\\users\\user\\.conda\\envs\\malcam\\lib\\site-packages (from httpx>=0.20.0->httpx[http2]>=0.20.0->qdrant-client) (2024.2.2)\n",
      "Requirement already satisfied: httpcore==1.* in c:\\users\\user\\.conda\\envs\\malcam\\lib\\site-packages (from httpx>=0.20.0->httpx[http2]>=0.20.0->qdrant-client) (1.0.5)\n",
      "Requirement already satisfied: idna in c:\\users\\user\\.conda\\envs\\malcam\\lib\\site-packages (from httpx>=0.20.0->httpx[http2]>=0.20.0->qdrant-client) (3.7)\n",
      "Requirement already satisfied: sniffio in c:\\users\\user\\.conda\\envs\\malcam\\lib\\site-packages (from httpx>=0.20.0->httpx[http2]>=0.20.0->qdrant-client) (1.3.1)\n",
      "Requirement already satisfied: h11<0.15,>=0.13 in c:\\users\\user\\.conda\\envs\\malcam\\lib\\site-packages (from httpcore==1.*->httpx>=0.20.0->httpx[http2]>=0.20.0->qdrant-client) (0.14.0)\n",
      "Requirement already satisfied: h2<5,>=3 in c:\\users\\user\\.conda\\envs\\malcam\\lib\\site-packages (from httpx[http2]>=0.20.0->qdrant-client) (4.1.0)\n",
      "Requirement already satisfied: pywin32>=226 in c:\\users\\user\\appdata\\roaming\\python\\python310\\site-packages (from portalocker<3.0.0,>=2.7.0->qdrant-client) (306)\n",
      "Requirement already satisfied: annotated-types>=0.4.0 in c:\\users\\user\\.conda\\envs\\malcam\\lib\\site-packages (from pydantic>=1.10.8->qdrant-client) (0.7.0)\n",
      "Requirement already satisfied: pydantic-core==2.20.1 in c:\\users\\user\\.conda\\envs\\malcam\\lib\\site-packages (from pydantic>=1.10.8->qdrant-client) (2.20.1)\n",
      "Requirement already satisfied: typing-extensions>=4.6.1 in c:\\users\\user\\appdata\\roaming\\python\\python310\\site-packages (from pydantic>=1.10.8->qdrant-client) (4.11.0)\n",
      "Requirement already satisfied: hyperframe<7,>=6.0 in c:\\users\\user\\.conda\\envs\\malcam\\lib\\site-packages (from h2<5,>=3->httpx[http2]>=0.20.0->qdrant-client) (6.0.1)\n",
      "Requirement already satisfied: hpack<5,>=4.0 in c:\\users\\user\\.conda\\envs\\malcam\\lib\\site-packages (from h2<5,>=3->httpx[http2]>=0.20.0->qdrant-client) (4.0.0)\n",
      "Requirement already satisfied: exceptiongroup>=1.0.2 in c:\\users\\user\\.conda\\envs\\malcam\\lib\\site-packages (from anyio->httpx>=0.20.0->httpx[http2]>=0.20.0->qdrant-client) (1.2.1)\n"
     ]
    }
   ],
   "source": [
    "!pip install qdrant-client"
   ]
  },
  {
   "cell_type": "code",
   "execution_count": 14,
   "metadata": {},
   "outputs": [
    {
     "name": "stdout",
     "output_type": "stream",
     "text": [
      "Requirement already satisfied: python-dotenv in c:\\users\\user\\.conda\\envs\\malcam\\lib\\site-packages (1.0.1)\n"
     ]
    }
   ],
   "source": [
    "!pip install python-dotenv"
   ]
  },
  {
   "cell_type": "code",
   "execution_count": 8,
   "metadata": {},
   "outputs": [
    {
     "name": "stdout",
     "output_type": "stream",
     "text": [
      "Collecting openai==0.28\n",
      "  Downloading openai-0.28.0-py3-none-any.whl.metadata (13 kB)\n",
      "Requirement already satisfied: requests>=2.20 in c:\\users\\user\\.conda\\envs\\malcam\\lib\\site-packages (from openai==0.28) (2.32.3)\n",
      "Requirement already satisfied: tqdm in c:\\users\\user\\.conda\\envs\\malcam\\lib\\site-packages (from openai==0.28) (4.66.4)\n",
      "Requirement already satisfied: aiohttp in c:\\users\\user\\.conda\\envs\\malcam\\lib\\site-packages (from openai==0.28) (3.10.3)\n",
      "Requirement already satisfied: charset-normalizer<4,>=2 in c:\\users\\user\\.conda\\envs\\malcam\\lib\\site-packages (from requests>=2.20->openai==0.28) (3.3.2)\n",
      "Requirement already satisfied: idna<4,>=2.5 in c:\\users\\user\\.conda\\envs\\malcam\\lib\\site-packages (from requests>=2.20->openai==0.28) (3.7)\n",
      "Requirement already satisfied: urllib3<3,>=1.21.1 in c:\\users\\user\\.conda\\envs\\malcam\\lib\\site-packages (from requests>=2.20->openai==0.28) (2.2.1)\n",
      "Requirement already satisfied: certifi>=2017.4.17 in c:\\users\\user\\.conda\\envs\\malcam\\lib\\site-packages (from requests>=2.20->openai==0.28) (2024.2.2)\n",
      "Requirement already satisfied: aiohappyeyeballs>=2.3.0 in c:\\users\\user\\.conda\\envs\\malcam\\lib\\site-packages (from aiohttp->openai==0.28) (2.3.5)\n",
      "Requirement already satisfied: aiosignal>=1.1.2 in c:\\users\\user\\.conda\\envs\\malcam\\lib\\site-packages (from aiohttp->openai==0.28) (1.3.1)\n",
      "Requirement already satisfied: attrs>=17.3.0 in c:\\users\\user\\.conda\\envs\\malcam\\lib\\site-packages (from aiohttp->openai==0.28) (23.2.0)\n",
      "Requirement already satisfied: frozenlist>=1.1.1 in c:\\users\\user\\.conda\\envs\\malcam\\lib\\site-packages (from aiohttp->openai==0.28) (1.4.1)\n",
      "Requirement already satisfied: multidict<7.0,>=4.5 in c:\\users\\user\\.conda\\envs\\malcam\\lib\\site-packages (from aiohttp->openai==0.28) (6.0.5)\n",
      "Requirement already satisfied: yarl<2.0,>=1.0 in c:\\users\\user\\.conda\\envs\\malcam\\lib\\site-packages (from aiohttp->openai==0.28) (1.9.4)\n",
      "Requirement already satisfied: async-timeout<5.0,>=4.0 in c:\\users\\user\\.conda\\envs\\malcam\\lib\\site-packages (from aiohttp->openai==0.28) (4.0.3)\n",
      "Requirement already satisfied: colorama in c:\\users\\user\\appdata\\roaming\\python\\python310\\site-packages (from tqdm->openai==0.28) (0.4.6)\n",
      "Downloading openai-0.28.0-py3-none-any.whl (76 kB)\n",
      "   ---------------------------------------- 0.0/76.5 kB ? eta -:--:--\n",
      "   ---------------------------------------- 76.5/76.5 kB 4.1 MB/s eta 0:00:00\n",
      "Installing collected packages: openai\n",
      "  Attempting uninstall: openai\n",
      "    Found existing installation: openai 1.40.6\n",
      "    Uninstalling openai-1.40.6:\n",
      "      Successfully uninstalled openai-1.40.6\n",
      "Successfully installed openai-0.28.0\n"
     ]
    }
   ],
   "source": [
    "!pip install openai==0.28"
   ]
  },
  {
   "cell_type": "markdown",
   "metadata": {},
   "source": [
    "# 1. qdrant에 데이터 벡터화하여 저장하기"
   ]
  },
  {
   "cell_type": "code",
   "execution_count": 1,
   "metadata": {},
   "outputs": [],
   "source": [
    "from dotenv import load_dotenv\n",
    "import os\n",
    "load_dotenv()\n",
    "\n",
    "# 환경변수 가져오기\n",
    "qdrant_api_key = os.getenv(\"QDRANT_API_KEY\")\n",
    "qdrant_url = os.getenv(\"QDRANT_URL\")"
   ]
  },
  {
   "cell_type": "code",
   "execution_count": 2,
   "metadata": {},
   "outputs": [
    {
     "name": "stdout",
     "output_type": "stream",
     "text": [
      "collections=[CollectionDescription(name='meeting_records'), CollectionDescription(name='sample_meeting_rc'), CollectionDescription(name='new_meeting_records'), CollectionDescription(name='ts_meeting_records')]\n"
     ]
    }
   ],
   "source": [
    "from qdrant_client import QdrantClient\n",
    "\n",
    "client = QdrantClient(\n",
    "    url=qdrant_url,\n",
    "    api_key=qdrant_api_key\n",
    ")\n",
    "\n",
    "print(client.get_collections())"
   ]
  },
  {
   "cell_type": "code",
   "execution_count": 3,
   "metadata": {},
   "outputs": [
    {
     "name": "stdout",
     "output_type": "stream",
     "text": [
      "    회의번호          발언자                                               발언내용\n",
      "0  52512  위원장직무대행 박성민  의석을 정돈해 주시기 바랍니다.  국회법 제52조 및 제3호에 따라 특별위원회 재적...\n",
      "1  52512  위원장직무대행 박성민  현재 안건이 미정인 상태로 회의가 열리게 되었기 때문에 추가로 안건을 상정하여 회의...\n",
      "2  52512  위원장직무대행 박성민  의사일정 제1항 위원장 선임의 건을 상정합니다.   특별위원회 위원장은 국회법 제4...\n",
      "3  52512       조응천 위원                         우상호 위원을 추천합니다.            \n",
      "4  52512  위원장직무대행 박성민  또 추천하실 위원님 안 계십니까?    (「없습니다」 하는 위원 있음)  우상호 위...\n"
     ]
    }
   ],
   "source": [
    "import pandas as pd\n",
    "import numpy as np\n",
    "\n",
    "path = '21대국정조사.csv'\n",
    "data = pd.read_csv(path)\n",
    "\n",
    "print(data.head())"
   ]
  },
  {
   "cell_type": "code",
   "execution_count": 19,
   "metadata": {},
   "outputs": [
    {
     "name": "stderr",
     "output_type": "stream",
     "text": [
      "c:\\Users\\user\\.conda\\envs\\malcam\\lib\\site-packages\\sentence_transformers\\cross_encoder\\CrossEncoder.py:11: TqdmExperimentalWarning: Using `tqdm.autonotebook.tqdm` in notebook mode. Use `tqdm.tqdm` instead to force console mode (e.g. in jupyter console)\n",
      "  from tqdm.autonotebook import tqdm, trange\n",
      "c:\\Users\\user\\.conda\\envs\\malcam\\lib\\site-packages\\huggingface_hub\\file_download.py:1132: FutureWarning: `resume_download` is deprecated and will be removed in version 1.0.0. Downloads always resume when possible. If you want to force a new download, use `force_download=True`.\n",
      "  warnings.warn(\n"
     ]
    },
    {
     "name": "stdout",
     "output_type": "stream",
     "text": [
      "벡터화 완료\n"
     ]
    }
   ],
   "source": [
    "from sentence_transformers import SentenceTransformer\n",
    "\n",
    "# 벡터화 모델 로드\n",
    "model = SentenceTransformer('all-MiniLM-L6-v2')\n",
    "\n",
    "# 벡터화\n",
    "data['vector'] = data['발언내용'].apply(lambda x: model.encode(x))\n",
    "print(\"벡터화 완료\")"
   ]
  },
  {
   "cell_type": "code",
   "execution_count": 5,
   "metadata": {},
   "outputs": [],
   "source": [
    "# 벡터화 후 파일로 저장\n",
    "data.to_parquet(\"벡터화_데이터.parquet\")  # 벡터화된 데이터를 저장"
   ]
  },
  {
   "cell_type": "code",
   "execution_count": 23,
   "metadata": {},
   "outputs": [
    {
     "name": "stderr",
     "output_type": "stream",
     "text": [
      "C:\\Users\\user\\AppData\\Local\\Temp\\ipykernel_13160\\1063533258.py:2: DeprecationWarning: `recreate_collection` method is deprecated and will be removed in the future. Use `collection_exists` to check collection existence and `create_collection` instead.\n",
      "  client.recreate_collection(\n"
     ]
    },
    {
     "name": "stdout",
     "output_type": "stream",
     "text": [
      "컬렉션 생성 완료\n"
     ]
    }
   ],
   "source": [
    "# 컬렉션 생성\n",
    "client.recreate_collection(\n",
    "    collection_name=\"meeting_records\",\n",
    "    vectors_config={\"size\": 384, \"distance\": \"Cosine\"}  # 벡터 크기 및 거리 계산 방식\n",
    ")\n",
    "print(\"컬렉션 생성 완료\")"
   ]
  },
  {
   "cell_type": "code",
   "execution_count": 24,
   "metadata": {},
   "outputs": [
    {
     "name": "stdout",
     "output_type": "stream",
     "text": [
      "배치 1 삽입 완료\n",
      "배치 2 삽입 완료\n",
      "배치 3 삽입 완료\n",
      "배치 4 삽입 완료\n",
      "배치 5 삽입 완료\n",
      "배치 6 삽입 완료\n",
      "배치 7 삽입 완료\n",
      "배치 8 삽입 완료\n",
      "배치 9 삽입 완료\n",
      "배치 10 삽입 완료\n",
      "배치 11 삽입 완료\n",
      "배치 12 삽입 완료\n",
      "배치 13 삽입 완료\n",
      "배치 14 삽입 완료\n",
      "배치 15 삽입 완료\n",
      "배치 16 삽입 완료\n",
      "배치 17 삽입 완료\n",
      "배치 18 삽입 완료\n",
      "배치 19 삽입 완료\n",
      "배치 20 삽입 완료\n",
      "배치 21 삽입 완료\n",
      "배치 22 삽입 완료\n",
      "배치 23 삽입 완료\n",
      "배치 24 삽입 완료\n",
      "배치 25 삽입 완료\n",
      "배치 26 삽입 완료\n",
      "배치 27 삽입 완료\n",
      "배치 28 삽입 완료\n",
      "배치 29 삽입 완료\n",
      "배치 30 삽입 완료\n",
      "배치 31 삽입 완료\n",
      "배치 32 삽입 완료\n",
      "배치 33 삽입 완료\n",
      "배치 34 삽입 완료\n",
      "배치 35 삽입 완료\n",
      "배치 36 삽입 완료\n",
      "배치 37 삽입 완료\n",
      "배치 38 삽입 완료\n",
      "배치 39 삽입 완료\n",
      "배치 40 삽입 완료\n",
      "배치 41 삽입 완료\n",
      "배치 42 삽입 완료\n",
      "배치 43 삽입 완료\n",
      "배치 44 삽입 완료\n",
      "배치 45 삽입 완료\n",
      "배치 46 삽입 완료\n",
      "배치 47 삽입 완료\n",
      "배치 48 삽입 완료\n",
      "배치 49 삽입 완료\n",
      "배치 50 삽입 완료\n",
      "배치 51 삽입 완료\n",
      "배치 52 삽입 완료\n",
      "배치 53 삽입 완료\n",
      "배치 54 삽입 완료\n",
      "배치 55 삽입 완료\n",
      "배치 56 삽입 완료\n",
      "배치 57 삽입 완료\n",
      "배치 58 삽입 완료\n",
      "배치 59 삽입 완료\n",
      "배치 60 삽입 완료\n",
      "배치 61 삽입 완료\n",
      "배치 62 삽입 완료\n",
      "배치 63 삽입 완료\n",
      "배치 64 삽입 완료\n",
      "배치 65 삽입 완료\n",
      "배치 66 삽입 완료\n",
      "배치 67 삽입 완료\n",
      "배치 68 삽입 완료\n",
      "배치 69 삽입 완료\n",
      "배치 70 삽입 완료\n",
      "배치 71 삽입 완료\n",
      "배치 72 삽입 완료\n",
      "배치 73 삽입 완료\n",
      "배치 74 삽입 완료\n",
      "배치 75 삽입 완료\n",
      "배치 76 삽입 완료\n",
      "배치 77 삽입 완료\n",
      "배치 78 삽입 완료\n",
      "배치 79 삽입 완료\n",
      "배치 80 삽입 완료\n",
      "배치 81 삽입 완료\n",
      "배치 82 삽입 완료\n",
      "배치 83 삽입 완료\n",
      "배치 84 삽입 완료\n",
      "배치 85 삽입 완료\n",
      "배치 86 삽입 완료\n",
      "배치 87 삽입 완료\n",
      "배치 88 삽입 완료\n",
      "배치 89 삽입 완료\n",
      "배치 90 삽입 완료\n",
      "배치 91 삽입 완료\n",
      "배치 92 삽입 완료\n",
      "배치 93 삽입 완료\n",
      "배치 94 삽입 완료\n",
      "배치 95 삽입 완료\n",
      "배치 96 삽입 완료\n",
      "배치 97 삽입 완료\n",
      "배치 98 삽입 완료\n",
      "배치 99 삽입 완료\n",
      "배치 100 삽입 완료\n",
      "배치 101 삽입 완료\n",
      "배치 102 삽입 완료\n",
      "배치 103 삽입 완료\n",
      "배치 104 삽입 완료\n",
      "배치 105 삽입 완료\n",
      "배치 106 삽입 완료\n",
      "배치 107 삽입 완료\n",
      "배치 108 삽입 완료\n",
      "배치 109 삽입 완료\n",
      "배치 110 삽입 완료\n",
      "배치 111 삽입 완료\n",
      "배치 112 삽입 완료\n",
      "배치 113 삽입 완료\n",
      "배치 114 삽입 완료\n",
      "배치 115 삽입 완료\n",
      "배치 116 삽입 완료\n",
      "배치 117 삽입 완료\n",
      "배치 118 삽입 완료\n",
      "배치 119 삽입 완료\n",
      "배치 120 삽입 완료\n",
      "배치 121 삽입 완료\n",
      "배치 122 삽입 완료\n",
      "배치 123 삽입 완료\n",
      "배치 124 삽입 완료\n",
      "배치 125 삽입 완료\n",
      "배치 126 삽입 완료\n",
      "배치 127 삽입 완료\n",
      "배치 128 삽입 완료\n",
      "배치 129 삽입 완료\n",
      "배치 130 삽입 완료\n",
      "배치 131 삽입 완료\n",
      "배치 132 삽입 완료\n",
      "배치 133 삽입 완료\n",
      "배치 134 삽입 완료\n",
      "배치 135 삽입 완료\n",
      "배치 136 삽입 완료\n",
      "배치 137 삽입 완료\n",
      "배치 138 삽입 완료\n",
      "배치 139 삽입 완료\n",
      "배치 140 삽입 완료\n",
      "배치 141 삽입 완료\n",
      "배치 142 삽입 완료\n",
      "배치 143 삽입 완료\n",
      "배치 144 삽입 완료\n",
      "배치 145 삽입 완료\n",
      "배치 146 삽입 완료\n",
      "배치 147 삽입 완료\n",
      "배치 148 삽입 완료\n",
      "배치 149 삽입 완료\n",
      "배치 150 삽입 완료\n",
      "배치 151 삽입 완료\n",
      "배치 152 삽입 완료\n",
      "배치 153 삽입 완료\n",
      "배치 154 삽입 완료\n",
      "배치 155 삽입 완료\n",
      "배치 156 삽입 완료\n",
      "배치 157 삽입 완료\n",
      "배치 158 삽입 완료\n",
      "배치 159 삽입 완료\n",
      "배치 160 삽입 완료\n",
      "배치 161 삽입 완료\n",
      "배치 162 삽입 완료\n",
      "배치 163 삽입 완료\n",
      "배치 164 삽입 완료\n",
      "배치 165 삽입 완료\n",
      "배치 166 삽입 완료\n",
      "배치 167 삽입 완료\n",
      "배치 168 삽입 완료\n",
      "배치 169 삽입 완료\n",
      "배치 170 삽입 완료\n",
      "배치 171 삽입 완료\n",
      "배치 172 삽입 완료\n",
      "배치 173 삽입 완료\n",
      "배치 174 삽입 완료\n",
      "배치 175 삽입 완료\n",
      "배치 176 삽입 완료\n",
      "배치 177 삽입 완료\n",
      "배치 178 삽입 완료\n",
      "배치 179 삽입 완료\n",
      "배치 180 삽입 완료\n",
      "배치 181 삽입 완료\n",
      "배치 182 삽입 완료\n",
      "배치 183 삽입 완료\n",
      "배치 184 삽입 완료\n",
      "배치 185 삽입 완료\n",
      "배치 186 삽입 완료\n",
      "배치 187 삽입 완료\n",
      "배치 188 삽입 완료\n",
      "배치 189 삽입 완료\n",
      "배치 190 삽입 완료\n",
      "배치 191 삽입 완료\n",
      "배치 192 삽입 완료\n",
      "배치 193 삽입 완료\n",
      "배치 194 삽입 완료\n",
      "배치 195 삽입 완료\n",
      "배치 196 삽입 완료\n",
      "배치 197 삽입 완료\n",
      "배치 198 삽입 완료\n",
      "배치 199 삽입 완료\n",
      "배치 200 삽입 완료\n",
      "배치 201 삽입 완료\n",
      "배치 202 삽입 완료\n",
      "배치 203 삽입 완료\n",
      "배치 204 삽입 완료\n",
      "배치 205 삽입 완료\n",
      "배치 206 삽입 완료\n",
      "배치 207 삽입 완료\n",
      "배치 208 삽입 완료\n",
      "배치 209 삽입 완료\n",
      "배치 210 삽입 완료\n",
      "배치 211 삽입 완료\n",
      "배치 212 삽입 완료\n",
      "배치 213 삽입 완료\n",
      "배치 214 삽입 완료\n",
      "배치 215 삽입 완료\n",
      "배치 216 삽입 완료\n",
      "배치 217 삽입 완료\n",
      "배치 218 삽입 완료\n",
      "배치 219 삽입 완료\n",
      "배치 220 삽입 완료\n",
      "배치 221 삽입 완료\n",
      "배치 222 삽입 완료\n",
      "배치 223 삽입 완료\n",
      "배치 224 삽입 완료\n",
      "배치 225 삽입 완료\n",
      "배치 226 삽입 완료\n",
      "배치 227 삽입 완료\n",
      "배치 228 삽입 완료\n",
      "배치 229 삽입 완료\n",
      "배치 230 삽입 완료\n",
      "배치 231 삽입 완료\n",
      "배치 232 삽입 완료\n",
      "배치 233 삽입 완료\n",
      "배치 234 삽입 완료\n",
      "배치 235 삽입 완료\n",
      "배치 236 삽입 완료\n",
      "배치 237 삽입 완료\n",
      "배치 238 삽입 완료\n",
      "배치 239 삽입 완료\n",
      "배치 240 삽입 완료\n",
      "배치 241 삽입 완료\n",
      "배치 242 삽입 완료\n",
      "배치 243 삽입 완료\n",
      "배치 244 삽입 완료\n",
      "배치 245 삽입 완료\n",
      "배치 246 삽입 완료\n",
      "배치 247 삽입 완료\n",
      "배치 248 삽입 완료\n",
      "배치 249 삽입 완료\n",
      "배치 250 삽입 완료\n",
      "배치 251 삽입 완료\n",
      "배치 252 삽입 완료\n",
      "배치 253 삽입 완료\n",
      "배치 254 삽입 완료\n",
      "배치 255 삽입 완료\n",
      "배치 256 삽입 완료\n",
      "배치 257 삽입 완료\n",
      "배치 258 삽입 완료\n",
      "배치 259 삽입 완료\n",
      "배치 260 삽입 완료\n",
      "배치 261 삽입 완료\n",
      "배치 262 삽입 완료\n",
      "배치 263 삽입 완료\n",
      "배치 264 삽입 완료\n",
      "배치 265 삽입 완료\n",
      "배치 266 삽입 완료\n",
      "배치 267 삽입 완료\n",
      "배치 268 삽입 완료\n",
      "배치 269 삽입 완료\n",
      "배치 270 삽입 완료\n",
      "배치 271 삽입 완료\n",
      "배치 272 삽입 완료\n",
      "배치 273 삽입 완료\n",
      "배치 274 삽입 완료\n",
      "배치 275 삽입 완료\n",
      "배치 276 삽입 완료\n",
      "배치 277 삽입 완료\n",
      "배치 278 삽입 완료\n",
      "배치 279 삽입 완료\n",
      "배치 280 삽입 완료\n",
      "배치 281 삽입 완료\n",
      "배치 282 삽입 완료\n",
      "배치 283 삽입 완료\n",
      "배치 284 삽입 완료\n",
      "배치 285 삽입 완료\n",
      "배치 286 삽입 완료\n",
      "배치 287 삽입 완료\n",
      "배치 288 삽입 완료\n",
      "배치 289 삽입 완료\n",
      "배치 290 삽입 완료\n",
      "배치 291 삽입 완료\n",
      "배치 292 삽입 완료\n",
      "배치 293 삽입 완료\n",
      "배치 294 삽입 완료\n",
      "배치 295 삽입 완료\n",
      "배치 296 삽입 완료\n",
      "배치 297 삽입 완료\n",
      "배치 298 삽입 완료\n",
      "배치 299 삽입 완료\n",
      "배치 300 삽입 완료\n",
      "배치 301 삽입 완료\n",
      "배치 302 삽입 완료\n",
      "배치 303 삽입 완료\n",
      "배치 304 삽입 완료\n",
      "배치 305 삽입 완료\n",
      "배치 306 삽입 완료\n",
      "배치 307 삽입 완료\n",
      "배치 308 삽입 완료\n",
      "배치 309 삽입 완료\n",
      "배치 310 삽입 완료\n",
      "배치 311 삽입 완료\n",
      "배치 312 삽입 완료\n",
      "배치 313 삽입 완료\n",
      "배치 314 삽입 완료\n",
      "배치 315 삽입 완료\n",
      "배치 316 삽입 완료\n",
      "배치 317 삽입 완료\n",
      "배치 318 삽입 완료\n",
      "배치 319 삽입 완료\n",
      "배치 320 삽입 완료\n",
      "배치 321 삽입 완료\n",
      "배치 322 삽입 완료\n",
      "배치 323 삽입 완료\n",
      "배치 324 삽입 완료\n",
      "배치 325 삽입 완료\n",
      "배치 326 삽입 완료\n",
      "배치 327 삽입 완료\n",
      "배치 328 삽입 완료\n",
      "배치 329 삽입 완료\n",
      "배치 330 삽입 완료\n",
      "배치 331 삽입 완료\n",
      "배치 332 삽입 완료\n",
      "배치 333 삽입 완료\n",
      "배치 334 삽입 완료\n",
      "배치 335 삽입 완료\n",
      "배치 336 삽입 완료\n",
      "배치 337 삽입 완료\n",
      "배치 338 삽입 완료\n",
      "배치 339 삽입 완료\n",
      "배치 340 삽입 완료\n",
      "배치 341 삽입 완료\n",
      "배치 342 삽입 완료\n",
      "배치 343 삽입 완료\n",
      "배치 344 삽입 완료\n",
      "배치 345 삽입 완료\n",
      "배치 346 삽입 완료\n",
      "배치 347 삽입 완료\n",
      "배치 348 삽입 완료\n",
      "배치 349 삽입 완료\n",
      "배치 350 삽입 완료\n",
      "배치 351 삽입 완료\n",
      "배치 352 삽입 완료\n",
      "배치 353 삽입 완료\n",
      "배치 354 삽입 완료\n",
      "배치 355 삽입 완료\n",
      "배치 356 삽입 완료\n",
      "배치 357 삽입 완료\n",
      "배치 358 삽입 완료\n",
      "배치 359 삽입 완료\n",
      "배치 360 삽입 완료\n",
      "배치 361 삽입 완료\n",
      "배치 362 삽입 완료\n",
      "배치 363 삽입 완료\n",
      "배치 364 삽입 완료\n",
      "배치 365 삽입 완료\n",
      "배치 366 삽입 완료\n",
      "배치 367 삽입 완료\n",
      "배치 368 삽입 완료\n",
      "배치 369 삽입 완료\n",
      "배치 370 삽입 완료\n",
      "배치 371 삽입 완료\n",
      "배치 372 삽입 완료\n",
      "배치 373 삽입 완료\n",
      "배치 374 삽입 완료\n",
      "배치 375 삽입 완료\n",
      "배치 376 삽입 완료\n",
      "배치 377 삽입 완료\n",
      "배치 378 삽입 완료\n",
      "배치 379 삽입 완료\n",
      "배치 380 삽입 완료\n",
      "배치 381 삽입 완료\n",
      "배치 382 삽입 완료\n",
      "배치 383 삽입 완료\n",
      "배치 384 삽입 완료\n",
      "배치 385 삽입 완료\n",
      "배치 386 삽입 완료\n",
      "배치 387 삽입 완료\n",
      "배치 388 삽입 완료\n",
      "배치 389 삽입 완료\n",
      "배치 390 삽입 완료\n",
      "배치 391 삽입 완료\n",
      "배치 392 삽입 완료\n",
      "배치 393 삽입 완료\n",
      "배치 394 삽입 완료\n",
      "배치 395 삽입 완료\n",
      "배치 396 삽입 완료\n",
      "배치 397 삽입 완료\n",
      "배치 398 삽입 완료\n",
      "배치 399 삽입 완료\n",
      "배치 400 삽입 완료\n",
      "배치 401 삽입 완료\n",
      "배치 402 삽입 완료\n",
      "배치 403 삽입 완료\n",
      "배치 404 삽입 완료\n",
      "배치 405 삽입 완료\n",
      "배치 406 삽입 완료\n",
      "배치 407 삽입 완료\n",
      "배치 408 삽입 완료\n",
      "배치 409 삽입 완료\n",
      "배치 410 삽입 완료\n",
      "배치 411 삽입 완료\n",
      "배치 412 삽입 완료\n",
      "배치 413 삽입 완료\n",
      "배치 414 삽입 완료\n",
      "배치 415 삽입 완료\n",
      "배치 416 삽입 완료\n",
      "배치 417 삽입 완료\n",
      "배치 418 삽입 완료\n",
      "배치 419 삽입 완료\n",
      "배치 420 삽입 완료\n",
      "배치 421 삽입 완료\n",
      "배치 422 삽입 완료\n",
      "배치 423 삽입 완료\n",
      "배치 424 삽입 완료\n",
      "배치 425 삽입 완료\n",
      "배치 426 삽입 완료\n",
      "배치 427 삽입 완료\n",
      "배치 428 삽입 완료\n",
      "배치 429 삽입 완료\n",
      "배치 430 삽입 완료\n",
      "배치 431 삽입 완료\n",
      "배치 432 삽입 완료\n",
      "배치 433 삽입 완료\n",
      "배치 434 삽입 완료\n",
      "배치 435 삽입 완료\n",
      "배치 436 삽입 완료\n",
      "배치 437 삽입 완료\n",
      "배치 438 삽입 완료\n",
      "배치 439 삽입 완료\n",
      "배치 440 삽입 완료\n",
      "배치 441 삽입 완료\n",
      "배치 442 삽입 완료\n",
      "배치 443 삽입 완료\n",
      "배치 444 삽입 완료\n",
      "배치 445 삽입 완료\n",
      "배치 446 삽입 완료\n",
      "배치 447 삽입 완료\n",
      "배치 448 삽입 완료\n",
      "배치 449 삽입 완료\n",
      "배치 450 삽입 완료\n",
      "배치 451 삽입 완료\n",
      "배치 452 삽입 완료\n",
      "배치 453 삽입 완료\n",
      "배치 454 삽입 완료\n",
      "배치 455 삽입 완료\n",
      "배치 456 삽입 완료\n",
      "배치 457 삽입 완료\n",
      "배치 458 삽입 완료\n",
      "배치 459 삽입 완료\n",
      "배치 460 삽입 완료\n",
      "배치 461 삽입 완료\n",
      "배치 462 삽입 완료\n",
      "배치 463 삽입 완료\n",
      "배치 464 삽입 완료\n",
      "배치 465 삽입 완료\n",
      "배치 466 삽입 완료\n",
      "배치 467 삽입 완료\n",
      "배치 468 삽입 완료\n",
      "배치 469 삽입 완료\n",
      "배치 470 삽입 완료\n",
      "배치 471 삽입 완료\n",
      "배치 472 삽입 완료\n",
      "배치 473 삽입 완료\n",
      "배치 474 삽입 완료\n",
      "배치 475 삽입 완료\n",
      "배치 476 삽입 완료\n",
      "배치 477 삽입 완료\n",
      "배치 478 삽입 완료\n",
      "배치 479 삽입 완료\n",
      "배치 480 삽입 완료\n",
      "배치 481 삽입 완료\n",
      "배치 482 삽입 완료\n",
      "배치 483 삽입 완료\n",
      "배치 484 삽입 완료\n",
      "배치 485 삽입 완료\n",
      "총 데이터 개수: None\n"
     ]
    }
   ],
   "source": [
    "points = [\n",
    "    {\n",
    "        \"id\": idx,\n",
    "        \"vector\": row['vector'],\n",
    "        \"payload\": {\n",
    "            \"발언자\": row['발언자'],\n",
    "            \"회의번호\": row['회의번호'],\n",
    "            \"발언내용\": row['발언내용']\n",
    "        }\n",
    "    }\n",
    "    for idx, row in data.iterrows()\n",
    "]\n",
    "\n",
    "# 데이터 삽입\n",
    "batch_size = 20  # 배치 크기 설정\n",
    "for i in range(0, len(points), batch_size):\n",
    "    batch = points[i:i + batch_size]\n",
    "    client.upsert(\n",
    "        collection_name=\"meeting_records\",\n",
    "        points=batch\n",
    "    )\n",
    "    print(f\"배치 {i // batch_size + 1} 삽입 완료\")\n",
    "\n",
    "# 삽입된 데이터 개수 확인\n",
    "collection_info = client.get_collection(\"meeting_records\")\n",
    "print(f\"총 데이터 개수: {collection_info.vectors_count}\")"
   ]
  },
  {
   "cell_type": "code",
   "execution_count": 25,
   "metadata": {},
   "outputs": [
    {
     "name": "stdout",
     "output_type": "stream",
     "text": [
      "총 데이터 개수: None\n"
     ]
    }
   ],
   "source": [
    "# 삽입된 데이터 개수 확인\n",
    "collection_info = client.get_collection(\"meeting_records\")\n",
    "print(f\"총 데이터 개수: {collection_info.vectors_count}\")"
   ]
  },
  {
   "cell_type": "code",
   "execution_count": 5,
   "metadata": {},
   "outputs": [
    {
     "name": "stdout",
     "output_type": "stream",
     "text": [
      "ID: 0\n",
      "회의번호: 52512\n",
      "요약된발언내용: 국회에서는 이태원 참사 진상규명과 재발방지를 위한 국정조사특별위원회를 개회하고, 위원장으로 우상호 위원을 선임했습니다. 회의 시작 전, 희생자들을 추모하는 묵념을 진행하였으며, 국정조사의 필요성과 책임에 대해 논의했습니다. 간사로는 더불어민주당의 김교흥 위원과 국민의힘의 이만희 위원이 각각 선임되었습니다. 모든 위원들은 진상 규명과 재발 방지 대책 마련을 위한 협력을 다짐했습니다. 국민의힘은 이태원 참사의 진상 규명과 재발 방지를 위해 국정조사를 진행하겠다고 발표했습니다. 국정조사는 여야 간의 신뢰와 합의에 바탕을 두고 진행할 방침이며, 조사의 목적은 참사의 원인 및 책임 소재 규명과 정부의 재난안전관리 체계 점검입니다. 조사 방법으로는 기관 보고, 서류 제출, 현장 조사, 청문회가 포함됩니다. 조사는 2022년 11월 24일부터 2023년 1월 7일까지 진행되며 필요시 연장 가능하다고 설명했습니다.\n",
      "\n",
      "전주혜 위원은 국정조사의 정치적 중립성을 우려하며, 조사계획서의 일부 내용에 반대 의견을 제시했습니다. 특히 대통령실 이전과 마약 범죄 단속이 참사의 원인으로 지적된 부분에 대해 반대했고, 대검찰청 포함의 적절성에 의문을 제기했습니다. 그녀는 대검찰청의 조사가 불필요하게 큰 영향을 미칠 수 있다는 우려를 표명했습니다. 이 내용은 이태원 참사와 관련하여 진행되는 국정조사 회의에서의 의견 교환을 담고 있습니다. 김교흥 간사는 대통령실의 용산 이전과 마약범죄가 참사에 미친 영향을 조사해야 한다고 주장하며, 여야 간의 합의를 강조합니다. 이만희 간사는 대검찰청의 증인 채택 문제에 대해 논의하고, 마약 수사 관련 질의 범위를 제한할 필요성을 언급합니다. 조수진 위원은 검수완박 법안으로 인해 마약 수사에 대한 검찰의 수사 권한이 축소된 상황에서의 문제가 있다고 지적하며, 국정조사의 범위에 대해 우려를 표합니다. 전체적으로 국정조사가 정쟁으로 흘러가지 않기를 바라며, 합의를 통해 효과적인 조사 진행을 요청하고 있습니다. 국정조사와 관련하여 특정 주제나 질의 범위를 제한하는 것이 불필요한 갈등을 초래할 수 있다는 우려가 제기되고 있습니다. 참석자들은 위원들이 서로 신뢰하고 조사를 진행해야 하며, 특정 주제를 다루는 방식에 있어 신중함이 필요하다고 강조하고 있습니다. 특히, 마약 관련 증인을 채택함에 따라 해당 사건과의 관련성에 대한 질의에 주력할 것을 당부하고, 테마에 대한 부정적인 낙인효과를 피하기 위한 언어 사용에도 주의할 필요성이 제기되었습니다. 또한, 조사 과정에서 진실을 규명하고 책임을 명확히 하며 재발 방지 대책을 마련하는 것이 중요하다는 의견이 모아졌습니다. 전체적으로, 조사 과정에서 각위원들이 자유롭게 활동할 수 있도록 보장해야 한다는 목소리가 강조되고 있습니다. 오늘 회의에서는 국정조사 계획서에 대한 논의가 이루어졌습니다. 위원들은 사회적 참사를 다루는 만큼 책임감과 국민의 목소리를 반영해야 한다고 강조했습니다. 국정조사는 국회 예산안이 통과된 후에 실시되며, 조사 기간은 45일로 설정되었습니다. 예비조사는 예산안 처리 이전까지 이루어질 예정입니다. 위원들은 자료 요청과 관련된 절차에 대해서도 논의하며, 자료 요청은 위원회 의결이나 3분의 1 이상의 요청이 필요하다는 점을 재확인했습니다. 또한, 예산안 통과 지연 시 조사의 일정 조정과 관련된 운영 방안에 대해서도 이야기가 오갔습니다. 위원들은 예산과 조사의 일정을 고려하여 현명한 접근 방식이 필요하다고 의견을 모았습니다. 이태원 참사와 관련하여 심리지원 체계의 필요성이 강조되고 있습니다. 생존자와 유가족들이 극단적인 선택을 하거나 우울증을 호소하는 사례가 있으며, 이러한 지원체계에 대한 점검과 예산 반영이 필요하다는 제안이 있었습니다. 특히, 사고 현장을 목격한 사람들의 트라우마 치료도 미비하다는 지적이 나왔습니다. 국정조사특위의 활동이 본격적으로 시작될 예정이며, 철저한 대책 마련과 국민의 눈높이에 맞는 노력이 강조되었습니다. 모든 위원들은 의견 제시 및 협조를 요청받으며 회의는 마무리되었습니다.\n",
      "\n",
      "ID: 1\n",
      "회의번호: 52622\n",
      "요약된발언내용: 제401회 국회(임시회) 제2차 용산 이태원 참사 진상규명과 재발방지를 위한 국정조사특별위원회가 개회되었습니다. 위원회는 이태원 참사에 대한 진상규명을 위해 구성되었으며, 예산안 처리 지연으로 남은 시간이 부족한 가운데도 현장조사 2회, 기관보고 2회, 청문회 3회를 실시할 계획입니다. \n",
      "\n",
      "회의에서는 기관증인 출석 요구 및 진상 규명을 위한 구체적인 절차가 논의되었고, 특히 국무총리의 증인 출석 필요성에 대한 의견이 제기되었습니다. 여야 간사단 협의를 통해 추가 논의가 필요하다는 목소리도 있었습니다. 위원들은 이태원 참사의 진상을 밝히기 위해 최선을 다하겠다고 다짐했습니다. 이번 국정조사에서는 국무총리의 운영 기관에 대한 점검이 주요 내용으로 강조되었고, 여야 간사 간 협의를 통해 국무총리를 증인으로 포함해야 한다고 제안되었습니다. 안건 처리 후 의사진행발언을 통해 위원들은 국정조사 기간 연장과 현장 조사 필요성을 언급했습니다. 특히, 현장 점검의 중요성을 강조하며 비공식 조사의 필요성을 제기했습니다. 또, 여당 위원들의 불참에 유감을 표하고 국정조사가 제대로 진행될 수 있도록 노력해야 한다는 의견이 있었습니다. 전반적으로 국정조사에 대한 강화된 필요성과 전문위원 지정 및 자료 제출에 대한 요구가 있었습니다. 국정조사특위의 현장조사가 일정에 맞춰 진행될 수 있을지 우려가 제기되고 있으며, 부실한 자료 제출과 촉박한 시한이 주요 문제로 지적되고 있습니다. 위원들은 추가 일정 확보와 법적 제재 필요성을 강조하며, 여당의 참여가 부족한 상황에 대한 유감을 표명하고 있습니다. 또한, 여야 협의의 중요성과 국민과의 약속을 강조하며, 안타까운 상황이 계속되고 있다고 언급했습니다. 마지막으로, 행안부장관이 현재 경찰 조직 개편에 대해 언급한 점이 부적절하다는 비판도 있었습니다. 위원들은 국정조사 진행을 위해 노력하겠다고 다짐했습니다. 경찰 인사개편안 발표가 현재 상황에 대한 태도를 드러내고 있으며, 이에 대해 중립성을 유지하고 조사 결과를 겸허히 지켜봐야 한다고 강조하고 있습니다. 또한, 안건 처리에 집중하기 위해 말수를 줄이겠다는 의사를 밝히고, 이상민 장관 출석 시 위원들이 다양한 의견을 제시할 것을 권장했습니다. 마지막으로, 국정조사가 지연됨에도 불구하고 위원회 활동을 지켜보는 국민들을 염두에 두고 최선을 다할 것을 당부하며 회의를 마쳤습니다.\n",
      "\n",
      "ID: 2\n",
      "회의번호: 52629\n",
      "요약된발언내용: 헌법 제61조와 국회법 제127조에 따라 제401회 국회(임시회) 이태원 참사 진상규명 및 재발방지 위한 국정조사가 개회되었습니다. 위원회는 이태원 참사와 관련된 기관에 대한 현장조사를 실시했으며, 오늘과 오는 목요일 두 차례에 걸쳐 기관보고를 진행합니다. 이번 보고의 목적은 참사의 원인 및 책임을 규명하고 향후 재발 방지를 위한 개선사항을 도출하는 것입니다. 위원장은 증인들의 출석을 촉구하며, 증인은 양심에 따라 사실대로 증언할 것을 선서했습니다. 이후 국정상황실장이 보고를 시작했습니다. 이태원 참사와 관련하여, 희생자와 유가족에게 위로의 말씀을 전하며 정부의 책임을 인정하고 재발 방지를 위해 노력하겠다고 하였습니다. 사고 발생 후 대통령실의 신속한 대응과 여러 차례의 긴급 회의가 진행되었고, 합동분향소 설치 및 애도기간을 설정하여 희생자들을 기렸습니다. 국무총리실은 재난 대응 체계와 관련하여 긴급 구조 및 복구 절차를 설명하며, 참사 후 유가족 및 부상자에 대한 지원을 강화하고 안전 관리 체계를 점검하겠다고 보고하였습니다. 전반적으로, 정부는 철저한 진상 규명과 안전한 사회를 구축하기 위한 노력을 다하겠다고 강조했습니다. 이태원 참사 이후 희생자 장례 절차와 후속 지원 조치가 완료되었고, 중앙재난안전대책본부는 해제되었습니다. 현재 원스톱 통합지원센터를 통해 유가족과 부상자 지원에 집중하고 있습니다. 이 센터는 유가족의 민원을 신속히 처리하고 지원 내용을 안내하는 역할을 하며, 유가족의 요청 사항에 대해서는 정부와 지자체가 협력하여 지원 방안을 논의할 예정입니다. \n",
      "\n",
      "행정안전부는 참사의 원인을 의혹 없이 규명하고 유사 사건의 재발을 방지하기 위해 다중 밀집 인파 사고 관리 제도화를 추진하고 안전 시스템 개편을 계획하고 있습니다. 보건복지부는 의료 지원과 심리적 회복에 초점을 맞추며, 참사로 인한 피해자들에 대한 치료비와 심리적 지원을 강화할 것입니다. 또한, 각 부처는 사고 관련 대책을 마련하고 국민의 안전을 위한 사전 준비를 충실히 하겠다고 밝혔습니다. 위 텍스트에서 경찰청장과 소방청장직무대리의 발언이 포함된 국정조사 보고 내용을 요약하면 다음과 같습니다:\n",
      "\n",
      "경찰청장은 이태원 참사로 많은 희생자가 발생한 데 대해 안타까움을 표하고, 유가족과 부상자에게 애도의 뜻을 전했습니다. 경찰은 참사를 계기로 국민 안전에 대한 책임을 다하겠다고 약속하며, 현장 조치와 사후 수습 방안에 대해 상세히 보고했습니다. 핼러윈 축제 대비와 사고 발생 직후 경찰의 즉각적인 대응 조치, 피해자 지원 활동 등을 설명했습니다. 또한, 경찰은 재난 대응 체계를 강화하고 인파 관리와 상황 관리 체계를 근본적으로 혁신하겠다는 의지를 밝혔습니다.\n",
      "\n",
      "소방청장직무대리도 이태원 참사로 인한 희생자와 부상자에게 위로의 뜻을 전하며, 소방의 구조 활동이 미흡했던 점에 대해 사죄했습니다. 소방은 참사 관련 대응 활동을 보고했으며, 사건 발생 후 신속한 대처의 중요성을 강조했습니다. \n",
      "\n",
      "전체적으로 경찰과 소방 각각의 노력을 통해 재난에 대비하고 안전 체계를 강화하겠다는 메시지가 전달되었습니다. 이태원 참사에 대한 보고에서는 소방 및 경찰의 대응과 개선 사항들이 언급되었습니다. 소방본부는 22시 29분에 현장 도착 후 상황의 심각성을 판단하여 단계별 대응을 실시하였고, 119구급팀은 구급차를 대규모로 현장 배치했습니다. 사고 발생 후 긴급 심리지원과 전문 치료도 이루어졌으며, 재발 방지를 위한 다양한 TF팀이 구성되었습니다. \n",
      "\n",
      "경찰 측에서는 핼러윈을 대비한 계획이 수립되었지만 사고를 예방하지 못한 점에 대해 책임을 통감하며, 상황에 따라 인파 밀집 추적 및 대응체계를 강화할 것이라고 밝혔습니다. 또한, 112 신고 감지 시스템과 다중운집 상황에 대한 선제적 관리 방안을 마련하는 등 개선 노력을 다짐했습니다. 각 기관은 참사의 교훈을 바탕으로 재발 방지를 위해 더욱 진지하게 대응하겠다고 밝혔습니다. 이 글에서는 인파 안전사고 예방 및 대응을 위한 조직 역량 결집을 강조하며, 현재 국정조사에서 유가족 대표와 여러 유가족이 대기 중임을 알리고 있다. 이어서 질의응답 시간을 갖고, 의원들이 자료 제출 요구 및 의사진행발언에 대해 논의한다. 특히, 야당 의원들이 요청한 자료가 제대로 제출되지 않고 있는 문제를 지적하며, 이러한 행위가 국정조사의 권위를 무력화하는 것이라는 우려를 표명한다. 의원들은 고위 공무원의 통화 기록과 참사 당일의 지시 내역 등 중요한 자료의 제출을 요구하며, 경찰청장의 행적에 대한 질문도 이어진다. 전반적으로 정부 및 대통령실의 자료 제출에 대한 강한 비판과 요구가 담겨 있다. 회의에서 주요 자료 제출에 대한 요구가 있었습니다. 10월 29일 이태원 참사 당일과 관련된 구체적인 동선, 신용카드 사용 내역, 위치 정보 등 다양한 자료를 제출해 줄 것을 요청했습니다. 경찰 관련 자료인 PORMS에 대한 제출도 요구했으나 경찰은 이에 대한 열람을 제한하겠다는 답변을 했습니다. 위원들은 행정안전부와 관련 기관들이 요청된 자료를 적극적으로 제출해야 하며, 국정조사가 제대로 진행되기 위해서는 자료의 완전한 제출이 필수적이라고 강조했습니다. 또한, 재난안전의 컨트롤타워에 대한 논의도 있었으며, 최종 책임자는 대통령이라는 언급이 있었습니다. 이 텍스트는 재난 관리에 대한 정부 내부 논의와 관련된 내용을 다루고 있습니다. 발언자는 국가안보실과 대통령비서실이 국가 위기 관리의 컨트롤타워로 명시되어 있음에도 불구하고 정보 제공을 거부하고 있다고 주장합니다. 대통령은 국정에 대한 총괄 책임이 있다고 언급했지만, 대통령비서실장은 이에 대해 상반된 발언을 했다는 점에서 논란이 일고 있습니다. 또한, 국가안보실이 재난 대응과 관련된 공식 문서에서 그 역할을 부인함으로써 법적인 문제가 발생할 수 있다는 지적도 포함되어 있습니다. 대화는 국정 감시와 재난 관리 책임에 대한 해석 차이로 인한 긴장감을 보여줍니다. 이 텍스트는 정부의 위기 관리와 관련한 국정조사에서의 질의응답을 다루고 있습니다. 장관이나 비서실장이 언급한 대통령의 책임에 대해 설명하며, 대통령실의 보고 프로세스가 다른 부처보다 신속했음을 강조합니다. 이태원 참사 당시의 대응 상황을 비교하면서, 대통령의 초기 보고가 얼마나 빠르게 이루어졌는지를 언급하고, 다른 기관들의 대응 속도와 차이를 지적합니다. 또한, 정부 위기관리 시스템에 대한 개선 필요성과 부처 간의 보고 체계에 대한 관심을 요청합니다. 마지막으로 국가안보실의 역할과 재난 관리 회의의 개최 여부에 대한 질문이 있습니다. 이 텍스트는 10월 29일 이태원 사고와 관련된 국가 위기 관리 및 대응 회의에 대한 질문과 답변을 다룹니다. 발언자는 위기관리센터에서 국가위기평가회의가 개최되지 않았음을 지적하고, 상황 전파 및 초기 대응의 실패를 강조합니다. 또한, 사고 당시 보고 시간이 지연되었고, 골든타임을 놓쳤다는 점을 비판합니다. 이에 따라, 대통령실의 대응 방식과 지시가 적절했는지 의문을 제기하며, 위기관리 시스템의 중요성을 언급합니다. 마지막으로, 재난 발생 시 구조의 필요성과 긴급구조통제단의 역할에 대해 설명하며 과거 사고와의 비교를 통해 개선 사항을 논의합니다. 중대본부장인 행안부장관과 국무총리는 긴급구조에 직접적으로 관여할 수 없으며, 구조통제단장이 현장을 직접 지휘해야 한다고 강조하고 있습니다. 이태원 참사와 같은 비극적인 상황에서는 신속한 응급구조가 가장 중요하다는 의견이 있습니다. 또한 국가위기관리지침과 재난안전법의 차이에 대한 논의가 있었으며, 법이 우선해야 한다고 확인했습니다. 사고나 재난 발생 시 현장을 통제할 수 있는 명확한 지휘체계가 필요하다는 점이 강조되었습니다. 예방과 대응 부문에서의 실패도 언급되었으며, 구급차와 관련된 문제에 대한 개선이 필요하다는 의견이 나왔습니다. 마지막으로 국가위기관리지침의 개정이 지연되고 있으며, 이에 대한 실무 매뉴얼이 요구되고 있습니다. 이 텍스트는 국가위기관리센터와 국정상황실의 역할에 대한 논의로, 재난 상황에서 이들 기관이 제대로 기능하지 못했다는 비판을 중심으로 전개된다. 특히, 이태원 참사와 같은 재난에서 국가위기관리센터가 제 역할을 하지 못하고 국정상황실이 주도적인 역할을 했다는 점이 강조된다. 위원은 재난 발생 후 신속한 대응이 이루어지지 않았고, 각 기관의 컨트롤타워 역할이 제대로 수행되지 않았다고 지적하며, 이러한 상황이 더 많은 인명 피해로 이어졌다고 주장한다. 국정상황실 실장은 재난 대응의 최선을 다했음을 강조하며, 그러나 희생자들을 고려할 때 잘했다고 말할 수는 없다고 언급한다. 이어서 각 기관의 보고 체계 문제를 지적하며, 그로 인해 종합적인 컨트롤타워 역할이 부족했음을 인정한다. 이 대화는 10.29 이태원 참사와 관련된 경찰 대응 및 정부의 협력 체제에 대해 다루고 있습니다. 청장님은 경찰의 경력 배치 결정 권한을 가지고 있으며, 핼러윈 기간의 위험성을 고려해 대책을 마련했다고 설명합니다. 그러나 청장님이 용산경찰서의 경력 요청을 정확히 인지하지 못한 점과 이후의 경력 배치 문제에 대한 질의가 이어집니다. 위기관리센터의 대응과 상황전파에 대한 비판도 존재하며, 국가적 재난에 대한 즉각적인 대응이 부족했다고 지적됩니다. 대화의 핵심은 경찰과 정부 부처 간의 협력이 제대로 이루어지지 않았다는 점을 강조하고 있습니다. 대통령실의 국가위기관리 기본지침 위반에 대한 질문이 이어지는 가운데, 위원은 현 정부가 이전 정부의 지침을 무시하고 있으며, 참사가 발생한 이유로 정부 대응이 부족했음을 지적했습니다. 위원은 정부 부처 간 협의와 매뉴얼 수정이 필요하다고 강조하며, 위기관리 표준매뉴얼을 준수해야 한다고 주장했습니다. 특히, 대통령이 참사 인지 후 긴급상황점검회의를 99분 후에 소집한 점을 비판하며, 초기 대응의 실패를 지적했습니다. 위원은 대통령실과 국가위기관리센터의 역할을 강조하고, 향후 청문회에서 관련자들의 증언이 필요하다고 언급했습니다. 김교흥 위원은 이태원 참사의 책임을 강조하며, 국가 안전 시스템의 붕괴를 지적했습니다. 그는 대통령과 주요 책임자들이 재난 발생 시 적절한 조치를 취하지 않았고, 골든타임을 놓쳤다고 주장했습니다. 또한, 현장에서의 인명 구출이 시급했으나 관련 부처들이 소통 없이 혼란스러운 대응을 했음을 비판했습니다. 위원은 책임을 져야 할 사람들이 모른다고 일관되게 주장하는 상황에 안타까움을 표하며, 재난 관리의 체계적 접근이 부족했다고 지적했습니다. 위원님들은 질의에 대한 답변 기회를 보장해 주기를 바라고 있으며, 이를 통해 관계 기관들이 국민들에게 역할을 설명할 수 있도록 해야 한다고 강조했습니다. 전주혜 위원은 10.29 참사로 인한 희생자들과 피해자에게 위로의 말을 전하고, 사고에 대한 진상조사에서 책임을 구체적으로 물어야 한다고 주장했습니다. 또한, 많은 인파의 예측 실패와 신고 내용에 대한 안일한 대응, 그리고 시스템 부족을 지적하며 향후 대응책의 초점을 이 세 가지 문제에 맞춰야 한다고 강조했습니다. 경찰청장에게는 9시 코드제로 상황에 대한 안일한 대응을 비판하며, 신고 체계와 근무 규칙 개선이 필요함을 언급했습니다. 본문에서는 112 신고 체계의 문제점과 이태원 참사 당시의 긴급 대응에 대한 논란을 다루고 있습니다. 특정 담당자들이 상황을 제대로 처리하지 못한 점을 지적하며 체계적인 관리 시스템의 필요성을 강조하고 있습니다. 이후 119 신고가 이루어진 뒤 신속한 대응이 있었던 점도 언급되며, 이와 관련된 자료 요청이 이어집니다. 여러 관계자들이 대통령실 긴급회의에 참석하지 않았던 사실이 밝혀지며, 언론에 보도된 내용과 실제 상황이 다르다는 문제도 제기됩니다. Ultimately, 이는 정부의 대응 신뢰성에 대한 의문을 낳고 있습니다. 이 텍스트는 대통령의 지시사항이 관계부처에 제대로 전달되지 않은 문제에 대한 질의와 답변을 다루고 있습니다. 질의자는 대통령이 행정안전부 장관에게 지시한 사항이 언론을 통해서만 확인된 상황을 비판하며, 국가 재난안전 시스템의 엉망인 구조를 지적합니다. 또한, 질의자는 이러한 문제를 인정하고 앞으로의 보완을 약속해야 한다고 주장합니다. 최종적으로는 현장에서 상황을 잘 아는 경찰관과 소방공무원들이 직접 문제를 호소했음에도 불구하고, 지휘 책임자들이 적절한 대책을 세우지 못한 현실을 지적하며 시스템 개선에 대한 필요성을 강조합니다. 이 회의에서는 이태원 참사와 관련하여 국가 재난 안전 컨트롤타워의 역할과 책임에 대해 질의가 이어지고 있습니다. 여러 위원들은 문재인 정부의 재난 관리 지침과 현재 정부의 입장이 충돌하고 있음을 지적하며, 재난 컨트롤타워의 정의와 역할에 대해 질문하고 있습니다. 국정상황실장과 행안부 장관은 중앙안전대책본부가 컨트롤타워라는 의견을 지지하고 있으나, 현장 소방서장의 역할과 책임에 대한 논의가 진행되고 있습니다. 특히, 용산 소방서장이 현장에서 제 역할을 다하지 못했음이 지적되며, 경찰과의 협력 부족으로 인해 참사의 규모가 확대되었다는 주장도 제기되고 있습니다. 전체적으로 재난 대응 체계의 안일함과 책임 소재에 대한 진솔한 검토가 필요하다는 의견이 강조되고 있습니다. 차량이 의료진의 접근을 막고 있어 경찰이 구급차의 출동을 지연시키고 있다는 보고가 있습니다. 현장에서 구급차가 부족해 환자들이 하늘에 무수히 눕고 있는데, 소방과 경찰 간 공동 대응이 적절하게 이루어지지 않았다는 점이 문제로 지적되고 있습니다. 경찰청장은 재난 상황에서의 공동 대응 요청을 받지 못하여 참사를 예방하지 못한 것에 대한 아쉬움을 표했습니다. 국가의 재난 대응 시스템에 대한 비판도 이어졌습니다. 재난 관리의 책임이 각 기관 간에 명확하게 전달되지 않으며, 재난 대응의 통솔력이 부족하다는 주장이 있었습니다. 이에 따라, 중대본을 통한 통합적 대처의 필요성이 강조되고, 정치적으로 혼란스럽지 않도록 해야 한다는 의견도 나왔습니다. 이 복잡한 사안은 여야 모두가 서로 책임을 떠넘기는 상황에서 발생하며, 이런 문제들을 개선해야 한다는 목소리가 높습니다. 이 대화에서는 대형 참사와 관련된 국회의원의 책임과 대처 방식에 대한 논의가 이루어집니다. 발언자는 정치적 지위와 권세가 위력으로 인정되는 판례를 언급하며, 국회의원이 이를 이용해 닥터카를 부르거나 관용차에 편승한 사건에 대해 비판합니다. 닥터카 사용으로 인해 긴급 의료 지원이 지연될 가능성에 대한 우려도 나타납니다. 장관은 중대본 설치의 중요성을 강조하지만, 즉각적인 구조와 응급조치가 더 중요하다고 주장합니다. 발언자는 대통령이 재난 안전의 컨트롤타워라고 선언했음에도 불구하고 정치적 책임을 회피하는 듯한 행동에 대해 비판하고, 공직사회의 관행을 개선해야 한다고 강조합니다. 이태원 참사와 관련된 국정조사에서 오영환 위원이 소방청장 직무대리에게 질의했습니다. 그는 대형 참사로 인한 인명 피해에 대해 위로를 전하며, 재난 상황에서 소방의 긴급구조 지휘 책임을 강조했습니다. 위원은 소방이 최선을 다했음에도 인력 부족과 미흡한 지휘로 인해 많은 인명 피해가 발생했음을 지적했습니다. 특히 경찰의 초기 응답이 부족했고, 구조작업의 효율성이 떨어졌다는 문제를 다루었습니다. 국정조사에서 오 위원은 법상의 지휘 총괄 조정과 각 기관의 역할 수행의 중요성을 반복적으로 강조하며, 사건 당시 통신과 지원 요청의 문제를 파악하려 했습니다. 이 회의에서 김형동 위원은 이태원 참사로 유명을 달리한 160여 명을 추모하며 책임 문제에 대해 심도 있는 질의를 시작했다. 그는 국정조사에서 대통령이 사건의 모든 책임을 져야 한다는 주장에 반대하면서, 상황실과 재난 대응 체계에 관해 논의했다. 소방청 대리와 국정상황실장이 참석한 가운데 중대본의 빠른 구성과 긴급구조의 중요성을 강조하였다. 그러나 논의가 구체적인 책임 소재로만 치우치는 것은 무익하다고 언급하며, 보건복지부 차원에서의 조사를 요청했다. 구급차 동원 및 피해자 케어 관련 자료 제출도 요청되었으며, 치료를 거부하는 유가족에 대한 파악도 필요하다고 말했다. 발言자는 치료를 거부하는 사람들을 도와야 한다고 주장하며 정부의 적극적인 개입을 요구했습니다. 이어서, 유족 명단과 관련해 행정안전부 장관에게 질문하면서, 장관의 이전 발언이 부적절했고, 유족의 신원 확인이 충분히 이루어지지 않았다는 문제를 지적했습니다. 발언자는 정부가 유족 명단을 빠르게 확보하고, 시장에게 의존하지 말고, 직접 책임지고 조치를 취해야 한다고 강조했습니다. 또한, 일정한 지시를 받고도 행동하지 않은 정부의 직무 태만을 비판했습니다. 유족들과의 연락을 통해 사망자 명단의 일대일 매칭이 이루어졌으며, 이 과정에서 행정안전부 장관의 지시에 따라 서울시가 작업을 진행했다고 설명되고 있습니다. 서울시는 유족 정보를 관리했으나, 개인정보 보호 문제로 인해 정보 공유에 어려움이 있었습니다. 경찰은 사망자 신원 확인을 했고, 이를 중대본에 전달했지만 행안부는 이 정보를 공유받지 못한 상황이었습니다. 유족들 중 일부는 개인 정보 노출을 원치 않는 경우도 있어, 명단 공유가 조심스러웠던 점이 강조되었습니다. 이러한 과정에서 대통령 지시와 관련해 중간에서 일이 제대로 이루어지지 않았다는 비판이 제기되었습니다. 이 대화는 재난의료 지원체계와 관련된 의사소통에 대한 논의입니다. 응급의료 시스템의 컨트롤타워에 대한 질문이 있으며, 현장에서의 지휘는 소방서장과 보건소장이 맡고 있음을 밝혔습니다. 그리고 이태원 사고 후 재난의료체계의 운영에 대한 평가가 진행 중이라는 언급도 있으나, 공식적인 평가 회의는 없었던 것으로 나타났습니다. 대화 중 신현영 의원의 행동에 대한 비판과 응급 대응체계의 비효율성에 대한 지적이 이어지며, 복지부의 대응 및 대통령의 지시에 대한 반응도 언급되었습니다. 위원들은 이에 대해 증인 채택과 자료 제출 요구 등도 제기하면서 사건에 대한 깊은 논의가 필요하다는 점을 강조하고 있습니다. 청장님에게 질문한 내용에서는 경찰 조직의 책임과 청장님의 서울 비우기 결정에 대한 의문이 제기되고 있습니다. 한복판에서 대참사가 발생했음에도 불구하고 청장님이 서울을 비우고 충북으로 갔던 이유에 대한 자료 요구와 과거 경찰청장들의 관행을 언급하며 비판이 이어졌습니다. 청장님은 해당 날 상황을 인지하고 출발했음을 주장했으나, 응답이 늦었다는 점과 상황 파악의 부재에 대한 지적이 있었습니다. 이어서, 청장님의 동반 경찰관에 대한 질문과 그에 대한 변명 또한 혼란스러운 상황으로 비춰졌습니다. 결국, 청장님의 결정과 행동이 적절했는지에 대한 의심이 남았습니다. 회의 중 의사진행발언을 하려던 조수진 위원이 윤석열 대통령의 발언을 언급하며 사망자 신원 확인과 관련한 문제를 제기하려고 했으나, 다른 위원들의 반대와 중재로 논란이 일어났다. 위원장과 다른 위원들은 질의시간에 해야 할 내용을 의사진행발언으로 하고 있다고 지적했으며, 이 과정에서 정부에 대한 신뢰 문제와 유가족의 마음을 고려해야 한다는 주장도 나왔다. 결국, 국회의원들이 더 이상의 논쟁을 피하고 질의를 진행하도록 유도하는 방향으로 정리되었다. 이 텍스트는 한국의 복지부 장관에 대한 심리 상담 및 유가족 지원 요청, 그리고 행정안전부 장관에게 재난 안전관리 법규에 관한 질의를 포함하고 있습니다. 한 위원은 생존 고등학생의 극단적 선택 사건 이후 심리상담 및 치료 관련 자료 제출을 요청하며, DMAT 외에 DPAT 도입 가능성도 문의합니다. 이후 권칠승 위원은 사고 당시 신원 확인 및 정보 공유에 대한 문제를 제기하고, 이해식 위원은 재난 안전관리 기본법에 따라 개인정보 자료 요청을 강조합니다. 마지막으로 조은희 위원은 사고 당일 중증환자 이송에 관한 효율성을 질의합니다. 전반적으로 위기 관리 및 재난 대처에 대한 정부의 대응과 절차에 대한 비판이 담겨 있습니다. 이송 매뉴얼에 따르면 긴급환자, 응급환자, 비응급환자, 사망자 순으로 이송해야 한다. 그러나 실제 사건 당시, 순천향병원에 사망자가 먼저 이송되어 76명이 이미 사망하였고, 대상 환자들이 멀리 이송된 것으로 보인다. 현장에서는 긴급환자를 받지 않겠다는 보고가 있었음에도 불구하고, 소방서장은 사망자를 이송하라는 지시를 계속했다. DMAT팀이 도착했지만, 사망판정과 환자 분류가 제대로 이루어지지 않아 생존할 가능성이 있는 환자들이 희생된 사례도 있었다. 이러한 문제들은 복지부와 소방청 간의 소통 부족에서 비롯되었으며, 이는 응급구조 시스템의 심각한 결함을 시사한다. 이로 인해 향후 개선 필요성이 강조되었다. 이 발언은 이태원 참사와 관련된 정부의 대응에 대한 질의와 답변 내용입니다. 의원은 행안부 장관에게 대통령에게 보고한 상황이나 재난 대응을 두고 문제가 없었는지 질문합니다. 장관은 특별히 문제가 없다고 답하며, 상황 파악 지시가 빈약했다고 지적받습니다. 또한, 언급된 인파와 관련하여 압사 사고의 원인에 대한 질문이 이어지고, 상황 전파의 지연과 이동 시간에 대해서도 비판을 받습니다. 의원은 이러한 대응이 안전에 대한 불감증이라고 언급하며, 통화 기록 제출도 요청합니다. 이 대화는 의원의 질의에 대한 대답을 중심으로 이루어집니다. 의원은 DMAT 인력의 자격 요건에 대해 묻고, 신현영 의원이 교육을 받지 않았음을 지적하며 자격이 없는 인원이 구급 현장에서 문제가 있었다고 주장합니다. 또한, DMAT 출동 과정에서 신 의원의 개입으로 지연됐고, 이로 인해 긴급 환자들이 영향을 받았다고 강조합니다. 국정상황실장에게 국가위기관리센터의 운영 변경에 대해 질문하며 새로운 정부가 재난 대응 시스템을 약화시켰다는 점을 비판합니다. 진행 중인 대화는 구체적인 사건과 관련된 문제를 드러내며 재난 대응 체계에 대한 우려를 나타냅니다. 이 글에서는 재난 관리 체계와 관련된 문제들이 논의되고 있습니다. 체계 개편 과정에서 국가위기관리센터의 역할에 대한 비판이 있으며, 피해자들의 사망 원인과 현장 대응 방식에 대한 의문이 제기됩니다. 특히, 보고된 사망 시각과 목격자 증언이 상충하는 점이 문제로 지적됩니다. 또한, 서울경찰청장과의 질의응답 과정에서 인파 관리와 범죄 예방 대책에 대한 청장의 발언이 상이하다는 점이 지적되며, 책임 회피로 비춰질 수 있다는 우려가 표현됩니다. 결국, 사건의 심각성을 감안할 때 공직자들이 책임감을 가지고 대처해야 한다는 의견이 강조되고 있습니다. 이 텍스트는 이태원 참사와 관련된 질의 및 논의 내용을 담고 있습니다. 주요 내용은 DMAT팀의 출동과 응급환자 이송 체계의 문제점, 신현영 의원과의 통화 내용, 그리고 서울경찰청의 범죄 예방 및 인파 관리에 대한 대응에 대한 비판이 포함되어 있습니다. 경찰청장과 보건복지부 장관에 대한 질문도 이어지며, 경찰의 다중운집 행사에 대한 경비 대책 수립에 대한 의문이 제기되고 있습니다. 위원들은 사고 대응 및 매뉴얼 부재에 대한 문제를 지적하며 책임을 요구하고 있습니다. 이 대화에서는 이태원 참사와 관련하여 서울 경찰청의 대응 방식과 그에 대한 비판이 다뤄집니다. 경찰청은 크리스마스와 같은 다중 인파가 예상되는 행사에 대한 안전 관리 계획을 세웠음을 강조하지만, 이태원 참사에 대해서는 주최가 명확하지 않다는 이유로 대응을 미숙하였다고 주장하고 있습니다. 또한, 행안부장관에게 중대본의 역할에 대해 비판하며, 현장에서의 긴급 구조와 차량 통제 같은 지시가 필요했음을 지적합니다. 전체적으로 무사안일한 태도와 예방 조치를 취하지 못한 상황에 대한 반성과 책임 회피 문제를 논의하였습니다. 이 텍스트는 이태원 참사와 관련된 경찰 및 정부의 대응에 대한 질의응답 내용을 담고 있습니다. 참석자는 심정지 환자 중 1명만 생존한 이 통계로부터 보건복지부의 적절한 대처 없이는 더 많은 인명을 구할 수 있었음을 언급하고, 경찰의 인력 배치 및 대응이 부족했다고 비판합니다. 특히, 핼러윈 행사에 대한 인식과 대응 시점에 대한 문제 제기, 그리고 현장 응급조치와 관련된 지휘 체계의 잘못된 작동 등을 강조합니다. 추가로, 재난 현장에서 국회의원의 역할에 대한 의견도 나누어지며, 앞으로의 대처 방안에 대한 필요성이 제기됩니다. 이 텍스트는 핫라인 번호 공개와 관련된 논의와 긴급 상황에서의 공직자의 행동에 대한 질문 및 답변으로 구성되어 있습니다. 발언자는 핫라인 시스템의 부적절성과 관련하여 공정성과 상식에 반하는 결과에 대해 우려하며, 핫라인 번호 공개는 매뉴얼에 위배된다고 지적합니다. 또한, 특정 의원이 중앙의료원으로 가는 과정에서 동승 의사를 표명한 사례를 언급하며, 공직자의 행동이 적절하지 않았다고 언급합니다. 마지막으로 경찰청장이 희생자 명단 관리에 대해 정정 발언을 하고, 서울경찰청장의 지휘 책임에 대한 비판이 이어집니다. 전체적으로 정부의 위기 대응 및 공직자의 행동에 대한 의문과 비판이 담겨 있습니다. 서울경찰청장이 이태원 인파 운집과 관련하여 경찰 내부의 정보 보고서 삭제 및 조작에 대한 책임을 인정하고 있음을 나타내는 질의응답이 진행되었습니다. 여러 위원이 유가족들의 항의와 관련하여 회의의 질서 유지를 요청하며 정회가 있었습니다. 질의 중, 서울청장이 특정 상황에 대한 보고를 받지 않았으며, 용산서에서만 지자체와 소방과 협의했다는 점이 강조되었습니다. 이후, 삭제된 정보 보고서가 포렌식을 통해 복구되었다는 언급과 함께, 이와 관련해 구속된 관련자들이 있다는 사실이 드러났습니다. 경찰청장은 해당 사건에 대한 다양한 억측이 존재함을 인정했습니다. 이 글은 청장님과의 대화에서 청장님의 직무가 수사에 미치는 영향과 관련된 우려를 표현하는 내용입니다. 발언자는 청장님이 지휘 라인에 있어 수사 관련 정보가 삭제되고 있다는 의혹이 계속 제기되고 있으며, 이로 인해 용산서의 정보계장이 자살한 사건이 발생했다고 주장합니다. 이에 대한 청장님의 반박이 이어지지만 발언자는 청장님의 사퇴가 필요하며, 현직에 있는 이상 정보 삭제와 왜곡이 계속될 것이라고 강조합니다. 또한, 재난안전 컨트롤타워인 중대본의 역할 부재와 재난안전통신망의 비효율성에 대한 비판도 포함되어 있습니다. 발언자는 후속 대책의 필요성을 언급하며, 중대본의 역할 인식 부족이 참사의 주요 요인이라고 지적합니다. 국내 재난안전 관련 논의에서 중대본의 운영 종료 시점과 재난안전통신망의 문제점이 논란이 되었다. 중대본의 운영을 종료한 이후에도 재난 상황이 발생했고, 재난안전통신망이 제대로 작동하지 않아 문제가 발생했다고 주장했다. 또한, 국무총리가 중대본의 운영 기간에 대한 기자 질문에 \"기한은 없다\"라고 답한 사안을 문제 삼으며, 제도적 개혁이 목표가 아니라는 점에서 총리의 발언에 대한 불만을 드러냈다. 이어서 신현영 의원에 대한 비판도 있었으며, 응급의료 팀의 출동 시간 지연과 의원의 행동이 의료진의 명예를 훼손했다는 주장이 제기되었다. 이 텍스트에서는 의료현장에서 발생한 문제와 관련된 긴급 상황 대응에 대한 질의와 논란을 다루고 있습니다. 부정확한 대응으로 인해 대형 참사 상황에서 복지부 장관과 의료진의 책임이 강조되며, 구급대원과 보건소장의 역할 부재가 지적됩니다. 신현영 의원의 출입증 사용 논란과 장관의 차량 이용 문제도 언급되며, 혼란 속에서 적절한 대응이 이루어지지 않았다는 비판이 이어집니다. 결국, 응급의료 현장 활동의 기능이 마비되고, 신속한 대응이 부족했던 점이 심각하게 다뤄집니다. 이 텍스트는 비상 상황에서의 대응과 관련된 논의입니다. 지연 환자와 사망자가 증가하는 상황에서 응급 이송 지시가 잇따랐으나, 보건 당국 및 관련 기관들이 제대로 대응하지 못한 문제를 지적하고 있습니다. 발언자는 CPR과 관련된 상황 및 긴급 구조의 어려움을 언급하며, 현장에서의 지침이 명확했다는 점을 강조합니다. 또한, 시민들의 반응과 경찰 조치의 필요성도 언급되고 있으며, 의원들은 이번 사건을 계기로 책임을 느끼고 재발 방지를 위해 노력해야 한다고 강조하고 있습니다. 논의 중 국립중앙의료원과 관련된 법적 사항에 대한 질의가 있었습니다. 핫라인 정보 공개가 법적으로 위법인지 합법인지에 대한 질문이 있었고, 핫라인이라는 개념은 법률에 명시되어 있지 않다는 답변이 이어졌습니다. 이후 DMAT 신분증의 패용 여부에 대한 질의로, DMAT 활동을 위한 자격증이 필요하다는 의견이 있었습니다. 경찰청장은 유가족 명단 확보 여부에 대해 확인이 없다고 답했으며, 중대본에서 정보 제공 요청이 있었는지에 대한 질문도 이어졌습니다. 응답자는 중대본이 요청하지 않았음을 확인했습니다. 전체적으로 법적 책임과 정보 공유의 문제에 대한 논의가 이어졌습니다. 이 텍스트는 행정안전부 장관과 국회의원 간의 질의응답에서 이루어진 토론으로, 유족 명단 수집과 대통령의 지시 사항 이행에 관한 갈등을 다룹니다. 의원은 장관이 대통령의 지시를 제대로 이행하지 않았다고 주장하고, 서울시가 유족과의 연락을 담당했음을 언급하면서 행안부의 직무 유기를 지적합니다. 장관은 서울시에서 명단을 수집했다며 자신은 이를 공유받지 못했다고 주장하지만 의원은 이에 대해 모순된 답변을 하고 있다고 반박합니다. 또한, 유족에 대한 긴급 지원과 연락 부재로 인해 행안부의 역할이 충분히 수행되지 않았음을 비판하고 있습니다. 이 대화에서는 시스템과 절차 상의 문제가 드러나며, 그로 인해 유가족이 어려움을 겪었다는 점이 강조되고 있습니다. 정리된 내용을 아래와 같이 요약합니다:\n",
      "\n",
      "서울시 관계자와의 대화에서 이태원 참사로 인한 소방 구조 노력에 대한 평가 회의가 아직 진행되지 않았다는 점이 지적되었다. 필요성에 대한 공감이 이루어졌고, 이태원 사고와 관련한 구급 이송 현황이 언급되며, 구조체계의 중요성과 경찰의 책임도 논의되었다. 서울청과 용산경찰서가 다중 인파에 대한 안전 대책을 세우지 않은 점이 비판받았으며, 사건에 대한 전반적인 책임을 통감하라는 요구가 이어졌다. 마지막으로, 서울청의 정보 보고서에서 인파 관리보다는 범죄 예방에 초점을 맞춘 점이 문제시되며, 이러한 접근이 핼러윈 행사에 대한 잘못된 인식을 초래한 것으로 비판되었다. 해당 내용은 경찰의 대규모 인파 관리 및 시민의 안전에 대한 우려를 제기하는 지적입니다. 발언자는 대규모 집회에 대한 경찰의 준비가 미흡한 점과 국민을 잠재적 범죄자로 보는 경향에 대해 비판하고, 사건 발생 당시 경찰의 대응이 적절하지 않았음을 언급합니다. 또한, 윤석열 정부 하의 경찰이 시민의 안전보다는 범죄 예방에 집중하며 혼잡 경비에 대한 고려가 부족했다는 점을 강조합니다. 대규모 인파가 모일 것이라는 예측에도 불구하고 구체적인 대응 조치가 없었던 것에 대해 경악스러움을 표현하며, 경찰의 내부 보고서 내용과 실제 배치된 인원 수가 상이한 점을 지적합니다. 이 과정에서 경찰이 피해자 가족의 확인을 소홀히 한 부분에 대해서도 문제를 제기하고 있습니다. 이 대화는 CCTV와 현장 대응에 대한 논의로, 현장 상황을 모니터링하면서도 즉각적인 대처가 미흡했던 점을 지적하고 있습니다. 참여자들은 CCTV 영상이 연계돼 있었음에도 불구하고 구체적인 대응이 이루어지지 않았다는 점을 토로하고, 대처 과정에서 소통의 문제와 의전 중심의 행동을 비판했습니다. 이에 따라 보건복지부와 경찰청의 대응을 면밀히 검토하고 책임을 묻는 내용이 포함되어 있습니다. 이 텍스트는 서울청장과 경찰청장 사이의 보고 체계에 대한 문제점, 기관장의 책임, 그리고 비상 상황에서의 대응 지침을 강조하는 내용을 포함하고 있습니다. 질의자는 서울청장이 사건 발생 후 43분 동안 경찰청장에게 보고를 하지 않은 것에 대해 강한 비판을 하며, 이에 따라 사태의 초기 대응이 적절히 이루어지지 않았음을 지적합니다. 이어서 다른 위원들도 사건 당시의 신속한 대응 부재로 인해 발생한 피해를 강조하고, 국정조사의 필요성과 중요성을 언급합니다. 전체적으로 책임 회피와 대응 체계의 부적절함에 대한 비판이 주요 내용입니다. 이 텍스트는 특정 사건의 응급 대응과 관련된 내용으로, 차량 소통과 도착 시간, 현장 CCTV, 유족 정보 파악 등의 쟁점을 다루고 있습니다. 발언자는 응급차량 도착이 지연된 이유와 현장 상황에 대한 정보가 부족했음을 강조하며 증인 채택을 요청합니다. 이후, 여러 위원들이 행안부와 경찰청의 협력, 지시사항 처리 과정에 대한 질문을 이어가며 의사소통의 문제와 대응 미비에 대한 책임을 따지고 있습니다. 발언자는 특히 유족 정보 파악과 관련한 경찰청의 역할에 대해 의문을 제기하며, 경찰청장에게 그 당시 정보 공유가 이루어졌는지를 묻고 있습니다. 이 텍스트는 청문회에서 여러 위원들이 경찰청장과 행안부장에게 유족 정보 파악과 관련된 질문을 하는 내용을 담고 있습니다. 위원들은 유족 정보의 통합 관리 부족과 경찰청의 대응에 대한 의문을 제기하며, 청문회의 목적과 진상 규명 과정에 대한 우려를 나타냅니다. 특히, 위원들은 경찰청이 유족의 정보 확보에 실패했음을 지적하고 이에 대한 책임을 다루고자 합니다. 또한, 신현영 의원에 대한 법적 책임 문제도 언급되며, 수사가 진행 중임을 강조합니다. 전체적으로 청문회에서의 갈등과 정보 부족으로 인한 어려움이 중심 주제입니다. 본 텍스트는 경찰과 관련된 국정감사에서 유가족 연락 여부에 대한 논의가 진행되는 장면을 담고 있습니다. 경찰은 사건 발생 후 유가족의 신원 파악과 연락을 우선적으로 진행했다고 주장하지만, 국회의원은 경찰이 유가족 명단을 제대로 관리하지 않았다고 반박하며 증언의 모순을 지적합니다. 특히, 행안부의 지시가 있었다는 자료가 제시되면서 경찰의 설명이 신뢰성을 잃게 돼 위증 가능성에 대한 논의로 이어집니다. 이 과정에서 감정적인 발언과 공방이 오가며 일방적인 주장에 대해 경계의 목소리가 나오고 있습니다. 이 대화는 국회에서의 질의응답 중 일부로 보이며, 위원들 간의 논쟁과 의사진행 발언이 포함되어 있습니다. 주요 내용은 경찰청장에 대한 질의와 답변 과정에서 발생하는 불일치와 의원들 간의 의견 차이입니다. 의원들은 경찰청장이 유가족 명단을 관리한 적이 없다고 한 발언에 대해 반론하며, 그 발언의 일관성 문제를 제기합니다. 또한, 대통령실의 위기관리 관련 회의 시간 간격에 대한 질문과 그 이유에 대한 설명도 논의되고 있습니다. 이 과정에서 의원들과 증인 간의 긴장감과 상호 논쟁이 나타납니다. 회의에서는 이태원 참사와 관련하여 대통령실의 대응에 대한 질의가 이루어졌습니다. 일부 의원들은 용산으로의 대통령실 이전이 참사 대응에 부정적인 영향을 미쳤다고 주장하였으나, 대응의 적절성과 상황 실무에 초점을 맞추었습니다. 대통령이 사건 발생 후 가장 먼저 상황을 인지하고 지시를 내린 시간에 관한 논의가 있었으며, 현장 지휘권과 긴급구조 통제단장의 역할에 대한 설명도 이어졌습니다. 유족들은 자녀들이 발견된 시점과 병원으로 이송된 과정에 대한 진상 규명을 요구하였고, 이에 대한 노력과 어려움이 논의되었습니다. 또한, 긴급회의 참석자 명단에 대한 조작 여부에 대한 질의가 있었으나, 상황실장은 이를 부인하며 브리핑에 다소 미비점이 있었다고 언급했습니다. 이 텍스트에서는 화상 연결과 관련된 논의가 진행되고 있습니다. 질문자는 4명이 화상 연결이 되지 않았다고 주장하며, 잘못된 브리핑이라고 지적했습니다. 상황실장은 전화 연결이 있었음을 인정하지만, 타임라인에 지시나 회의 내용이 없어 의구심을 표명했습니다. 서울청장은 대통령과의 통화 내용을 설명하며 구급차 통행 확보 지시를 받았다고 언급했습니다. 화상회의와 전화 연결 과정에서의 미비함을 인정하고, 브리핑의 정확성을 개선하겠다고 말했습니다. 전체적으로, 연결 확인과 관련된 의문과 그에 대한 답변이 주된 내용입니다. 용혜인 위원은 조규홍 장관에게 응급환자 이송 원칙에 대해 질문했습니다. 장관은 기본적인 이송 원칙을 이해하고 있다고 답하였지만, 현장에서 이송 원칙이 잘 지켜지지 않았음을 인정했습니다. 특히, 사망자가 응급환자보다 먼저 이송된 사례에 대해 문제를 지적하며, 상황실의 대화 내용과 이송 환자 현황을 근거로 이송 원칙의 위반을 강조했습니다. 위원은 현장에서 응급환자를 우선 이송하지 못해 생명을 잃은 사람이 있었는지에 대한 확인을 요청했으며, 장관은 그런 사례는 없다고 답변했습니다. 위원은 더 많은 정보를 보건복지부에서 제공해 줄 것을 요구했습니다. 회의는 발언 시간이 부족한 문제로 논란이 있었습니다. 이번 국정조사의 목표는 진상 규명과 재발 방지이며, 유족의 입장에서 책임을 명확히 하는 것이 아니라 보다 냉정하고 차분한 질의를 진행해야 한다는 점이 강조되었습니다. 조수진 위원은 정치적 책임을 인식하되 부당한 주장은 명확히 반박할 필요가 있다고 언급하였습니다. 또한, 신현영 의원의 사건과 관련해 경찰청장에게 신속한 수사를 강조하며, 지자체와 소방청의 역할 부족에 대한 질의도 있었습니다. 전체적으로 위원들은 재난 상황에서 각 기관의 책임과 역할을 확인하며, 신속하고 투명한 대응을 요구하고 있습니다. 이 텍스트는 회의에서의 논의 내용을 담고 있습니다. 한 위원이 사건의 진실을 파악하고 관련 기관들의 대응을 평가하는 중요성을 강조하며, 사건 발생 후 보고 체계의 문제를 지적합니다. 소방청장과 행안부 장관에게 사건 당시의 구체적인 상황을 확인하고, 사망자 판별 및 구급대의 응급조치에 대한 기록의 정확성을 요구합니다. 위원들은 유족들이 원하는 정보와 진상을 규명하는 것에 대한 우려를 보이며, 응급조치와 관련된 제도적 개선 필요성을 언급합니다. 회의는 질의응답 형태로 진행되며, 후속 질문이 이어질 예정입니다. 이태원 참사와 관련된 경찰청의 대응에 대한 질의가 이어졌다. 청장에게는 사고 발생 전 서울청이나 용산서로부터 위험성 보고가 없었고, 사전 안전 대책이 부족했다는 지적이 있었다. 현장 대응과 구조 활동에서도 미흡한 점이 많았으며, 경찰의 과거 성공적인 이미지를 실망스럽게 만들었다는 의견이 제기되었다. 추가적으로 청장은 사고 당일에는 연락을 받지 못했다는 해명을 했고, 그에 대한 책임이 부족함을 반성했다. 전체적으로, 경찰의 대응과 책임 문제에 대해 깊은 우려가 표명되었고, 회의는 추가 질의를 위해 정회되었다. 이해식 위원은 재난안전의 컨트롤타워가 제대로 작동했는지에 대한 질문을 지속적으로 제기하며, 긴급상황점검회의에서 대통령이 현장을 볼 수 있는 화상 시스템이 연결되어 있었는지 확인하고 있습니다. 경찰청장에게는 재난안전통신망으로 연결된 경찰차의 존재 여부를 묻고, 소방청장에게는 당시 소방 카메라와 바디캠이 운용되었는지 질문합니다. 이후, 그는 대통령 위기관리센터에 현장을 연결하는 화상 시스템이 필요하며, 이를 통해 추가적인 생명 구조가 가능했을 것이라고 주장합니다. 조은희 위원은 대통령실의 이전과 그에 따른 책임론을 반박하며, 이태원 참사의 원인은 보고 프로세스의 문제라고 강조합니다. 윤건영 위원은 행안부 장관에게 이번 참사에 대한 자기 평가를 요구하지만, 장관은 점수를 매기기 어려워합니다. 이번 회의에서는 최근 참사와 관련한 1보 보고의 중요성과 그 실행 과정에 대한 논의가 이루어졌습니다. 참석자들은 대통령실 내에서 상황 전파를 위한 1보가 제대로 이루어지지 않았다는 점을 지적했습니다. 특히, 위기관리센터에서 상황을 신속하게 전파해야 한다는 의견이 있었으며, 비서실장에게 보고하는 데 있어 지연이 발생한 것에 대한 문제도 언급되었습니다. 참석자들은 매뉴얼에 따라 전파할 필요성과 시스템의 개선점을 찾아보겠다는 의지를 표명했습니다. 또한, 사고 현장의 CCTV 부재 문제와 행안부의 CCTV 설치 지원 지침에 대한 및 위기관리 시스템의 분산된 책임 문제도 논의되었습니다. 사고 상황을 3D로 재현하는 시뮬레이션이 진행되고 있으며, 이는 사고 원인 발표에 활용될 예정이다. 진선미 의원은 대량 재해 희생자 신원 확인 시스템인 DVI에 대해 언급하고, 재난관리본부의 신원 확인 시스템 활용 부족으로 인해 유족들이 겪은 고통을 줄일 수 있었던 가능성을 지적했다. 이어서 박형수 의원은 이태원 사건 관련 112 신고 접수에 대한 경찰의 대응 미비를 비판하며, 중복 신고가 들어왔을 때의 매뉴얼 이행에 대해 질문하였다. 경찰은 신고가 산발적으로 들어와 중복 여부를 확인하기 어려웠다고 설명했다. 전체적으로 사고 대응과 관련된 시스템의 미비와 관리 부주의가 지적되었다. 이 글은 이태원 참사 관련 경찰 대응 및 정부의 보고 문제에 대한 논의입니다. 회의에서는 코드제로 상황에서 경찰의 현장 확인이 미비하였고, 신고가 산발적으로 접수되어 대처가 소홀했다는 점이 지적되었습니다. 위원들은 정부의 정보 제출이 지연되거나 불완전하다는 점을 비판하며, 특히 행안부 장관의 당일 행적에 대한 정보가 늦게 공개된 것에 대한 의문을 제기했습니다. 또한, 해당 사건에 대한 정부의 진상규명 노력이 부족하다고 주장하고, 이로 인해 발생하는 불신과 의혹에 대해 언급했습니다. 마지막으로, 다중 인파 관리와 관련한 사전 경고 및 분석에 대한 언급이 있었지만, 실제 대응이 부족했던 사례로 지적되었습니다. 이 대화에서는 핼러윈 축제와 관련하여 경찰의 대응 및 상황 인식에 대한 논의가 이루어지고 있습니다. 경찰청장은 이태원에 137명의 경찰을 배치했다고 발표하며, 이번 축제가 대규모 인파가 몰릴 것이라는 인식을 하고 있었음을 강조합니다. 그러나 특정 발언에서는 8시 36분 퇴근 시 상황 체크를 하지 않은 점이 지적됩니다. 또한, 사고 당일 보고 체계의 문제도 논의되며, 현장 대응의 미흡함과 개선 방안에 대한 필요성이 강조됩니다. 마지막으로, 여러 경찰 신고에 대한 위험 인식 부재에 대한 반성과 시스템 개선이 이루어질 것이라고 설명합니다. 이 텍스트에서는 대통령의 위기 대응 전략과 관련한 질의응답을 다루고 있습니다. 특히, 대통령이 용산 집무실에 도착하기까지의 시간과 그 시점에서의 위기 관리 능력에 대한 논의가 중심입니다. 의원은 대통령이 더 빨리 위기관리센터에 도착했어야 했다고 주장하며, 그러지 못한 이유를 질문합니다. 이에 대해 대통령 측은 대통령이 어디에 있든 지휘가 가능하며, 상황이 정리된 후에 회의를 할 필요가 있었다고 반박합니다. \n",
      "\n",
      "또한, 유족 명단과 관련한 의논도 서술되고 있는데, 정부가 유족의 연락처를 알고 있었음에도 불구하고 이를 적절히 활용하지 못한 점에 대한 지적이 이어집니다. 요컨대, 위기 대응의 시기와 정보 관리의 중요성, 그리고 정부의 소통 문제에 대한 비판이 핵심적인 내용입니다. 이 텍스트는 사건 발생 직후의 정부 대응과 관련된 논의입니다. 주로 행정안전부의 역할과 긴급구조 기관인 소방청의 기능에 대한 질문이 오가고 있습니다. 위원들은 재난 안전관리의 총괄 조정 기능이 행안부 장관에게 있다는 점을 강조하며, 위기관리센터와 국정상황실의 관계에 대한 혼란 없이 필요한 재난 대응이 이루어져야 한다고 주장합니다. 또한, 사건 당시 소방청의 역할과 경찰의 초기 현장 통제 실패, 보건당국의 마비 상황 등을 언급하며, 재난 대응의 총괄적 조정이 부족했음을 지적합니다. 전반적으로 사건의 결과와 당시의 정부 대응이 제대로 이루어지지 않았다는 반성의 목소리가 담겨 있습니다. 이 텍스트는 재난안전대책본부와 행정안전부장관의 책임, 그리고 현장에서의 지시 이행 문제에 대한 질의응답을 다루고 있습니다. 한 위원은 행안부장관과 서울시장이 여러 차례 지시했지만, 이를 현장에서 이행한 것은 소방관뿐이라는 점을 지적하며 책임 회피에 대한 문제를 언급합니다. 용산구청장이 구속된 이유는 재난 예방 의무를 다하지 않았기 때문이며, 여러 기관들이 법적 의무를 다하지 않은 점이 확인되었다고 말합니다. 이후 질의에서는 코드제로와 출동 의무에 대한 논의가 이어지며, 명단 공개와 관련된 정부의 대응에 대한 비판과 질의도 포함되어 있습니다. 전반적으로, 이 사건에 대한 책임 소재와 대응의 적절성, 법적 문제 등에 대해 다루고 있습니다. 이번 텍스트는 이태원 참사에 대한 정부와 소방청의 대응에 대한 논의로 구성되어 있습니다. 주로 유족들과의 연락 및 피해자 명단 관리에 관해 토론이 진행됩니다. 위원들은 유족 명단의 확인과 관리 여부에 대한 의문을 제기하며, 소방청의 초기 데이터의 정확성을 강조합니다. 또한, 참사의 원인과 국가 기관의 대처에 대한 비판도 포함되어 있으며, 사건이 재발하지 않도록 조직 내 문제를 해결해야 한다는 의견이 제시됩니다. 마지막으로, 행안부의 역할 및 유관 기관 간의 협력 중요성에 대한 논의도 진행됩니다. 행정안전부(행안부) 훈령에 따르면 긴급구조의 책임은 행안부에 있으며, 소방만의 책임이 아니라는 주장과 관련된 논의가 진행되었습니다. 행안부 장관이 10.29 참사의 재난관리 주관기관장이라는 의견도 제시되었으나, 주관기관이 정해지지 않았다는 반론이 있었습니다. 국민들이 이태원 참사의 진상을 규명하기를 원하는 만큼, 기관 관계자들이 일관된 답변을 해야 한다는 지적도 있었습니다. 청문회 일정에 대한 논의도 있으며, 1월 2일 청문회가 어려워져 1월 4일로 변경되는 등의 운영 일정에 대한 조정이 이루어졌습니다. 3차 청문회의 일정은 아직 조율 중입니다. 회의에서 여야 간사 간의 협의에 따라 용산 이태원 참사와 관련된 국정조사 청문회를 개최하기로 결정했습니다. 1차 청문회는 1월 4일, 2차 청문회는 1월 6일에 실시될 예정이며, 총 73명의 증인을 출석 요구할 것입니다. 위원들은 참석하지 못한 증인에 대한 의견을 금요일 회의에서 논의할 수 있도록 요청하였고, 위원장은 발언 기회를 보장하겠다고 밝혔습니다. 회의는 원활하게 진행되었으며, 국정조사의 목적은 이태원 참사에 대한 철저한 진상규명입니다. 위원장은 여야 위원들에게 심도 있는 질의 준비에 감사의 인사를 표했으며, 국정조사 현장을 취재한 언론인들과 국회 공무원, 보좌 직원들에게도 감사를 전했습니다. 오늘 국정조사는 마무리되며, 12월 29일에는 대검찰청과 다른 8개 기관에 대한 2차 보고가 예정되어 있다고 알렸습니다. 결국, 산회가 선포되었습니다.\n",
      "\n",
      "ID: 3\n",
      "회의번호: 52638\n",
      "요약된발언내용: 국회에서 이태원 참사 진상규명 및 재발 방지를 위한 국정조사특별위원회가 열렸습니다. 위원회는 과거의 기관 보고와 오늘의 대검찰청 및 기타 기관에 대한 보고를 진행할 예정입니다. 위원들은 유족들의 입장을 강조하며, 회의 중 유족에 대한 비난 보도를 반대했습니다. 위원들은 자유롭게 질의할 수 있어야 하며, 회의가 원만하게 진행되도록 노력하겠다고 밝혔습니다. 또한, 유가족의 상처를 헤아리며, 분향소 주변의 문제 해결을 위해 경찰과 지역 정부의 적극적인 대처를 촉구했습니다. 회의에서 여러 위원들이 용산구청장의 출석 요청과 관련된 문제를 다루고 있습니다. 기본소득당의 용혜인 위원은 용산구청장과 관련자의 출석이 필요하며, 구속 수사 중이라는 이유로 불참하는 것은 부적절하다고 주장하고 있습니다. 전주혜 위원은 이날 발생한 소란에 대해 유감을 표하며, 진상 규명을 위해 최대한 노력할 것이라고 밝혔습니다. 김교흥 간사 또한 대검의 강력부장이 코로나19 확진으로 출석하지 못하는 것에 대해 문제를 제기하고, 향후 청문회에서의 증인 출석을 요청할 계획을 세우고 있습니다. 회의는 진상 규명과 책임 있는 답변을 촉구하는 분위기입니다. 이 텍스트에서는 서울의 현수막과 관련한 문제에 대해 논의하고 있습니다. 한 위원은 현장 조사의 경험을 통해 유가족들이 겪고 있는 괴롭힘과 경찰의 감시 활동에 대해 언급하며, 현수막 철거 및 집회 자제를 요청합니다. 여러 위원들이 증인 채택과 관련하여 여당과 야당 간의 합의가 깨졌다고 주장하며, 특정 증인을 채택한 이유에 대한 의구심을 표출합니다. 또한, 증인 채택 과정이 일방적이었다는 주장에 대해 사실관계를 바로잡으려는 시도가 있습니다. 전체적으로, 위원들은 국정조사의 목적과 절차에 대한 논의와 함께 유가족의 권리 보호를 강조하고 있습니다. 경찰청과 법무부의 자료 제출 지연에 대한 불만을 표명하는 내용입니다. 요청한 자료는 2022년 불법체류 외국인 단속 계획과 관련된 것이며, 정치적 책임을 다하지 않는 법무부에 대한 비판이 포함되어 있습니다. 국정조사와 관련된 증인의 출석 문제도 논의되며, 이태원 참사와의 연관성에 대한 논란이 제기됩니다. 또한, 증인 선서 절차에 대한 안내와 참석 기관에 대한 보고 계획이 설명됩니다. 전반적으로 공공기관의 투명한 정보 제공과 책임 있는 행동을 촉구하는 내용을 담고 있습니다. 오세훈 서울특별시장은 이태원 참사와 관련하여 국정조사에서 보고를 진행했습니다. 그는 참사로 희생된 158명의 고인에 대한 애도를 표하며, 유가족에게 깊은 위로를 전했습니다. 사고 발생 후 서울시는 즉각적인 대응을 위해 관련 기관과 협력하며 지원 방안을 마련했습니다. 유가족 및 부상자 지원을 위해 전담 공무원을 배치하고, 심리 상담과 치료 프로그램도 운영하였습니다. 이번 참사는 사전 대비 부족으로 발생했으며, 재난안전 시스템의 근본적인 개선과 법제화를 통해 유사 사고 방지를 위한 노력을 다하겠다고 밝혔습니다. 또한, 안전관리 계획 수립 및 인파 관리 시스템 개선을 통해 향후 안전한 도시 환경 조성을 약속했습니다. \n",
      "\n",
      "대검찰청의 김보성 과장은 참사에 대한 애도를 전하며, 검찰은 사건의 진상 규명과 책임 확인을 위해 성실히 조사할 것을 다짐했습니다. 2021년 검찰청법 개정으로 검찰의 마약범죄 수사 범위가 축소되었으며, 현재 마약 범죄는 경찰만 수사할 수 있습니다. 참사 당시 검찰은 이태원에서 마약 관련 수사를 하지 않았습니다. 대검찰청은 참사 직후 사고대책본부와 종합대응반을 설치하고, 검사가 직접 희생자 검시를 실시했습니다. 유족 요청에 따른 부검도 예외적으로 진행되었습니다. 용산구청은 핼러윈 데이를 대비해 안전 대책을 세웠으며, 참사 후에는 피해 상황 공유 및 사고 수습을 위한 대응 방안을 논의했습니다. 향후 재난 대응 체계를 정비하고, 유가족 지원 및 안전사고 예방을 위한 노력을 기울일 계획입니다. 서울소방재난본부는 참사 당시 신속 대응을 위해 대규모 인력을 투입했으나 현장 상황이 매우 혼잡했다고 전했습니다. 2022년 10월 29일 이태원 핼러윈 행사에서 발생한 사고는 대규모 인파로 인해 소방관들의 접근이 어려운 상황을 초래했습니다. 심각한 인명 피해가 예상되어 용산소방서는 22시 43분에 긴급 대응 체제를 가동하였고, 이후 상황 보고 및 추가 지원 요청에 따라 단계별로 대응을 강화했습니다. 최종적으로 서울시 차원에서 총력 대응 체제를 가동하고 25개 소방서장이 현장에 배치되었습니다. 사고 발생 이후, 소방당국은 심리 상담과 재발 방지 대책을 마련하였으며, 시민 안전 교육과 다중 밀집 행사에 대한 소방안전 대책도 강화할 계획입니다. 이 사고로 158명이 사망하고, 320명이 부상을 입었으며, 소방당국은 인명 피해를 줄이기 위해 현장 상황 관리에 최선을 다했으나 아쉬움이 남는다고 밝혔습니다. 구조활동이 후면부에서 시작되었으며, 22시 41분에 최초 상황을 전파하고 22시 43분에 대응 1단계를 발령했습니다. 이후 대응 2단계 및 3단계로 격상하여 총력 대응을 펼쳤고, 다음 날 10시 25분에 대응 단계를 해제했습니다. 서울교통공사 김상범 사장은 이태원 참사에 대해 깊은 애도를 표하며, 교통공사의 안전한 대중교통 서비스 제공을 위해 특별수송 계획을 수립하고, 안전요원을 배치했다고 보고했습니다. 그는 이태원 지역에서 발생한 혼잡으로 인한 사고의 위험성을 강조하며, 향후 개선 방안으로 긴급 상황에 대한 무정차 통과 규정을 도입하고, 중장기 대책을 마련하겠다고 밝혔습니다. 마지막으로 현장 조사에서의 개인적인 경험을 통해 사고가 발생할 수밖에 없는 환경이라며, CCTV 설치와 관리의 중요성을 강조했습니다. 어제의 논의에서 도로 시설물 관리 및 시민 안전에 대한 책임이 논의되었습니다. 서울시가 간선도로를 관리하는 기본 원칙이 있으며, 이면도로나 골목길은 구청에서 관리합니다. 용산구청의 영조물 보험 가입 여부가 질문되었고, 구청의 행정국장은 아직 확인하지 않았다고 답했습니다. 또한, CCTV 설치 계획이 없었다는 점에 대해 비판이 제기되었고, 대규모 인파를 예상하지 못한 서울시의 대응 부족에 대한 지적도 있었습니다. 이러한 문제들에 대해 구청과 서울시가 무거운 책임감을 느껴야 한다는 의견이 강조되었습니다. 리실의 담당자는 국가안보실이 재난 관리에 소홀하다고 지적하며, 국가위기관리센터의 기능을 약화시키는 것이 문제라고 주장합니다. 그는 재난 사고 시 매뉴얼의 중요성과 필요한 조치를 충실히 이행하지 못한 서울시를 비판합니다. 특히 이태원 참사 당시 상황에 대한 적절한 대응이 이루어지지 않았다는 점에 강조하며, 재난 상황에서 안전 관리와 인원 통제를 제대로 하지 않았다면 참사를 피할 수 있었을 것이라고 말합니다. 용산소방서장도 당시 현장 지휘권을 가지고 있었고, 그 상황에서의 판단과 조치에 대한 책임을 강조하는 질문을 받습니다. 전반적으로, 사고 예방과 대응 체계의 미비함에 대한 비판이 중심 내용입니다. 이 텍스트는 소방 대응 및 구조 활동에 대한 준수 및 판단 과정을 다루고 있습니다. 후면부 구조 활동 지시는 22시 31분에 이루어졌으며, 이 결정이 그 시점에 이미 후면부로 이동해야 한다는 인식이 있었음을 시사합니다. 그러나 관련 지시가 늦어졌고, 소방대응 1단계 발령 또한 지연된 점이 지적됩니다. 서울소방이 용산구청 상황실에 사고에 대한 긴급 통화를 했으나, 구청 측에서는 이를 잘못 인지한 것으로 보입니다. 전체적으로 소방 대응의 타이밍과 지휘 체계가 제대로 작동하지 않았다는 비판이 포함되어 있습니다. 이 회의에서 당직자들은 이태원 압사 사고와 관련된 통화 및 상황 보고에 대해 서로 다른 기억을 가지고 있음을 강조하고 있습니다. 부구청장이 소방으로부터 전화를 받았고, 그 내용이 누락되었다는 점이 문제로 지적되고 있습니다. 회의에서는 용산구청 직원들이 사건 발생 후 60일이 지난 지금도 거짓말을 하고 있다는 비판이 제기되었고, 정부의 대응 부족으로 많은 희생자가 발생했음을 지적했습니다. 그러면서 당직자들은 통화 내용과 상황 파악에 대한 기억 차이를 보이며, 제대로 된 대응이 이뤄지지 않았음을 인정하는 듯한 내용도 포함되어 있어 전반적으로 부실한 행정 대응에 대한 질책이 계속되고 있습니다. 이 대화에서는 이태원 핼러윈 참사와 관련한 경찰의 대응에 대한 비판이 주를 이루고 있습니다. 국장과 김광호 청장은 당직자가 압사의 위험을 인식하지 못했음을 강조하며, 경찰의 책임 회피와 일관되지 않은 발언을 지적합니다. 김청장은 경찰이 인파를 관리하고 예방 활동을 했다고 주장하지만, 구체적인 예방 조치가 부족했다는 반론이 제기됩니다. 또한, 9시부터 참사 발생 전까지 경찰의 보고 체계가 제대로 작동하지 않았고, 수많은 신고에도 불구하고 적절한 대응이 이루어지지 않았다는 점이 강조됩니다. 전반적으로 경찰의 부적절한 대응과 책임 회피가 비판받고 있습니다. 서울청장은 이태원 참사와 관련하여 사퇴해야 한다고 주장하며, 사건 발생 시 제대로 상황을 체크하지 않은 점을 비판하고 있습니다. 여러 기관의 책임자를 언급하며, 특히 용산경찰서와 용산구청의 잘못이 크다고 지적했습니다. 또한, 참사 당일 구급차의 우왕좌왕으로 인해 구조 활동이 지연된 점도 문제로 삼았습니다. 대검 과장은 대형 참사는 검찰의 직접 수사 범위에 포함되지 않는다고 설명하며, 경찰의 마약 단속 여부에 대해 설명했습니다. 전반적으로 사건 당시 관련 기관의 대응 부실이 참사를 초래했다고 강조했습니다. 이 텍스트는 이태원 사고와 관련된 긴급구조 및 후속 대응에 대한 문제를 논의하는 내용입니다. 주요 사항은 다음과 같습니다:\n",
      "\n",
      "1. 사고 당시 구급대원의 출동 시간이 지연되었고, 적절한 병상이 확보되지 않아 여러 병원을 전전하며 환자 및 시신 이송에 혼란이 발생했다는 점.\n",
      "2. 유족들이 시신을 찾기 위해 고생한 이야기가 포함되어 있으며, 이로 인해 더 큰 슬픔과 고통이 있었음을 강조하고 있습니다.\n",
      "3. 서울시와 관련 당국의 대응이 미흡하며, 이에 따른 책임 회피와 정보 은폐가 지적되었습니다.\n",
      "4. 시스템 개선 및 교육 훈련의 필요성이 강조되었고, 이러한 문제를 해결하기 위한 공청회 개최도 제안되었습니다.\n",
      "\n",
      "전반적으로 사고 처리 과정에서의 혼란과 유족들의 아픔을 분명히 하고, 향후 개선과 대책 마련이 필요하다는 점을 강조하고 있습니다. 해당 텍스트에서는 서울시 재난안전대책본부의 운영 및 대처에 대한 비판이 주제로 다루어지고 있습니다. 위원들은 재난 상황에서 교통 통제와 환자 이송 문제 등을 제대로 해결하지 못한 서울시의 대응을 지적하며, 재난대책본부의 실질적인 가동 여부와 시기적절한 조치의 중요성을 강조하고 있습니다. 또한, 회의 중 서울시의 무관심한 태도와 응급 상황에서의 리더십 부족에 대한 실망감이 드러나며, 핼러윈 축제와 관련된 정보의 부실 제공에 대한 의문도 제기되고 있습니다. 전체적으로 긴급 상황에서의 서울시 대처 능력에 대한 강한 비판과 아쉬움이 나타납니다. 이 텍스트에서는 이태원 참사와 관련된 질의응답 절차가 진행되고 있으며, 위원들이 재난 대응의 부족한 점과 희생자 이송에 대한 구체적인 정보를 질문하고 있습니다. 특히, 유가족들이 희생자들의 사망 경위와 이송 과정에 대한 정보를 알지 못하고 있어 답답함을 호소하고 있으며, 재난응급대응 매뉴얼에 따른 책임을 지적하고 있습니다. 또한, 현장 응급 의료소의 운영과 이송 현황에 대한 문제점이 언급되며, 서울시와 관련 기관의 대응 부족에 대한 비판이 이어지고 있습니다. \n",
      "\n",
      "앞으로 위원들에게는 질의 시간을 보장하겠다는 언급도 있지만, 증인들이 충분한 답변을 할 수 있도록 주의해 달라는 요청이 포함되어 있습니다. 마지막으로, 이송 현황에 대한 데이터 확인과 확보의 필요성도 강조되고 있습니다. 이 텍스트는 긴급구조와 관련된 참사에 대한 질의응답을 다루고 있습니다. 질의에서는 긴급구조 통제단의 운영 상황, 평가 법적 의무 이행, 과거 세월호 참사와 관련한 헬기 지연 도착 사례 등을 언급하며, 이러한 문제들이 구조 활동에 미친 영향을 비판하고 있습니다. 최성범 서장과 최태영 본부장은 통제의 필요성과 법적 요구사항에 대한 책임을 인식하며, 조수진 위원은 세월호 사건에 대한 정치적 및 법적 책임을 강조합니다. 전반적으로, 구조 활동의 비효율성 및 법적 의무 미이행에 대한 우려와 비판이 중점적으로 다루어지고 있습니다. 이 텍스트는 10월 29일 참사와 관련된 청문회에서의 질의와 논의 내용입니다. 발언자는 피해자에 대한 2차 가해를 지적하며 이를 더 이상 허용해서는 안 된다고 강조합니다. 그 후, 최근의 검수완박 법안이 마약 범죄에 대한 검찰의 수사를 불가능하게 만들었다는 점을 질의합니다. 청문회에서는 용산구청의 안전 및 재난 관련 부서에서 많은 직원이 휴가를 간 상황이 참사의 원인 중 하나로 지적되며, 책임이 있는 관계자들이 불참하고 있는 것에 대한 불만도 나타납니다. 결국 발언자는 청문회에 반드시 필요한 증인들이 출석해야 하며, 유가족을 위한 대책 마련이 필요하다고 요청합니다. 회의는 점심 후 다시 시작될 예정입니다. 국정조사 특별위원회는 이태원 참사와 관련된 3차 청문회 일정을 정해야 하지만 아직 날짜가 확정되지 않았고, 기한 연장이 필요하다고 강조하고 있습니다. 현재 국정조사 기한은 1월 7일로 설정되어 있어 여야 합의로 예정된 청문회 개최가 어려운 상황입니다. 특히 3차 청문회에서는 유가족과 생존자들을 참고인으로 초청할 계획이며, 이를 위해 국정조사 기한을 연장해야 한다고 주장하고 있습니다.\n",
      "\n",
      "또한, 최근 이태원 참사의 10대 생존자가 자살한 사건을 언급하며, 정부의 부족한 지원 체계와 부적절한 발언에 대한 비판도 제기되었습니다. 유가족들의 지원이 제대로 이루어지지 않는 상황에서, 정부의 대처가 미흡하다는 우려가 커지고 있습니다. 위원들은 이 상황을 심각하게 받아들이고, 생존자와 유가족들을 위한 조치가 필요하다고 느끼고 있습니다. 이 문단에서는 이태원 참사 후 생존자와 유가족에 대한 지원 및 트라우마 치료의 필요성을 강조하고 있습니다. 학생 A의 경우, 참사로 인해 극단적인 선택을 한 것으로 추정되며, 이 학생을 희생자로 인정할 필요가 있다고 주장하고 있습니다. 또한, 생존자와 유가족에 대한 체계적인 지원이 부족하다는 점을 지적하고, 이에 대한 조사의 필요성을 언급합니다. 행정안전부에 대한 검토 요청과 함께, 심리 치료 및 세밀한 정부 지원의 중요성이 강조됩니다. 마지막으로, 해당 기관의 사과와 재발 방지 조치를 촉구하고 있습니다. 이어지는 부분은 현장 대응에 대한 책임과 소방 대응의 문제점에 대한 질의가 진행되고, 당일 상황에 대한 실제 응답을 통해 복잡한 구조활동의 필요성과 지휘권의 문제를 지적하고 있습니다. 질문에 대한 답변으로, 무전키를 잡은 소방본부장이 구조 활동의 지휘 공백 문제에 대해 설명했습니다. 그는 40분 동안 무전으로 등장하지 않았지만, 구두로 지시를 하고 현장에서는 지시가 이행되고 있었다고 합니다. 대응 3단계 발령에 대한 지적에 대해서도, 현장 이해가 부족한 주장이라고 반박하며 현장 통제의 어려움을 언급했습니다. 이태원 참사의 경우, 자치구와 유관기관 간의 긴밀한 협조 부족이 사고의 원인 중 하나로 지적되었습니다. 마지막으로 서울시와 자치구 간의 안전대책 협의의 필요성에 대한 의견이 제시되었습니다. 이 텍스트는 서울에서 발생한 큰 사건과 관련된 법적 및 안전 문제에 대한 논의를 담고 있습니다. 특정 축제나 행사에 대한 사전 점검 규정의 부족으로 인해 안전 관리에 문제가 있다는 점이 강조되고 있으며, 서울시는 이를 해결하기 위해 조례 개정에 착수했다고 알려줍니다. 사건의 희생자 유가족과의 대화에서는 희생자들이 어떻게 사망했는지에 대한 불명확성과 그로 인한 고통이 서술되고 있습니다. 또한, 사건 현장에서의 자료 수집 및 대응 체계의 필요성도 지적되며, 이를 개선하기 위한 방안에 대한 검토가 요청되고 있습니다. 결국 유가족들의 연락처 확보와 관련한 문제도 다뤄지고 있습니다. 서울시 복지정책실장 김상한이 유가족 지원 및 장례 지원에 대한 논의를 하고 있습니다. 경찰이 사망자 신원 확인과 유가족 연락을 최초로 진행했으며, 서울시는 경찰에 신원 확인을 요청했다고 합니다. 서울시는 유가족별로 개별 연락을 하지 않고, 장례식장에서 수집된 정보를 행안부에 공유했다고 전했습니다. 그러나 행안부 장관이 서울시가 유가족 연락처를 제공하지 않았다고 말한 것에 대해 모순이 있다는 지적이 있습니다. 합동분향소 설치는 서울시에서 결정한 것으로, 유가족들의 개인정보 보호로 인해 요청된 명단을 제공하지 않았다고 설명했습니다. 유가족들이 다른 유족의 연락처 요청을 했지만 개인정보 문제로 공유하지 못했다는 것도 언급되었습니다. 이 대화에서는 개인정보 보호법과 관련된 유가족의 정보 요청 문제와 합동분향소의 영정 사진 없던 결정에 대한 질의가 다뤄집니다. 일부 유가족은 다른 유가족의 연락처를 요청했지만 개인정보 보호로 인해 제공할 수 없다는 답변을 받았습니다. 또한, 합동분향소에 영정 사진이 없었던 이유에 대해, 그 당시 상황이 급박했기 때문이라는 설명이 있었습니다. 위원들은 공정한 진행을 요청하며 소방서장에 대해 사건 발생 당시 긴급 발령이 늦었던 이유를 묻고, 책임을 느끼는지 질문했습니다. 소방서장은 상황 판단 미스를 인정하면서도 최선의 노력을 다했음을 강조했습니다. 결론적으로, 유가족에게 위로를 전하며 사건 당시의 부실한 대응에 대한 비판과 책임이 논의되었습니다. 소방 당국은 중환자 구조를 우선해야 했으나 실제로는 주검 이송이 우선시된 것으로 보이며, 이는 큰 실수라고 지적되고 있습니다. 서울청장과 경찰은 여러 차례 긴급 출동 요청을 받았으나, 경찰은 11시 반경에야 현장에 도착했습니다. 용산구청의 재난 문자 발송도 지연되어, 사고 후 거의 2시간이 지나서야 이루어졌고, 이는 행정이 무너진 상황을 드러냅니다. 이와 관련해 구청에서 당일 핸드폰을 잃어버리거나 바꾼 직원은 4명뿐이라는 사실도 언급되며, 공직자의 책임이 강조되었습니다. 또한, 현장에서의 상황 통제 및 긴급 대응에 대한 문제도 오늘 의회의 질의에서 다뤄졌습니다. 이 텍스트는 사고 현장에서의 대응 및 지시 사항에 관한 회의 내용을 담고 있습니다. 사고 발생 후, 담당자는 긴급 영업 중단 및 현장 정리를 지시받았고, 수습과 사망자 구조가 수사본부 구성보다 우선이라는 지시도 받았다고 합니다. 상황 판단 회의에서는 사상자 관리에 대한 조치가 논의되었고, 사상자가 증가했다는 점이 강조되었습니다. 또한, 사망자 이송 과정에서 큰 혼선이 있었고, 영안실 설치 및 이송 결정에 관한 이해 부족이 드러났습니다. 마지막으로, 임시 영안실 설치의 필요성과 그 결정의 적절성에 대한 질문이 있었습니다. 전체적으로 사고 발생 후의 혼란과 필요했던 조치들에 대한 반성과 개선점이 논의되었습니다. 이 텍스트는 이태원 참사와 관련된 행정 대처와 피해자 용어 선정에 대한 논의입니다. 회의에서는 임시 영안실 설치 과정과 현장 구조 작업이 이미 마무리되었음을 언급하며, 용산 다목적 체육관이 임시 안치소로 지정된 이유는 시민들에게 트라우마를 줄 수 있는 시신 노출을 피하기 위해서라고 설명합니다. \n",
      "\n",
      "또한, 부시장은 '피해자'라는 용어 사용을 자제하라는 지시를 했고, 이 결정은 중대본의 판단이 아니라 자신의 판단이라 밝혔습니다. 이 용어 선택에 대해서는 의사소통을 명확히 하기 위한 차원에서 나온 것이지만, 피해자라는 표현이 더 적절하다는 의견도 있었습니다. \n",
      "\n",
      "결국, 텍스트는 참사 이후 행정 대처의 적절성과 적절한 용어 선정에 대한 논쟁을 다루고 있습니다. 이 글에서는 이태원 참사와 관련된 사전 대책 회의에서 다중운집에 따라 발생할 수 있는 안전사고에 대한 대책이 미비했음을 지적하고 있습니다. 사망자와 부상자를 구분하는 표현을 사용했으며, 서울시는 이태원 참사 희생자를 기리기 위해 분향소 현판을 변경한 일이 있음을 언급합니다. 용산구청과 용산경찰서는 다중운집과 관련한 안전대책을 수립하지 않았고, 소방서 일은 화재 예방 대책만 마련했다는 점도 지적됩니다. 또한, 소방서장이 현장에 신속히 출동하지 못한 점과 이태원역에서의 무정차 요청이 적시에 이루어지지 않은 점이 아쉬움을 자아내고 있습니다. 전반적으로 사고 대응에 대한 비판과 아쉬움을 담고 있는 질의응답 형식으로 작성되었습니다. 이 문서는 서울의 어떤 사건에 대한 감사 및 질의 응답을 다루고 있습니다. 주요 내용은 다음과 같습니다.\n",
      "\n",
      "1. **사고 발생 및 응급 대응**: 동묘소장 이권수가 재택근무를 하던 중 사고 소식을 깃받고, 현장 출동을 하지 않은 점에 대한 질타가 있습니다. 교통사장 김상범은 사고 인지를 걸쳐 재택근무 중이었음을 알렸습니다.\n",
      "\n",
      "2. **무정차 운영 관련 쟁점**: 무정차 조건에 대한 부적절한 협의가 있었고, 책임 있는 자의 요청이 제대로 이루어지지 않았음을 언급합니다. 축제 때의 상황에 대한 미리 협의가 있었다고 주장하나, 실제 상황에 대한 응답이 미흡합니다.\n",
      "\n",
      "3. **재난 관리의 문제점**: 재난 안전 시스템의 초기 대응 미비와 각 기관 간의 협조 부족이 강조됩니다. 대통령실이 상황 판단 회의를 하지 않아서 신속한 대응이 이루어지지 않았다는 지적이 있습니다.\n",
      "\n",
      "4. **소통 체계 개선 필요성**: 향후 주최 측이 없는 경우에도 적절히 대응할 수 있는 체계 개선이 필요하다는 결론에 이릅니다. 재난 통신망 구축도 중요하게 다루어지고 있지만, 현재는 아직 진행 중인 상황입니다.\n",
      "\n",
      "결론적으로, 문서는 서울에서 발생한 재난 상황에서의 기관 간 책임과 소통 부족 문제를 집어내고, 향후 개선 방안을 논의하는 내용을 포함하고 있습니다. 이번 회의에서는 방제센터 소장이 재난안전통신망과 관련하여 현장 출동 차량의 활용 문제에 대해 설명했습니다. 현재 시스템이 구축되어 있지만 단말기가 부족하여 완전히 사용하지 못하는 상황이라고 전했습니다. 특히 고성 산불과 2018년 평창올림픽 때 시스템이 활용되었다는 점이 중요한 사항으로 지적되었습니다.\n",
      "\n",
      "서울청장에 대한 질문도 있었으며, 기동대를 요청하는 과정에서 경비기동대의 요청이 거부되었다는 내용을 포함하여, 다양한 기동대의 역할과 사무의 중요성을 강조하는 발언이 이어졌습니다. 또한, 83기동대가 특정 사건에 출동하지 않은 이유에 대한 질의가 있었고, 이와 관련된 세부적인 질의가 계속 진행되었습니다.\n",
      "\n",
      "마지막으로, 이태원역에서의 무정차 요청과 관련된 의견 교환이 있었으며, 역장님이 참석했던 회의에서도 무정차에 대한 질의가 있었음을 확인하였습니다. 회의는 질의 시간이 정해져 있으며, 추가 질문이 이어질 예정입니다. 이 텍스트는 이태원역 무정차 통과 요청에 대한 논쟁을 다루고 있습니다. 발언자는 공무원들이 공식 문서를 받지 못했다고 주장하지만, 내에서 검토하겠다고 말했으며, 회의록에서 빠뜨린 사항도 언급합니다. 그는 해당 요청이 참석자들 사이에서 이미 합의된 내용이라고 강조하지만, 공문을 통한 공식 요청이 없었다는 점에서 혼란을 드러냅니다. 또한, 요청의 해석에 대해 상가 번영회가 공문 없이도 요청할 수 있는 권한이 있다고 주장하며, 이런 요청을 간단히 무시하기 어렵다는 점을 강조합니다. 결국, 무정차 통과 요청의 결정 과정과 그에 대한 책임 소재에 대해 논의하고 있습니다. 이 글은 이태원 참사와 관련된 경찰과 관련 기관 간의 요청 및 절차에 대한 논의를 다루고 있습니다. 한 위원은 요청이 있었는지에 대한 적절한 답변이 부족하다고 느끼며, 경찰과 이태원 상인회 간의 사실관계의 불일치를 언급합니다. 또한, 119 구급대를 통해 이송된 희생자의 정보 파악이 제대로 이루어지지 않았고, 이로 인해 유가족들이 겪고 있는 어려움과 고통을 강조합니다. 신원 확인 과정에서의 문제점과 구급대의 바디캠 및 CCTV 자료를 통해 유가족들이 정보를 확인할 수 있도록 도와줄 것을 요청합니다. 이러한 과정에서 공공기관의 신뢰 부족 문제도 드러나고 있습니다. 무 대응 총괄팀장과 소방관들이 해밀톤 호텔 앞에서 18시부터 22시까지 근무했으나, 그들의 근무 위치에 대한 규정이 불분명하다는 지적이 있었습니다. 책임관은 현장에 있어야 하지만, 소방서에 있거나 다른 곳에 있어도 무관하다고 명세되어 있었습니다. 22시 15분에 사고가 발생했을 때, 전 상황에 대한 보고가 없었고, 이는 책임자의 부재가 큰 영향을 미친 것으로 보입니다. 이후 구조 명령이 지연되었으며, 지휘팀장에게 구두로 지시가 내려졌지만, 무전으로 전달되는 데 시간이 걸리면서 대응이 늦어졌다는 점이 강조되었습니다. 이는 결국 대원들이 현장에서 효율적으로 움직이지 못하게 만든 원인이었으며, 더 적절한 지시가 필요했음이 지적되었습니다. 당직사령님은 사고 발생 이전에 현장을 주시하겠다는 지시를 받지 못했다고 주장합니다. 그러나 여러 질문을 통해 그가 당직실에 머물고 있었다는 사실과 당시 소방에서의 전화 통화 내용을 기억하지 못하는 점이 문제로 제기됩니다. 소방에서의 전화가 중요했던 만큼, 이를 기억하지 못하는 것은 비정상적이라는 지적이 있었습니다. 또한 용산구청장이 사건 발생 전 이미 위험성을 인지하고 있었던 가능성에 대한 논의가 이어졌습니다. 한편, 유족의 요청에 따른 부검과 관련하여, 법무부 장관이 청구한 부검 영장과 압수수색 영장에 대한 질문도 있었습니다. 이 대화는 이태원 참사에 대한 질의응답으로 구성되어 있습니다. 여러 위원들이 이 사건의 원인과 대응에 대해 질문하고 있으며, 특히 긴급구조와 관련된 통제체계의 부재와 경찰과 검찰의 역할에 대해 논의하고 있습니다.\n",
      "\n",
      "주요 내용은 다음과 같습니다:\n",
      "- 검찰 측은 이태원 참사가 마약 수사와 관련이 없다는 입장을 밝혔습니다.\n",
      "- 현장에서 긴급구조를 담당했던 최성범 서장은 교통 통제와 재난 의료 상황을 종합적으로 처리하는 데 어려움이 있었고, 더 효율적인 통제체계가 필요하다고 언급했습니다.\n",
      "- 용산구의 대응 미흡이 참사의 피해를 키운 주요 원인으로 지적되었으며, 신고 접수 후 통화 실패 문제에 대한 비판도 있었습니다.\n",
      "\n",
      "위원들은 이러한 문제들을 통해 재발 방지와 원인 규명을 위한 재점검의 필요성을 강조했습니다. 회의는 20분간 정회되며 이후 이어질 질의가 예고되었습니다. 이 글은 이태원 핼러윈 참사와 관련한 행정 및 비상 대응 체계에 대한 질의응답을 다루고 있습니다. \n",
      "\n",
      "작성자는 사고 발생 이후 소방 대응 단계와 권한에 대해 질문하고, 현장 지휘관이 상황에 따라 1단계나 2단계를 모두 적용할 수 있다는 점을 설명받습니다. 그러나 3단계가 늦게 발동된 점에 대해 제도 개선이 필요하다는 의견도 제시됩니다. \n",
      "\n",
      "또한, 천준호 위원은 서울시와 교통공사, 용산소방서가 이미 대규모 인파가 몰릴 것이라는 예측을 했지만, 그에 따른 예방 조치가 부족했다는 점을 지적합니다. 이로 인해 결국 예측의 실패가 아닌 예방의 실패라는 주장으로 연결됩니다. 글은 사건의 행정적 대응과 안전 대책 부재의 문제를 강조하고 있습니다. 이 대화는 서울시의 재난 대응 실패에 대한 논의입니다. 시장이 이태원 핼러윈 사건에서 서울시가 총괄적인 역할을 하지 못했다고 인정하면서, 각 부서가 개별적으로 대응했던 점이 문제라고 지적합니다. 의원들은 현장 책임 기관으로서 서울시의 역할 부족을 강조하며, 구급환자 이송의 혼란과 정보의 분산이 사고를 악화시켰다고 설명합니다. 시장은 과거의 정보가 하나로 통합되지 못한 점을 뼈아프게 느끼며, 향후에는 사전경보 시스템을 개선하고 재난 대응을 체계적으로 보완할 방안을 고민하겠다고 다짐합니다. 또한, 사고 발생 시 모든 관련 기관이 제대로 대응하지 못한 점에 대한 아쉬움을 토로하고, 국정조사에서 모든 관련자들이 책임을 지고 반성해야 한다고 촉구합니다. 정의당의 장혜영 위원은 현장의 대응 부족과 보고서 작성을 강조하며, 수사와 재난 대응의 적절성 평가에 대해 논의합니다. 이 텍스트에서는 10.29 참사와 관련된 여러 가지 쟁점이 논의되고 있습니다. 보고서 작성의 중요성이 강조되며, 유가족들에게 필요한 정보가 제공되지 않는 점이 지적됩니다. 또한 재난 대응 매뉴얼의 부재와 관련하여 서울시의 책임에 대한 비판이 이루어지고 있습니다. 검찰 측에서는 부검 절차에 대한 설명이 필요한 경우에 유족의 의사가 최우선적으로 존중되며, 마약 관련 보도가 잘못된 점에 대한 사과도 포함됩니다. 마지막으로, 이태원 축제와 관련해 사전 대책회의에서 소방이 참석하지 않은 문제에 대한 지적이 있으며, 과거 재난 참사 이후의 대응 체계 변화에 대해서도 언급됩니다. 소방서장이 긴급구조통제단장을 맡게 되었지만, 해당 소방서장이 현장에 참석하지 않았습니다. 2014년 세월호 참사를 계기로 재난안전법이 개정되어 소방이 긴급구조 총괄 권한을 갖도록 했습니다. 그러나 최근 참사에 대한 대응이 불만족스러운 지적이 있었습니다. 긴급구조가 필요할 때 적절한 조치가 이루어지지 않았고, 현장 대응에 문제가 많았다는 비판이 제기되었습니다. 또한 이번 참사와 관련된 책임에 대해 소방서장이 유일하게 책임을 인정한 상황입니다. 유관 기관 간 협조의 중요성도 강조되었으며, 희생자 이송 과정에서도 문제점이 있었습니다. 이 텍스트는 사고 현장에서 시신을 이송하는 과정과 그에 따른 지시와 문제점을 설명하는 내용입니다. 사고 현장에서 수십 구의 시신이 발생하였고, 이들을 어떻게 처리할 것인지에 대한 지시가 있었지만, 보건소의 지원이 부족했던 상황이 언급됩니다. 시신들은 CPR을 받는 중에 시민들과 경찰관들이 통제되지 않았고, 시신들을 특정 병원으로 이송하는 과정에서 생긴 혼란과 의사소통의 문제도 살펴보입니다. 납득할 수 없는 결정들이 내려졌고, 특히 생명 구조보다 사망자를 우선 이송한 점에 대해 질문과 비판이 이어졌습니다. 결국, 현장의 판단과 결정이 부상자를 구하지 못하게 한 원인으로 지적되고 있습니다. 이 텍스트는 재난 상황에서의 사망자와 부상자 이송 및 구조 과정에 대한 논의입니다. 서장님이 사망자와 부상자를 이송한 방식에 대한 질문이 제기되었고, 사망자 이송에 우선순위가 있었던 점이 지적되었습니다. 그러나 서장님은 부상자를 우선적으로 보냈다는 점을 강조했습니다. 또한, 소방본부장과의 대화에서 이송 통계와 함께 실시간 대응 시스템에 대해 설명했습니다. 마지막으로, 서울시와 행정안전부 간의 유족 명단 공유에 대한 모순된 진술이 언급되었으며, 서울시의 진술이 더 합리적이라는 의견이 제기되었습니다. 대검 마약과장에게는 마약 단속 시 언론에 공지하는지에 대한 질문이 덧붙여졌습니다. 서울경찰청장이 기자들이 주고받은 메시지에 대한 질문을 받고 대답하는 내용을 담고 있습니다. 청장은 특정 시간에 발신된 메시지가 경찰로부터 나온 것이 아니며, 기자들 사이의 카카오톡 대화에서 비롯된 것이라고 주장합니다. 또한, 청장이 사건을 인지한 시점과 그에 따른 책임에 대해 논의하며, 경찰 조직의 무기력함을 지적받습니다. 이와 함께 이태원역과 관련된 교통공사의 재택근무에 대한 비판도 이어지며, 교통공사 사장과 역장에게 사건 당일의 상황을 묻는 질문이 있습니다. 전반적으로 사건 관련 정보의 전달 및 책임 소재에 대한 고찰이 이루어지고 있습니다. 이 대화에서 역장과 조사자가 토요일에 근무한 이유와 상황에 대해 논의하고 있습니다. 역장은 핼러윈 대책 준비로 근무를 했다고 설명하였으나, 근무일이 아님에도 불구하고 우려되는 승객의 폭주 상황에 대한 보고나 조치를 제대로 시행하지 않았다는 점이 지적됩니다. CCTV 모니터링과 안전 요원 배치 등의 노력이 있었지만, 승객의 변화에 대해서는 어떤 보고도 받지 못했다고 주장합니다. 이어서, 긴급구조와 관련된 대화로 넘어가며, 특정 재난 상황에서의 대응의 중요성이 강조되며, 중수본의 가동이 이루어지지 않은 점에 대해서도 문제를 제기하고 있습니다. 조사는 서울시와 용산구의 대응과 소통 문제에 대해서도 비판적으로 접근합니다. 이 대화는 서울시와 소방 당국 간의 재난 대응 시스템에 대한 문제와 개선 필요성에 대한 고찰을 다루고 있습니다. 부시장님은 SNS에 유출된 자료들에 대한 우려를 표명하고 있으며, 과거 화재 사건에서의 경험을 언급하며 재난안전통신망의 한계를 지적합니다. 특히, 재난 발생 시 현장 대응을 위한 장비가 미비하다는 문제가 제기되고, 이에 대한 조사와 개선을 요구하고 있습니다. 이후 서울경찰청장과의 질의응답을 통해 참사 당시 112 신고와 상황실장의 잘못된 지시가 참사의 주요 원인으로 작용했음을 지적하며 책임을 묻고 있습니다. 전체적으로 효율적인 재난 대응을 위한 시스템의 개선이 필요하다는 내용입니다. 서울청장에 대한 질의에서 위원들은 청장이 이태원 참사에 대해 무관심했다고 지적했습니다. 위원들은 청장이 사건 초기 상황을 인지하지 못했다면 직무유기라고 주장하며 책임을 물어야 한다고 강조했습니다. 청장은 사건 당일 퇴청 후 도시락을 먹었고, 보고서와 미리 논의된 사항을 챙기지 않았다는 점에서 비판받았습니다. 또한, 소방서장에게도 구조 작업 지연에 대한 아쉬움을 표명하며 더 신속한 대응이 필요했음을 지적했습니다. 전체적으로는 참사에 대한 책임과 처리가 부족하다는 비판이 이어졌습니다. 이 대화에서는 용산에서의 훈련 부족과 이태원 사고와 관련된 대응의 미흡함이 강조되고 있습니다. 질문자는 과거 5년 동안 인파 관련 훈련이 단 한 번도 없었던 점을 지적하며, 이러한 준비 부족이 실제 재난 상황에서 문제를 초래할 수 있다고 경고했습니다. 또한, 사고 당일 서울교통공사의 대응이 생명보다 승객의 귀갓길을 우선시했던 점에 대해 비판하고 있습니다. 마지막으로, 경찰의 경비대 배치와 이태원 사고 대응에서의 지시 조치들이 적절히 이뤄지지 않았다는 점도 지적되었습니다. 전반적으로, 보다 철저한 훈련과 신속한 대응이 필요하다는 의견이 제기되고 있습니다. 주일대사관 경비대의 출동과 관련하여 논의가 있었습니다. 1시 33분에 출동했으나 끝까지 출동하지 않았고, 83기동대가 부족한 상황이었습니다. 서울청장님은 핼러윈 데이에 대한 정보 보고를 받지 못했다고 발언했으나, 이전에 지시한 내용에서는 핼러윈 관련 대책이 필요하다고 강조했습니다. 경찰이 137명을 배치한 반면, 정보 경찰이 현장에 부족하게 배치된 것도 지적되었습니다. 특히 참사 발생 시 정보관련 인원이 불충분했다는 점이 문제로 지적되었습니다. 이후 질의 과정에서 보안 대책 관련 논의가 계속되었고, 경비기동대와 거점부대에 대한 질문이 이어졌습니다. 회의는 저녁식사를 위해 정회되었습니다.\n",
      "\n",
      "ID: 4\n",
      "회의번호: 52643\n",
      "요약된발언내용: 국정조사특별위원회가 이태원 참사와 관련한 청문회를 시작하였습니다. 위원장은 조사 대상자들이 각각의 역할을 충실히 수행했다면 참사가 발생하지 않았을 것이라며 안타까움을 표했습니다. 청문회에서는 참사의 원인과 책임을 규명하고 재발 방지 대책을 논의할 예정입니다. 불출석 증인에 대한 동행명령이 가결되었으며, 최근의 무단 촬영 사건에 대한 우려도 언급되었습니다. 참석한 증인들에게 성실한 답변을 요청하며, 국민과 유가족의 시선이 있다는 점을 강조했습니다. 국정조사 과정에서 국민의힘 전주혜 위원은 용혜인 위원의 보좌진의 몰래 촬영 사건에 대해 유감을 표명하며 이를 국정조사의 원활한 진행을 방해하는 행동으로 간주하고, 진정성 있는 사과와 촬영된 자료의 삭제를 요구했습니다. 용혜인 위원은 자신의 보좌진이 의정활동을 기록하기 위해 촬영한 것이라며, 특정 의도를 가지고 촬영을 지시한 것이 아니라고 반박했습니다. 이 사건은 이태원 참사와 관련된 국정조사의 진행에 부정적인 영향을 미쳤고, 두 위원 간의 의견 충돌이 있었습니다. 국정조사특위에서 문제가 생기지 않기를 바란다는 발언이 있었고, 위원장이 사과하는 내용에 대해 부정적인 의견이 제기되었습니다. 증인 선서를 위한 절차가 이어졌고, 참석한 증인들은 사실 그대로 증언할 것임을 맹세했습니다. 이후 이태원 참사와 관련하여 서울경찰청의 대응에 대한 질의가 시작되었으며, 특히 112치안종합상황실의 초기 대응에 대한 의문이 제기되었습니다. 위원들은 상황실의 책임자에게 참사를 최초 인지한 시각에 대해 질문하며, 당시에 접수된 신고의 중요성을 강조했습니다. 이태원 참사에 대한 보고서에서는 18시 34분에 시작된 112 신고가 22시 29분까지 약 50건에 달하고, 소방의 공동 요청이 수차례 있었음에도 경찰 상황실이 이를 심각하게 인지하지 못했다는 문제가 지적되고 있습니다. 22시 59분에 사건의 심각성을 인지했지만, 이미 골든타임이 지나버린 상황에서 경찰의 첫 대응은 23시 30분입니다. 또한, 소방은 경찰에 신속히 더 많은 인력을 요청했음에도 상황 관리에 한계가 있었습니다. 이러한 과정을 통해 정부가 적절히 대응하지 못한 점이 부각되고 있으며, 사건 당시 구체적인 상황 인지와 보고 체계에 대한 문제도 다루어지고 있습니다. 이태원 참사로 인한 희생자에 대한 정부의 사과와 책임 있는 수사 진행이 부족하다는 비판도 제기되고 있습니다. 이 글은 이태원 참사와 관련된 책임을 묻고, 재난안전법의 규정에 따라 행정안전부 장관과 서울시장의 수사가 필요하다는 주장에 대해 설명하고 있습니다. 특히, 참사 당일 서울경찰청의 112 상황실의 무관심과 부적절한 대처가 이번 사고의 주요 원인이라는 지적이 있습니다. 또한, 중점 상황판 및 통합관제 시스템에서 이태원 핼러윈 축제에 대한 상황 관리가 미흡했음을 비판하며, 경찰과 관계자들이 신속하게 대응하지 못한 이유에 대해 질문하고 반성을 촉구하고 있습니다. 마지막으로, 이임재 증인에 대한 비난이 나타나며 그의 부적절한 대응으로 피해가 커졌다는 의견도 포함되어 있습니다. 텍스트는 이태원 참사와 관련된 경찰의 대응에 대한 질의응답 내용을 담고 있습니다. 주된 내용은 경찰이 참사 상황을 인지하지 못하고 지시를 내린 경위를 설명하고 있으며, 특히 사건 발생 시점과 관련된 보고의 부정확성에 대한 비판이 포함되어 있습니다. 증인은 무전으로 상황을 파악하고 여러 차례 경력 요청을 받았으나, 긴박한 상황을 제대로 인지하지 못했다고 반성합니다. 이후 서울청의 경비 요청 시간과 자신의 지휘 방식에 대한 해명도 이뤄지며, 유가족에 대한 사죄의 말씀도 전합니다. 결과적으로, 경찰의 책임과 상황 대처의 미흡함이 강조되며, 증인의 사퇴 요구도 이어집니다. 참사 이후에 관련된 연락이 전혀 없었고, 증인은 인사와 관련해서 지식이 제한적이라고 답변했습니다. 경찰청 내부에서의 지휘 및 역할에 대한 논의가 이어졌으며, 증인은 인파 관리에 대한 지침을 받지 않았다고 주장했습니다. 대신, 형사들은 범죄 예방 활동을 위해 배치되었다고 설명했으나, 실제 인파 관리의 필요성이 소홀히 여겨졌다고 비판받았습니다. 여기에 대해 증인은 은폐나 잘못된 보고를 부인하며, 사고 이후 투명한 조사를 지시했다고 주장했습니다. 전체적으로 경찰의 부적절한 대처와 책임 회피에 대한 질타가 이어졌습니다. 교통경찰이 현장에서 CPR과 현장 정리를 적극적으로 수행했지만, 인파 관리를 위한 배치는 없었다는 점에서 논란이 발생했습니다. 경찰은 이태원 핼러윈 데이의 안전사고 발생 우려를 오래전부터 인지하고 있었고, 여러 해에 걸쳐 예방 대책을 마련해 왔음을 강조했습니다. 또한, 올해 핼러윈 기간 동안 인파 관리를 위한 기동대 배치는 없었으며, 이와 관련된 지시도 없었다고 밝혔습니다. 그러나 과거 문서에서는 인파 밀집으로 인한 안전사고에 대한 우려가 명확히 언급되었습니다. 경비 기동대의 여유 경력에 대한 문의 결과, 지방 중대가 서울로 상경하여 집회에 대비할 예정이라는 답변을 받았습니다. 이는 추가 배치 여력이 없다는 의미로 해석되며, 증인은 집회를 우선시해 이태원에 경력을 추가 배치하지 않았습니다. 참사 발생 2시간 전 상황 종료를 선언하면서도 이태원에 기동대를 배치하지 않았고, 이는 안전사고 위험을 경시한 것으로 보입니다. 결국, 증인은 핼러윈 데이의 인파 밀집 위험을 인식했으면서도 마약 범죄 예방을 더 중요시하여 결과적으로 비극적인 참사를 초래했습니다. 국조특위에서는 진상 규명과 재발 방지를 목표로 삼고 있으며, 증인은 진상 규명을 위해 위증하지 않겠다고 다짐했습니다. 증인은 참사 직후의 동선에 대한 의문과 관련해, 상황을 제대로 인지한 시점에 대한 답변을 요청받았으나 이에 대해 변명하고 있습니다. 이 텍스트는 청문회에서의 질문과 답변을 다루고 있습니다. 증인은 10시 32분에 용산서 112상황실장과 통화했다고 주장하지만, 상황을 파악하지 못했다고 반복적으로 말하고 있습니다. 질문자는 그의 태도가 느긋하고 상황 인식에 실패했다고 지적하며, 통화 후 11시 10분까지 무정산 상태로 있었음을 강조합니다. 또한, 긴급 조치가 취해지지 않아 대규모 인명 피해가 발생했다고 비난하고 있습니다. 증인은 통화가 불량했던 상황을 주장하며 자신의 요청이 없었다고 부인하지만, 이에 대한 증거는 없다고 지적받고 있습니다. 최종적으로, 증인의 증언이 위증으로 의심된다는 점이 강조되며, 국정조사의 목적은 진상 규명과 재발 방지라는 점이 계속 언급됩니다. 소방관의 인명 구조 노력과 관련한 이야기를 담고 있습니다. 당일 소방대원들은 많은 희생을 목격하며 정신적 고통과 자책감을 느꼈습니다. 유해진 소방관은 19년간의 경력을 가진 소방관으로 이태원 참사 현장에 최초로 출동했으며, 사고 현장에서 사람들의 상태를 언급하였습니다. 그는 구조작업이 지연된 이유로 차량 정체와 인파로 인한 통제 불능 상황을 지적하며, 경찰과 유관 기관의 지원 요청이 여러 차례 있었으나 인력이 부족했다는 점을 강조했습니다. 해당 사고 대응에서의 실패가 구조작업에 큰 지장을 주었음을 강조하며, 당시 현장에서 소방관들이 느낀 외로움과 고통을 전했습니다. 지금까지 두 달이 지나고 국정조사가 시작되었지만, 참사의 여파는 여전히 크다는 점을 밝혔습니다. 이번 청문회에서 이임재 증인의 증언을 두고 위증 의혹이 제기되었습니다. 조은희 위원은 이임재 증인이 서울청에 경비기동대 투입을 요청했으나 인력 부족으로 거절당했다는 주장에 대한 증언의 일관성을 검토했습니다. 특히, 이임재 증인이 사건 발생 시각을 헷갈리며 허위 보고서를 작성한 정황과 함께, 위원에서 요구한 사항에 대해 제대로 답변하지 않는 모습을 비판했습니다. 이와 같은 상황에서 김광호 증인과의 차이를 통해 이임재 증인의 진술의 신뢰성에 문제가 있음을 강조하였습니다. 결국, 정확한 시간 보고에 대한 혼란과 허위 문서의 작성이 논란이 되었습니다. 직원에게 상황실에 확인하도록 지시했으나 특별한 상황이 없다는 보고를 받아 가용 인력을 철수하라는 지시를 내리지 않았습니다. 현재 상황에 대한 조사가 필요하며, 관련된 진술서도 검토할 필요가 있습니다. 경찰청장 윤희근 증인은 유족 연락처 명단과 관련하여 11월 6일 중대본에 처음으로 공문을 통보했다고 밝혔으나, 서울시가 당시 다른 기관에 유족 연락처 명단을 배포했다고 주장하여 모순이 발생하고 있습니다. 이에 대한 추가적인 질문과 확인이 이어졌습니다. 또한, 참사 당일 마약 단속과 관련된 메시지가 발송된 사실에 대해서도 확인이 필요합니다. 이 대화는 이태원 참사와 관련된 경찰의 정보 제공 문제를 다루고 있습니다. 질문자가 경찰 관계자에게 기자들에게 메시지를 제공했는지, 그 여부를 확인하고자 여러 질문을 던집니다. 경찰 관계자는 기자들에게 직접 정보를 제공한 적이 없다고 주장하며, 상황보고서와 관련하여 여러 가지 세부 사항에 대한 질의를 받고 있습니다. 상황보고서의 내용이 서로 다르고, 경찰서장 도착 시간이 조작된 것이 아닌가 하는 의문이 제기됩니다. 질문자는 경찰의 대응 부족과 정보를 부정확하게 보고한 점에 대해 비판하며, 피해가 확대된 원인에 대해 책임을 물어야 한다고 강조합니다. 이 과정에서 국정조사와 관련된 비통한 감정도 표현됩니다. 이 텍스트는 경찰청장과 다른 증인들이 이태원 참사와 관련된 질문에 대해 답변하고 있는 상황을 담고 있습니다. 경찰청장은 참사 당일 자신의 행동에 대해 변명하며 상황보고서의 조작 가능성에 대해 부인합니다. 그러나 위원들은 경찰의 초동 조치 및 현장 도착 시간에 대한 의문을 제기하며 정부의 책임에 대해 강하게 비판합니다. 특히, 참사 당시 경찰의 대응 부족에 대한 정무적 책임을 강조하며 청장과 주무장관이 사퇴해야 한다고 주장합니다. 이와 함께, 경찰의 내부 규정과 지시 체계에 대한 문제도 지적되고 있습니다. 10월 29일에 대해 발표한 내용은 휴가가 아니었다는 것과 주말에 쉬었던 것이라는 점을 강조했습니다. 10월 8일부터 11일 사이에 평일을 포함해 휴가를 냈다고 밝혔습니다. 청장은 지방으로 내려가는 경우 비서실과 상황 계통이 알고 있어야 한다고 지적받았으나, 주말이라 사생활이라고 생각했다고 답했습니다. 그러나 위원들은 청장이 경찰과 국민 안전 책임자로서 사생활을 언급하는 것이 부적절하다고 지적했습니다. 이후 청장은 그날 음주 여부에 대한 질문에 음주했다고 인정했습니다.\n",
      "\n",
      "이후 윤건영 위원은 참사에 대한 경찰 내부의 목소리를 언급하면서 참사 당일 서울청의 책임을 질의했습니다. 서울청장 김광호는 사건에 대한 책임이 무겁다고 인정하며, 경찰의 총체적 실패를 지적받았습니다. 위원들은 책임을 명확히 지도록 요구하며, 증언 간의 모순이 존재한다고 지적했습니다. 최종적으로 압수수색영장의 내용과 함께 당시 경찰의 대응 실패에 대한 비판이 이어졌습니다. 청문회에서 경찰 지도부의 책임 문제와 관련된 질의응답이 진행되고 있습니다. 김광호 증인은 검찰의 압수수색에 대한 기억이 없다고 주장하며, 사건에 대한 책임감을 묻는 질문에 대해 이임재 증인은 '무한한 책임감을 느끼고 있다'고 답했습니다. 두 증인이 각자의 책임을 어떻게 질 것인지에 대한 질문이 이어졌고, 김광호 증인은 구체적인 방법에 대한 답변을 피했습니다. 회의는 점심식사를 위해 정회되었고, 오후 회의에서 추가 증인들이 출석할 예정입니다. 청문회는 이태원 참사의 책임 소재를 명확히 하기 위한 목적으로 진행되고 있으며, 유가족들에게 위로와 사죄의 메시지가 전해졌습니다. 사고 당일에 재택근무 여부에 대한 질문과 관련해, 의사소통의 혼선이 있었습니다. 사장은 사고 당일 근무를 하지 않았다고 주장하지만, 재택근무로 일했다고 한 부분에서 진술이 변경되었습니다. 사고 예방과 관련된 논의가 부족했고, 무정차 통과 요청에 대해서도 공식적인 문서로 요청한 적이 없다고 밝혔습니다. 역장도 통화를 통해 상황을 인지했지만, 적극적인 조치를 취하지 않았으며, 그에 대한 책임이 있다고 지적되었습니다. 전체적인 상황 관리의 부실이 이번 사고로 이어졌다고 한 점이 강조되었습니다. 이 텍스트는 국정조사에서의 질문과 답변 내용을 다루고 있습니다. 위원들은 참사 당일 경찰의 대응에 대한 책임을 물으며, 특히 112 신고에 대처하지 않은 이유와 지휘보고 생략에 대해 질문합니다. 증인들은 현장 상황을 설명하며, 코드제로에 따른 긴급 조치를 했다고 주장하지만, 반복되는 신고에 대해 적절한 대처가 없었던 점이 지적되고 있습니다. 위원들은 이 점에 대한 사과를 요구하며 조사가 이어집니다. 또한 경찰청장 윤희근이 인사추천권에 대해 답변하며 김광호 및 김순호와 관련된 추천 여부에 대해 설명합니다. 김광호 증인에 대한 발언이 이어지며, 참사에 대한 책임과 인사조치에 대한 질문이 있다. 증인은 현재 수사가 진행 중이라 인사조치를 결정하지 않았다고 답변했다. 박형수 위원은 여러 기관이 참사에 제대로 대처하지 못한 점에 대해 유감을 표명하며, 이임재 증인에게 질문을 진행하고 있다. 이임재 증인은 참사가 발생한 사실을 23시 이후에 알았다고 주장하며, 무전 지시를 하면서 상황을 완전히 이해하지 못했다고 해명했다. 위원은 이러한 응급 상황에서의 대처가 부족했다고 지적하며, 이임재 증인의 기억이 국민의 비난을 회피하기 위한 것 아니냐고 질문한다. 이임재 증인은 정보가 혼선되어 있었다고 주장하지만, 위원은 그의 행동과 발언의 일관성 부족을 비판하고 있다. 이 텍스트는 이태원 참사와 관련된 무전 통신 내용 및 대응 과정에 대한 증인의 증언을 포함하고 있습니다. 증인은 22시 38분부터 무전으로 구급대 지원을 요청하는 내용이 계속 들어왔으며, 압사 상황에 대한 언급도 있었음을 인정했습니다. 그러나 이 정보가 전달되었음에도 불구하고 상황실에서 확인하고 대응하는 과정에서 혼선이 있었고, 이를 통해 참사의 심각성을 제대로 인식하지 못한 것으로 보입니다. 특히, 경찰과 소방의 초기 대응이 부족했으며, 이로 인해 구조 지연이 발생했고 피해가 확대되었다는 안타까운 정황이 드러났습니다. 또한, 유족들이 사망자의 위치나 시간 등을 확인할 수 없는 상황에 대한 우려도 제기되고 있습니다. 이 텍스트는 이태원 참사와 관련된 증언 및 사고 대응 과정의 문제점을 다루고 있습니다. 증인은 당시 현장에서 사망자가 100명이 넘을 것으로 추정되었지만, 그에 대한 인지를 하지 못했다는 점을 언급합니다. 현장 영상이 제대로 송출되지 않았고 무전 통신도 원활하지 않아 상황 파악이 어려웠으며, 이는 구조 작업에 지장을 초래했다고 지적합니다. 증인은 현장에 최소 500명이 있었을 것으로 추정하며, 인력을 더 충원해야 했다고 강조합니다. 또한, 군중 밀집도가 임계치를 넘으면 군중 난기류 현상이 발생할 수 있다고 설명하며, 이는 사고의 주요 원인 중 하나라고 언급합니다. 군중 밀집으로 인한 군중 난기류에 대한 책임은 경찰과 관련 자치단체에 있으며, 이는 참사를 예방하기 위한 중요한 요소라고 강조되고 있습니다. 이태원 참사와 같은 사고에서 경찰은 범죄 대책과 교통 대책에만 집중했으며, 인파 관리와 안전 대책은 부족했다고 동의했습니다. 사고 발생 후에는 소방이 긴급 구조의 책임을 지지만, 구조 작업의 효율성이 저조해 많은 생명이 구해질 수 있었을 것으로 지적되었습니다. 자료 제출 요구와 관련된 사항들도 언급되며, 사건의 원인과 경위를 철저히 확인해야 한다는 필요성이 강조되고 있습니다. 위원님들이 소방과 경찰의 초기 대응에 대한 질의를 진행했습니다. 박규석 증인은 소방의 최초 통보 시간이 22시 59분이라고 답했으나, 이는 위증이라는 주장이 있었습니다. 실제 소방이 경찰에 통보한 시간은 22시 18분이라고 확인되었고, 1시간 동안 신고가 120여 건 들어왔음에도 불구하고 서울청은 적절히 대응하지 않았다는 지적이 있었습니다. 증인들은 72분 동안 상황 보고나 지휘가 제대로 이루어지지 않았음을 인정하며, 이는 서울경찰청의 재난 초기 대응 실패로 이어졌고, 관련자들에게 법적 책임을 물어야 한다는 결론에 이르렀습니다. 이 텍스트는 최근에 발생한 참사와 관련한 경찰의 대응에 대한 질의 응답을 다룬 내용입니다. 발언자는 특정 시간대에 사건 발생 신고가 많았음에도 불구하고 경찰이 제대로 대응하지 못한 점을 지적하며, 이로 인해 많은 인명 피해가 발생했음을 강조합니다. 경찰이 자리를 지켰다고 주장하지만, 실제로 신고에 대한 모니터링이 이루어지지 않았고, 사전 계획 및 대응이 부족했음을 비판합니다. 이어서 경찰 관계자들에 대한 질문이 이어지고, 그들의 책임과 대응의 미비에 대한 불만이 드러납니다. 특히, 보고서 작성과 관련된 증거 인멸 혐의에 대한 언급도 있고, 고인의 죽음에 대한 책임감에 대한 질문이 이어지며, 피고인이 이에 대해 애도하는 태도를 보였습니다. 전반적으로 경찰의 대응과 관련한 책임을 묻는 내용이 중심으로 다뤄지고 있습니다. 내용 요약:\n",
      "\n",
      "정보계장이 극단적 선택을 한 날 또는 전날 그와 전화 통화를 한 사실이 있는지에 대한 질문이 이어졌고, 통화 내용에 대해서는 잘 기억하지 못한다는 답변이 있었습니다. 유가족들은 정보계장이 윗선의 압박을 받았다고 주장했으나 증인은 이를 부인했습니다. 핼러윈 데이와 관련된 정보보고서에 대한 보고 및 지침에 관한 질문에서도 증인은 특별한 지시가 없었다고 했지만, 다른 증인은 삭제 지시를 받았다고 주장했습니다. 세부 사항에 대해 다소 충돌이 있었으며, 경찰이 핼러윈 데이 사고를 인지하고도 예방 조치를 다하지 못했다는 비난이 제기되었습니다. 법무부의 외국인 마약 범죄 단속 계획과 경찰 대응에 대한 질의에서도 담긴 의문점들이 있었습니다. 이 텍스트는 청문회에서 서울경찰청의 김광호 증인과 관련된 질문과 답변에 대한 내용을 다루고 있습니다. 김광호 증인은 경찰청의 마약 단속 활동이 법무부의 지시가 아닌 서울청의 독자적인 결정으로 진행된 것이라고 주장합니다. 또한, 서울청은 7월부터 마약 단속을 독自적으로 시작했으며, 법무부의 발표는 이후에 이루어졌다고 설명합니다. 이후 의원들이 유가족의 요청에 따라 참사 현장에서의 유족 대우와 시신 검시 절차에 대한 질의를 하였고, 이와 관련된 절차의 적합성에 대한 답변을 준비해달라고 요청합니다. 이 과정에서 경찰청과 법무부 간의 협력 및 자료 요청에 대한 논의도 이루어졌습니다. 이번 발언에서는 10.29 참사와 관련하여 마약수사와 경찰의 역할에 대한 논의가 이어졌습니다. 김어준 씨와 더불어민주당 의원들은 검찰의 마약수사 우선순위가 참사의 원인이라는 주장을 했으나, 검찰은 경찰에 대한 지휘 권한이 없다는 점이 강조되었습니다. 과거의 법 개정으로 인해 검찰은 경찰에 대한 수사 지휘를 할 수 없게 되었고, 이에 따라 이들의 주장은 현실성이 없다는 입장이었습니다. 발언자는 사건의 정치적 이용을 경계하며, 유족들의 신원 확인과 관련한 경찰의 대응에도 의문을 제기했습니다. 결국 유족들이 현장에서 가족의 시신을 찾는 과정에서의 불편함과 경찰의 대응에 대한 문제가 논의되었으며, 이와 관련된 확인 요청이 있었습니다. 이 대화는 기관보고에서 여러 위원들이 특정 사건에 대한 확인과 정보를 요구하는 논의이다. 위원들은 사건 발생 후 3주가 지났음에도 관련 기관들이 명확한 답변을 주지 않자 불만을 표하며, 사건에 대한 조사를 종합적으로 진행할 것을 촉구하고 있다. 특히, 경찰과 소방의 협력 및 사건에 대한 매뉴얼 제정 필요성을 강조하며, 가족들이 사건 관련 정보를 원하고 있음을 언급한다. 마지막으로, 소방과 경찰이 정보를 제대로 전달하지 못한 상황에 대한 책임을 지적하며, 사건의 심각성을 인지하지 못한 것에 대한 문제를 제기한다. 이 글에서는 이태원 참사 당시 경찰과 소방의 대응이 적절하지 않았다는 점이 강조되고 있습니다. 사건 발생 후 서울 상황실에서는 모니터링을 하면서 즉각적인 출동 요청이 이루어지지 않았고, 현장 통제가 제대로 이루어지지 않았다는 증언이 있습니다. 이후 여러 차량과 경찰이 늦게 출동하고, 상황 보고서와 실제 지시 사항 간의 불일치도 지적됩니다. 또한, 참사 현장으로부터 가까운 병원이 아닌 멀리 있는 병원으로 사망자를 이송한 점에 대한 질의가 이어지며, 이와 관련된 의사결정이 문제시되고 있습니다. 결국, 상황 대응의 적절성 부족에 대한 강한 비판이 일어나고 있습니다. 해당 텍스트에서는 긴급 의료 이송과 관련하여 소방본부장과 위원 간의 질의응답이 이루어지고 있습니다. 소방본부장은 응급환자 이송 시 병원 선택은 현장에 있는 DMAT와 보건소의 정보에 따라 결정된다고 설명하였고, 1시까지 102명의 응급환자는 이송이 완료되었다고 밝혔습니다. 그러나 이후 발생한 응급환자와 사망자 이송에 대한 비판과 의구심이 제기되었습니다.\n",
      "\n",
      "위원들은 사망자 이송으로 인해 부상자 이송이 소홀했는지 질문하며, 가까운 병원으로의 빠른 이송이 중요하다는 점을 강조했습니다. 또, 순천향병원에서 대기 중인 의사 수와 병상의 실제 상황에 대한 모순에 대해서도 지적했습니다. \n",
      "\n",
      "이와 함께, 현장에서 인파 통제가 제대로 이루어지지 않았다는 증인의 증언도 포함되어 있으며, 피해자 신원 확인과 관련한 언론 대응에 대한 질문이 이어졌습니다. 전반적으로, 비상 상황에서의 의료 대응과 책임 문제에 대한 혼란과 불만이 드러나는 내용을 담고 있습니다. 이 대화는 이태원 참사 관련 경찰의 대응 및 상황 인식에 대한 질의응답을 다루고 있습니다. 경찰 관계자는 초기 상황을 제대로 인지하지 못했음을 인정하며, 10시 19분부터 여러 차례 비명 소리 및 인파에 대한 요청이 있었음에도 불구하고 적절한 조치를 하지 못했다는 점에서 비판을 받고 있습니다. 구청장과 경찰서장 등 공무원들은 대규모 인파가 모일 때 사전 예방과 지휘가 필요하다고 강조되며, 사고 후 대응 미비로 인한 인명 피해를 언급하고 있습니다. 증인은 이틀 전 상황보고서가 오류가 있었고, 자신의 무능을 반성하지만 국민의 신뢰가 떨어져 있음을 우려합니다. 이 문서는 이태원 압사 사고와 관련된 경찰 및 소방의 대응에 대한 논의로, 사고 발생 당시 경찰의 무전 지시와 대응이 부적절했다는 비판이 주를 이루고 있습니다. 경찰서장이 여러 차례의 무전을 받고도 상황을 파악하지 못하고 지시를 늦춰 많은 인명피해가 발생했다고 주장하며, 즉각적인 대응이 있었다면 더 많은 생명을 구할 수 있었을 것이라는 점이 강조됩니다. 또한, 소방과 경찰 간의 협력 및 지휘 체계의 문제도 지적되고 있습니다. 이와 함께, 해당 사건에 대한 고뇌와 안타까움을 표현하며 구조 전반에 걸쳐서 조정과 지휘의 필요성도 언급되고 있습니다. 구급차 동원령 발령과 재난안전법에 따른 중대본과 중수본의 필요성에 대한 질문이 제기되었습니다. 당시 상황에서 중수본이 필요한지에 대한 판단이 어려움이 언급되었고, 이와 관련해 다양한 조치가 제대로 이루어지지 않았음을 지적하는 내용이 이어졌습니다. 특히 이태원 참사 직전의 대응과 상황실의 역할에 관한 비판이 있었습니다. 경찰의 질서 유지와 대응에 대한 무성의한 태도가 비판받았으며, 구체적인 지시 사항에 대해서도 혼란과 갈등이 드러났습니다. 또한, 기동대의 요청 여부에 대한 상반된 진술들이 문제시되며, 책임 소재가 논의되었습니다. 논의 중 다양한 증인들의 발언이 이어졌고, 특히 명확한 지시가 있었는지에 대한 갈등이 있었습니다. 서울청장 김광호 증인에 대한 질의가 진행되면서, 사건 이후 증언들이 계속해서 변화하고 있다는 점이 지적되었습니다. 특히 정현욱 증인의 증언 내용도 초기와 많이 달라지고 있다는 우려가 표명되었습니다. 국정조사와 청문회에서 증인 간 의견 충돌이 드물게 발생하는 점을 지적하며, 진실 규명의 필요성이 강조되었습니다.\n",
      "\n",
      "김형동 위원은 이태원역장의 책임을 물으며, 사고 당시 역장의 임무 이행 여부를 질문했습니다. 그는 이날 이태원역에 근무한 인원이 평소보다 많았고, 역장이 해당 인원을 적절하게 통제하지 못했다고 비판했습니다. 역장이 상황을 인지하지 못했거나 외부 소음으로 인해 알지 못했다는 주장에 대해, 위원은 직무 유기를 주장하며 데이터를 통해 역장의 잘못된 관리 실태를 드러냈습니다. 전반적으로, 이 사건에 대한 책임소재와 증인들의 진술 일관성을 두고 강한 의문들이 제기되고 있습니다. 이 텍스트는 국정조사에서 진행된 증인 신문을 다룹니다. 내용은 이태원 참사와 관련하여 경찰 및 관련 기관의 대응에 대한 질의 응답입니다. 여러 증인들이 핼러윈 데이에 대한 준비와 집회 시위 관리의 중요성에 대해 언급하며, 당시 상황에서 경찰의 대처가 미흡했음을 반성하고 있습니다. 특히, 많은 인원이 모였음에도 불구하고 상황을 제대로 인지하지 못하고, 그로 인해 발생한 참사에 대해 유가족과 국민에게 사과하는 장면이 반복됩니다. 각 증인은 자신의 책임과 당시의 판단을 변명하며, 위증 혐의에 대해서도 반발하고 있습니다. 전반적으로 경찰의 준비 부족과 위기 대처 미비에 대한 비판이 주를 이루고 있습니다. 증인은 집회 상황과 112 상황이 다르다고 하며, 2020년 보고서에 언급된 \"압사\" 관련 내용에 대해 설명했다. 그는 코로나 상황으로 인해 112 타격대가 대책을 세우고 있었고, 그 당시의 보고서였다. 코로나 해제 후 인파가 증가했음을 언급했으나 대답을 하지 않았다. 이어서, 박형수 위원이 이임재 증인에게 무전으로 압사라는 내용이 전달된 시점에 대한 질문을 했다. 증인은 일부 정보를 들었다고 하였고, 22시 59분에 CCTV에 잡힌 모습을 언급하며 당시 상황을 설명했다. \n",
      "\n",
      "증인은 무전 상황을 예의주시하고 있었으나, 이태원파출소에서 평온한 응답을 받았다고 말했다. 박 위원은 증인이 그런 상황에서 느긋하게 걸어갔다는 점을 비판하며 빨리 확인하러 가야 했던 것 아니냐고 물었다. 증인은 뒷짐이 좋지 않은 자세라는 것을 인정하면서, 언덕길 때문이라고 설명했다. 박 위원은 통상적인 지휘관이라면 상황 확인을 위해 서둘러갔어야 한다고 주장했다. \n",
      "\n",
      "증인은 최선을 다했다고 생각한다고 말했지만, 박 위원은 그의 대답에 실망감을 표시했다. 증인은 여러 무전 내용을 모두 듣지 못했다며 방어했지만, 박 위원은 이전에 보고된 내용과 현재 답변이 일치하지 않는다고 지적하며 주의의무를 다하지 않았음을 강조했다. 증인은 자신의 행동이 최선이었다고 주장했지만, 박 위원은 그 주의의무를 제대로 이행하지 못했다는 점을 계속해서 문제 삼았다. 황실과 현장 과장들이 상황을 제대로 이해하지 못했던 것으로 보이며, 긴급재난 대응 시스템이 미비하다는 지적이 있었습니다. 군중 난기류가 발생하면 골든타임이 없고, 인력이 즉시 총동원되어야 했지만 그런 조치가 없었다는 비판이 있었습니다. 또한 현장의 CCTV나 영상 확인이 제대로 이루어지지 않았고, 재난 컨트롤타워가 마비된 상태에서 책임을 현장 소방서장이나 경찰에게 묻는 것은 부적절하다는 의견이 있었습니다. 유가족 지원 등에 대한 논의도 부족했으며, 시스템 개선이 시급하다는 결론이 나왔습니다. 이 텍스트는 용산 경찰서의 경찰관 기동대 요청과 관련된 질의응답 내용을 다루고 있습니다. 여러 증인들이 이임재 증인으로부터 기동대 요청 지시를 받지 않았다고 진술하며, 증언 간의 불일치가 있습니다. 또한 이임재 증인은 상황보고서의 시간 기록이 잘못되었다고 인정하면서도, 시간과 내용이 부정확하게 보고된 것에 대한 의혹이 제기됩니다. 이어서 이태원 역장에게 사고현장 통제 상황에 대해 질문하며, 통제가 제대로 이루어지지 않았음을 비판하고 있습니다. 마지막으로, 전주혜 위원이 질의를 이어갈 준비를 하고 있습니다. 민주당 의원들의 질의에 대해 경찰청장이 10월 29일 경비 인력 증원이 대통령실이나 관저 경호와 무관하다고 답변했습니다. 이임재 증인은 현장 상황보고가 경찰서 안에서 작성되었고, 자신은 이태원 현장에 있었다고 밝혔습니다. 이 과정에서 이임재 증인이 사건 발생 후 늦게 현장에 도착했음을 지적하며 무책임함을 비판하였습니다. 또한, 서울청장의 책임은 112상황실 운영규칙 위반 뿐 아니라, 매년 세운 핼러윈 대책에 대한 경각심 부족과 범죄 예방에만 집중했던 점도 지적 받았습니다. 의원들은 인파 예상에 대한 보고가 있었다는 점을 강조하며 책임 있는 행동을 촉구했습니다. 이 글에서는 이태원 핼러윈 사건에 대한 경찰의 책임과 대응 방안에 대해 논의하고 있습니다. 작성자는 경찰이 대규모 인파 관리와 범죄 예방을 위한 준비가 부족했으며, 기동대를 배치할 기회가 있었음에도 불구하고 이를 무시했다고 주장합니다. 2020년과 2021년에 기동대를 배치한 경험이 있음에도 불구하고, 이번 사건에서는 적절한 인파 관리가 이루어지지 않았다는 것입니다. 경찰의 방역 대책이 인파 통제와 관련성이 높았다는 점도 강조되며, 전반적으로 경찰의 지휘와 대비가 실패했다는 비판이 제기되고 있습니다. 이 대화에서는 이태원 핼러윈 축제 중 발생한 사고에 대해 지휘부의 대응 실패를 지적하고 있습니다. 참석자들은 사고 발생 이전 보고 체계의 부실과 인파 관리의 중요성에 대해 논의하며, 사고가 발생하지 않았던 과거의 방심이 문제가 되었음을 강조하고 있습니다. 또한, 경찰 인력이 상황 관리에 제대로 대응하지 못한 점과 경비 인력 배치 요청에 대한 적절한 조치가 이뤄지지 않았음을 비판하고 있습니다. 결국, 참석자들은 지휘부의 체계적 관리와 신속한 보고의 필요성을 재차 강조하고 있습니다. 위의 내용을 요약하면 다음과 같습니다:\n",
      "\n",
      "증인들은 경찰과 소방당국 간의 협조 요청 및 사건 인지 시점에 대해 질의응답을 진행하고 있으며, 이태원 참사와 관련된 경비 병력 배치 요청 절차 및 경찰청의 대응 시간을 확인하고자 하고 있습니다. 경찰청은 22시 56분에 소방청으로부터 차량 통제 요청을 받은 것을 인정하면서도, 사건 인지 시점을 23시 20분으로 정정한다고 주장하였고, 이로 인해 혼란이 발생하고 있습니다. 또한, 사건 처리 표 원문 공개 요청에 대해 경찰은 개인정보 보호 등을 이유로 공개하지 않고 있으며, 이에 대한 비판이 제기되고 있습니다. 상황의 복잡성과 관련자들의 기억 혼동이 진상 규명을 저해하고 있다는 점도 언급되고 있습니다. 이 대화는 이태원 압사 사고와 관련된 답변 및 질의 과정에서 발생한 논란을 다루고 있습니다. 주요 내용은 소방청과 경찰청 간의 정보 전달 시점에 대한 논의입니다. 22시 56분에 소방청이 경찰청에 15명이 압사한 사건을 통보했지만, 경찰청이 이를 처음 인지한 시점을 23시 20분으로 정정했다고 주장하며, 이에 대한 해석 차이를 두고 논란이 벌어집니다. 이 과정에서 경찰의 출동 지연과 통제 실패에 대한 비판도 있었으며, 지방 경찰청의 출동 권한과 관련된 논의가 오갔습니다. 결국, 출동 지연과 효과적인 사고 대응에 문제를 지적하는 발언이 이어졌습니다. 이태원 참사와 관련한 국정조사에서 경찰의 대응과 허위 보고서 문제에 대한 질의가 진행되고 있습니다. 조은희 위원은 여러 경찰 관계자들이 허위로 증언하고 상황을 왜곡했다며 진실을 찾기 위한 노력을 강조했습니다. 윤희근 경찰청장은 이러한 문제들에 대해 사과하며, 경찰 내부의 관행을 전면적으로 재검토하겠다고 밝혔습니다. 또한, 핼러윈 축제를 앞두고 경고 보고서가 존재했지만, 경찰 내부에서 인력 증원이 삭제된 경위에 대한 질의가 이어졌고, 경찰의 인파 관리에 대한 소홀함이 지적되었습니다. 이 텍스트는 정치적 청문회에서 발생한 논의 내용을 담고 있습니다. 참석자들은 이태원 핼러윈 사고에 대해 책임 있는 경찰서장과 소방서장의 대응 문제를 질의하고 있습니다. 한 의사가 경찰의 통제 및 유가족에 대한 조치에 대해 질문하며, 소방서장에 대한 비판도 이어집니다. 또한, 사고 발생 후 출동 지연과 구조 활동의 미흡함에 대한 공격적인 질의가 진행됩니다. 마지막으로 정보 보고서의 수정과 관계된 내용에 대한 질의가 이뤄지며, 참석자들은 책임자들이 빠르게 확인하고 설명할 것을 요구합니다. 의회는 회의를 잠시 중단한 후 계속 이어가기로 하고, 증인들의 추가 질의를 이어갈 계획입니다. 이 본문에서는 핼러윈 대비 정보보고서와 관련된 내용을 두 사람 간의 대화 형식으로 다루고 있다. 보고서의 내용, 특히 인력이 필요하다는 주장에 대해 서로 의견이 엇갈리고 있으며, 한 사람은 수정되었다고 주장하고 다른 사람은 그렇지 않다고 반박한다. 추가로 특정 장소에 대한 위험 보고서의 존재 여부에 대해서도 논의가 이루어진다. 마지막으로, 보고서 수정 과정에서 누군가의 압력이 있었는지에 대한 의혹이 제기되며, 이태원 참사와 관련된 증거가 사라지고 있다는 우려가 표현된다. 대화는 투명성과 책임 문제를 중심으로 계속해서 논의된다. 만 기동대와 관련하여 용산서 직원들이 공론화된 상태에서 진술이 갑자기 바뀐 점에 대한 의문이 제기되었습니다. 특정 증인들은 이태원 핼러윈 데이 이전에 인력 증원을 요청하지 않았다고 주장했고, 관할구역을 축소했으나 보고서에는 확대된 것으로 기재되어 혼선이 있었습니다. 또한, 핼러윈 당일 이태원 현장에 정보과 직원이 전혀 배치되지 않은 이유로, 기존의 집회와의 차이를 간과한 점이 지적되었습니다. 전체적인 상황을 통해 정보 수집과 배치에 대한 판단 미숙이 드러났습니다. 해리된 대화에서는 박형수 위원과 이임재 증인 간의 질의응답이 진행되고 있습니다. 위원은 특정 시간에 발생한 긴급 상황에 대해 왜 즉각적인 지시가 없었는지에 대해 질문하고, 증인은 상황실에서 특정 무전이 없었던 것으로 기억한다고 답변합니다. 이어서 증인은 기동대를 요청한 이유에 대해 인파 관리를 효율적으로 하기 위해서라고 설명하며, 집회가 끝난 후 기동대를 즉시 배치하지 않은 이유는 그에 대한 지휘권이 없었기 때문이라고 주장합니다. 위원은 이러한 답변에 대해 불만을 표시하며, 기동대를 상황에 맞게 적절히 배치했어야 한다고 강조합니다. 마지막으로, 자치경찰사무에 대한 복잡한 설명이 추가로 이어질 예정임을 안내합니다. 이 대화에서는 이태원 참사 당시 경찰의 인파 통제 실패와 관련된 내용이 중심이다. 증인은 참사 발생 당시 인파를 인도 위로 올리라는 지시를 받아 통제를 시도했으나, 인파가 차도에서 위험하게 흐르는 상황을 인지하지 못한 점을 지적한다. 또한, 통제가 제대로 이루어지지 않은 것이 참사의 결정적인 원인이라고 강조하며, 경찰의 무대응과 책임 회피를 비난한다. 다른 위원들은 증언의 신뢰성과 경찰의 인파 안전 관리 인식 부족을 지적하며, 사건의 진실을 숨기거나 조작하려는 압력이 있었다는 논란이 벌어진다. 전반적으로 인파 관리의 필요성과 경찰의 책임이라는 주제가 논의되었다. 이 텍스트는 특정 사건에 대한 증언과 관련된 내용을 다루고 있습니다. 증인 김희석이 인력 증원이 필요하다는 주장에 대해 다른 증언과 상반된 이야기를 하며, 이는 위증으로 보인다는 주장이 있습니다. 조응천 위원이 김희석의 증언이 잘못되었다고 지적하며 위증 고발을 요청했고, 김희석은 보고서 내용과 질문에 대한 자신의 해명을 시도합니다. 또한, 경찰 청장 및 관련 증인들에 대한 질의가 이어지며 참사 당일의 행각과 경비 기동대 요청 여부에 대한 논의가 진행됩니다. 전체적으로 증언의 일관성과 사실 관계에 대한 논란이 중심 내용입니다. 김광호 서울청장에 대한 직무상의 책임 문제와 관련된 논의가 진행됐다. 주말 대규모 인파에 대비해 시민 안전을 확보하지 않은 결정이 비판받고 있으며, 서울청의 입장이 대변되는 것이 아닌지 의문이 제기되었다. 경찰청장과 서울청장은 신원 확인 과정에서의 절차를 설명하며, 유가족의 접근 통제가 현장 상황을 관리하기 위해 필요했음을 강조했다. 또한, 사고 당시의 지시와 대응 과정에 대해 설명하며, 생긴 문제들에 대한 확인이 이루어져야 한다는 의견이 나왔다. 마침내 현장 대응의 기록과 자료 확보에 대한 논의가 이어졌고, 관련 데이터의 저장과 삭제 정책에 대한 점검이 필요성이 제기되었다. 이 텍스트는 국정조사와 관련된 회의 내용으로, 소방과 경찰의 유가족 지원 과정과 관련된 문제들이 논의되고 있습니다. 특히, 희생자 시신 인도 및 유실물 인계 과정에서 유가족의 불만과 요구 사항이 제기되며, 경찰과 소방의 역할 및 책임에 대한 질의와 답변이 오고갑니다. 회의에서는 소방 자료 취합에 3일의 시간을 요청하고, 유가족의 궁금증 해소를 위한 추가적인 설명과 조치가 필요한 상황이 강조됩니다. 마지막으로, 위원들은 유가족이 느낀 의문과 불만을 경찰이 해결해야 한다고 강조하였습니다. 이 텍스트는 주로 서울에서 발생한 재난 상황에 대한 증언과 조사 내용을 다루고 있습니다. 증인은 교통 CCTV 송출 여부에 대한 질문에 대해 송출이 계속되고 있었다고 주장하지만, 다른 인물은 당시 송출이 불가능했다고 반박합니다. 또, 용산경찰서의 상황과 송출 시스템 문제 등도 언급되며, 경찰과 소방의 대응 부족에 대한 반성과 재발 방지책에 대한 논의가 이루어집니다. 경찰청장은 사건에 대한 반성과 유족에게 사과하며, 향후 개선책을 마련할 것을 다짐합니다. 마지막으로 소방본부장도 응급 상황 처리의 부적절함에 대해 지적됩니다. 이 내용은 이태원 참사와 관련된 대응 및 책임에 대한 질의 응답을 다루고 있습니다. 참사 발생 시간대에 서울시의 긴급구조통제단장인 최태영 증인과 서울시 행정2부시장이 현장에 있었으나, 적절한 환자 보호조치를 취하지 않았다는 점이 지적되었습니다. 이들은 응급구호 및 사후 조치에 대해 제대로 안내받지 못했으며, 이 상황에서 최성범 소방서장이 환자를 병원으로 이송하는 과정에서 어려움을 겪었다는 사실이 드러났습니다. 추가적으로, 서울경찰청이 기동대 배치 요청과 관련하여 위증을 했다는 주장도 나왔으며, 경찰이 참사에 대한 대응을 소홀히 했다는 비판이 제기되었습니다. 최태영 증인은 책임을 느낀다면 조치를 취해야 한다고 언급했습니다. 전체적으로, 사고 대응 시스템의 부실과 책임 회피에 대한 문제들이 부각되었습니다. 이 텍스트는 국회에서 진행된 10.29 참사 관련 국정조사 특위의 질의응답 내용을 담고 있습니다. \n",
      "\n",
      "주요 내용은 다음과 같습니다:\n",
      "1. 경찰과 소방 관련 증언의 신뢰성에 대한 논의가 있습니다. 소방 대표가 증언을 했지만, 위증으로 간주되는 발언에 대한 반론이 제기됩니다.\n",
      "2. 경찰청장 윤희근 증인에게 다음과 같은 중요한 질문이 있었습니다: 현장에서 인명을 구하기 위한 응급조치의 중요성, 닥터카 사용 문제, 그리고 재발 방지를 위한 경찰 매뉴얼 개선 필요성에 대한 질문이 이어졌습니다.\n",
      "3. 마약 수사와 참사 간의 관계에 대한 질의도 진행되었으며, 경찰과 검찰의 역할 구분에 대한 설명이 필요했습니다.\n",
      "4. 위원들은 사건의 진상을 규명하고 향후 재발 방지를 위해 매뉴얼을 정비해야 한다고 강조했습니다.\n",
      "\n",
      "이 과정에서 위증 가능성, 응급 구조의 중요성, 경찰 수사의 필요성 등이 주요 쟁점으로 드러났습니다. 이 글에서는 10월 29일 이태원 참사와 관련된 경찰의 대응에 대한 질의가 진행되고 있습니다. 윤희근과 김광호 증인이 출석하여 경찰 시스템의 마비 및 현장 통제 실패에 대한 책임을 논의하고 있습니다. 당시 경찰력의 즉각적인 투입이 이루어지지 않았고, 인명 피해를 최소화하는 데 실패했다는 지적이 제기됩니다. 또한, 경찰 지휘부의 신뢰가 훼손되었으며, 책임 회피와 관련된 비판도 언급됩니다. 조은희 위원이 기동대 배치에 관한 질의를 하며 사건의 대응 과정에서의 혼선과 증언의 일관성 문제를 지적하고 있습니다. 전반적으로, 당시 상황에 대한 경찰의 책임과 대응의 적절성에 대한 논란이 중심 주제를 이루고 있습니다. 이 텍스트는 이태원 압사 사고와 관련된 국회 청문회에서의 증인 질문 및 대답 내용을 담고 있습니다. 이임재 증인은 인파의 혼잡을 예측했지만 압사 사고를 예측하지 못한 점에 대해 사과하며 준비 부족을 인정했습니다. 권칠승 위원은 최근 안타까운 소식과 관련해 2차 피해 방지 대책에 대한 논의가 있었는지 질문했고, 이 문제에 대한 경찰청의 대응 부족을 지적했습니다. 박성민 위원은 소방 구조 활동의 지연 원인 및 구조 대원의 대기 상태와 무전 통신 문제에 대해 질문하며, 초기 대응의 미흡함에 대한 질의를 이어갔습니다. 전반적으로 사고에 대한 책임과 대책 부족이 강조되고 있습니다. 발언자는 후착 대원들을 후면으로 이동 조치했지만, 무전에는 아무런 응답이 없었다고 전했습니다. 구조 활동 당시 통신이 원활하지 않았고, 구조 차량이 늦게 도착해 초동조치를 제대로 하지 못했다는 점을 강조했습니다. 이어서 경찰의 협조 요청이 여러 번 있었음에도 불구하고 응답이 없었다고 언급하며, 긴급 상황에서 인명을 구하기 위해 최대한 노력해야 한다고 주장했습니다. 또한, 초기 상황보고서가 실제 인명 피해를 정확히 반영하지 못했고, 이로 인해 초기 대응이 미흡했다는 문제를 지적하며, 모든 가능한 방법을 동원해 인명을 구해야 한다고 강조했습니다. 사고 발생 후 경찰과 소방의 대응이 신속하지 못했던 점이 강조되고 있습니다. 경찰과 소방은 상황을 보다 정확하게 전파하고 대응했더라면 참사를 예방하거나 최소화할 수 있었다는 주장이 제기되었습니다. 여러 증인들이 사고 현장에서의 상황을 설명하며, 인파 관리와 질서 유지를 위한 초기 대응의 미흡함을 인정했습니다. 특히, 인파가 몰릴 것으로 예상되는 상황에서 미리 준비하지 못한 점에 대한 책임이 지적되었고, 유족들에게 사과하는 발언도 있었습니다. 결국, 초기 위기 징후 인지를 통한 예방적 대응의 중요성이 다시 한번 강조되었습니다. 이 대화는 이태원 행사와 관련된 경찰의 대응에 대한 비판 및 질의 응답을 다루고 있습니다. 주된 내용은 무정차 통과 요청에 대한 판단 미스와 그에 따른 책임 문제입니다. 방금 패닉 상황과 외부 출입 통제 여부를 무시하고 전화 통화를 시도할 기회를 놓쳤다는 지적이 있으며, 경찰서의 정보 공유 부족과 상황 인식 부족도 비판받고 있습니다. 이어서 대통령실 이전과 안전 관리의 연관성에 대한 논의가 있으며, 대통령실이 이태원 사건의 인파 관리에 영향을 미쳤을 것이라는 주장도 제기됩니다. 대화는 결국 경찰의 의사 결정 과정의 문제와 책임을 묻는 방향으로 진행됩니다. 용산경찰서 직원들은 대통령 출퇴근 경비로 인해 과도한 초과 근무를 하였고, 이에 따라 경찰 인력이 증원되었다. 그러나 이로 인해 이태원 참사와 관련된 경비 인력이 부족하게 되었고, 경찰청은 이를 예측하지 못했다고 밝혔다. 또한, 수사팀의 대부분이 서울청 출신이라는 점에서 수사 과정에 대한 신뢰성에 의문이 제기되었다. 경비와 사고의 연관성에 대한 질의와 논란이 있었으며, 경찰이 상황을 적절히 인지하지 못한 것은 유감스럽다고 답변했다. 국가의 위기관리와 관련한 청문회에서 여러 관련 부처들이 우려되는 상황이 드러났습니다. 특히 국가위기관리센터와 행안부장관의 부재가 재난 발생 시 대응의 실패로 이어졌다고 지적됩니다. 위기 상황에서 소통 체계의 불안정성과 소방 및 경찰 간의 갈등이 언급되었고, 재난 안전 통신망이 제대로 작동하지 않았다는 점이 강조되었습니다. 청문회에서는 재난 발생 직후 긴급구조 통제단의 작동이 미흡했음을 반성하며, 앞으로의 대책 마련이 필요하다는 논의가 이어졌습니다. 발생된 문제들은 사전 준비 부족과 현장 대응의 한계를 드러내며, 향후 개선책이 시급하다는 결론에 도달했습니다. 이 발언자는 유가족의 증언을 중요하게 여기며, 3차 청문회에서 유가족 증인의 채택이 필요하다고 강조했습니다. 청문회에서의 증인들의 답변에 대해 불신과 우려를 표현하며, 과거 사고의 재발 방지를 위한 철저한 대응과 혁신이 필요하다고 역설했습니다. 또한, 지휘관의 무관심과 책임 회피에 실망감을 표명하고, 현장에서 고생한 소방 및 경찰 공무원들의 마음을 이해하며 그들의 트라우마를 덜어주도록 격려할 것을 요청했습니다. 마지막으로 청문회 준비에 도움 준 모든 이들에게 감사의 말을 전하며 2차 청문회의 일정을 안내했습니다.\n",
      "\n"
     ]
    }
   ],
   "source": [
    "results = client.scroll(\n",
    "    collection_name=\"sample_meeting_rc\",\n",
    "    offset=None,  # 처음부터 검색\n",
    "    limit=5  # 상위 5개 결과 반환\n",
    ")\n",
    "\n",
    "# 검색 결과 출력\n",
    "for result in results[0]:  # scroll 반환값은 (points, next_page_offset)의 튜플\n",
    "    print(\"ID:\", result.id)\n",
    "    # print(\"발언내용:\", result.payload['발언내용'])\n",
    "    print(\"회의번호:\", result.payload['회의번호'])\n",
    "    # print(\"발언자:\", result.payload['발언자'])\n",
    "    print(\"요약된발언내용:\", result.payload['요약된발언내용'])\n",
    "    print()"
   ]
  },
  {
   "cell_type": "markdown",
   "metadata": {},
   "source": [
    "# 2. 벡터 db 호출하여 발언내용 요약하기"
   ]
  },
  {
   "cell_type": "code",
   "execution_count": 32,
   "metadata": {},
   "outputs": [],
   "source": [
    "import random\n",
    "from transformers import pipeline\n",
    "\n",
    "# Qdrant에서 모든 데이터 불러오기\n",
    "def fetch_all_data_from_qdrant(collection_name, batch_size=50):\n",
    "    all_results = []\n",
    "    offset = None\n",
    "\n",
    "    while True:\n",
    "        results, next_page_offset = client.scroll(\n",
    "            collection_name=collection_name,\n",
    "            offset=offset,\n",
    "            limit=batch_size\n",
    "        )\n",
    "        all_results.extend(results)\n",
    "\n",
    "        if not next_page_offset:\n",
    "            break\n",
    "\n",
    "        offset = next_page_offset\n",
    "\n",
    "    return all_results\n",
    "\n",
    "# 무작위 샘플링\n",
    "def random_sample(data, sample_size=100):\n",
    "    return random.sample(data, sample_size)"
   ]
  },
  {
   "cell_type": "code",
   "execution_count": 35,
   "metadata": {},
   "outputs": [
    {
     "name": "stdout",
     "output_type": "stream",
     "text": [
      "총 데이터 개수: 9682\n",
      "무작위로 100개의 데이터를 샘플링했습니다.\n",
      "요약 실패: index out of range in self\n"
     ]
    },
    {
     "name": "stderr",
     "output_type": "stream",
     "text": [
      "Your max_length is set to 150, but your input_length is only 47. Since this is a summarization task, where outputs shorter than the input are typically wanted, you might consider decreasing max_length manually, e.g. summarizer('...', max_length=23)\n",
      "Your max_length is set to 150, but your input_length is only 33. Since this is a summarization task, where outputs shorter than the input are typically wanted, you might consider decreasing max_length manually, e.g. summarizer('...', max_length=16)\n",
      "Your max_length is set to 150, but your input_length is only 63. Since this is a summarization task, where outputs shorter than the input are typically wanted, you might consider decreasing max_length manually, e.g. summarizer('...', max_length=31)\n",
      "Your max_length is set to 150, but your input_length is only 18. Since this is a summarization task, where outputs shorter than the input are typically wanted, you might consider decreasing max_length manually, e.g. summarizer('...', max_length=9)\n",
      "Your max_length is set to 150, but your input_length is only 82. Since this is a summarization task, where outputs shorter than the input are typically wanted, you might consider decreasing max_length manually, e.g. summarizer('...', max_length=41)\n",
      "Your max_length is set to 150, but your input_length is only 30. Since this is a summarization task, where outputs shorter than the input are typically wanted, you might consider decreasing max_length manually, e.g. summarizer('...', max_length=15)\n",
      "Your max_length is set to 150, but your input_length is only 55. Since this is a summarization task, where outputs shorter than the input are typically wanted, you might consider decreasing max_length manually, e.g. summarizer('...', max_length=27)\n",
      "Your max_length is set to 150, but your input_length is only 87. Since this is a summarization task, where outputs shorter than the input are typically wanted, you might consider decreasing max_length manually, e.g. summarizer('...', max_length=43)\n",
      "Your max_length is set to 150, but your input_length is only 24. Since this is a summarization task, where outputs shorter than the input are typically wanted, you might consider decreasing max_length manually, e.g. summarizer('...', max_length=12)\n",
      "Your max_length is set to 150, but your input_length is only 42. Since this is a summarization task, where outputs shorter than the input are typically wanted, you might consider decreasing max_length manually, e.g. summarizer('...', max_length=21)\n",
      "Your max_length is set to 150, but your input_length is only 42. Since this is a summarization task, where outputs shorter than the input are typically wanted, you might consider decreasing max_length manually, e.g. summarizer('...', max_length=21)\n",
      "Your max_length is set to 150, but your input_length is only 103. Since this is a summarization task, where outputs shorter than the input are typically wanted, you might consider decreasing max_length manually, e.g. summarizer('...', max_length=51)\n",
      "Your max_length is set to 150, but your input_length is only 111. Since this is a summarization task, where outputs shorter than the input are typically wanted, you might consider decreasing max_length manually, e.g. summarizer('...', max_length=55)\n",
      "Your max_length is set to 150, but your input_length is only 62. Since this is a summarization task, where outputs shorter than the input are typically wanted, you might consider decreasing max_length manually, e.g. summarizer('...', max_length=31)\n"
     ]
    },
    {
     "name": "stdout",
     "output_type": "stream",
     "text": [
      "요약 실패: index out of range in self\n"
     ]
    },
    {
     "name": "stderr",
     "output_type": "stream",
     "text": [
      "Your max_length is set to 150, but your input_length is only 18. Since this is a summarization task, where outputs shorter than the input are typically wanted, you might consider decreasing max_length manually, e.g. summarizer('...', max_length=9)\n",
      "Your max_length is set to 150, but your input_length is only 49. Since this is a summarization task, where outputs shorter than the input are typically wanted, you might consider decreasing max_length manually, e.g. summarizer('...', max_length=24)\n",
      "Your max_length is set to 150, but your input_length is only 84. Since this is a summarization task, where outputs shorter than the input are typically wanted, you might consider decreasing max_length manually, e.g. summarizer('...', max_length=42)\n",
      "Your max_length is set to 150, but your input_length is only 82. Since this is a summarization task, where outputs shorter than the input are typically wanted, you might consider decreasing max_length manually, e.g. summarizer('...', max_length=41)\n",
      "Your max_length is set to 150, but your input_length is only 20. Since this is a summarization task, where outputs shorter than the input are typically wanted, you might consider decreasing max_length manually, e.g. summarizer('...', max_length=10)\n",
      "Your max_length is set to 150, but your input_length is only 18. Since this is a summarization task, where outputs shorter than the input are typically wanted, you might consider decreasing max_length manually, e.g. summarizer('...', max_length=9)\n",
      "Your max_length is set to 150, but your input_length is only 25. Since this is a summarization task, where outputs shorter than the input are typically wanted, you might consider decreasing max_length manually, e.g. summarizer('...', max_length=12)\n",
      "Your max_length is set to 150, but your input_length is only 75. Since this is a summarization task, where outputs shorter than the input are typically wanted, you might consider decreasing max_length manually, e.g. summarizer('...', max_length=37)\n",
      "Your max_length is set to 150, but your input_length is only 33. Since this is a summarization task, where outputs shorter than the input are typically wanted, you might consider decreasing max_length manually, e.g. summarizer('...', max_length=16)\n",
      "Your max_length is set to 150, but your input_length is only 35. Since this is a summarization task, where outputs shorter than the input are typically wanted, you might consider decreasing max_length manually, e.g. summarizer('...', max_length=17)\n",
      "Your max_length is set to 150, but your input_length is only 65. Since this is a summarization task, where outputs shorter than the input are typically wanted, you might consider decreasing max_length manually, e.g. summarizer('...', max_length=32)\n",
      "Your max_length is set to 150, but your input_length is only 44. Since this is a summarization task, where outputs shorter than the input are typically wanted, you might consider decreasing max_length manually, e.g. summarizer('...', max_length=22)\n",
      "Your max_length is set to 150, but your input_length is only 94. Since this is a summarization task, where outputs shorter than the input are typically wanted, you might consider decreasing max_length manually, e.g. summarizer('...', max_length=47)\n",
      "Your max_length is set to 150, but your input_length is only 22. Since this is a summarization task, where outputs shorter than the input are typically wanted, you might consider decreasing max_length manually, e.g. summarizer('...', max_length=11)\n",
      "Your max_length is set to 150, but your input_length is only 29. Since this is a summarization task, where outputs shorter than the input are typically wanted, you might consider decreasing max_length manually, e.g. summarizer('...', max_length=14)\n",
      "Your max_length is set to 150, but your input_length is only 44. Since this is a summarization task, where outputs shorter than the input are typically wanted, you might consider decreasing max_length manually, e.g. summarizer('...', max_length=22)\n",
      "Your max_length is set to 150, but your input_length is only 50. Since this is a summarization task, where outputs shorter than the input are typically wanted, you might consider decreasing max_length manually, e.g. summarizer('...', max_length=25)\n",
      "Your max_length is set to 150, but your input_length is only 93. Since this is a summarization task, where outputs shorter than the input are typically wanted, you might consider decreasing max_length manually, e.g. summarizer('...', max_length=46)\n",
      "Your max_length is set to 150, but your input_length is only 53. Since this is a summarization task, where outputs shorter than the input are typically wanted, you might consider decreasing max_length manually, e.g. summarizer('...', max_length=26)\n",
      "Your max_length is set to 150, but your input_length is only 147. Since this is a summarization task, where outputs shorter than the input are typically wanted, you might consider decreasing max_length manually, e.g. summarizer('...', max_length=73)\n",
      "Your max_length is set to 150, but your input_length is only 40. Since this is a summarization task, where outputs shorter than the input are typically wanted, you might consider decreasing max_length manually, e.g. summarizer('...', max_length=20)\n",
      "Your max_length is set to 150, but your input_length is only 49. Since this is a summarization task, where outputs shorter than the input are typically wanted, you might consider decreasing max_length manually, e.g. summarizer('...', max_length=24)\n",
      "Your max_length is set to 150, but your input_length is only 18. Since this is a summarization task, where outputs shorter than the input are typically wanted, you might consider decreasing max_length manually, e.g. summarizer('...', max_length=9)\n"
     ]
    },
    {
     "name": "stdout",
     "output_type": "stream",
     "text": [
      "요약 실패: index out of range in self\n"
     ]
    },
    {
     "name": "stderr",
     "output_type": "stream",
     "text": [
      "Your max_length is set to 150, but your input_length is only 81. Since this is a summarization task, where outputs shorter than the input are typically wanted, you might consider decreasing max_length manually, e.g. summarizer('...', max_length=40)\n",
      "Your max_length is set to 150, but your input_length is only 33. Since this is a summarization task, where outputs shorter than the input are typically wanted, you might consider decreasing max_length manually, e.g. summarizer('...', max_length=16)\n",
      "Your max_length is set to 150, but your input_length is only 56. Since this is a summarization task, where outputs shorter than the input are typically wanted, you might consider decreasing max_length manually, e.g. summarizer('...', max_length=28)\n",
      "Your max_length is set to 150, but your input_length is only 44. Since this is a summarization task, where outputs shorter than the input are typically wanted, you might consider decreasing max_length manually, e.g. summarizer('...', max_length=22)\n",
      "Your max_length is set to 150, but your input_length is only 77. Since this is a summarization task, where outputs shorter than the input are typically wanted, you might consider decreasing max_length manually, e.g. summarizer('...', max_length=38)\n",
      "Your max_length is set to 150, but your input_length is only 67. Since this is a summarization task, where outputs shorter than the input are typically wanted, you might consider decreasing max_length manually, e.g. summarizer('...', max_length=33)\n",
      "Your max_length is set to 150, but your input_length is only 18. Since this is a summarization task, where outputs shorter than the input are typically wanted, you might consider decreasing max_length manually, e.g. summarizer('...', max_length=9)\n",
      "Your max_length is set to 150, but your input_length is only 42. Since this is a summarization task, where outputs shorter than the input are typically wanted, you might consider decreasing max_length manually, e.g. summarizer('...', max_length=21)\n",
      "Your max_length is set to 150, but your input_length is only 62. Since this is a summarization task, where outputs shorter than the input are typically wanted, you might consider decreasing max_length manually, e.g. summarizer('...', max_length=31)\n"
     ]
    },
    {
     "name": "stdout",
     "output_type": "stream",
     "text": [
      "요약 실패: index out of range in self\n"
     ]
    },
    {
     "name": "stderr",
     "output_type": "stream",
     "text": [
      "Your max_length is set to 150, but your input_length is only 27. Since this is a summarization task, where outputs shorter than the input are typically wanted, you might consider decreasing max_length manually, e.g. summarizer('...', max_length=13)\n",
      "Your max_length is set to 150, but your input_length is only 68. Since this is a summarization task, where outputs shorter than the input are typically wanted, you might consider decreasing max_length manually, e.g. summarizer('...', max_length=34)\n",
      "Your max_length is set to 150, but your input_length is only 27. Since this is a summarization task, where outputs shorter than the input are typically wanted, you might consider decreasing max_length manually, e.g. summarizer('...', max_length=13)\n",
      "Your max_length is set to 150, but your input_length is only 89. Since this is a summarization task, where outputs shorter than the input are typically wanted, you might consider decreasing max_length manually, e.g. summarizer('...', max_length=44)\n",
      "Your max_length is set to 150, but your input_length is only 85. Since this is a summarization task, where outputs shorter than the input are typically wanted, you might consider decreasing max_length manually, e.g. summarizer('...', max_length=42)\n",
      "Your max_length is set to 150, but your input_length is only 89. Since this is a summarization task, where outputs shorter than the input are typically wanted, you might consider decreasing max_length manually, e.g. summarizer('...', max_length=44)\n",
      "Your max_length is set to 150, but your input_length is only 42. Since this is a summarization task, where outputs shorter than the input are typically wanted, you might consider decreasing max_length manually, e.g. summarizer('...', max_length=21)\n",
      "Your max_length is set to 150, but your input_length is only 49. Since this is a summarization task, where outputs shorter than the input are typically wanted, you might consider decreasing max_length manually, e.g. summarizer('...', max_length=24)\n",
      "Your max_length is set to 150, but your input_length is only 78. Since this is a summarization task, where outputs shorter than the input are typically wanted, you might consider decreasing max_length manually, e.g. summarizer('...', max_length=39)\n",
      "Your max_length is set to 150, but your input_length is only 29. Since this is a summarization task, where outputs shorter than the input are typically wanted, you might consider decreasing max_length manually, e.g. summarizer('...', max_length=14)\n"
     ]
    },
    {
     "name": "stdout",
     "output_type": "stream",
     "text": [
      "요약 실패: index out of range in self\n"
     ]
    },
    {
     "name": "stderr",
     "output_type": "stream",
     "text": [
      "Your max_length is set to 150, but your input_length is only 33. Since this is a summarization task, where outputs shorter than the input are typically wanted, you might consider decreasing max_length manually, e.g. summarizer('...', max_length=16)\n",
      "Your max_length is set to 150, but your input_length is only 112. Since this is a summarization task, where outputs shorter than the input are typically wanted, you might consider decreasing max_length manually, e.g. summarizer('...', max_length=56)\n",
      "Your max_length is set to 150, but your input_length is only 71. Since this is a summarization task, where outputs shorter than the input are typically wanted, you might consider decreasing max_length manually, e.g. summarizer('...', max_length=35)\n",
      "Your max_length is set to 150, but your input_length is only 33. Since this is a summarization task, where outputs shorter than the input are typically wanted, you might consider decreasing max_length manually, e.g. summarizer('...', max_length=16)\n",
      "Your max_length is set to 150, but your input_length is only 67. Since this is a summarization task, where outputs shorter than the input are typically wanted, you might consider decreasing max_length manually, e.g. summarizer('...', max_length=33)\n",
      "Your max_length is set to 150, but your input_length is only 68. Since this is a summarization task, where outputs shorter than the input are typically wanted, you might consider decreasing max_length manually, e.g. summarizer('...', max_length=34)\n",
      "Your max_length is set to 150, but your input_length is only 27. Since this is a summarization task, where outputs shorter than the input are typically wanted, you might consider decreasing max_length manually, e.g. summarizer('...', max_length=13)\n",
      "Your max_length is set to 150, but your input_length is only 46. Since this is a summarization task, where outputs shorter than the input are typically wanted, you might consider decreasing max_length manually, e.g. summarizer('...', max_length=23)\n",
      "Your max_length is set to 150, but your input_length is only 139. Since this is a summarization task, where outputs shorter than the input are typically wanted, you might consider decreasing max_length manually, e.g. summarizer('...', max_length=69)\n"
     ]
    },
    {
     "name": "stdout",
     "output_type": "stream",
     "text": [
      "요약된 샘플 데이터가 'qdrant_요약_샘플_결과.csv'에 저장되었습니다.\n"
     ]
    }
   ],
   "source": [
    "# BART 요약 모델 로드\n",
    "summarizer = pipeline(\"summarization\", model=\"facebook/bart-large-cnn\")\n",
    "\n",
    "# 텍스트 요약 함수\n",
    "def summarize_text(text):\n",
    "    try:\n",
    "        summary = summarizer(text, max_length=150, min_length=50, do_sample=False)\n",
    "        return summary[0]['summary_text']\n",
    "    except Exception as e:\n",
    "        print(f\"요약 실패: {e}\")\n",
    "        return \"요약 실패\"\n",
    "\n",
    "# 샘플 데이터 요약 실행\n",
    "def summarize_random_sample(collection_name, sample_size=100):\n",
    "    # Qdrant에서 모든 데이터 가져오기\n",
    "    all_data = fetch_all_data_from_qdrant(collection_name)\n",
    "    print(f\"총 데이터 개수: {len(all_data)}\")\n",
    "\n",
    "    # 무작위 샘플링\n",
    "    sampled_data = random_sample(all_data, sample_size)\n",
    "    print(f\"무작위로 {sample_size}개의 데이터를 샘플링했습니다.\")\n",
    "\n",
    "    # 요약 실행\n",
    "    summarized_data = []\n",
    "    for item in sampled_data:\n",
    "        original_text = item.payload['발언내용']\n",
    "        summarized_text = summarize_text(original_text)\n",
    "        summarized_data.append({\n",
    "            \"ID\": item.id,\n",
    "            \"원문\": original_text,\n",
    "            \"요약\": summarized_text\n",
    "        })\n",
    "        \n",
    "    # 결과 저장\n",
    "    df = pd.DataFrame(summarized_data)\n",
    "    output_path = \"qdrant_요약_샘플_결과.csv\"\n",
    "    df.to_csv(output_path, index=False, encoding=\"utf-8-sig\")\n",
    "\n",
    "    print(f\"요약된 샘플 데이터가 '{output_path}'에 저장되었습니다.\")\n",
    "\n",
    "# 실행\n",
    "summarize_random_sample(\"meeting_records\", sample_size=100)"
   ]
  },
  {
   "cell_type": "code",
   "execution_count": 36,
   "metadata": {},
   "outputs": [
    {
     "data": {
      "text/html": [
       "<div>\n",
       "<style scoped>\n",
       "    .dataframe tbody tr th:only-of-type {\n",
       "        vertical-align: middle;\n",
       "    }\n",
       "\n",
       "    .dataframe tbody tr th {\n",
       "        vertical-align: top;\n",
       "    }\n",
       "\n",
       "    .dataframe thead th {\n",
       "        text-align: right;\n",
       "    }\n",
       "</style>\n",
       "<table border=\"1\" class=\"dataframe\">\n",
       "  <thead>\n",
       "    <tr style=\"text-align: right;\">\n",
       "      <th></th>\n",
       "      <th>ID</th>\n",
       "      <th>원문</th>\n",
       "      <th>요약</th>\n",
       "    </tr>\n",
       "  </thead>\n",
       "  <tbody>\n",
       "    <tr>\n",
       "      <th>0</th>\n",
       "      <td>5914</td>\n",
       "      <td>저는 진짜 이해할 수가 없는데 그러면 결국은, 용산소방서장의 인파 통제 요청이 23...</td>\n",
       "      <td>요약 실패</td>\n",
       "    </tr>\n",
       "    <tr>\n",
       "      <th>1</th>\n",
       "      <td>2347</td>\n",
       "      <td>아니, 우리가 현장조사 나갔을 때는 지금 말씀하신 취지로 보고 하셨잖아요. 그러니까...</td>\n",
       "      <td>‘    ‘”’   ‘’,  “”  ””, “  ’’ “, ”, ’”. “.” “ ...</td>\n",
       "    </tr>\n",
       "    <tr>\n",
       "      <th>2</th>\n",
       "      <td>4513</td>\n",
       "      <td>김광호 증인 말씀하십시오.</td>\n",
       "      <td>김광호 증인  “십’s”   ‘‘’ “’’  ”“” ’” ”, “ ’,’...</td>\n",
       "    </tr>\n",
       "    <tr>\n",
       "      <th>3</th>\n",
       "      <td>2024</td>\n",
       "      <td>예, 그렇습니다.</td>\n",
       "      <td>“I’m sorry, I’ve got to go.”   “What’s w...</td>\n",
       "    </tr>\n",
       "    <tr>\n",
       "      <th>4</th>\n",
       "      <td>4414</td>\n",
       "      <td>이것은 진짜 너무들 해요, 정말 너무들 해.</td>\n",
       "      <td>넉     ‘’  ‘”’ “’’,  ’”, ‘, ’, ”,   “,” ...</td>\n",
       "    </tr>\n",
       "  </tbody>\n",
       "</table>\n",
       "</div>"
      ],
      "text/plain": [
       "     ID                                                 원문  \\\n",
       "0  5914  저는 진짜 이해할 수가 없는데 그러면 결국은, 용산소방서장의 인파 통제 요청이 23...   \n",
       "1  2347  아니, 우리가 현장조사 나갔을 때는 지금 말씀하신 취지로 보고 하셨잖아요. 그러니까...   \n",
       "2  4513                         김광호 증인 말씀하십시오.               \n",
       "3  2024                              예, 그렇습니다.               \n",
       "4  4414               이것은 진짜 너무들 해요, 정말 너무들 해.               \n",
       "\n",
       "                                                  요약  \n",
       "0                                              요약 실패  \n",
       "1  ‘    ‘”’   ‘’,  “”  ””, “  ’’ “, ”, ’”. “.” “ ...  \n",
       "2        김광호 증인  “십’s”   ‘‘’ “’’  ”“” ’” ”, “ ’,’...  \n",
       "3        “I’m sorry, I’ve got to go.”   “What’s w...  \n",
       "4         넉     ‘’  ‘”’ “’’,  ’”, ‘, ’, ”,   “,” ...  "
      ]
     },
     "execution_count": 36,
     "metadata": {},
     "output_type": "execute_result"
    }
   ],
   "source": [
    "sameple = pd.read_csv('qdrant_요약_샘플_결과.csv')\n",
    "sameple.head()\n"
   ]
  },
  {
   "cell_type": "code",
   "execution_count": 27,
   "metadata": {},
   "outputs": [
    {
     "name": "stdout",
     "output_type": "stream",
     "text": [
      "불러온 데이터 개수: 9682\n"
     ]
    }
   ],
   "source": [
    "all_data = fetch_all_data_from_qdrant(\"meeting_records\")\n",
    "print(f\"불러온 데이터 개수: {len(all_data)}\")"
   ]
  },
  {
   "cell_type": "code",
   "execution_count": 28,
   "metadata": {},
   "outputs": [
    {
     "name": "stdout",
     "output_type": "stream",
     "text": [
      "{'발언자': '위원장직무대행 박성민', '회의번호': 52512, '발언내용': '의석을 정돈해 주시기 바랍니다.  국회법 제52조 및 제3호에 따라 특별위원회 재적위원 4분의 1 이상의 회의 개회 요구가 있었습니다. 이에 제400회 국회(정기회) 제1차 용산 이태원 참사 진상규명과 재발방지를 위한 국정조사특별위원회를 개회하겠습니다.  국회법 제47조제2항에 따라 위원장 선임 시까지 위원장 직무를 대행하게 되었습니다.            '}\n",
      "{'발언자': '위원장직무대행 박성민', '회의번호': 52512, '발언내용': '현재 안건이 미정인 상태로 회의가 열리게 되었기 때문에 추가로 안건을 상정하여 회의를 진행하고자 합니다.   위원님 여러분 이의가 없습니까?     (「예」 하는 위원 있음)  이의가 없으시면 의사일정을 변경하여 안건을 상정하도록 하겠습니다.            '}\n",
      "{'발언자': '위원장직무대행 박성민', '회의번호': 52512, '발언내용': '의사일정 제1항 위원장 선임의 건을 상정합니다.   특별위원회 위원장은 국회법 제47조제1항에 따라 특별위원회에서 호선하고 본회의에 보고하도록 되어 있습니다.   위원장 선임 방법은 위원님들께서 특별한 의견이 없으시면 그간의 특별위원회 관례에 따라 구두 추천에 의하여 선임하고자 합니다.  위원님 여러분 이의가 없으십니까?    (「예」 하는 위원 있음)  그러면 위원님들께서 이번 국정조사를 원만하고 공정하게 이끌어 주실 가장 적임자라고 생각하시는 위원님을 우리 위원회 위원장으로 추천해 주시기 바랍니다.  조응천 위원님.            '}\n",
      "{'발언자': '조응천 위원', '회의번호': 52512, '발언내용': '우상호 위원을 추천합니다.            '}\n",
      "{'발언자': '위원장직무대행 박성민', '회의번호': 52512, '발언내용': '또 추천하실 위원님 안 계십니까?    (「없습니다」 하는 위원 있음)  우상호 위원님을 위원장으로 선임하고자 합니다.  위원님 여러분 이의 없으십니까?    (「예」 하는 위원 있음)  이의 없으므로 가결되었음을 선포합니다.  협조해 주신 위원님들께 감사의 말씀을 드립니다.   우상호 위원장님께서 나오셔서 회의를 진행해 주시기 바랍니다.    (박성민 위원장직무대행, 우상호 위원장과 사회교대)            '}\n"
     ]
    }
   ],
   "source": [
    "for item in all_data[:5]:  # 샘플 데이터 5개만 출력\n",
    "    print(item.payload)"
   ]
  },
  {
   "cell_type": "markdown",
   "metadata": {},
   "source": [
    "# 3. 요약 후 벡터화 작업 "
   ]
  },
  {
   "cell_type": "code",
   "execution_count": 1,
   "metadata": {},
   "outputs": [
    {
     "name": "stdout",
     "output_type": "stream",
     "text": [
      "    회의번호          발언자                                               발언내용\n",
      "0  52512  위원장직무대행 박성민  의석을 정돈해 주시기 바랍니다.  국회법 제52조 및 제3호에 따라 특별위원회 재적...\n",
      "1  52512  위원장직무대행 박성민  현재 안건이 미정인 상태로 회의가 열리게 되었기 때문에 추가로 안건을 상정하여 회의...\n",
      "2  52512  위원장직무대행 박성민  의사일정 제1항 위원장 선임의 건을 상정합니다.   특별위원회 위원장은 국회법 제4...\n",
      "3  52512       조응천 위원                         우상호 위원을 추천합니다.            \n",
      "4  52512  위원장직무대행 박성민  또 추천하실 위원님 안 계십니까?    (「없습니다」 하는 위원 있음)  우상호 위...\n"
     ]
    }
   ],
   "source": [
    "import pandas as pd\n",
    "import numpy as np\n",
    "\n",
    "path = '21대국정조사.csv'\n",
    "data = pd.read_csv(path)\n",
    "\n",
    "print(data.head())"
   ]
  },
  {
   "cell_type": "code",
   "execution_count": 3,
   "metadata": {},
   "outputs": [
    {
     "name": "stdout",
     "output_type": "stream",
     "text": [
      "    회의번호                                               발언내용\n",
      "0  52512  의석을 정돈해 주시기 바랍니다.  국회법 제52조 및 제3호에 따라 특별위원회 재적...\n",
      "1  52622  의석을 정돈해 주시기 바랍니다.  성원이 되었으므로 제401회 국회(임시회) 제2차...\n",
      "2  52629  의석을 정돈해 주시기 바랍니다.  지금부터 헌법 제61조, 국회법 제127조와 국정...\n",
      "3  52638  의석을 정돈해 주시기 바랍니다.  지금부터 헌법 제61조, 국회법 제127조와 국정...\n",
      "4  52643  의석을 정돈해 주시기 바랍니다.  지금부터 헌법 제61조, 국회법 제127조와 국정...\n"
     ]
    }
   ],
   "source": [
    "# 회의번호별로 발언내용 합치기\n",
    "grouped_data = data.groupby(\"회의번호\")[\"발언내용\"].apply(lambda x: \" \".join(x)).reset_index()\n",
    "\n",
    "# 결과 확인\n",
    "print(grouped_data.head())"
   ]
  },
  {
   "cell_type": "code",
   "execution_count": 4,
   "metadata": {},
   "outputs": [
    {
     "name": "stdout",
     "output_type": "stream",
     "text": [
      "회의번호별로 발언내용을 합친 파일이 저장되었습니다.\n"
     ]
    }
   ],
   "source": [
    "# 합쳐진 데이터 저장\n",
    "grouped_data.to_csv(\"회의번호별_발언내용_합침.csv\", index=False, encoding=\"utf-8-sig\")\n",
    "print(\"회의번호별로 발언내용을 합친 파일이 저장되었습니다.\")"
   ]
  },
  {
   "cell_type": "code",
   "execution_count": 4,
   "metadata": {},
   "outputs": [
    {
     "name": "stdout",
     "output_type": "stream",
     "text": [
      "요약 실패: 'latin-1' codec can't encode character '\\u2014' in position 76: ordinal not in range(256)\n",
      "요약 실패: 'latin-1' codec can't encode character '\\u2014' in position 76: ordinal not in range(256)\n",
      "요약 실패: 'latin-1' codec can't encode character '\\u2014' in position 76: ordinal not in range(256)\n",
      "요약 실패: 'latin-1' codec can't encode character '\\u2014' in position 76: ordinal not in range(256)\n",
      "요약 실패: 'latin-1' codec can't encode character '\\u2014' in position 76: ordinal not in range(256)\n",
      "요약 실패: 'latin-1' codec can't encode character '\\u2014' in position 76: ordinal not in range(256)\n",
      "요약 실패: 'latin-1' codec can't encode character '\\u2014' in position 76: ordinal not in range(256)\n",
      "요약 실패: 'latin-1' codec can't encode character '\\u2014' in position 76: ordinal not in range(256)\n",
      "요약 실패: 'latin-1' codec can't encode character '\\u2014' in position 76: ordinal not in range(256)\n"
     ]
    }
   ],
   "source": [
    "import openai\n",
    "import pandas as pd\n",
    "from dotenv import load_dotenv\n",
    "import os\n",
    "import re\n",
    "\n",
    "# 환경 변수 로드\n",
    "load_dotenv()\n",
    "\n",
    "# OpenAI API 키 설정\n",
    "openai.api_key = os.getenv(\"OPENAI_API_KEY\")\n",
    "\n",
    "# 특수 문자 제거\n",
    "def clean_text(text):\n",
    "    return text.encode(\"utf-8\", \"ignore\").decode(\"utf-8\")\n",
    "\n",
    "grouped_data[\"발언내용\"] = grouped_data[\"발언내용\"].apply(clean_text)\n",
    "\n",
    "# 텍스트 길이 제한\n",
    "def truncate_text(text, max_length=4000):\n",
    "    return text[:max_length] if len(text) > max_length else text\n",
    "\n",
    "grouped_data[\"발언내용\"] = grouped_data[\"발언내용\"].apply(truncate_text)\n",
    "\n",
    "# 요약 함수\n",
    "def gpt4_turbo_summarize(text):\n",
    "    try:\n",
    "        response = openai.Completion.create(\n",
    "            engine=\"gpt-4-turbo\",\n",
    "            prompt=f\"다음 텍스트를 요약해 주세요:\\n{text}\",\n",
    "            max_tokens=150,\n",
    "            temperature=0.5\n",
    "        )\n",
    "        return response.choices[0].text.strip()\n",
    "    except Exception as e:\n",
    "        print(f\"요약 실패: {e}\")\n",
    "        return \"요약 실패\"\n",
    "\n",
    "# 데이터 요약\n",
    "grouped_data[\"요약\"] = grouped_data[\"발언내용\"].apply(gpt4_turbo_summarize)\n",
    "\n",
    "# 저장 시 UTF-8 지정\n",
    "grouped_data.to_csv(\"회의번호별_발언내용_요약.csv\", index=False, encoding=\"utf-8-sig\")"
   ]
  },
  {
   "cell_type": "code",
   "execution_count": 2,
   "metadata": {},
   "outputs": [],
   "source": [
    "# 데이터 로드 및 처리\n",
    "file_path = \"회의번호별_발언내용_합침.csv\"\n",
    "grouped_data = pd.read_csv(file_path)"
   ]
  },
  {
   "cell_type": "code",
   "execution_count": 3,
   "metadata": {},
   "outputs": [
    {
     "data": {
      "text/html": [
       "<div>\n",
       "<style scoped>\n",
       "    .dataframe tbody tr th:only-of-type {\n",
       "        vertical-align: middle;\n",
       "    }\n",
       "\n",
       "    .dataframe tbody tr th {\n",
       "        vertical-align: top;\n",
       "    }\n",
       "\n",
       "    .dataframe thead th {\n",
       "        text-align: right;\n",
       "    }\n",
       "</style>\n",
       "<table border=\"1\" class=\"dataframe\">\n",
       "  <thead>\n",
       "    <tr style=\"text-align: right;\">\n",
       "      <th></th>\n",
       "      <th>회의번호</th>\n",
       "      <th>발언내용</th>\n",
       "    </tr>\n",
       "  </thead>\n",
       "  <tbody>\n",
       "    <tr>\n",
       "      <th>0</th>\n",
       "      <td>52512</td>\n",
       "      <td>의석을 정돈해 주시기 바랍니다.  국회법 제52조 및 제3호에 따라 특별위원회 재적...</td>\n",
       "    </tr>\n",
       "    <tr>\n",
       "      <th>1</th>\n",
       "      <td>52622</td>\n",
       "      <td>의석을 정돈해 주시기 바랍니다.  성원이 되었으므로 제401회 국회(임시회) 제2차...</td>\n",
       "    </tr>\n",
       "    <tr>\n",
       "      <th>2</th>\n",
       "      <td>52629</td>\n",
       "      <td>의석을 정돈해 주시기 바랍니다.  지금부터 헌법 제61조, 국회법 제127조와 국정...</td>\n",
       "    </tr>\n",
       "    <tr>\n",
       "      <th>3</th>\n",
       "      <td>52638</td>\n",
       "      <td>의석을 정돈해 주시기 바랍니다.  지금부터 헌법 제61조, 국회법 제127조와 국정...</td>\n",
       "    </tr>\n",
       "    <tr>\n",
       "      <th>4</th>\n",
       "      <td>52643</td>\n",
       "      <td>의석을 정돈해 주시기 바랍니다.  지금부터 헌법 제61조, 국회법 제127조와 국정...</td>\n",
       "    </tr>\n",
       "    <tr>\n",
       "      <th>5</th>\n",
       "      <td>52644</td>\n",
       "      <td>의석을 정돈해 주시기 바랍니다.  지금부터 헌법 제61조, 국회법 제127조와 국정...</td>\n",
       "    </tr>\n",
       "    <tr>\n",
       "      <th>6</th>\n",
       "      <td>52647</td>\n",
       "      <td>의석을 정돈하여 주시기 바랍니다.  지금부터 헌법 제61조, 국회법 제127조와 국...</td>\n",
       "    </tr>\n",
       "    <tr>\n",
       "      <th>7</th>\n",
       "      <td>52650</td>\n",
       "      <td>의석을 정돈해 주시기 바랍니다.   지금부터 헌법 제61조, 국회법 제127조와 국...</td>\n",
       "    </tr>\n",
       "    <tr>\n",
       "      <th>8</th>\n",
       "      <td>52653</td>\n",
       "      <td>의석을 정돈해 주시기 바랍니다.   지금부터 헌법 제61조, 국회법 제127조와 국...</td>\n",
       "    </tr>\n",
       "  </tbody>\n",
       "</table>\n",
       "</div>"
      ],
      "text/plain": [
       "    회의번호                                               발언내용\n",
       "0  52512  의석을 정돈해 주시기 바랍니다.  국회법 제52조 및 제3호에 따라 특별위원회 재적...\n",
       "1  52622  의석을 정돈해 주시기 바랍니다.  성원이 되었으므로 제401회 국회(임시회) 제2차...\n",
       "2  52629  의석을 정돈해 주시기 바랍니다.  지금부터 헌법 제61조, 국회법 제127조와 국정...\n",
       "3  52638  의석을 정돈해 주시기 바랍니다.  지금부터 헌법 제61조, 국회법 제127조와 국정...\n",
       "4  52643  의석을 정돈해 주시기 바랍니다.  지금부터 헌법 제61조, 국회법 제127조와 국정...\n",
       "5  52644  의석을 정돈해 주시기 바랍니다.  지금부터 헌법 제61조, 국회법 제127조와 국정...\n",
       "6  52647  의석을 정돈하여 주시기 바랍니다.  지금부터 헌법 제61조, 국회법 제127조와 국...\n",
       "7  52650  의석을 정돈해 주시기 바랍니다.   지금부터 헌법 제61조, 국회법 제127조와 국...\n",
       "8  52653  의석을 정돈해 주시기 바랍니다.   지금부터 헌법 제61조, 국회법 제127조와 국..."
      ]
     },
     "execution_count": 3,
     "metadata": {},
     "output_type": "execute_result"
    }
   ],
   "source": [
    "grouped_data"
   ]
  },
  {
   "cell_type": "code",
   "execution_count": 16,
   "metadata": {},
   "outputs": [
    {
     "name": "stderr",
     "output_type": "stream",
     "text": [
      "C:\\Users\\user\\AppData\\Local\\Temp\\ipykernel_50232\\3244488822.py:2: FutureWarning: A value is trying to be set on a copy of a DataFrame or Series through chained assignment using an inplace method.\n",
      "The behavior will change in pandas 3.0. This inplace method will never work because the intermediate object on which we are setting values always behaves as a copy.\n",
      "\n",
      "For example, when doing 'df[col].method(value, inplace=True)', try using 'df.method({col: value}, inplace=True)' or df[col] = df[col].method(value) instead, to perform the operation inplace on the original object.\n",
      "\n",
      "\n",
      "  grouped_data[\"발언내용\"].fillna(\"\", inplace=True)\n"
     ]
    },
    {
     "name": "stdout",
     "output_type": "stream",
     "text": [
      "요약 실패: 'latin-1' codec can't encode character '\\u2014' in position 76: ordinal not in range(256)\n",
      "요약 실패: 'latin-1' codec can't encode character '\\u2014' in position 76: ordinal not in range(256)\n",
      "요약 실패: 'latin-1' codec can't encode character '\\u2014' in position 76: ordinal not in range(256)\n",
      "요약 실패: 'latin-1' codec can't encode character '\\u2014' in position 76: ordinal not in range(256)\n",
      "요약 실패: 'latin-1' codec can't encode character '\\u2014' in position 76: ordinal not in range(256)\n",
      "요약 실패: 'latin-1' codec can't encode character '\\u2014' in position 76: ordinal not in range(256)\n",
      "요약 실패: 'latin-1' codec can't encode character '\\u2014' in position 76: ordinal not in range(256)\n",
      "요약 실패: 'latin-1' codec can't encode character '\\u2014' in position 76: ordinal not in range(256)\n",
      "요약 실패: 'latin-1' codec can't encode character '\\u2014' in position 76: ordinal not in range(256)\n",
      "요약 실패: 'latin-1' codec can't encode character '\\u2014' in position 76: ordinal not in range(256)\n",
      "요약 실패: 'latin-1' codec can't encode character '\\u2014' in position 76: ordinal not in range(256)\n",
      "요약 실패: 'latin-1' codec can't encode character '\\u2014' in position 76: ordinal not in range(256)\n",
      "요약 실패: 'latin-1' codec can't encode character '\\u2014' in position 76: ordinal not in range(256)\n",
      "요약 실패: 'latin-1' codec can't encode character '\\u2014' in position 76: ordinal not in range(256)\n",
      "요약 실패: 'latin-1' codec can't encode character '\\u2014' in position 76: ordinal not in range(256)\n",
      "요약 실패: 'latin-1' codec can't encode character '\\u2014' in position 76: ordinal not in range(256)\n",
      "요약 실패: 'latin-1' codec can't encode character '\\u2014' in position 76: ordinal not in range(256)\n",
      "요약 실패: 'latin-1' codec can't encode character '\\u2014' in position 76: ordinal not in range(256)\n",
      "요약 실패: 'latin-1' codec can't encode character '\\u2014' in position 76: ordinal not in range(256)\n",
      "요약 실패: 'latin-1' codec can't encode character '\\u2014' in position 76: ordinal not in range(256)\n",
      "요약 실패: 'latin-1' codec can't encode character '\\u2014' in position 76: ordinal not in range(256)\n",
      "요약 실패: 'latin-1' codec can't encode character '\\u2014' in position 76: ordinal not in range(256)\n",
      "요약 실패: 'latin-1' codec can't encode character '\\u2014' in position 76: ordinal not in range(256)\n",
      "요약 실패: 'latin-1' codec can't encode character '\\u2014' in position 76: ordinal not in range(256)\n",
      "요약 실패: 'latin-1' codec can't encode character '\\u2014' in position 76: ordinal not in range(256)\n",
      "요약 실패: 'latin-1' codec can't encode character '\\u2014' in position 76: ordinal not in range(256)\n",
      "요약 실패: 'latin-1' codec can't encode character '\\u2014' in position 76: ordinal not in range(256)\n",
      "요약 실패: 'latin-1' codec can't encode character '\\u2014' in position 76: ordinal not in range(256)\n",
      "요약 실패: 'latin-1' codec can't encode character '\\u2014' in position 76: ordinal not in range(256)\n",
      "요약 실패: 'latin-1' codec can't encode character '\\u2014' in position 76: ordinal not in range(256)\n",
      "요약 실패: 'latin-1' codec can't encode character '\\u2014' in position 76: ordinal not in range(256)\n",
      "요약 실패: 'latin-1' codec can't encode character '\\u2014' in position 76: ordinal not in range(256)\n",
      "요약 실패: 'latin-1' codec can't encode character '\\u2014' in position 76: ordinal not in range(256)\n",
      "요약 실패: 'latin-1' codec can't encode character '\\u2014' in position 76: ordinal not in range(256)\n",
      "요약 실패: 'latin-1' codec can't encode character '\\u2014' in position 76: ordinal not in range(256)\n",
      "요약된 데이터가 저장되었습니다.\n"
     ]
    }
   ],
   "source": [
    "# 발언내용 전처리\n",
    "grouped_data[\"발언내용\"].fillna(\"\", inplace=True)\n",
    "grouped_data[\"발언내용\"] = grouped_data[\"발언내용\"].apply(clean_text)\n",
    "\n",
    "# 요약 수행\n",
    "grouped_data[\"요약\"] = grouped_data[\"발언내용\"].apply(summarize_long_text)\n",
    "\n",
    "# 데이터 저장\n",
    "grouped_data.to_csv(\"회의번호별_발언내용_요약.csv\", index=False, encoding=\"utf-8-sig\")\n",
    "print(\"요약된 데이터가 저장되었습니다.\")"
   ]
  },
  {
   "cell_type": "markdown",
   "metadata": {},
   "source": [
    "# 4. txt파일로 해서 작업"
   ]
  },
  {
   "cell_type": "code",
   "execution_count": 21,
   "metadata": {},
   "outputs": [
    {
     "name": "stdout",
     "output_type": "stream",
     "text": [
      "텍스트 파일로 저장 완료: 21대국정조사.txt\n"
     ]
    }
   ],
   "source": [
    "import pandas as pd\n",
    "\n",
    "# CSV 파일 로드\n",
    "csv_file = \"21대국정조사.csv\"\n",
    "data = pd.read_csv(csv_file, encoding='utf-8')\n",
    "\n",
    "# 필요한 열만 추출\n",
    "text_data = data[['회의번호', '발언내용']]\n",
    "\n",
    "# 텍스트 파일로 저장\n",
    "with open(\"21대국정조사.txt\", \"w\", encoding=\"utf-8\") as file:\n",
    "    for index, row in text_data.iterrows():\n",
    "        file.write(f\"회의번호: {row['회의번호']}\\n발언내용: {row['발언내용']}\\n\\n\")\n",
    "\n",
    "print(\"텍스트 파일로 저장 완료: 21대국정조사.txt\")"
   ]
  },
  {
   "cell_type": "code",
   "execution_count": 22,
   "metadata": {},
   "outputs": [],
   "source": [
    "import re\n",
    "\n",
    "def clean_text(text):\n",
    "    \"\"\"\n",
    "    텍스트에서 문제를 일으킬 수 있는 특수문자 제거 또는 대체\n",
    "    \"\"\"\n",
    "    if not isinstance(text, str):\n",
    "        return \"\"\n",
    "    text = text.replace(\"\\u2014\", \"-\")  # 긴 대시를 일반 대시로\n",
    "    text = text.replace(\"\\u2013\", \"-\")  # en-dash 대체\n",
    "    text = text.replace(\"\\u2026\", \"...\")  # 말줄임표 대체\n",
    "    text = text.replace(\"’\", \"'\").replace(\"“\", '\"').replace(\"”\", '\"')  # 일반 문자 대체\n",
    "    text = re.sub(r\"[^\\x00-\\x7F]+\", \" \", text)  # 비ASCII 문자 제거\n",
    "    return text.strip()"
   ]
  },
  {
   "cell_type": "code",
   "execution_count": 24,
   "metadata": {},
   "outputs": [],
   "source": [
    "import re\n",
    "\n",
    "def clean_text(text):\n",
    "    \"\"\"\n",
    "    텍스트에서 문제를 일으키는 특수문자 제거 또는 대체\n",
    "    \"\"\"\n",
    "    if not isinstance(text, str):  # 텍스트가 아닌 경우 처리\n",
    "        return \"\"\n",
    "    text = text.replace(\"\\u2014\", \"-\")  # 긴 대시를 일반 대시로 대체\n",
    "    text = text.replace(\"\\u2013\", \"-\")  # en-dash 대체\n",
    "    text = text.replace(\"\\u2026\", \"...\")  # 말줄임표 대체\n",
    "    text = re.sub(r\"[^\\w\\s가-힣.,!?\\\"\\'():;<>%-]\", \" \", text)  # 한글, 공백, 기본 특수문자만 허용\n",
    "    text = re.sub(r\"\\s+\", \" \", text)  # 연속된 공백을 하나로\n",
    "    return text.strip()"
   ]
  },
  {
   "cell_type": "code",
   "execution_count": 25,
   "metadata": {},
   "outputs": [
    {
     "name": "stdout",
     "output_type": "stream",
     "text": [
      "정리된 텍스트 저장 완료: 21대국정조사_정리됨.txt\n"
     ]
    }
   ],
   "source": [
    "# 텍스트 파일 읽기\n",
    "with open(\"21대국정조사.txt\", \"r\", encoding=\"utf-8\") as file:\n",
    "    raw_text = file.readlines()\n",
    "\n",
    "# 텍스트 정리\n",
    "cleaned_text = [clean_text(line) for line in raw_text]\n",
    "\n",
    "# 정리된 텍스트를 새로운 파일에 저장\n",
    "with open(\"21대국정조사_정리됨.txt\", \"w\", encoding=\"utf-8\") as file:\n",
    "    file.writelines(cleaned_text)\n",
    "\n",
    "print(\"정리된 텍스트 저장 완료: 21대국정조사_정리됨.txt\")"
   ]
  },
  {
   "cell_type": "code",
   "execution_count": 26,
   "metadata": {},
   "outputs": [],
   "source": [
    "def split_text(text, max_length=1000):\n",
    "    \"\"\"\n",
    "    긴 텍스트를 GPT 요약 가능하도록 분할\n",
    "    \"\"\"\n",
    "    text = text.strip()\n",
    "    return [text[i:i + max_length] for i in range(0, len(text), max_length)]"
   ]
  },
  {
   "cell_type": "code",
   "execution_count": null,
   "metadata": {},
   "outputs": [],
   "source": [
    "import openai\n",
    "\n",
    "# 환경 변수 로드\n",
    "load_dotenv()\n",
    "\n",
    "# OpenAI API 키 설정\n",
    "openai.api_key = os.getenv(\"OPENAI_API_KEY\")\n",
    "\n",
    "def gpt4_summarize(text):\n",
    "    \"\"\"\n",
    "    GPT-4를 사용하여 텍스트 요약\n",
    "    \"\"\"\n",
    "    try:\n",
    "        response = openai.ChatCompletion.create(\n",
    "            model=\"gpt-4-turbo\",\n",
    "            messages=[\n",
    "                {\"role\": \"system\", \"content\": \"You are a helpful assistant for summarizing text.\"},\n",
    "                {\"role\": \"user\", \"content\": f\"다음 텍스트를 요약해 주세요:\\n{text}\"}\n",
    "            ],\n",
    "            max_tokens=150,\n",
    "            temperature=0.5\n",
    "        )\n",
    "        return response['choices'][0]['message']['content'].strip()\n",
    "    except Exception as e:\n",
    "        print(f\"요약 실패: {e}\")\n",
    "        return \"요약 실패\"\n"
   ]
  },
  {
   "cell_type": "code",
   "execution_count": 28,
   "metadata": {},
   "outputs": [
    {
     "name": "stdout",
     "output_type": "stream",
     "text": [
      "요약 작업 완료.\n"
     ]
    }
   ],
   "source": [
    "# 정리된 텍스트 불러오기\n",
    "with open(\"21대국정조사_정리됨.txt\", \"r\", encoding=\"utf-8\") as file:\n",
    "    lines = file.readlines()\n",
    "\n",
    "# 요약 수행\n",
    "summaries = []\n",
    "for line in lines:\n",
    "    if line.startswith(\"발언내용:\"):\n",
    "        content = line.replace(\"발언내용:\", \"\").strip()\n",
    "        chunks = split_text(content)  # 텍스트 분할\n",
    "        summary = \" \".join([gpt4_summarize(chunk) for chunk in chunks])  # 분할된 텍스트 각각 요약\n",
    "        summaries.append(summary)\n",
    "\n",
    "print(\"요약 작업 완료.\")\n"
   ]
  },
  {
   "cell_type": "code",
   "execution_count": 29,
   "metadata": {},
   "outputs": [
    {
     "ename": "ValueError",
     "evalue": "array length 0 does not match index length 9682",
     "output_type": "error",
     "traceback": [
      "\u001b[1;31m---------------------------------------------------------------------------\u001b[0m",
      "\u001b[1;31mValueError\u001b[0m                                Traceback (most recent call last)",
      "Cell \u001b[1;32mIn[29], line 2\u001b[0m\n\u001b[0;32m      1\u001b[0m \u001b[38;5;66;03m# 회의번호와 요약 텍스트를 데이터프레임으로 생성\u001b[39;00m\n\u001b[1;32m----> 2\u001b[0m result_data \u001b[38;5;241m=\u001b[39m \u001b[43mpd\u001b[49m\u001b[38;5;241;43m.\u001b[39;49m\u001b[43mDataFrame\u001b[49m\u001b[43m(\u001b[49m\u001b[43m{\u001b[49m\n\u001b[0;32m      3\u001b[0m \u001b[43m    \u001b[49m\u001b[38;5;124;43m\"\u001b[39;49m\u001b[38;5;124;43m회의번호\u001b[39;49m\u001b[38;5;124;43m\"\u001b[39;49m\u001b[43m:\u001b[49m\u001b[43m \u001b[49m\u001b[43mdata\u001b[49m\u001b[43m[\u001b[49m\u001b[38;5;124;43m'\u001b[39;49m\u001b[38;5;124;43m회의번호\u001b[39;49m\u001b[38;5;124;43m'\u001b[39;49m\u001b[43m]\u001b[49m\u001b[43m,\u001b[49m\n\u001b[0;32m      4\u001b[0m \u001b[43m    \u001b[49m\u001b[38;5;124;43m\"\u001b[39;49m\u001b[38;5;124;43m요약된발언내용\u001b[39;49m\u001b[38;5;124;43m\"\u001b[39;49m\u001b[43m:\u001b[49m\u001b[43m \u001b[49m\u001b[43msummaries\u001b[49m\n\u001b[0;32m      5\u001b[0m \u001b[43m}\u001b[49m\u001b[43m)\u001b[49m\n\u001b[0;32m      7\u001b[0m \u001b[38;5;66;03m# CSV로 저장\u001b[39;00m\n\u001b[0;32m      8\u001b[0m result_data\u001b[38;5;241m.\u001b[39mto_csv(\u001b[38;5;124m\"\u001b[39m\u001b[38;5;124m21대국정조사_요약결과.csv\u001b[39m\u001b[38;5;124m\"\u001b[39m, index\u001b[38;5;241m=\u001b[39m\u001b[38;5;28;01mFalse\u001b[39;00m, encoding\u001b[38;5;241m=\u001b[39m\u001b[38;5;124m\"\u001b[39m\u001b[38;5;124mutf-8-sig\u001b[39m\u001b[38;5;124m\"\u001b[39m)\n",
      "File \u001b[1;32mc:\\Users\\user\\.conda\\envs\\malcam\\lib\\site-packages\\pandas\\core\\frame.py:778\u001b[0m, in \u001b[0;36mDataFrame.__init__\u001b[1;34m(self, data, index, columns, dtype, copy)\u001b[0m\n\u001b[0;32m    772\u001b[0m     mgr \u001b[38;5;241m=\u001b[39m \u001b[38;5;28mself\u001b[39m\u001b[38;5;241m.\u001b[39m_init_mgr(\n\u001b[0;32m    773\u001b[0m         data, axes\u001b[38;5;241m=\u001b[39m{\u001b[38;5;124m\"\u001b[39m\u001b[38;5;124mindex\u001b[39m\u001b[38;5;124m\"\u001b[39m: index, \u001b[38;5;124m\"\u001b[39m\u001b[38;5;124mcolumns\u001b[39m\u001b[38;5;124m\"\u001b[39m: columns}, dtype\u001b[38;5;241m=\u001b[39mdtype, copy\u001b[38;5;241m=\u001b[39mcopy\n\u001b[0;32m    774\u001b[0m     )\n\u001b[0;32m    776\u001b[0m \u001b[38;5;28;01melif\u001b[39;00m \u001b[38;5;28misinstance\u001b[39m(data, \u001b[38;5;28mdict\u001b[39m):\n\u001b[0;32m    777\u001b[0m     \u001b[38;5;66;03m# GH#38939 de facto copy defaults to False only in non-dict cases\u001b[39;00m\n\u001b[1;32m--> 778\u001b[0m     mgr \u001b[38;5;241m=\u001b[39m \u001b[43mdict_to_mgr\u001b[49m\u001b[43m(\u001b[49m\u001b[43mdata\u001b[49m\u001b[43m,\u001b[49m\u001b[43m \u001b[49m\u001b[43mindex\u001b[49m\u001b[43m,\u001b[49m\u001b[43m \u001b[49m\u001b[43mcolumns\u001b[49m\u001b[43m,\u001b[49m\u001b[43m \u001b[49m\u001b[43mdtype\u001b[49m\u001b[38;5;241;43m=\u001b[39;49m\u001b[43mdtype\u001b[49m\u001b[43m,\u001b[49m\u001b[43m \u001b[49m\u001b[43mcopy\u001b[49m\u001b[38;5;241;43m=\u001b[39;49m\u001b[43mcopy\u001b[49m\u001b[43m,\u001b[49m\u001b[43m \u001b[49m\u001b[43mtyp\u001b[49m\u001b[38;5;241;43m=\u001b[39;49m\u001b[43mmanager\u001b[49m\u001b[43m)\u001b[49m\n\u001b[0;32m    779\u001b[0m \u001b[38;5;28;01melif\u001b[39;00m \u001b[38;5;28misinstance\u001b[39m(data, ma\u001b[38;5;241m.\u001b[39mMaskedArray):\n\u001b[0;32m    780\u001b[0m     \u001b[38;5;28;01mfrom\u001b[39;00m \u001b[38;5;21;01mnumpy\u001b[39;00m\u001b[38;5;21;01m.\u001b[39;00m\u001b[38;5;21;01mma\u001b[39;00m \u001b[38;5;28;01mimport\u001b[39;00m mrecords\n",
      "File \u001b[1;32mc:\\Users\\user\\.conda\\envs\\malcam\\lib\\site-packages\\pandas\\core\\internals\\construction.py:503\u001b[0m, in \u001b[0;36mdict_to_mgr\u001b[1;34m(data, index, columns, dtype, typ, copy)\u001b[0m\n\u001b[0;32m    499\u001b[0m     \u001b[38;5;28;01melse\u001b[39;00m:\n\u001b[0;32m    500\u001b[0m         \u001b[38;5;66;03m# dtype check to exclude e.g. range objects, scalars\u001b[39;00m\n\u001b[0;32m    501\u001b[0m         arrays \u001b[38;5;241m=\u001b[39m [x\u001b[38;5;241m.\u001b[39mcopy() \u001b[38;5;28;01mif\u001b[39;00m \u001b[38;5;28mhasattr\u001b[39m(x, \u001b[38;5;124m\"\u001b[39m\u001b[38;5;124mdtype\u001b[39m\u001b[38;5;124m\"\u001b[39m) \u001b[38;5;28;01melse\u001b[39;00m x \u001b[38;5;28;01mfor\u001b[39;00m x \u001b[38;5;129;01min\u001b[39;00m arrays]\n\u001b[1;32m--> 503\u001b[0m \u001b[38;5;28;01mreturn\u001b[39;00m \u001b[43marrays_to_mgr\u001b[49m\u001b[43m(\u001b[49m\u001b[43marrays\u001b[49m\u001b[43m,\u001b[49m\u001b[43m \u001b[49m\u001b[43mcolumns\u001b[49m\u001b[43m,\u001b[49m\u001b[43m \u001b[49m\u001b[43mindex\u001b[49m\u001b[43m,\u001b[49m\u001b[43m \u001b[49m\u001b[43mdtype\u001b[49m\u001b[38;5;241;43m=\u001b[39;49m\u001b[43mdtype\u001b[49m\u001b[43m,\u001b[49m\u001b[43m \u001b[49m\u001b[43mtyp\u001b[49m\u001b[38;5;241;43m=\u001b[39;49m\u001b[43mtyp\u001b[49m\u001b[43m,\u001b[49m\u001b[43m \u001b[49m\u001b[43mconsolidate\u001b[49m\u001b[38;5;241;43m=\u001b[39;49m\u001b[43mcopy\u001b[49m\u001b[43m)\u001b[49m\n",
      "File \u001b[1;32mc:\\Users\\user\\.conda\\envs\\malcam\\lib\\site-packages\\pandas\\core\\internals\\construction.py:114\u001b[0m, in \u001b[0;36marrays_to_mgr\u001b[1;34m(arrays, columns, index, dtype, verify_integrity, typ, consolidate)\u001b[0m\n\u001b[0;32m    111\u001b[0m \u001b[38;5;28;01mif\u001b[39;00m verify_integrity:\n\u001b[0;32m    112\u001b[0m     \u001b[38;5;66;03m# figure out the index, if necessary\u001b[39;00m\n\u001b[0;32m    113\u001b[0m     \u001b[38;5;28;01mif\u001b[39;00m index \u001b[38;5;129;01mis\u001b[39;00m \u001b[38;5;28;01mNone\u001b[39;00m:\n\u001b[1;32m--> 114\u001b[0m         index \u001b[38;5;241m=\u001b[39m \u001b[43m_extract_index\u001b[49m\u001b[43m(\u001b[49m\u001b[43marrays\u001b[49m\u001b[43m)\u001b[49m\n\u001b[0;32m    115\u001b[0m     \u001b[38;5;28;01melse\u001b[39;00m:\n\u001b[0;32m    116\u001b[0m         index \u001b[38;5;241m=\u001b[39m ensure_index(index)\n",
      "File \u001b[1;32mc:\\Users\\user\\.conda\\envs\\malcam\\lib\\site-packages\\pandas\\core\\internals\\construction.py:690\u001b[0m, in \u001b[0;36m_extract_index\u001b[1;34m(data)\u001b[0m\n\u001b[0;32m    685\u001b[0m     \u001b[38;5;28;01mif\u001b[39;00m lengths[\u001b[38;5;241m0\u001b[39m] \u001b[38;5;241m!=\u001b[39m \u001b[38;5;28mlen\u001b[39m(index):\n\u001b[0;32m    686\u001b[0m         msg \u001b[38;5;241m=\u001b[39m (\n\u001b[0;32m    687\u001b[0m             \u001b[38;5;124mf\u001b[39m\u001b[38;5;124m\"\u001b[39m\u001b[38;5;124marray length \u001b[39m\u001b[38;5;132;01m{\u001b[39;00mlengths[\u001b[38;5;241m0\u001b[39m]\u001b[38;5;132;01m}\u001b[39;00m\u001b[38;5;124m does not match index \u001b[39m\u001b[38;5;124m\"\u001b[39m\n\u001b[0;32m    688\u001b[0m             \u001b[38;5;124mf\u001b[39m\u001b[38;5;124m\"\u001b[39m\u001b[38;5;124mlength \u001b[39m\u001b[38;5;132;01m{\u001b[39;00m\u001b[38;5;28mlen\u001b[39m(index)\u001b[38;5;132;01m}\u001b[39;00m\u001b[38;5;124m\"\u001b[39m\n\u001b[0;32m    689\u001b[0m         )\n\u001b[1;32m--> 690\u001b[0m         \u001b[38;5;28;01mraise\u001b[39;00m \u001b[38;5;167;01mValueError\u001b[39;00m(msg)\n\u001b[0;32m    691\u001b[0m \u001b[38;5;28;01melse\u001b[39;00m:\n\u001b[0;32m    692\u001b[0m     index \u001b[38;5;241m=\u001b[39m default_index(lengths[\u001b[38;5;241m0\u001b[39m])\n",
      "\u001b[1;31mValueError\u001b[0m: array length 0 does not match index length 9682"
     ]
    }
   ],
   "source": [
    "# 회의번호와 요약 텍스트를 데이터프레임으로 생성\n",
    "result_data = pd.DataFrame({\n",
    "    \"회의번호\": data['회의번호'],\n",
    "    \"요약된발언내용\": summaries\n",
    "})\n",
    "\n",
    "# CSV로 저장\n",
    "result_data.to_csv(\"21대국정조사_요약결과.csv\", index=False, encoding=\"utf-8-sig\")\n",
    "print(\"요약 결과 CSV 저장 완료: 21대국정조사_요약결과.csv\")"
   ]
  },
  {
   "cell_type": "code",
   "execution_count": null,
   "metadata": {},
   "outputs": [
    {
     "name": "stdout",
     "output_type": "stream",
     "text": [
      "    회의번호                                               발언내용\n",
      "0  52512  의사일정 추가하는 변경안은 국회법 제77조에 따라 위원장이 간사와 협의하여 정하도록...\n"
     ]
    }
   ],
   "source": [
    "import pandas as pd\n",
    "import re\n",
    "\n",
    "# 1. 텍스트 파일 읽기\n",
    "with open(\"21대국정조사_정리됨.txt\", \"r\", encoding=\"utf-8\") as file:\n",
    "    lines = file.readlines()\n",
    "\n",
    "# 2. 회의번호와 발언내용 분리 함수\n",
    "def parse_lines(lines):\n",
    "    records = []\n",
    "    for line in lines:\n",
    "        match = re.match(r\"회의번호: (\\d+).*발언내용: (.+)\", line.strip())\n",
    "        if match:\n",
    "            meeting_number = match.group(1)  # 회의번호\n",
    "            speech = match.group(2)  # 발언내용\n",
    "            records.append({\"회의번호\": meeting_number, \"발언내용\": speech})\n",
    "    return records\n",
    "\n",
    "# 3. 데이터프레임 생성\n",
    "parsed_data = parse_lines(lines)\n",
    "data = pd.DataFrame(parsed_data)\n",
    "\n",
    "# 결과 확인\n",
    "print(data.head())\n"
   ]
  },
  {
   "cell_type": "code",
   "execution_count": 32,
   "metadata": {},
   "outputs": [
    {
     "name": "stdout",
     "output_type": "stream",
     "text": [
      "요약 실패: 'latin-1' codec can't encode character '\\u2014' in position 76: ordinal not in range(256)\n",
      "요약 완료 및 저장: 21대국정조사_요약결과.csv\n"
     ]
    }
   ],
   "source": [
    "# 요약 함수 (GPT-4 사용 예시)\n",
    "def gpt4_summarize(text):\n",
    "    try:\n",
    "        response = openai.ChatCompletion.create(\n",
    "            model=\"gpt-4\",\n",
    "            messages=[\n",
    "                {\"role\": \"system\", \"content\": \"You are a helpful assistant.\"},\n",
    "                {\"role\": \"user\", \"content\": f\"다음 텍스트를 요약해 주세요:\\n{text}\"}\n",
    "            ],\n",
    "            max_tokens=150,\n",
    "            temperature=0.5\n",
    "        )\n",
    "        return response['choices'][0]['message']['content'].strip()\n",
    "    except Exception as e:\n",
    "        print(f\"요약 실패: {e}\")\n",
    "        return \"요약 실패\"\n",
    "\n",
    "# 요약 작업\n",
    "data[\"요약된발언내용\"] = data[\"발언내용\"].apply(gpt4_summarize)\n",
    "\n",
    "# 결과 저장\n",
    "data.to_csv(\"21대국정조사_요약결과.csv\", index=False, encoding=\"utf-8-sig\")\n",
    "print(\"요약 완료 및 저장: 21대국정조사_요약결과.csv\")"
   ]
  },
  {
   "cell_type": "code",
   "execution_count": 20,
   "metadata": {},
   "outputs": [
    {
     "name": "stdout",
     "output_type": "stream",
     "text": [
      "요약 실패: 'latin-1' codec can't encode character '\\u2014' in position 76: ordinal not in range(256)\n",
      "요약 실패: 'latin-1' codec can't encode character '\\u2014' in position 76: ordinal not in range(256)\n",
      "요약 실패: 'latin-1' codec can't encode character '\\u2014' in position 76: ordinal not in range(256)\n",
      "요약 실패: 'latin-1' codec can't encode character '\\u2014' in position 76: ordinal not in range(256)\n",
      "요약 실패: 'latin-1' codec can't encode character '\\u2014' in position 76: ordinal not in range(256)\n",
      "요약 실패: 'latin-1' codec can't encode character '\\u2014' in position 76: ordinal not in range(256)\n",
      "요약 실패: 'latin-1' codec can't encode character '\\u2014' in position 76: ordinal not in range(256)\n",
      "요약 실패: 'latin-1' codec can't encode character '\\u2014' in position 76: ordinal not in range(256)\n",
      "요약 실패: 'latin-1' codec can't encode character '\\u2014' in position 76: ordinal not in range(256)\n",
      "                                                발언내용  \\\n",
      "0  의석을 정돈해 주시기 바랍니다.  국회법 제52조 및 제3호에 따라 특별위원회 재적...   \n",
      "1  의석을 정돈해 주시기 바랍니다.  성원이 되었으므로 제401회 국회(임시회) 제2차...   \n",
      "2  의석을 정돈해 주시기 바랍니다.  지금부터 헌법 제61조, 국회법 제127조와 국정...   \n",
      "3  의석을 정돈해 주시기 바랍니다.  지금부터 헌법 제61조, 국회법 제127조와 국정...   \n",
      "4  의석을 정돈해 주시기 바랍니다.  지금부터 헌법 제61조, 국회법 제127조와 국정...   \n",
      "\n",
      "                                             발언내용_정리 발언내용_요약  \n",
      "0  의석을 정돈해 주시기 바랍니다. 국회법 제52조 및 제3호에 따라 특별위원회 재적위...   요약 실패  \n",
      "1  의석을 정돈해 주시기 바랍니다. 성원이 되었으므로 제401회 국회(임시회) 제2차 ...   요약 실패  \n",
      "2  의석을 정돈해 주시기 바랍니다. 지금부터 헌법 제61조, 국회법 제127조와 국정감...   요약 실패  \n",
      "3  의석을 정돈해 주시기 바랍니다. 지금부터 헌법 제61조, 국회법 제127조와 국정감...   요약 실패  \n",
      "4  의석을 정돈해 주시기 바랍니다. 지금부터 헌법 제61조, 국회법 제127조와 국정감...   요약 실패  \n"
     ]
    }
   ],
   "source": [
    "# 요약 수행 및 결과 저장\n",
    "data['발언내용_요약'] = data['발언내용_정리'].apply(gpt4_summarize)\n",
    "\n",
    "# 원본, 정리된 텍스트, 요약본 확인\n",
    "print(data[['발언내용', '발언내용_정리', '발언내용_요약']].head())"
   ]
  },
  {
   "cell_type": "markdown",
   "metadata": {},
   "source": [
    "# 5. 2차 요약작업"
   ]
  },
  {
   "cell_type": "code",
   "execution_count": 3,
   "metadata": {},
   "outputs": [
    {
     "name": "stdout",
     "output_type": "stream",
     "text": [
      "회의별_txt 폴더에 회의번호별 txt 파일이 저장되었습니다.\n"
     ]
    }
   ],
   "source": [
    "import pandas as pd\n",
    "import os\n",
    "\n",
    "# CSV 파일 읽기\n",
    "data = pd.read_csv(\"21대국정조사.csv\", encoding=\"utf-8-sig\")\n",
    "\n",
    "# 출력 폴더 생성\n",
    "output_dir = \"회의별_txt\"\n",
    "os.makedirs(output_dir, exist_ok=True)\n",
    "\n",
    "# 회의번호별로 텍스트 파일 저장\n",
    "for 회의번호, group in data.groupby(\"회의번호\"):\n",
    "    file_path = os.path.join(output_dir, f\"{회의번호}.txt\")\n",
    "    with open(file_path, \"w\", encoding=\"utf-8\") as f:\n",
    "        for 내용 in group[\"발언내용\"]:\n",
    "            f.write(내용 + \"\\n\")\n",
    "print(f\"{output_dir} 폴더에 회의번호별 txt 파일이 저장되었습니다.\")\n"
   ]
  },
  {
   "cell_type": "code",
   "execution_count": 4,
   "metadata": {},
   "outputs": [
    {
     "name": "stdout",
     "output_type": "stream",
     "text": [
      "텍스트 정리 완료.\n"
     ]
    }
   ],
   "source": [
    "import re\n",
    "\n",
    "# 텍스트 정리 함수\n",
    "def clean_text(text):\n",
    "    \"\"\"\n",
    "    텍스트에서 문제를 일으키는 특수문자 제거 또는 대체\n",
    "    \"\"\"\n",
    "    if not isinstance(text, str):  # 텍스트가 아닌 경우 처리\n",
    "        return \"\"\n",
    "    text = text.replace(\"\\u2014\", \"-\")  # 긴 대시를 일반 대시로 대체\n",
    "    text = text.replace(\"\\u2013\", \"-\")  # en-dash 대체\n",
    "    text = text.replace(\"\\u2026\", \"...\")  # 말줄임표 대체\n",
    "    text = re.sub(r\"[^\\w\\s가-힣.,!?\\\"\\'():;<>%-]\", \" \", text)  # 한글, 공백, 기본 특수문자만 허용\n",
    "    text = re.sub(r\"\\s+\", \" \", text)  # 연속된 공백을 하나로\n",
    "    return text.strip()\n",
    "\n",
    "# 텍스트 파일을 정리\n",
    "for txt_file in os.listdir(output_dir):\n",
    "    file_path = os.path.join(output_dir, txt_file)\n",
    "    with open(file_path, \"r\", encoding=\"utf-8\") as f:\n",
    "        lines = f.readlines()\n",
    "    \n",
    "    cleaned_lines = [clean_text(line) for line in lines]\n",
    "    \n",
    "    # 정리된 텍스트 다시 저장\n",
    "    with open(file_path, \"w\", encoding=\"utf-8\") as f:\n",
    "        f.writelines(line + \"\\n\" for line in cleaned_lines)\n",
    "print(\"텍스트 정리 완료.\")\n"
   ]
  },
  {
   "cell_type": "code",
   "execution_count": 13,
   "metadata": {},
   "outputs": [
    {
     "name": "stdout",
     "output_type": "stream",
     "text": [
      "파일 52512.txt 텍스트 길이가 길어 분할 작업 수행.\n",
      "파일 52622.txt 텍스트 길이가 길어 분할 작업 수행.\n",
      "파일 52629.txt 텍스트 길이가 길어 분할 작업 수행.\n",
      "파일 52638.txt 텍스트 길이가 길어 분할 작업 수행.\n",
      "파일 52643.txt 텍스트 길이가 길어 분할 작업 수행.\n",
      "파일 52644.txt 텍스트 길이가 길어 분할 작업 수행.\n",
      "파일 52647.txt 텍스트 길이가 길어 분할 작업 수행.\n",
      "파일 52650.txt 텍스트 길이가 길어 분할 작업 수행.\n",
      "파일 52653.txt 텍스트 길이가 길어 분할 작업 수행.\n",
      "요약 작업 완료. 오류 로그는 '요약_오류_로그.txt'에 저장되었습니다.\n"
     ]
    }
   ],
   "source": [
    "import openai\n",
    "from dotenv import load_dotenv\n",
    "import os\n",
    "\n",
    "# 환경 변수 로드\n",
    "load_dotenv()\n",
    "\n",
    "# OpenAI API 키 설정\n",
    "openai.api_key = os.getenv(\"OPENAI_API_KEY\")\n",
    "\n",
    "# 요약 함수\n",
    "def summarize_text_gpt4(content, max_length=4000, chunk_size=3000):\n",
    "    \"\"\"\n",
    "    GPT-4o-mini를 사용하여 텍스트 요약.\n",
    "    - max_length: API 호출 시 텍스트 최대 길이.\n",
    "    - chunk_size: 텍스트를 분할 처리할 길이.\n",
    "    \"\"\"\n",
    "    summaries = []\n",
    "    try:\n",
    "        # 텍스트를 chunk_size 단위로 분할\n",
    "        chunks = [content[i:i + chunk_size] for i in range(0, len(content), chunk_size)]\n",
    "        for chunk in chunks:\n",
    "            response = openai.ChatCompletion.create(\n",
    "                model=\"gpt-4o-mini\",\n",
    "                messages=[\n",
    "                    {\"role\": \"system\", \"content\": \"You are a helpful assistant that summarizes text in Korean.\"},\n",
    "                    {\"role\": \"user\", \"content\": f\"Summarize the following text:\\n\\n{chunk}\"}\n",
    "                ],\n",
    "                max_tokens=1000\n",
    "            )\n",
    "            summaries.append(response['choices'][0]['message']['content'].strip())\n",
    "        return \" \".join(summaries)\n",
    "    except Exception as e:\n",
    "        return f\"요약 실패: {str(e)}\"\n",
    "\n",
    "# 요약 수행\n",
    "summaries = {}\n",
    "log_errors = []\n",
    "\n",
    "for txt_file in os.listdir(output_dir):\n",
    "    file_path = os.path.join(output_dir, txt_file)\n",
    "    \n",
    "    with open(file_path, \"r\", encoding=\"utf-8\") as f:\n",
    "        content = f.read()\n",
    "    \n",
    "    # 텍스트 길이 초과 처리\n",
    "    if len(content) > 4000:\n",
    "        print(f\"파일 {txt_file} 텍스트 길이가 길어 분할 작업 수행.\")\n",
    "    \n",
    "    # 요약 수행\n",
    "    try:\n",
    "        summary = summarize_text_gpt4(content)\n",
    "    except Exception as e:\n",
    "        summary = f\"요약 실패: {str(e)}\"\n",
    "        log_errors.append({\"file\": txt_file, \"error\": str(e)})\n",
    "    \n",
    "    # 회의번호별 요약 저장\n",
    "    회의번호 = os.path.splitext(txt_file)[0]\n",
    "    summaries[회의번호] = summary\n",
    "\n",
    "# 오류 로그 저장\n",
    "if log_errors:\n",
    "    with open(\"요약_오류_로그.txt\", \"w\", encoding=\"utf-8\") as f:\n",
    "        for log in log_errors:\n",
    "            f.write(f\"파일: {log['file']}, 오류: {log['error']}\\n\")\n",
    "\n",
    "print(\"요약 작업 완료. 오류 로그는 '요약_오류_로그.txt'에 저장되었습니다.\")"
   ]
  },
  {
   "cell_type": "code",
   "execution_count": 14,
   "metadata": {},
   "outputs": [
    {
     "name": "stdout",
     "output_type": "stream",
     "text": [
      "요약 결과가 CSV 파일로 저장되었습니다: 21대국정조사_GPT4_요약결과.csv\n"
     ]
    }
   ],
   "source": [
    "import pandas as pd\n",
    "\n",
    "# 요약 결과를 데이터프레임으로 변환\n",
    "result_data = pd.DataFrame({\n",
    "    \"회의번호\": list(summaries.keys()),\n",
    "    \"요약된발언내용\": list(summaries.values())\n",
    "})\n",
    "\n",
    "# 요약 결과를 CSV 파일로 저장\n",
    "result_csv_path = \"21대국정조사_GPT4_요약결과.csv\"\n",
    "result_data.to_csv(result_csv_path, index=False, encoding=\"utf-8-sig\")\n",
    "\n",
    "print(f\"요약 결과가 CSV 파일로 저장되었습니다: {result_csv_path}\")"
   ]
  },
  {
   "cell_type": "markdown",
   "metadata": {},
   "source": [
    "# 6. 요약된 내용 qdrant에 저장"
   ]
  },
  {
   "cell_type": "code",
   "execution_count": 1,
   "metadata": {},
   "outputs": [],
   "source": [
    "from dotenv import load_dotenv\n",
    "import os\n",
    "load_dotenv()\n",
    "\n",
    "# 환경변수 가져오기\n",
    "qdrant_api_key = os.getenv(\"QDRANT_API_KEY\")\n",
    "qdrant_url = os.getenv(\"QDRANT_URL\")"
   ]
  },
  {
   "cell_type": "code",
   "execution_count": 2,
   "metadata": {},
   "outputs": [
    {
     "name": "stdout",
     "output_type": "stream",
     "text": [
      "collections=[CollectionDescription(name='meeting_records'), CollectionDescription(name='ts_meeting_records')]\n"
     ]
    }
   ],
   "source": [
    "from qdrant_client import QdrantClient\n",
    "\n",
    "client = QdrantClient(\n",
    "    url=qdrant_url,\n",
    "    api_key=qdrant_api_key\n",
    ")\n",
    "\n",
    "print(client.get_collections())"
   ]
  },
  {
   "cell_type": "code",
   "execution_count": 3,
   "metadata": {},
   "outputs": [
    {
     "name": "stdout",
     "output_type": "stream",
     "text": [
      "    회의번호                                            요약된발언내용\n",
      "0  52512  국회에서는 이태원 참사 진상규명과 재발방지를 위한 국정조사특별위원회를 개회하고, 위...\n",
      "1  52622  제401회 국회(임시회) 제2차 용산 이태원 참사 진상규명과 재발방지를 위한 국정조...\n",
      "2  52629  헌법 제61조와 국회법 제127조에 따라 제401회 국회(임시회) 이태원 참사 진상...\n",
      "3  52638  국회에서 이태원 참사 진상규명 및 재발 방지를 위한 국정조사특별위원회가 열렸습니다....\n",
      "4  52643  국정조사특별위원회가 이태원 참사와 관련한 청문회를 시작하였습니다. 위원장은 조사 대...\n"
     ]
    }
   ],
   "source": [
    "import pandas as pd\n",
    "import numpy as np\n",
    "\n",
    "path = '21대국정조사_GPT4_요약결과.csv'\n",
    "data = pd.read_csv(path)\n",
    "\n",
    "print(data.head())"
   ]
  },
  {
   "cell_type": "code",
   "execution_count": 5,
   "metadata": {},
   "outputs": [
    {
     "name": "stdout",
     "output_type": "stream",
     "text": [
      "벡터화 완료\n"
     ]
    }
   ],
   "source": [
    "from sentence_transformers import SentenceTransformer\n",
    "\n",
    "# 벡터화 모델 로드\n",
    "model = SentenceTransformer('all-MiniLM-L6-v2')\n",
    "\n",
    "# 벡터화\n",
    "data['vector'] = data['요약된발언내용'].apply(lambda x: model.encode(x))\n",
    "print(\"벡터화 완료\")"
   ]
  },
  {
   "cell_type": "code",
   "execution_count": 6,
   "metadata": {},
   "outputs": [
    {
     "name": "stderr",
     "output_type": "stream",
     "text": [
      "C:\\Users\\user\\AppData\\Local\\Temp\\ipykernel_27708\\1562673504.py:2: DeprecationWarning: `recreate_collection` method is deprecated and will be removed in the future. Use `collection_exists` to check collection existence and `create_collection` instead.\n",
      "  client.recreate_collection(\n"
     ]
    },
    {
     "name": "stdout",
     "output_type": "stream",
     "text": [
      "컬렉션 생성 완료\n"
     ]
    }
   ],
   "source": [
    "# 컬렉션 생성\n",
    "client.recreate_collection(\n",
    "    collection_name=\"sample_meeting_rc\",\n",
    "    vectors_config={\"size\": 384, \"distance\": \"Cosine\"}  # 벡터 크기 및 거리 계산 방식\n",
    ")\n",
    "print(\"컬렉션 생성 완료\")"
   ]
  },
  {
   "cell_type": "code",
   "execution_count": 10,
   "metadata": {},
   "outputs": [
    {
     "name": "stdout",
     "output_type": "stream",
     "text": [
      "Qdrant에 삽입할 데이터 9건 준비 완료.\n"
     ]
    }
   ],
   "source": [
    "# 데이터 정리: Qdrant에 삽입할 포맷으로 준비\n",
    "qdrant_payload = [\n",
    "    {\n",
    "        \"id\": index,  # index를 정수로 사용\n",
    "        \"vector\": vector.tolist(),\n",
    "        \"payload\": {\n",
    "            \"회의번호\": str(data.loc[index, \"회의번호\"]),\n",
    "            \"요약된발언내용\": data.loc[index, \"요약된발언내용\"]\n",
    "        }\n",
    "    }\n",
    "    for index, vector in enumerate(data['vector'])\n",
    "]\n",
    "\n",
    "print(f\"Qdrant에 삽입할 데이터 {len(qdrant_payload)}건 준비 완료.\")"
   ]
  },
  {
   "cell_type": "code",
   "execution_count": 11,
   "metadata": {},
   "outputs": [
    {
     "name": "stdout",
     "output_type": "stream",
     "text": [
      "데이터 삽입 완료.\n"
     ]
    }
   ],
   "source": [
    "# Qdrant에 데이터 삽입\n",
    "client.upsert(\n",
    "    collection_name=\"sample_meeting_rc\",\n",
    "    points=qdrant_payload\n",
    ")\n",
    "\n",
    "print(\"데이터 삽입 완료.\")"
   ]
  },
  {
   "cell_type": "code",
   "execution_count": null,
   "metadata": {},
   "outputs": [],
   "source": []
  }
 ],
 "metadata": {
  "kernelspec": {
   "display_name": "malcam",
   "language": "python",
   "name": "python3"
  },
  "language_info": {
   "codemirror_mode": {
    "name": "ipython",
    "version": 3
   },
   "file_extension": ".py",
   "mimetype": "text/x-python",
   "name": "python",
   "nbconvert_exporter": "python",
   "pygments_lexer": "ipython3",
   "version": "3.10.14"
  }
 },
 "nbformat": 4,
 "nbformat_minor": 2
}
