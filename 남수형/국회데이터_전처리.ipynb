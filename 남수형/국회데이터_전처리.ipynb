{
 "cells": [
  {
   "cell_type": "code",
   "execution_count": 12,
   "metadata": {},
   "outputs": [
    {
     "name": "stdout",
     "output_type": "stream",
     "text": [
      "Collecting openpyxl\n",
      "  Downloading openpyxl-3.1.5-py2.py3-none-any.whl.metadata (2.5 kB)\n",
      "Collecting et-xmlfile (from openpyxl)\n",
      "  Downloading et_xmlfile-2.0.0-py3-none-any.whl.metadata (2.7 kB)\n",
      "Downloading openpyxl-3.1.5-py2.py3-none-any.whl (250 kB)\n",
      "   ---------------------------------------- 0.0/250.9 kB ? eta -:--:--\n",
      "   ----------------- ---------------------- 112.6/250.9 kB 6.4 MB/s eta 0:00:01\n",
      "   ---------------------------------------- 250.9/250.9 kB 7.8 MB/s eta 0:00:00\n",
      "Downloading et_xmlfile-2.0.0-py3-none-any.whl (18 kB)\n",
      "Installing collected packages: et-xmlfile, openpyxl\n",
      "Successfully installed et-xmlfile-2.0.0 openpyxl-3.1.5\n"
     ]
    }
   ],
   "source": [
    "!pip install openpyxl"
   ]
  },
  {
   "cell_type": "code",
   "execution_count": 2,
   "metadata": {},
   "outputs": [],
   "source": [
    "import pandas as pd\n",
    "import numpy as np\n",
    "import matplotlib as plt"
   ]
  },
  {
   "cell_type": "code",
   "execution_count": 3,
   "metadata": {},
   "outputs": [],
   "source": [
    "path = '../../국회데이터/제21대 국회 국정조사 회의록 데이터셋.xlsx'\n",
    "path2 = '../../국회데이터/제21대(~2023년) 국회 국정감사 회의록 데이터셋/제21대 국회 국정감사 과학기술정보방송통신위원회 회의록 데이터셋.xlsx'\n",
    "path3 = '../../국회데이터/제21대(~2023년) 국회 국정감사 회의록 데이터셋/제21대 국회 국정감사 교육위원회 회의록 데이터셋.xlsx'\n",
    "path4 = '../../국회데이터/제21대(~2023년) 국회 국정감사 회의록 데이터셋/제21대 국회 국정감사 국방위원회 회의록 데이터셋.xlsx'\n",
    "path5 = '../../국회데이터/제21대(~2023년) 국회 국정감사 회의록 데이터셋/제21대 국회 국정감사 국토교통위원회 회의록 데이터셋.xlsx'\n",
    "path6 = '../../국회데이터/제21대(~2023년) 국회 국정감사 회의록 데이터셋/제21대 국회 국정감사 국회운영위원회 회의록 데이터셋.xlsx'\n",
    "path7 = '../../국회데이터/제21대(~2023년) 국회 국정감사 회의록 데이터셋/제21대 국회 국정감사 기획재정위원회 회의록 데이터셋.xlsx'\n",
    "path8 = '../../국회데이터/제21대(~2023년) 국회 국정감사 회의록 데이터셋/제21대 국회 국정감사 농림축산식품해양수산위원회 회의록 데이터셋.xlsx'\n",
    "path9 = '../../국회데이터/제21대(~2023년) 국회 국정감사 회의록 데이터셋/제21대 국회 국정감사 문화체육관광위원회 회의록 데이터셋.xlsx'\n",
    "path10 = '../../국회데이터/제21대(~2023년) 국회 국정감사 회의록 데이터셋/제21대 국회 국정감사 법제사법위원회 회의록 데이터셋.xlsx'\n",
    "path11 = '../../국회데이터/제21대(~2023년) 국회 국정감사 회의록 데이터셋/제21대 국회 국정감사 보건복지위원회 회의록 데이터셋.xlsx'\n",
    "path12 = '../../국회데이터/제21대(~2023년) 국회 국정감사 회의록 데이터셋/제21대 국회 국정감사 산업통상자원중소벤처기업위원회 회의록 데이터셋.xlsx'\n",
    "path13 = '../../국회데이터/제21대(~2023년) 국회 국정감사 회의록 데이터셋/제21대 국회 국정감사 여성가족위원회 회의록 데이터셋.xlsx'\n",
    "path14 = '../../국회데이터/제21대(~2023년) 국회 국정감사 회의록 데이터셋/제21대 국회 국정감사 외교통일위원회 회의록 데이터셋.xlsx'\n",
    "path15 = '../../국회데이터/제21대(~2023년) 국회 국정감사 회의록 데이터셋/제21대 국회 국정감사 정무위원회 회의록 데이터셋.xlsx'\n",
    "path16 = '../../국회데이터/제21대(~2023년) 국회 국정감사 회의록 데이터셋/제21대 국회 국정감사 행정안전위원회 회의록 데이터셋.xlsx'\n",
    "path17 = '../../국회데이터/제21대(~2023년) 국회 국정감사 회의록 데이터셋/제21대 국회 국정감사 환경노동위원회 회의록 데이터셋.xlsx'"
   ]
  },
  {
   "cell_type": "code",
   "execution_count": 13,
   "metadata": {},
   "outputs": [],
   "source": [
    "df = pd.read_excel(path)"
   ]
  },
  {
   "cell_type": "code",
   "execution_count": 14,
   "metadata": {},
   "outputs": [
    {
     "data": {
      "text/html": [
       "<div>\n",
       "<style scoped>\n",
       "    .dataframe tbody tr th:only-of-type {\n",
       "        vertical-align: middle;\n",
       "    }\n",
       "\n",
       "    .dataframe tbody tr th {\n",
       "        vertical-align: top;\n",
       "    }\n",
       "\n",
       "    .dataframe thead th {\n",
       "        text-align: right;\n",
       "    }\n",
       "</style>\n",
       "<table border=\"1\" class=\"dataframe\">\n",
       "  <thead>\n",
       "    <tr style=\"text-align: right;\">\n",
       "      <th></th>\n",
       "      <th>회의번호</th>\n",
       "      <th>회의록구분</th>\n",
       "      <th>대수</th>\n",
       "      <th>회의구분</th>\n",
       "      <th>위원회</th>\n",
       "      <th>회수</th>\n",
       "      <th>차수</th>\n",
       "      <th>기타 정보</th>\n",
       "      <th>회의일자</th>\n",
       "      <th>안건</th>\n",
       "      <th>발언자</th>\n",
       "      <th>의원ID</th>\n",
       "      <th>발언순번</th>\n",
       "      <th>발언내용1</th>\n",
       "      <th>발언내용2</th>\n",
       "      <th>발언내용3</th>\n",
       "      <th>발언내용4</th>\n",
       "      <th>발언내용5</th>\n",
       "      <th>발언내용6</th>\n",
       "      <th>발언내용7</th>\n",
       "    </tr>\n",
       "  </thead>\n",
       "  <tbody>\n",
       "    <tr>\n",
       "      <th>0</th>\n",
       "      <td>52512</td>\n",
       "      <td>국회</td>\n",
       "      <td>21</td>\n",
       "      <td>국정조사</td>\n",
       "      <td>용산이태원참사진상규명과재발방지를위한국정조사특별위원회</td>\n",
       "      <td>제400회</td>\n",
       "      <td>제1차</td>\n",
       "      <td></td>\n",
       "      <td>2022년11월24일(목)</td>\n",
       "      <td>개의</td>\n",
       "      <td>위원장직무대행 박성민</td>\n",
       "      <td>7451</td>\n",
       "      <td>1</td>\n",
       "      <td>의석을 정돈해 주시기 바랍니다.  국회법 제52조 및 제3호에 따라 특별위원회 재적...</td>\n",
       "      <td></td>\n",
       "      <td></td>\n",
       "      <td></td>\n",
       "      <td></td>\n",
       "      <td></td>\n",
       "      <td></td>\n",
       "    </tr>\n",
       "    <tr>\n",
       "      <th>1</th>\n",
       "      <td>52512</td>\n",
       "      <td>국회</td>\n",
       "      <td>21</td>\n",
       "      <td>국정조사</td>\n",
       "      <td>용산이태원참사진상규명과재발방지를위한국정조사특별위원회</td>\n",
       "      <td>제400회</td>\n",
       "      <td>제1차</td>\n",
       "      <td></td>\n",
       "      <td>2022년11월24일(목)</td>\n",
       "      <td>o 의사일정 변경의 건</td>\n",
       "      <td>위원장직무대행 박성민</td>\n",
       "      <td>7451</td>\n",
       "      <td>2</td>\n",
       "      <td>현재 안건이 미정인 상태로 회의가 열리게 되었기 때문에 추가로 안건을 상정하여 회의...</td>\n",
       "      <td></td>\n",
       "      <td></td>\n",
       "      <td></td>\n",
       "      <td></td>\n",
       "      <td></td>\n",
       "      <td></td>\n",
       "    </tr>\n",
       "    <tr>\n",
       "      <th>2</th>\n",
       "      <td>52512</td>\n",
       "      <td>국회</td>\n",
       "      <td>21</td>\n",
       "      <td>국정조사</td>\n",
       "      <td>용산이태원참사진상규명과재발방지를위한국정조사특별위원회</td>\n",
       "      <td>제400회</td>\n",
       "      <td>제1차</td>\n",
       "      <td></td>\n",
       "      <td>2022년11월24일(목)</td>\n",
       "      <td>1. 위원장 선임의 건</td>\n",
       "      <td>위원장직무대행 박성민</td>\n",
       "      <td>7451</td>\n",
       "      <td>3</td>\n",
       "      <td>의사일정 제1항 위원장 선임의 건을 상정합니다.   특별위원회 위원장은 국회법 제4...</td>\n",
       "      <td></td>\n",
       "      <td></td>\n",
       "      <td></td>\n",
       "      <td></td>\n",
       "      <td></td>\n",
       "      <td></td>\n",
       "    </tr>\n",
       "    <tr>\n",
       "      <th>3</th>\n",
       "      <td>52512</td>\n",
       "      <td>국회</td>\n",
       "      <td>21</td>\n",
       "      <td>국정조사</td>\n",
       "      <td>용산이태원참사진상규명과재발방지를위한국정조사특별위원회</td>\n",
       "      <td>제400회</td>\n",
       "      <td>제1차</td>\n",
       "      <td></td>\n",
       "      <td>2022년11월24일(목)</td>\n",
       "      <td>1. 위원장 선임의 건</td>\n",
       "      <td>조응천 위원</td>\n",
       "      <td>7614</td>\n",
       "      <td>4</td>\n",
       "      <td>우상호 위원을 추천합니다.</td>\n",
       "      <td></td>\n",
       "      <td></td>\n",
       "      <td></td>\n",
       "      <td></td>\n",
       "      <td></td>\n",
       "      <td></td>\n",
       "    </tr>\n",
       "    <tr>\n",
       "      <th>4</th>\n",
       "      <td>52512</td>\n",
       "      <td>국회</td>\n",
       "      <td>21</td>\n",
       "      <td>국정조사</td>\n",
       "      <td>용산이태원참사진상규명과재발방지를위한국정조사특별위원회</td>\n",
       "      <td>제400회</td>\n",
       "      <td>제1차</td>\n",
       "      <td></td>\n",
       "      <td>2022년11월24일(목)</td>\n",
       "      <td>1. 위원장 선임의 건</td>\n",
       "      <td>위원장직무대행 박성민</td>\n",
       "      <td>7451</td>\n",
       "      <td>5</td>\n",
       "      <td>또 추천하실 위원님 안 계십니까?    (「없습니다」 하는 위원 있음)  우상호 위...</td>\n",
       "      <td></td>\n",
       "      <td></td>\n",
       "      <td></td>\n",
       "      <td></td>\n",
       "      <td></td>\n",
       "      <td></td>\n",
       "    </tr>\n",
       "  </tbody>\n",
       "</table>\n",
       "</div>"
      ],
      "text/plain": [
       "    회의번호 회의록구분  대수  회의구분                           위원회     회수   차수 기타 정보  \\\n",
       "0  52512    국회  21  국정조사  용산이태원참사진상규명과재발방지를위한국정조사특별위원회  제400회  제1차         \n",
       "1  52512    국회  21  국정조사  용산이태원참사진상규명과재발방지를위한국정조사특별위원회  제400회  제1차         \n",
       "2  52512    국회  21  국정조사  용산이태원참사진상규명과재발방지를위한국정조사특별위원회  제400회  제1차         \n",
       "3  52512    국회  21  국정조사  용산이태원참사진상규명과재발방지를위한국정조사특별위원회  제400회  제1차         \n",
       "4  52512    국회  21  국정조사  용산이태원참사진상규명과재발방지를위한국정조사특별위원회  제400회  제1차         \n",
       "\n",
       "             회의일자            안건          발언자  의원ID  발언순번  \\\n",
       "0  2022년11월24일(목)            개의  위원장직무대행 박성민  7451     1   \n",
       "1  2022년11월24일(목)  o 의사일정 변경의 건  위원장직무대행 박성민  7451     2   \n",
       "2  2022년11월24일(목)  1. 위원장 선임의 건  위원장직무대행 박성민  7451     3   \n",
       "3  2022년11월24일(목)  1. 위원장 선임의 건       조응천 위원  7614     4   \n",
       "4  2022년11월24일(목)  1. 위원장 선임의 건  위원장직무대행 박성민  7451     5   \n",
       "\n",
       "                                               발언내용1 발언내용2 발언내용3 발언내용4 발언내용5  \\\n",
       "0  의석을 정돈해 주시기 바랍니다.  국회법 제52조 및 제3호에 따라 특별위원회 재적...                           \n",
       "1  현재 안건이 미정인 상태로 회의가 열리게 되었기 때문에 추가로 안건을 상정하여 회의...                           \n",
       "2  의사일정 제1항 위원장 선임의 건을 상정합니다.   특별위원회 위원장은 국회법 제4...                           \n",
       "3                                     우상호 위원을 추천합니다.                           \n",
       "4  또 추천하실 위원님 안 계십니까?    (「없습니다」 하는 위원 있음)  우상호 위...                           \n",
       "\n",
       "  발언내용6 발언내용7  \n",
       "0              \n",
       "1              \n",
       "2              \n",
       "3              \n",
       "4              "
      ]
     },
     "execution_count": 14,
     "metadata": {},
     "output_type": "execute_result"
    }
   ],
   "source": [
    "df.head()"
   ]
  },
  {
   "cell_type": "code",
   "execution_count": 15,
   "metadata": {},
   "outputs": [
    {
     "name": "stderr",
     "output_type": "stream",
     "text": [
      "C:\\Users\\user\\AppData\\Local\\Temp\\ipykernel_24200\\1575686136.py:8: SettingWithCopyWarning: \n",
      "A value is trying to be set on a copy of a slice from a DataFrame.\n",
      "Try using .loc[row_indexer,col_indexer] = value instead\n",
      "\n",
      "See the caveats in the documentation: https://pandas.pydata.org/pandas-docs/stable/user_guide/indexing.html#returning-a-view-versus-a-copy\n",
      "  filtered_df['발언내용'] = filtered_df[['발언내용1', '발언내용2', '발언내용3', '발언내용4', '발언내용5', '발언내용6', '발언내용7']].fillna('').agg(' '.join, axis=1)\n"
     ]
    }
   ],
   "source": [
    "# 필요한 열만 선택\n",
    "selected_columns = ['회의번호', '발언자', '발언내용1', '발언내용2', '발언내용3', '발언내용4', '발언내용5', '발언내용6', '발언내용7']\n",
    "\n",
    "# 데이터프레임 생성\n",
    "filtered_df = df[selected_columns]\n",
    "\n",
    "# 발언내용 병합\n",
    "filtered_df['발언내용'] = filtered_df[['발언내용1', '발언내용2', '발언내용3', '발언내용4', '발언내용5', '발언내용6', '발언내용7']].fillna('').agg(' '.join, axis=1)\n",
    "\n",
    "# 최종 데이터프레임\n",
    "final_df = filtered_df[['회의번호', '발언자', '발언내용']]"
   ]
  },
  {
   "cell_type": "code",
   "execution_count": 16,
   "metadata": {},
   "outputs": [
    {
     "data": {
      "text/html": [
       "<div>\n",
       "<style scoped>\n",
       "    .dataframe tbody tr th:only-of-type {\n",
       "        vertical-align: middle;\n",
       "    }\n",
       "\n",
       "    .dataframe tbody tr th {\n",
       "        vertical-align: top;\n",
       "    }\n",
       "\n",
       "    .dataframe thead th {\n",
       "        text-align: right;\n",
       "    }\n",
       "</style>\n",
       "<table border=\"1\" class=\"dataframe\">\n",
       "  <thead>\n",
       "    <tr style=\"text-align: right;\">\n",
       "      <th></th>\n",
       "      <th>회의번호</th>\n",
       "      <th>발언자</th>\n",
       "      <th>발언내용</th>\n",
       "    </tr>\n",
       "  </thead>\n",
       "  <tbody>\n",
       "    <tr>\n",
       "      <th>0</th>\n",
       "      <td>52512</td>\n",
       "      <td>위원장직무대행 박성민</td>\n",
       "      <td>의석을 정돈해 주시기 바랍니다.  국회법 제52조 및 제3호에 따라 특별위원회 재적...</td>\n",
       "    </tr>\n",
       "    <tr>\n",
       "      <th>1</th>\n",
       "      <td>52512</td>\n",
       "      <td>위원장직무대행 박성민</td>\n",
       "      <td>현재 안건이 미정인 상태로 회의가 열리게 되었기 때문에 추가로 안건을 상정하여 회의...</td>\n",
       "    </tr>\n",
       "    <tr>\n",
       "      <th>2</th>\n",
       "      <td>52512</td>\n",
       "      <td>위원장직무대행 박성민</td>\n",
       "      <td>의사일정 제1항 위원장 선임의 건을 상정합니다.   특별위원회 위원장은 국회법 제4...</td>\n",
       "    </tr>\n",
       "    <tr>\n",
       "      <th>3</th>\n",
       "      <td>52512</td>\n",
       "      <td>조응천 위원</td>\n",
       "      <td>우상호 위원을 추천합니다.</td>\n",
       "    </tr>\n",
       "    <tr>\n",
       "      <th>4</th>\n",
       "      <td>52512</td>\n",
       "      <td>위원장직무대행 박성민</td>\n",
       "      <td>또 추천하실 위원님 안 계십니까?    (「없습니다」 하는 위원 있음)  우상호 위...</td>\n",
       "    </tr>\n",
       "  </tbody>\n",
       "</table>\n",
       "</div>"
      ],
      "text/plain": [
       "    회의번호          발언자                                               발언내용\n",
       "0  52512  위원장직무대행 박성민  의석을 정돈해 주시기 바랍니다.  국회법 제52조 및 제3호에 따라 특별위원회 재적...\n",
       "1  52512  위원장직무대행 박성민  현재 안건이 미정인 상태로 회의가 열리게 되었기 때문에 추가로 안건을 상정하여 회의...\n",
       "2  52512  위원장직무대행 박성민  의사일정 제1항 위원장 선임의 건을 상정합니다.   특별위원회 위원장은 국회법 제4...\n",
       "3  52512       조응천 위원                         우상호 위원을 추천합니다.            \n",
       "4  52512  위원장직무대행 박성민  또 추천하실 위원님 안 계십니까?    (「없습니다」 하는 위원 있음)  우상호 위..."
      ]
     },
     "execution_count": 16,
     "metadata": {},
     "output_type": "execute_result"
    }
   ],
   "source": [
    "final_df.head()"
   ]
  },
  {
   "cell_type": "code",
   "execution_count": 17,
   "metadata": {},
   "outputs": [],
   "source": [
    "final_df.to_csv('21대국정조사.csv',index=False,encoding='utf-8-sig')"
   ]
  },
  {
   "cell_type": "code",
   "execution_count": 5,
   "metadata": {},
   "outputs": [],
   "source": [
    "df2 = pd.read_excel(path2)\n",
    "df3 = pd.read_excel(path3)\n",
    "df4 = pd.read_excel(path4)\n",
    "df5 = pd.read_excel(path5)\n",
    "df6 = pd.read_excel(path6)\n",
    "df7 = pd.read_excel(path7)\n",
    "df8 = pd.read_excel(path8)\n",
    "df9 = pd.read_excel(path9)\n",
    "df10 = pd.read_excel(path10)\n",
    "df11 = pd.read_excel(path11)\n",
    "df12 = pd.read_excel(path12)\n",
    "df13 = pd.read_excel(path13)\n",
    "df14 = pd.read_excel(path14)\n",
    "df15 = pd.read_excel(path15)\n",
    "df16 = pd.read_excel(path16)\n",
    "df17 = pd.read_excel(path17)"
   ]
  },
  {
   "cell_type": "code",
   "execution_count": 10,
   "metadata": {},
   "outputs": [],
   "source": [
    "def process_meeting_records(input_file_path, output_csv_path, sheet_name='Sheet1'):\n",
    "    \"\"\"\n",
    "    국회 회의록 데이터를 전처리하여 필요한 항목만 포함된 CSV 파일로 저장합니다.\n",
    "\n",
    "    Parameters:\n",
    "        input_file_path (str): 입력 Excel 파일 경로.\n",
    "        output_csv_path (str): 저장할 CSV 파일 경로.\n",
    "        sheet_name (str): Excel 시트 이름 (기본값: 'Sheet1').\n",
    "    \"\"\"\n",
    "    # 데이터 로드\n",
    "    data = pd.ExcelFile(input_file_path)\n",
    "    df = data.parse(sheet_name)\n",
    "\n",
    "    # 필요한 열만 선택\n",
    "    selected_columns = ['회의번호', '발언자', '발언내용1', '발언내용2', '발언내용3', \n",
    "                        '발언내용4', '발언내용5', '발언내용6', '발언내용7']\n",
    "    filtered_df = df[selected_columns]\n",
    "\n",
    "    # 발언내용 병합\n",
    "    filtered_df['발언내용'] = filtered_df[\n",
    "        ['발언내용1', '발언내용2', '발언내용3', '발언내용4', \n",
    "         '발언내용5', '발언내용6', '발언내용7']\n",
    "    ].fillna('').agg(' '.join, axis=1)\n",
    "\n",
    "    # 최종 데이터프레임 생성\n",
    "    final_df = filtered_df[['회의번호', '발언자', '발언내용']]\n",
    "    \n",
    "    # CSV로 저장\n",
    "    final_df.to_csv(output_csv_path, index=False, encoding='utf-8-sig')\n",
    "    print(f\"CSV 파일이 저장되었습니다: {output_csv_path}\")\n"
   ]
  },
  {
   "cell_type": "code",
   "execution_count": 40,
   "metadata": {},
   "outputs": [
    {
     "name": "stdout",
     "output_type": "stream",
     "text": [
      "CSV 파일이 저장되었습니다: 21대_국정감사_과학기술정보방송통신위원회.csv\n"
     ]
    },
    {
     "name": "stderr",
     "output_type": "stream",
     "text": [
      "C:\\Users\\user\\AppData\\Local\\Temp\\ipykernel_34292\\3134251337.py:20: SettingWithCopyWarning: \n",
      "A value is trying to be set on a copy of a slice from a DataFrame.\n",
      "Try using .loc[row_indexer,col_indexer] = value instead\n",
      "\n",
      "See the caveats in the documentation: https://pandas.pydata.org/pandas-docs/stable/user_guide/indexing.html#returning-a-view-versus-a-copy\n",
      "  filtered_df['발언내용'] = filtered_df[\n"
     ]
    }
   ],
   "source": [
    "process_meeting_records(\n",
    "    input_file_path=path2,  # 데이터 경로\n",
    "    output_csv_path='21대_국정감사_과학기술정보방송통신위원회.csv'  # 저장 경로\n",
    ")\n"
   ]
  },
  {
   "cell_type": "code",
   "execution_count": 25,
   "metadata": {},
   "outputs": [
    {
     "name": "stdout",
     "output_type": "stream",
     "text": [
      "CSV 파일이 저장되었습니다: 21대_국정감사_교육위원회.csv\n"
     ]
    },
    {
     "name": "stderr",
     "output_type": "stream",
     "text": [
      "C:\\Users\\user\\AppData\\Local\\Temp\\ipykernel_34292\\3134251337.py:20: SettingWithCopyWarning: \n",
      "A value is trying to be set on a copy of a slice from a DataFrame.\n",
      "Try using .loc[row_indexer,col_indexer] = value instead\n",
      "\n",
      "See the caveats in the documentation: https://pandas.pydata.org/pandas-docs/stable/user_guide/indexing.html#returning-a-view-versus-a-copy\n",
      "  filtered_df['발언내용'] = filtered_df[\n"
     ]
    }
   ],
   "source": [
    "process_meeting_records(\n",
    "    input_file_path=path3,  # 데이터 경로\n",
    "    output_csv_path='21대_국정감사_교육위원회.csv'  # 저장 경로\n",
    ")"
   ]
  },
  {
   "cell_type": "code",
   "execution_count": 26,
   "metadata": {},
   "outputs": [
    {
     "name": "stdout",
     "output_type": "stream",
     "text": [
      "CSV 파일이 저장되었습니다: 21대_국정감사_국방위원회.csv\n"
     ]
    },
    {
     "name": "stderr",
     "output_type": "stream",
     "text": [
      "C:\\Users\\user\\AppData\\Local\\Temp\\ipykernel_34292\\3134251337.py:20: SettingWithCopyWarning: \n",
      "A value is trying to be set on a copy of a slice from a DataFrame.\n",
      "Try using .loc[row_indexer,col_indexer] = value instead\n",
      "\n",
      "See the caveats in the documentation: https://pandas.pydata.org/pandas-docs/stable/user_guide/indexing.html#returning-a-view-versus-a-copy\n",
      "  filtered_df['발언내용'] = filtered_df[\n"
     ]
    }
   ],
   "source": [
    "process_meeting_records(\n",
    "    input_file_path=path4,  # 데이터 경로\n",
    "    output_csv_path='21대_국정감사_국방위원회.csv'  # 저장 경로 국방위원회\n",
    ")"
   ]
  },
  {
   "cell_type": "code",
   "execution_count": 27,
   "metadata": {},
   "outputs": [
    {
     "name": "stdout",
     "output_type": "stream",
     "text": [
      "CSV 파일이 저장되었습니다: 21대_국정감사_국토교통위원회.csv\n"
     ]
    },
    {
     "name": "stderr",
     "output_type": "stream",
     "text": [
      "C:\\Users\\user\\AppData\\Local\\Temp\\ipykernel_34292\\3134251337.py:20: SettingWithCopyWarning: \n",
      "A value is trying to be set on a copy of a slice from a DataFrame.\n",
      "Try using .loc[row_indexer,col_indexer] = value instead\n",
      "\n",
      "See the caveats in the documentation: https://pandas.pydata.org/pandas-docs/stable/user_guide/indexing.html#returning-a-view-versus-a-copy\n",
      "  filtered_df['발언내용'] = filtered_df[\n"
     ]
    }
   ],
   "source": [
    "process_meeting_records(\n",
    "    input_file_path=path5,  # 데이터 경로\n",
    "    output_csv_path='21대_국정감사_국토교통위원회.csv'  # 저장 경로 21대_국정감사_국토교통위원회\n",
    ")"
   ]
  },
  {
   "cell_type": "code",
   "execution_count": 28,
   "metadata": {},
   "outputs": [
    {
     "name": "stdout",
     "output_type": "stream",
     "text": [
      "CSV 파일이 저장되었습니다: 21대_국정감사_국회운영위원회.csv\n"
     ]
    },
    {
     "name": "stderr",
     "output_type": "stream",
     "text": [
      "C:\\Users\\user\\AppData\\Local\\Temp\\ipykernel_34292\\3134251337.py:20: SettingWithCopyWarning: \n",
      "A value is trying to be set on a copy of a slice from a DataFrame.\n",
      "Try using .loc[row_indexer,col_indexer] = value instead\n",
      "\n",
      "See the caveats in the documentation: https://pandas.pydata.org/pandas-docs/stable/user_guide/indexing.html#returning-a-view-versus-a-copy\n",
      "  filtered_df['발언내용'] = filtered_df[\n"
     ]
    }
   ],
   "source": [
    "process_meeting_records(\n",
    "    input_file_path=path6,  # 데이터 경로\n",
    "    output_csv_path='21대_국정감사_국회운영위원회.csv'  # 저장 경로 21대_국정감사_국회운영위원회\n",
    ")"
   ]
  },
  {
   "cell_type": "code",
   "execution_count": 29,
   "metadata": {},
   "outputs": [
    {
     "name": "stdout",
     "output_type": "stream",
     "text": [
      "CSV 파일이 저장되었습니다: 21대_국정감사_기획재정위원회.csv\n"
     ]
    },
    {
     "name": "stderr",
     "output_type": "stream",
     "text": [
      "C:\\Users\\user\\AppData\\Local\\Temp\\ipykernel_34292\\3134251337.py:20: SettingWithCopyWarning: \n",
      "A value is trying to be set on a copy of a slice from a DataFrame.\n",
      "Try using .loc[row_indexer,col_indexer] = value instead\n",
      "\n",
      "See the caveats in the documentation: https://pandas.pydata.org/pandas-docs/stable/user_guide/indexing.html#returning-a-view-versus-a-copy\n",
      "  filtered_df['발언내용'] = filtered_df[\n"
     ]
    }
   ],
   "source": [
    "process_meeting_records(\n",
    "    input_file_path=path7,  # 데이터 경로\n",
    "    output_csv_path='21대_국정감사_기획재정위원회.csv'  # 저장 경로 21대_국정감사_기획재정위원회\n",
    ")"
   ]
  },
  {
   "cell_type": "code",
   "execution_count": 30,
   "metadata": {},
   "outputs": [
    {
     "name": "stdout",
     "output_type": "stream",
     "text": [
      "CSV 파일이 저장되었습니다: 21대_국정감사_농림축산식품해양수산위원회.csv\n"
     ]
    },
    {
     "name": "stderr",
     "output_type": "stream",
     "text": [
      "C:\\Users\\user\\AppData\\Local\\Temp\\ipykernel_34292\\3134251337.py:20: SettingWithCopyWarning: \n",
      "A value is trying to be set on a copy of a slice from a DataFrame.\n",
      "Try using .loc[row_indexer,col_indexer] = value instead\n",
      "\n",
      "See the caveats in the documentation: https://pandas.pydata.org/pandas-docs/stable/user_guide/indexing.html#returning-a-view-versus-a-copy\n",
      "  filtered_df['발언내용'] = filtered_df[\n"
     ]
    }
   ],
   "source": [
    "process_meeting_records(\n",
    "    input_file_path=path8,  # 데이터 경로\n",
    "    output_csv_path='21대_국정감사_농림축산식품해양수산위원회.csv'  # 저장 경로 21대_국정감사_농림축산식품해양수산위원회\n",
    ")"
   ]
  },
  {
   "cell_type": "code",
   "execution_count": 31,
   "metadata": {},
   "outputs": [
    {
     "name": "stdout",
     "output_type": "stream",
     "text": [
      "CSV 파일이 저장되었습니다: 21대_국정감사_문화체육관광위원회.csv\n"
     ]
    },
    {
     "name": "stderr",
     "output_type": "stream",
     "text": [
      "C:\\Users\\user\\AppData\\Local\\Temp\\ipykernel_34292\\3134251337.py:20: SettingWithCopyWarning: \n",
      "A value is trying to be set on a copy of a slice from a DataFrame.\n",
      "Try using .loc[row_indexer,col_indexer] = value instead\n",
      "\n",
      "See the caveats in the documentation: https://pandas.pydata.org/pandas-docs/stable/user_guide/indexing.html#returning-a-view-versus-a-copy\n",
      "  filtered_df['발언내용'] = filtered_df[\n"
     ]
    }
   ],
   "source": [
    "process_meeting_records(\n",
    "    input_file_path=path9,  # 데이터 경로\n",
    "    output_csv_path='21대_국정감사_문화체육관광위원회.csv'  # 저장 경로 21대_국정감사_문화체육관광위원회\n",
    ")"
   ]
  },
  {
   "cell_type": "code",
   "execution_count": 32,
   "metadata": {},
   "outputs": [
    {
     "name": "stderr",
     "output_type": "stream",
     "text": [
      "C:\\Users\\user\\AppData\\Local\\Temp\\ipykernel_34292\\3134251337.py:20: SettingWithCopyWarning: \n",
      "A value is trying to be set on a copy of a slice from a DataFrame.\n",
      "Try using .loc[row_indexer,col_indexer] = value instead\n",
      "\n",
      "See the caveats in the documentation: https://pandas.pydata.org/pandas-docs/stable/user_guide/indexing.html#returning-a-view-versus-a-copy\n",
      "  filtered_df['발언내용'] = filtered_df[\n"
     ]
    },
    {
     "name": "stdout",
     "output_type": "stream",
     "text": [
      "CSV 파일이 저장되었습니다: 21대_국정감사_법제사법위원회.csv\n"
     ]
    }
   ],
   "source": [
    "process_meeting_records(\n",
    "    input_file_path=path10,  # 데이터 경로\n",
    "    output_csv_path='21대_국정감사_법제사법위원회.csv'  # 저장 경로 21대_국정감사_법제사법위원회\n",
    ")"
   ]
  },
  {
   "cell_type": "code",
   "execution_count": 33,
   "metadata": {},
   "outputs": [
    {
     "name": "stdout",
     "output_type": "stream",
     "text": [
      "CSV 파일이 저장되었습니다: 21대_국정감사_보건복지위원회.csv\n"
     ]
    },
    {
     "name": "stderr",
     "output_type": "stream",
     "text": [
      "C:\\Users\\user\\AppData\\Local\\Temp\\ipykernel_34292\\3134251337.py:20: SettingWithCopyWarning: \n",
      "A value is trying to be set on a copy of a slice from a DataFrame.\n",
      "Try using .loc[row_indexer,col_indexer] = value instead\n",
      "\n",
      "See the caveats in the documentation: https://pandas.pydata.org/pandas-docs/stable/user_guide/indexing.html#returning-a-view-versus-a-copy\n",
      "  filtered_df['발언내용'] = filtered_df[\n"
     ]
    }
   ],
   "source": [
    "process_meeting_records(\n",
    "    input_file_path=path11,  # 데이터 경로\n",
    "    output_csv_path='21대_국정감사_보건복지위원회.csv'  # 저장 경로 21대_국정감사_보건복지위원회\n",
    ")"
   ]
  },
  {
   "cell_type": "code",
   "execution_count": 34,
   "metadata": {},
   "outputs": [
    {
     "name": "stderr",
     "output_type": "stream",
     "text": [
      "C:\\Users\\user\\AppData\\Local\\Temp\\ipykernel_34292\\3134251337.py:20: SettingWithCopyWarning: \n",
      "A value is trying to be set on a copy of a slice from a DataFrame.\n",
      "Try using .loc[row_indexer,col_indexer] = value instead\n",
      "\n",
      "See the caveats in the documentation: https://pandas.pydata.org/pandas-docs/stable/user_guide/indexing.html#returning-a-view-versus-a-copy\n",
      "  filtered_df['발언내용'] = filtered_df[\n"
     ]
    },
    {
     "name": "stdout",
     "output_type": "stream",
     "text": [
      "CSV 파일이 저장되었습니다: 21대_국정감사_산업통상자원중소벤처기업위원회.csv\n"
     ]
    }
   ],
   "source": [
    "process_meeting_records(\n",
    "    input_file_path=path12,  # 데이터 경로\n",
    "    output_csv_path='21대_국정감사_산업통상자원중소벤처기업위원회.csv'  # 저장 경로 21대_국정감사_산업통상자원중소벤처기업위원회\n",
    ")"
   ]
  },
  {
   "cell_type": "code",
   "execution_count": 35,
   "metadata": {},
   "outputs": [
    {
     "name": "stdout",
     "output_type": "stream",
     "text": [
      "CSV 파일이 저장되었습니다: 21대_국정감사_여성가족위원회.csv\n"
     ]
    },
    {
     "name": "stderr",
     "output_type": "stream",
     "text": [
      "C:\\Users\\user\\AppData\\Local\\Temp\\ipykernel_34292\\3134251337.py:20: SettingWithCopyWarning: \n",
      "A value is trying to be set on a copy of a slice from a DataFrame.\n",
      "Try using .loc[row_indexer,col_indexer] = value instead\n",
      "\n",
      "See the caveats in the documentation: https://pandas.pydata.org/pandas-docs/stable/user_guide/indexing.html#returning-a-view-versus-a-copy\n",
      "  filtered_df['발언내용'] = filtered_df[\n"
     ]
    }
   ],
   "source": [
    "process_meeting_records(\n",
    "    input_file_path=path13,  # 데이터 경로\n",
    "    output_csv_path='21대_국정감사_여성가족위원회.csv'  # 저장 경로 21대_국정감사_여성가족위원회\n",
    ")"
   ]
  },
  {
   "cell_type": "code",
   "execution_count": 36,
   "metadata": {},
   "outputs": [
    {
     "name": "stdout",
     "output_type": "stream",
     "text": [
      "CSV 파일이 저장되었습니다: 21대_국정감사_외교통일위원회.csv\n"
     ]
    },
    {
     "name": "stderr",
     "output_type": "stream",
     "text": [
      "C:\\Users\\user\\AppData\\Local\\Temp\\ipykernel_34292\\3134251337.py:20: SettingWithCopyWarning: \n",
      "A value is trying to be set on a copy of a slice from a DataFrame.\n",
      "Try using .loc[row_indexer,col_indexer] = value instead\n",
      "\n",
      "See the caveats in the documentation: https://pandas.pydata.org/pandas-docs/stable/user_guide/indexing.html#returning-a-view-versus-a-copy\n",
      "  filtered_df['발언내용'] = filtered_df[\n"
     ]
    }
   ],
   "source": [
    "process_meeting_records(\n",
    "    input_file_path=path14,  # 데이터 경로\n",
    "    output_csv_path='21대_국정감사_외교통일위원회.csv'  # 저장 경로 21대_국정감사_외교통일위원회\n",
    ")"
   ]
  },
  {
   "cell_type": "code",
   "execution_count": 37,
   "metadata": {},
   "outputs": [
    {
     "name": "stderr",
     "output_type": "stream",
     "text": [
      "C:\\Users\\user\\AppData\\Local\\Temp\\ipykernel_34292\\3134251337.py:20: SettingWithCopyWarning: \n",
      "A value is trying to be set on a copy of a slice from a DataFrame.\n",
      "Try using .loc[row_indexer,col_indexer] = value instead\n",
      "\n",
      "See the caveats in the documentation: https://pandas.pydata.org/pandas-docs/stable/user_guide/indexing.html#returning-a-view-versus-a-copy\n",
      "  filtered_df['발언내용'] = filtered_df[\n"
     ]
    },
    {
     "name": "stdout",
     "output_type": "stream",
     "text": [
      "CSV 파일이 저장되었습니다: 21대_국정감사_정무위원회.csv\n"
     ]
    }
   ],
   "source": [
    "process_meeting_records(\n",
    "    input_file_path=path15,  # 데이터 경로\n",
    "    output_csv_path='21대_국정감사_정무위원회.csv'  # 저장 경로 21대_국정감사_정무위원회\n",
    ")"
   ]
  },
  {
   "cell_type": "code",
   "execution_count": 38,
   "metadata": {},
   "outputs": [
    {
     "name": "stdout",
     "output_type": "stream",
     "text": [
      "CSV 파일이 저장되었습니다: 21대_국정감사_행정안전위원회.csv\n"
     ]
    },
    {
     "name": "stderr",
     "output_type": "stream",
     "text": [
      "C:\\Users\\user\\AppData\\Local\\Temp\\ipykernel_34292\\3134251337.py:20: SettingWithCopyWarning: \n",
      "A value is trying to be set on a copy of a slice from a DataFrame.\n",
      "Try using .loc[row_indexer,col_indexer] = value instead\n",
      "\n",
      "See the caveats in the documentation: https://pandas.pydata.org/pandas-docs/stable/user_guide/indexing.html#returning-a-view-versus-a-copy\n",
      "  filtered_df['발언내용'] = filtered_df[\n"
     ]
    }
   ],
   "source": [
    "process_meeting_records(\n",
    "    input_file_path=path16,  # 데이터 경로\n",
    "    output_csv_path='21대_국정감사_행정안전위원회.csv'  # 저장 경로 21대_국정감사_행정안전위원회\n",
    ")"
   ]
  },
  {
   "cell_type": "code",
   "execution_count": 39,
   "metadata": {},
   "outputs": [
    {
     "name": "stderr",
     "output_type": "stream",
     "text": [
      "C:\\Users\\user\\AppData\\Local\\Temp\\ipykernel_34292\\3134251337.py:20: SettingWithCopyWarning: \n",
      "A value is trying to be set on a copy of a slice from a DataFrame.\n",
      "Try using .loc[row_indexer,col_indexer] = value instead\n",
      "\n",
      "See the caveats in the documentation: https://pandas.pydata.org/pandas-docs/stable/user_guide/indexing.html#returning-a-view-versus-a-copy\n",
      "  filtered_df['발언내용'] = filtered_df[\n"
     ]
    },
    {
     "name": "stdout",
     "output_type": "stream",
     "text": [
      "CSV 파일이 저장되었습니다: 21대_국정감사_환경노동위원회.csv\n"
     ]
    }
   ],
   "source": [
    "process_meeting_records(\n",
    "    input_file_path=path17,  # 데이터 경로\n",
    "    output_csv_path='21대_국정감사_환경노동위원회.csv'  # 저장 경로\n",
    ")"
   ]
  },
  {
   "cell_type": "code",
   "execution_count": null,
   "metadata": {},
   "outputs": [],
   "source": []
  }
 ],
 "metadata": {
  "kernelspec": {
   "display_name": "malcam",
   "language": "python",
   "name": "python3"
  },
  "language_info": {
   "codemirror_mode": {
    "name": "ipython",
    "version": 3
   },
   "file_extension": ".py",
   "mimetype": "text/x-python",
   "name": "python",
   "nbconvert_exporter": "python",
   "pygments_lexer": "ipython3",
   "version": "3.10.14"
  }
 },
 "nbformat": 4,
 "nbformat_minor": 2
}
